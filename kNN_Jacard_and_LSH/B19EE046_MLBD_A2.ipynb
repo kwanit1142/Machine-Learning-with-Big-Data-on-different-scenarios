{
  "cells": [
    {
      "cell_type": "code",
      "execution_count": 2,
      "metadata": {
        "colab": {
          "base_uri": "https://localhost:8080/"
        },
        "id": "3T2-Wsh_pXwM",
        "outputId": "3b7464cb-9772-4386-dbe7-fdc159f170a5"
      },
      "outputs": [
        {
          "output_type": "stream",
          "name": "stdout",
          "text": [
            "Mounted at /content/drive\n"
          ]
        }
      ],
      "source": [
        "from google.colab import drive\n",
        "drive.mount('/content/drive')"
      ]
    },
    {
      "cell_type": "code",
      "execution_count": 3,
      "metadata": {
        "colab": {
          "base_uri": "https://localhost:8080/"
        },
        "id": "-JHQ9CxQ3tYA",
        "outputId": "38a41f6d-cb1a-45bb-e8ba-a56547582347"
      },
      "outputs": [
        {
          "output_type": "stream",
          "name": "stdout",
          "text": [
            "Looking in indexes: https://pypi.org/simple, https://us-python.pkg.dev/colab-wheels/public/simple/\n",
            "Collecting memory-profiler\n",
            "  Downloading memory_profiler-0.61.0-py3-none-any.whl (31 kB)\n",
            "Requirement already satisfied: psutil in /usr/local/lib/python3.9/dist-packages (from memory-profiler) (5.9.4)\n",
            "Installing collected packages: memory-profiler\n",
            "Successfully installed memory-profiler-0.61.0\n",
            "Looking in indexes: https://pypi.org/simple, https://us-python.pkg.dev/colab-wheels/public/simple/\n",
            "Requirement already satisfied: psutil in /usr/local/lib/python3.9/dist-packages (5.9.4)\n",
            "Looking in indexes: https://pypi.org/simple, https://us-python.pkg.dev/colab-wheels/public/simple/\n",
            "Collecting datasketch\n",
            "  Downloading datasketch-1.5.9-py3-none-any.whl (76 kB)\n",
            "\u001b[2K     \u001b[90m━━━━━━━━━━━━━━━━━━━━━━━━━━━━━━━━━━━━━━━━\u001b[0m \u001b[32m76.7/76.7 KB\u001b[0m \u001b[31m3.4 MB/s\u001b[0m eta \u001b[36m0:00:00\u001b[0m\n",
            "\u001b[?25hRequirement already satisfied: numpy>=1.11 in /usr/local/lib/python3.9/dist-packages (from datasketch) (1.22.4)\n",
            "Requirement already satisfied: scipy>=1.0.0 in /usr/local/lib/python3.9/dist-packages (from datasketch) (1.10.1)\n",
            "Installing collected packages: datasketch\n",
            "Successfully installed datasketch-1.5.9\n"
          ]
        }
      ],
      "source": [
        "!pip install memory-profiler\n",
        "!pip install --upgrade psutil\n",
        "!pip install datasketch"
      ]
    },
    {
      "cell_type": "code",
      "execution_count": 4,
      "metadata": {
        "id": "OKM5IetsphAe"
      },
      "outputs": [],
      "source": [
        "import pandas as pd\n",
        "import numpy as np\n",
        "import matplotlib.pyplot as plt\n",
        "import gzip\n",
        "import struct\n",
        "import time\n",
        "from sklearn.neighbors import KNeighborsClassifier\n",
        "from sklearn.metrics import jaccard_score\n",
        "from sklearn.metrics import classification_report\n",
        "import scipy\n",
        "import psutil\n",
        "from memory_profiler import memory_usage\n",
        "from sklearn.metrics.pairwise import pairwise_distances\n",
        "import warnings\n",
        "from sklearn.exceptions import UndefinedMetricWarning\n",
        "warnings.filterwarnings('ignore', category=UndefinedMetricWarning)"
      ]
    },
    {
      "cell_type": "code",
      "execution_count": 5,
      "metadata": {
        "colab": {
          "base_uri": "https://localhost:8080/",
          "height": 122
        },
        "id": "slJW0c3Bqq4t",
        "outputId": "e182815d-5fab-4b2e-9657-8c8e01d2597c"
      },
      "outputs": [
        {
          "output_type": "execute_result",
          "data": {
            "text/plain": [
              "'!wget -P /content/drive/MyDrive/MLBD_Assignment_2/ http://yann.lecun.com/exdb/mnist/train-images-idx3-ubyte.gz\\n!wget -P /content/drive/MyDrive/MLBD_Assignment_2/ http://yann.lecun.com/exdb/mnist/train-labels-idx1-ubyte.gz\\n!wget -P /content/drive/MyDrive/MLBD_Assignment_2/ http://yann.lecun.com/exdb/mnist/t10k-images-idx3-ubyte.gz\\n!wget -P /content/drive/MyDrive/MLBD_Assignment_2/ http://yann.lecun.com/exdb/mnist/t10k-labels-idx1-ubyte.gz'"
            ],
            "application/vnd.google.colaboratory.intrinsic+json": {
              "type": "string"
            }
          },
          "metadata": {},
          "execution_count": 5
        }
      ],
      "source": [
        "'''!wget -P /content/drive/MyDrive/MLBD_Assignment_2/ http://yann.lecun.com/exdb/mnist/train-images-idx3-ubyte.gz\n",
        "!wget -P /content/drive/MyDrive/MLBD_Assignment_2/ http://yann.lecun.com/exdb/mnist/train-labels-idx1-ubyte.gz\n",
        "!wget -P /content/drive/MyDrive/MLBD_Assignment_2/ http://yann.lecun.com/exdb/mnist/t10k-images-idx3-ubyte.gz\n",
        "!wget -P /content/drive/MyDrive/MLBD_Assignment_2/ http://yann.lecun.com/exdb/mnist/t10k-labels-idx1-ubyte.gz'''"
      ]
    },
    {
      "cell_type": "code",
      "execution_count": 6,
      "metadata": {
        "id": "4PxRM1IwuK5Z"
      },
      "outputs": [],
      "source": [
        "def jaccard_distance(x1, x2):\n",
        "  return 1 - jaccard_score(x1, x2)\n",
        "\n",
        "def binarizer(images):\n",
        "    binary_images = np.where(images > 0, 1, 0).astype('uint8')\n",
        "    return binary_images\n",
        "\n",
        "def KNN_Classification(n, mode, tr_img, tr_lab, te_img, te_lab, subset):\n",
        "  if mode==1:\n",
        "    knn = KNeighborsClassifier(n_neighbors=n, metric=jaccard_distance, n_jobs=1)\n",
        "  if mode==2:\n",
        "    knn = KNeighborsClassifier(n_neighbors=n, metric='jaccard', n_jobs=1)\n",
        "  if mode==3:\n",
        "    knn = KNeighborsClassifier(n_neighbors=n, metric=scipy.spatial.distance.jaccard, n_jobs=1)\n",
        "  start_tr = time.time()\n",
        "  knn.fit(tr_img, tr_lab)\n",
        "  end_tr = time.time()\n",
        "  fit_tr = end_tr - start_tr\n",
        "  print(\"Time taken to fit KNN model:\", fit_tr, \"seconds\")\n",
        "  start_te = time.time()\n",
        "  te_pred = knn.predict(te_img[:subset+1,:])\n",
        "  print(classification_report(te_lab[:subset+1], te_pred))\n",
        "  end_te = time.time()\n",
        "  fit_te = end_te - start_te\n",
        "  print(\"Time taken to evaluate KNN model on test portion:\", fit_te, \"seconds\\n\")\n",
        "  del knn\n",
        "\n",
        "def KNN_Information(n, mode, tr_img, tr_lab, te_img, te_lab, subset):\n",
        "  if mode==1:\n",
        "    knn = KNeighborsClassifier(n_neighbors=n, metric=jaccard_distance, n_jobs=1)\n",
        "  if mode==2:\n",
        "    knn = KNeighborsClassifier(n_neighbors=n, metric='jaccard', n_jobs=1)\n",
        "  if mode==3:\n",
        "    knn = KNeighborsClassifier(n_neighbors=n, metric=scipy.spatial.distance.jaccard, n_jobs=1)\n",
        "  mem_usage = memory_usage((knn.fit, (tr_img, tr_lab)), max_usage=True, interval=0.1)\n",
        "  mem_usage_peak = mem_usage\n",
        "  mem_usage2 = memory_usage((knn.predict, (te_img[:subset+1,:],)), max_usage=True, interval=0.1)\n",
        "  mem_usage2_peak = mem_usage2\n",
        "  ncpus = psutil.cpu_count(logical=False)\n",
        "  l1_cache_size = 32 * 1024 // ncpus\n",
        "  l2_cache_size = 256 * 1024 // ncpus\n",
        "  knn_mem_usage = memory_usage((lambda: (knn, knn._fit_X, knn._y)), interval=0.1)\n",
        "  knn_mem_usage = np.max(knn_mem_usage) - np.min(knn_mem_usage)\n",
        "  process = psutil.Process()\n",
        "  resident_mem_usage = process.memory_info().rss\n",
        "  virtual_mem_usage = process.memory_info().vms\n",
        "  cpu_usage = process.cpu_percent()\n",
        "  num_threads = process.num_threads()\n",
        "  num_fds = process.num_fds()\n",
        "  print(f\"Peak memory usage during fit function: {mem_usage_peak:.2f} MiB\")\n",
        "  print(f\"Peak memory usage during predict function: {mem_usage2_peak:.2f} MiB\")\n",
        "  print(f\"L1 cache size: {l1_cache_size / 1024:.2f} KiB\")\n",
        "  print(f\"L2 cache size: {l2_cache_size / 1024:.2f} KiB\")\n",
        "  print(f\"Memory usage of KNN object and its attributes: {knn_mem_usage:.2f} MiB\")\n",
        "  print(f\"Resident memory usage of Python process: {resident_mem_usage / 1024 / 1024:.2f} MiB\")\n",
        "  print(f\"Virtual memory usage of Python process: {virtual_mem_usage / 1024 / 1024:.2f} MiB\")\n",
        "  print(f\"CPU usage of Python process: {cpu_usage:.2f}%\")\n",
        "  print(f\"Number of threads of Python process: {num_threads}\")\n",
        "  print(f\"Number of open file descriptors of Python process: {num_fds}\")\n",
        "\n",
        "\n",
        "def LSH_KNN(n, mode, tr_img, tr_lab, te_img, te_lab, subset, n_hashes=30, s=0.9):\n",
        "  n_cols = tr_img.shape[1]\n",
        "  hash_funcs = [np.random.permutation(n_cols) for _ in range(n_hashes)]\n",
        "  train_sig = np.full((tr_img.shape[0], n_hashes), np.inf)\n",
        "  test_sig = np.full((te_img.shape[0], n_hashes), np.inf)\n",
        "  for i in range(tr_img.shape[0]):\n",
        "    for j in range(n_hashes):\n",
        "      idx = np.argmax(tr_img[i, hash_funcs[j]]) \n",
        "      train_sig[i, j] = idx\n",
        "  for i in range(te_img.shape[0]):\n",
        "    for j in range(n_hashes):\n",
        "      idx = np.argmax(te_img[i, hash_funcs[j]])\n",
        "      test_sig[i, j] = idx\n",
        "  distances = pairwise_distances(train_sig, test_sig, metric='jaccard')\n",
        "  similarities = 1 - distances\n",
        "  similarities[similarities < s] = 0\n",
        "  if mode==1:\n",
        "    knn = KNeighborsClassifier(n_neighbors=n, metric=jaccard_distance, n_jobs=1)\n",
        "  if mode==2:\n",
        "    knn = KNeighborsClassifier(n_neighbors=n, metric='jaccard', n_jobs=1)\n",
        "  if mode==3:\n",
        "    knn = KNeighborsClassifier(n_neighbors=n, metric=scipy.spatial.distance.jaccard, n_jobs=1)\n",
        "  start_tr = time.time()\n",
        "  knn.fit(train_sig, tr_lab)\n",
        "  end_tr = time.time()\n",
        "  fit_tr = end_tr - start_tr\n",
        "  print(\"Time taken to fit KNN model:\", fit_tr, \"seconds\")\n",
        "  start_te = time.time()\n",
        "  te_pred = knn.predict(test_sig[:subset+1,:])\n",
        "  print(classification_report(te_lab[:subset+1], te_pred))\n",
        "  end_te = time.time()\n",
        "  fit_te = end_te - start_te\n",
        "  print(\"Time taken to evaluate KNN model on test portion:\", fit_te, \"seconds\\n\")\n",
        "  del knn\n",
        "\n",
        "def LSH_Information(n, mode, tr_img, tr_lab, te_img, te_lab, subset, n_hashes=30, s=0.9):\n",
        "  n_cols = tr_img.shape[1]\n",
        "  hash_funcs = [np.random.permutation(n_cols) for _ in range(n_hashes)]\n",
        "  train_sig = np.full((tr_img.shape[0], n_hashes), np.inf)\n",
        "  test_sig = np.full((te_img.shape[0], n_hashes), np.inf)\n",
        "  for i in range(tr_img.shape[0]):\n",
        "    for j in range(n_hashes):\n",
        "      idx = np.argmax(tr_img[i, hash_funcs[j]]) \n",
        "      train_sig[i, j] = idx\n",
        "  for i in range(te_img.shape[0]):\n",
        "    for j in range(n_hashes):\n",
        "      idx = np.argmax(te_img[i, hash_funcs[j]])\n",
        "      test_sig[i, j] = idx\n",
        "  distances = pairwise_distances(train_sig, test_sig, metric='jaccard')\n",
        "  similarities = 1 - distances\n",
        "  similarities[similarities < s] = 0\n",
        "  if mode==1:\n",
        "    knn = KNeighborsClassifier(n_neighbors=n, metric=jaccard_distance, n_jobs=1)\n",
        "  if mode==2:\n",
        "    knn = KNeighborsClassifier(n_neighbors=n, metric='jaccard', n_jobs=1)\n",
        "  if mode==3:\n",
        "    knn = KNeighborsClassifier(n_neighbors=n, metric=scipy.spatial.distance.jaccard, n_jobs=1)\n",
        "  mem_usage = memory_usage((knn.fit, (train_sig, tr_lab)), max_usage=True, interval=0.1)\n",
        "  mem_usage_peak = mem_usage\n",
        "  mem_usage2 = memory_usage((knn.predict, (test_sig[:subset+1,:],)), max_usage=True, interval=0.1)\n",
        "  mem_usage2_peak = mem_usage2\n",
        "  ncpus = psutil.cpu_count(logical=False)\n",
        "  l1_cache_size = 32 * 1024 // ncpus\n",
        "  l2_cache_size = 256 * 1024 // ncpus\n",
        "  knn_mem_usage = memory_usage((lambda: (knn, knn._fit_X, knn._y)), interval=0.1)\n",
        "  knn_mem_usage = np.max(knn_mem_usage) - np.min(knn_mem_usage)\n",
        "  process = psutil.Process()\n",
        "  resident_mem_usage = process.memory_info().rss\n",
        "  virtual_mem_usage = process.memory_info().vms\n",
        "  cpu_usage = process.cpu_percent()\n",
        "  num_threads = process.num_threads()\n",
        "  num_fds = process.num_fds()\n",
        "  print(f\"Peak memory usage during fit function: {mem_usage_peak:.2f} MiB\")\n",
        "  print(f\"Peak memory usage during predict function: {mem_usage2_peak:.2f} MiB\")\n",
        "  print(f\"L1 cache size: {l1_cache_size / 1024:.2f} KiB\")\n",
        "  print(f\"L2 cache size: {l2_cache_size / 1024:.2f} KiB\")\n",
        "  print(f\"Memory usage of KNN object and its attributes: {knn_mem_usage:.2f} MiB\")\n",
        "  print(f\"Resident memory usage of Python process: {resident_mem_usage / 1024 / 1024:.2f} MiB\")\n",
        "  print(f\"Virtual memory usage of Python process: {virtual_mem_usage / 1024 / 1024:.2f} MiB\")\n",
        "  print(f\"CPU usage of Python process: {cpu_usage:.2f}%\")\n",
        "  print(f\"Number of threads of Python process: {num_threads}\")\n",
        "  print(f\"Number of open file descriptors of Python process: {num_fds}\")\n",
        "  del knn, similarities"
      ]
    },
    {
      "cell_type": "code",
      "execution_count": 7,
      "metadata": {
        "id": "aK0a3g13sykE"
      },
      "outputs": [],
      "source": [
        "with gzip.open('/content/drive/MyDrive/MLBD_Assignment_2/train-images-idx3-ubyte.gz', 'rb') as f:\n",
        "    _, num_images, num_rows, num_cols = struct.unpack('>IIII', f.read(16))\n",
        "    images_binary = f.read(num_images*num_rows*num_cols)\n",
        "    tr_images = np.frombuffer(images_binary, dtype=np.uint8)\n",
        "    tr_images = tr_images.reshape(num_images, num_rows, num_cols)\n",
        "\n",
        "with gzip.open('/content/drive/MyDrive/MLBD_Assignment_2/train-labels-idx1-ubyte.gz', 'rb') as f:\n",
        "    _, num_labels = struct.unpack('>II', f.read(8))\n",
        "    labels_binary = f.read(num_labels)\n",
        "    tr_labels = np.frombuffer(labels_binary, dtype=np.uint8)"
      ]
    },
    {
      "cell_type": "code",
      "execution_count": 8,
      "metadata": {
        "id": "dKm-MqR-rWNM"
      },
      "outputs": [],
      "source": [
        "with gzip.open('/content/drive/MyDrive/MLBD_Assignment_2/t10k-images-idx3-ubyte.gz', 'rb') as f:\n",
        "    _, num_images, num_rows, num_cols = struct.unpack('>IIII', f.read(16))\n",
        "    images_binary = f.read(num_images*num_rows*num_cols)\n",
        "    te_images = np.frombuffer(images_binary, dtype=np.uint8)\n",
        "    te_images = te_images.reshape(num_images, num_rows, num_cols)\n",
        "\n",
        "with gzip.open('/content/drive/MyDrive/MLBD_Assignment_2/t10k-labels-idx1-ubyte.gz', 'rb') as f:\n",
        "    _, num_labels = struct.unpack('>II', f.read(8))\n",
        "    labels_binary = f.read(num_labels)\n",
        "    te_labels = np.frombuffer(labels_binary, dtype=np.uint8)"
      ]
    },
    {
      "cell_type": "code",
      "execution_count": 9,
      "metadata": {
        "colab": {
          "base_uri": "https://localhost:8080/"
        },
        "id": "p0r8_rf4tBt2",
        "outputId": "48be5a9b-12bb-41ba-d87a-95709edfbc72"
      },
      "outputs": [
        {
          "output_type": "stream",
          "name": "stdout",
          "text": [
            "(60000, 784) (10000, 784)\n"
          ]
        }
      ],
      "source": [
        "tr_images = tr_images.reshape(tr_images.shape[0],-1)\n",
        "te_images = te_images.reshape(te_images.shape[0],-1)\n",
        "print(tr_images.shape, te_images.shape)"
      ]
    },
    {
      "cell_type": "code",
      "execution_count": 10,
      "metadata": {
        "id": "wdS-7gD0yLqU"
      },
      "outputs": [],
      "source": [
        "tr_images, te_images = binarizer(tr_images), binarizer(te_images)"
      ]
    },
    {
      "cell_type": "markdown",
      "metadata": {
        "id": "OuF_wmJvtbdi"
      },
      "source": [
        "# With Custom Function"
      ]
    },
    {
      "cell_type": "markdown",
      "source": [
        "## Without LSH"
      ],
      "metadata": {
        "id": "nC7f8f0bfRNJ"
      }
    },
    {
      "cell_type": "markdown",
      "metadata": {
        "id": "14axRasW4I-X"
      },
      "source": [
        "### Time and Accuracy"
      ]
    },
    {
      "cell_type": "code",
      "execution_count": null,
      "metadata": {
        "id": "xub0sDhcuPtJ"
      },
      "outputs": [],
      "source": [
        "for imgs in [10,60,90]:  \n",
        "  for k in [1,2,3,4,5]:\n",
        "    KNN_Classification(k, 1, tr_images, tr_labels, te_images, te_labels, imgs)"
      ]
    },
    {
      "cell_type": "markdown",
      "metadata": {
        "id": "78DrV2zJ4KxB"
      },
      "source": [
        "### Memory related information for imgs=10"
      ]
    },
    {
      "cell_type": "code",
      "execution_count": null,
      "metadata": {
        "id": "TQ0qCTbe3y9O"
      },
      "outputs": [],
      "source": [
        "KNN_Information(1, 1, tr_images, tr_labels, te_images, te_labels, 10)"
      ]
    },
    {
      "cell_type": "code",
      "execution_count": null,
      "metadata": {
        "id": "ii1UDUXz39-R"
      },
      "outputs": [],
      "source": [
        "KNN_Information(2, 1, tr_images, tr_labels, te_images, te_labels, 10)"
      ]
    },
    {
      "cell_type": "code",
      "execution_count": null,
      "metadata": {
        "id": "zZAuQu_V4Bp7"
      },
      "outputs": [],
      "source": [
        "KNN_Information(3, 1, tr_images, tr_labels, te_images, te_labels, 10)"
      ]
    },
    {
      "cell_type": "code",
      "execution_count": null,
      "metadata": {
        "id": "qsZBZY1w4C1F"
      },
      "outputs": [],
      "source": [
        "KNN_Information(4, 1, tr_images, tr_labels, te_images, te_labels, 10)"
      ]
    },
    {
      "cell_type": "code",
      "execution_count": null,
      "metadata": {
        "id": "aFZTZvNa4EKe"
      },
      "outputs": [],
      "source": [
        "KNN_Information(5, 1, tr_images, tr_labels, te_images, te_labels, 10)"
      ]
    },
    {
      "cell_type": "markdown",
      "metadata": {
        "id": "_-zXAAJl4PB6"
      },
      "source": [
        "### Memory related information for imgs=60"
      ]
    },
    {
      "cell_type": "code",
      "execution_count": null,
      "metadata": {
        "id": "bAAdWG9I4PB7"
      },
      "outputs": [],
      "source": [
        "KNN_Information(1, 1, tr_images, tr_labels, te_images, te_labels, 60)"
      ]
    },
    {
      "cell_type": "code",
      "execution_count": null,
      "metadata": {
        "id": "7guEhxe34PB7"
      },
      "outputs": [],
      "source": [
        "KNN_Information(2, 1, tr_images, tr_labels, te_images, te_labels, 60)"
      ]
    },
    {
      "cell_type": "code",
      "execution_count": null,
      "metadata": {
        "id": "i3-DW7Xj4PB7"
      },
      "outputs": [],
      "source": [
        "KNN_Information(3, 1, tr_images, tr_labels, te_images, te_labels, 60)"
      ]
    },
    {
      "cell_type": "code",
      "execution_count": null,
      "metadata": {
        "colab": {
          "background_save": true
        },
        "id": "Ei4i6WVD4PB7"
      },
      "outputs": [],
      "source": [
        "KNN_Information(4, 1, tr_images, tr_labels, te_images, te_labels, 60)"
      ]
    },
    {
      "cell_type": "code",
      "execution_count": null,
      "metadata": {
        "id": "B-v77h8v4PB7"
      },
      "outputs": [],
      "source": [
        "KNN_Information(5, 1, tr_images, tr_labels, te_images, te_labels, 60)"
      ]
    },
    {
      "cell_type": "markdown",
      "metadata": {
        "id": "A-NmNzrS4UAk"
      },
      "source": [
        "### Memory related information for imgs=90"
      ]
    },
    {
      "cell_type": "code",
      "execution_count": null,
      "metadata": {
        "id": "dVvkKdiP4UAl"
      },
      "outputs": [],
      "source": [
        "KNN_Information(1, 1, tr_images, tr_labels, te_images, te_labels, 90)"
      ]
    },
    {
      "cell_type": "code",
      "execution_count": null,
      "metadata": {
        "id": "FrDnIYlH4UAl"
      },
      "outputs": [],
      "source": [
        "KNN_Information(2, 1, tr_images, tr_labels, te_images, te_labels, 90)"
      ]
    },
    {
      "cell_type": "code",
      "execution_count": null,
      "metadata": {
        "id": "f-9hRWLJ4UAl"
      },
      "outputs": [],
      "source": [
        "KNN_Information(3, 1, tr_images, tr_labels, te_images, te_labels, 90)"
      ]
    },
    {
      "cell_type": "code",
      "execution_count": null,
      "metadata": {
        "id": "2VZC5HJn4UAl"
      },
      "outputs": [],
      "source": [
        "KNN_Information(4, 1, tr_images, tr_labels, te_images, te_labels, 90)"
      ]
    },
    {
      "cell_type": "code",
      "execution_count": null,
      "metadata": {
        "id": "EYC-kO_x4UAl"
      },
      "outputs": [],
      "source": [
        "KNN_Information(5, 1, tr_images, tr_labels, te_images, te_labels, 90)"
      ]
    },
    {
      "cell_type": "markdown",
      "metadata": {
        "id": "_av-q20ttd7y"
      },
      "source": [
        "# With Jaccard Distance Inbuilt function in sklearn"
      ]
    },
    {
      "cell_type": "markdown",
      "source": [
        "## Without LSH"
      ],
      "metadata": {
        "id": "1n1anwGKfjpy"
      }
    },
    {
      "cell_type": "markdown",
      "metadata": {
        "id": "Wq7gwg894fik"
      },
      "source": [
        "### Time and Accuracy"
      ]
    },
    {
      "cell_type": "code",
      "execution_count": null,
      "metadata": {
        "colab": {
          "base_uri": "https://localhost:8080/"
        },
        "id": "agTu6GjjkLWv",
        "outputId": "4917aa3f-cbcb-4fdc-82ea-593b8de67eb7"
      },
      "outputs": [
        {
          "name": "stdout",
          "output_type": "stream",
          "text": [
            "Time taken to fit KNN model: 0.010190963745117188 seconds\n"
          ]
        },
        {
          "name": "stderr",
          "output_type": "stream",
          "text": [
            "/usr/local/lib/python3.9/dist-packages/sklearn/metrics/pairwise.py:2025: DataConversionWarning: Data was converted to boolean for metric jaccard\n",
            "  warnings.warn(msg, DataConversionWarning)\n"
          ]
        },
        {
          "name": "stdout",
          "output_type": "stream",
          "text": [
            "              precision    recall  f1-score   support\n",
            "\n",
            "           0       1.00      1.00      1.00         2\n",
            "           1       1.00      1.00      1.00         2\n",
            "           2       1.00      1.00      1.00         1\n",
            "           4       1.00      1.00      1.00         2\n",
            "           5       1.00      1.00      1.00         1\n",
            "           7       1.00      1.00      1.00         1\n",
            "           9       1.00      1.00      1.00         2\n",
            "\n",
            "    accuracy                           1.00        11\n",
            "   macro avg       1.00      1.00      1.00        11\n",
            "weighted avg       1.00      1.00      1.00        11\n",
            "\n",
            "Time taken to evaluate KNN model on test portion: 0.3793461322784424 seconds\n",
            "\n",
            "Time taken to fit KNN model: 0.005331516265869141 seconds\n"
          ]
        },
        {
          "name": "stderr",
          "output_type": "stream",
          "text": [
            "/usr/local/lib/python3.9/dist-packages/sklearn/metrics/pairwise.py:2025: DataConversionWarning: Data was converted to boolean for metric jaccard\n",
            "  warnings.warn(msg, DataConversionWarning)\n"
          ]
        },
        {
          "name": "stdout",
          "output_type": "stream",
          "text": [
            "              precision    recall  f1-score   support\n",
            "\n",
            "           0       1.00      1.00      1.00         2\n",
            "           1       1.00      1.00      1.00         2\n",
            "           2       1.00      1.00      1.00         1\n",
            "           4       1.00      1.00      1.00         2\n",
            "           5       1.00      1.00      1.00         1\n",
            "           7       1.00      1.00      1.00         1\n",
            "           9       1.00      1.00      1.00         2\n",
            "\n",
            "    accuracy                           1.00        11\n",
            "   macro avg       1.00      1.00      1.00        11\n",
            "weighted avg       1.00      1.00      1.00        11\n",
            "\n",
            "Time taken to evaluate KNN model on test portion: 0.3873896598815918 seconds\n",
            "\n",
            "Time taken to fit KNN model: 0.005692481994628906 seconds\n"
          ]
        },
        {
          "name": "stderr",
          "output_type": "stream",
          "text": [
            "/usr/local/lib/python3.9/dist-packages/sklearn/metrics/pairwise.py:2025: DataConversionWarning: Data was converted to boolean for metric jaccard\n",
            "  warnings.warn(msg, DataConversionWarning)\n"
          ]
        },
        {
          "name": "stdout",
          "output_type": "stream",
          "text": [
            "              precision    recall  f1-score   support\n",
            "\n",
            "           0       1.00      1.00      1.00         2\n",
            "           1       1.00      1.00      1.00         2\n",
            "           2       1.00      1.00      1.00         1\n",
            "           4       1.00      1.00      1.00         2\n",
            "           5       1.00      1.00      1.00         1\n",
            "           7       1.00      1.00      1.00         1\n",
            "           9       1.00      1.00      1.00         2\n",
            "\n",
            "    accuracy                           1.00        11\n",
            "   macro avg       1.00      1.00      1.00        11\n",
            "weighted avg       1.00      1.00      1.00        11\n",
            "\n",
            "Time taken to evaluate KNN model on test portion: 0.3811318874359131 seconds\n",
            "\n",
            "Time taken to fit KNN model: 0.004737138748168945 seconds\n"
          ]
        },
        {
          "name": "stderr",
          "output_type": "stream",
          "text": [
            "/usr/local/lib/python3.9/dist-packages/sklearn/metrics/pairwise.py:2025: DataConversionWarning: Data was converted to boolean for metric jaccard\n",
            "  warnings.warn(msg, DataConversionWarning)\n"
          ]
        },
        {
          "name": "stdout",
          "output_type": "stream",
          "text": [
            "              precision    recall  f1-score   support\n",
            "\n",
            "           0       1.00      1.00      1.00         2\n",
            "           1       1.00      1.00      1.00         2\n",
            "           2       1.00      1.00      1.00         1\n",
            "           4       1.00      1.00      1.00         2\n",
            "           5       1.00      1.00      1.00         1\n",
            "           7       1.00      1.00      1.00         1\n",
            "           9       1.00      1.00      1.00         2\n",
            "\n",
            "    accuracy                           1.00        11\n",
            "   macro avg       1.00      1.00      1.00        11\n",
            "weighted avg       1.00      1.00      1.00        11\n",
            "\n",
            "Time taken to evaluate KNN model on test portion: 0.3861565589904785 seconds\n",
            "\n",
            "Time taken to fit KNN model: 0.005033969879150391 seconds\n"
          ]
        },
        {
          "name": "stderr",
          "output_type": "stream",
          "text": [
            "/usr/local/lib/python3.9/dist-packages/sklearn/metrics/pairwise.py:2025: DataConversionWarning: Data was converted to boolean for metric jaccard\n",
            "  warnings.warn(msg, DataConversionWarning)\n"
          ]
        },
        {
          "name": "stdout",
          "output_type": "stream",
          "text": [
            "              precision    recall  f1-score   support\n",
            "\n",
            "           0       1.00      1.00      1.00         2\n",
            "           1       1.00      1.00      1.00         2\n",
            "           2       1.00      1.00      1.00         1\n",
            "           4       1.00      1.00      1.00         2\n",
            "           5       1.00      1.00      1.00         1\n",
            "           7       1.00      1.00      1.00         1\n",
            "           9       1.00      1.00      1.00         2\n",
            "\n",
            "    accuracy                           1.00        11\n",
            "   macro avg       1.00      1.00      1.00        11\n",
            "weighted avg       1.00      1.00      1.00        11\n",
            "\n",
            "Time taken to evaluate KNN model on test portion: 0.39719343185424805 seconds\n",
            "\n"
          ]
        }
      ],
      "source": [
        "KNN_Classification(1,2,tr_images,tr_labels,te_images,te_labels,10)\n",
        "KNN_Classification(2,2,tr_images,tr_labels,te_images,te_labels,10)\n",
        "KNN_Classification(3,2,tr_images,tr_labels,te_images,te_labels,10)\n",
        "KNN_Classification(4,2,tr_images,tr_labels,te_images,te_labels,10)\n",
        "KNN_Classification(5,2,tr_images,tr_labels,te_images,te_labels,10)"
      ]
    },
    {
      "cell_type": "code",
      "execution_count": null,
      "metadata": {
        "colab": {
          "base_uri": "https://localhost:8080/"
        },
        "id": "ZJcDjSZYlGlX",
        "outputId": "21af7658-aeb1-4ece-e089-47e9e3e79fa7"
      },
      "outputs": [
        {
          "name": "stdout",
          "output_type": "stream",
          "text": [
            "Time taken to fit KNN model: 0.01949167251586914 seconds\n"
          ]
        },
        {
          "name": "stderr",
          "output_type": "stream",
          "text": [
            "/usr/local/lib/python3.9/dist-packages/sklearn/metrics/pairwise.py:2025: DataConversionWarning: Data was converted to boolean for metric jaccard\n",
            "  warnings.warn(msg, DataConversionWarning)\n",
            "/usr/local/lib/python3.9/dist-packages/sklearn/metrics/_classification.py:1344: UndefinedMetricWarning: Recall and F-score are ill-defined and being set to 0.0 in labels with no true samples. Use `zero_division` parameter to control this behavior.\n",
            "  _warn_prf(average, modifier, msg_start, len(result))\n",
            "/usr/local/lib/python3.9/dist-packages/sklearn/metrics/_classification.py:1344: UndefinedMetricWarning: Recall and F-score are ill-defined and being set to 0.0 in labels with no true samples. Use `zero_division` parameter to control this behavior.\n",
            "  _warn_prf(average, modifier, msg_start, len(result))\n",
            "/usr/local/lib/python3.9/dist-packages/sklearn/metrics/_classification.py:1344: UndefinedMetricWarning: Recall and F-score are ill-defined and being set to 0.0 in labels with no true samples. Use `zero_division` parameter to control this behavior.\n",
            "  _warn_prf(average, modifier, msg_start, len(result))\n",
            "/usr/local/lib/python3.9/dist-packages/sklearn/metrics/pairwise.py:2025: DataConversionWarning: Data was converted to boolean for metric jaccard\n",
            "  warnings.warn(msg, DataConversionWarning)\n"
          ]
        },
        {
          "name": "stdout",
          "output_type": "stream",
          "text": [
            "              precision    recall  f1-score   support\n",
            "\n",
            "           0       1.00      1.00      1.00         6\n",
            "           1       1.00      1.00      1.00        10\n",
            "           2       1.00      1.00      1.00         5\n",
            "           3       1.00      0.80      0.89         5\n",
            "           4       1.00      1.00      1.00        10\n",
            "           5       1.00      1.00      1.00         7\n",
            "           6       1.00      1.00      1.00         5\n",
            "           7       1.00      1.00      1.00         7\n",
            "           8       0.00      0.00      0.00         0\n",
            "           9       1.00      1.00      1.00         6\n",
            "\n",
            "    accuracy                           0.98        61\n",
            "   macro avg       0.90      0.88      0.89        61\n",
            "weighted avg       1.00      0.98      0.99        61\n",
            "\n",
            "Time taken to evaluate KNN model on test portion: 2.820917844772339 seconds\n",
            "\n",
            "Time taken to fit KNN model: 0.0052013397216796875 seconds\n",
            "              precision    recall  f1-score   support\n",
            "\n",
            "           0       1.00      1.00      1.00         6\n",
            "           1       1.00      1.00      1.00        10\n",
            "           2       1.00      1.00      1.00         5\n",
            "           3       1.00      1.00      1.00         5\n",
            "           4       1.00      1.00      1.00        10\n",
            "           5       1.00      1.00      1.00         7\n",
            "           6       1.00      1.00      1.00         5\n",
            "           7       1.00      1.00      1.00         7\n",
            "           9       1.00      1.00      1.00         6\n",
            "\n",
            "    accuracy                           1.00        61\n",
            "   macro avg       1.00      1.00      1.00        61\n",
            "weighted avg       1.00      1.00      1.00        61\n",
            "\n",
            "Time taken to evaluate KNN model on test portion: 2.034275531768799 seconds\n",
            "\n",
            "Time taken to fit KNN model: 0.00544285774230957 seconds\n"
          ]
        },
        {
          "name": "stderr",
          "output_type": "stream",
          "text": [
            "/usr/local/lib/python3.9/dist-packages/sklearn/metrics/pairwise.py:2025: DataConversionWarning: Data was converted to boolean for metric jaccard\n",
            "  warnings.warn(msg, DataConversionWarning)\n"
          ]
        },
        {
          "name": "stdout",
          "output_type": "stream",
          "text": [
            "              precision    recall  f1-score   support\n",
            "\n",
            "           0       0.86      1.00      0.92         6\n",
            "           1       1.00      1.00      1.00        10\n",
            "           2       1.00      1.00      1.00         5\n",
            "           3       1.00      0.80      0.89         5\n",
            "           4       1.00      1.00      1.00        10\n",
            "           5       1.00      1.00      1.00         7\n",
            "           6       1.00      1.00      1.00         5\n",
            "           7       1.00      1.00      1.00         7\n",
            "           9       1.00      1.00      1.00         6\n",
            "\n",
            "    accuracy                           0.98        61\n",
            "   macro avg       0.98      0.98      0.98        61\n",
            "weighted avg       0.99      0.98      0.98        61\n",
            "\n",
            "Time taken to evaluate KNN model on test portion: 2.0198285579681396 seconds\n",
            "\n",
            "Time taken to fit KNN model: 0.005442380905151367 seconds\n"
          ]
        },
        {
          "name": "stderr",
          "output_type": "stream",
          "text": [
            "/usr/local/lib/python3.9/dist-packages/sklearn/metrics/pairwise.py:2025: DataConversionWarning: Data was converted to boolean for metric jaccard\n",
            "  warnings.warn(msg, DataConversionWarning)\n"
          ]
        },
        {
          "name": "stdout",
          "output_type": "stream",
          "text": [
            "              precision    recall  f1-score   support\n",
            "\n",
            "           0       1.00      1.00      1.00         6\n",
            "           1       1.00      1.00      1.00        10\n",
            "           2       1.00      1.00      1.00         5\n",
            "           3       1.00      1.00      1.00         5\n",
            "           4       1.00      1.00      1.00        10\n",
            "           5       1.00      1.00      1.00         7\n",
            "           6       1.00      1.00      1.00         5\n",
            "           7       1.00      1.00      1.00         7\n",
            "           9       1.00      1.00      1.00         6\n",
            "\n",
            "    accuracy                           1.00        61\n",
            "   macro avg       1.00      1.00      1.00        61\n",
            "weighted avg       1.00      1.00      1.00        61\n",
            "\n",
            "Time taken to evaluate KNN model on test portion: 2.038645029067993 seconds\n",
            "\n",
            "Time taken to fit KNN model: 0.005765676498413086 seconds\n"
          ]
        },
        {
          "name": "stderr",
          "output_type": "stream",
          "text": [
            "/usr/local/lib/python3.9/dist-packages/sklearn/metrics/pairwise.py:2025: DataConversionWarning: Data was converted to boolean for metric jaccard\n",
            "  warnings.warn(msg, DataConversionWarning)\n"
          ]
        },
        {
          "name": "stdout",
          "output_type": "stream",
          "text": [
            "              precision    recall  f1-score   support\n",
            "\n",
            "           0       1.00      1.00      1.00         6\n",
            "           1       1.00      1.00      1.00        10\n",
            "           2       1.00      1.00      1.00         5\n",
            "           3       1.00      1.00      1.00         5\n",
            "           4       1.00      1.00      1.00        10\n",
            "           5       1.00      1.00      1.00         7\n",
            "           6       1.00      1.00      1.00         5\n",
            "           7       1.00      1.00      1.00         7\n",
            "           9       1.00      1.00      1.00         6\n",
            "\n",
            "    accuracy                           1.00        61\n",
            "   macro avg       1.00      1.00      1.00        61\n",
            "weighted avg       1.00      1.00      1.00        61\n",
            "\n",
            "Time taken to evaluate KNN model on test portion: 2.0332701206207275 seconds\n",
            "\n"
          ]
        }
      ],
      "source": [
        "KNN_Classification(1,2,tr_images,tr_labels,te_images,te_labels,60)\n",
        "KNN_Classification(2,2,tr_images,tr_labels,te_images,te_labels,60)\n",
        "KNN_Classification(3,2,tr_images,tr_labels,te_images,te_labels,60)\n",
        "KNN_Classification(4,2,tr_images,tr_labels,te_images,te_labels,60)\n",
        "KNN_Classification(5,2,tr_images,tr_labels,te_images,te_labels,60)"
      ]
    },
    {
      "cell_type": "code",
      "execution_count": null,
      "metadata": {
        "colab": {
          "base_uri": "https://localhost:8080/"
        },
        "id": "MSEl22PolSwV",
        "outputId": "19f4d5d6-7253-434b-d098-83bb48376ce0"
      },
      "outputs": [
        {
          "name": "stdout",
          "output_type": "stream",
          "text": [
            "Time taken to fit KNN model: 0.013292074203491211 seconds\n"
          ]
        },
        {
          "name": "stderr",
          "output_type": "stream",
          "text": [
            "/usr/local/lib/python3.9/dist-packages/sklearn/metrics/pairwise.py:2025: DataConversionWarning: Data was converted to boolean for metric jaccard\n",
            "  warnings.warn(msg, DataConversionWarning)\n"
          ]
        },
        {
          "name": "stdout",
          "output_type": "stream",
          "text": [
            "              precision    recall  f1-score   support\n",
            "\n",
            "           0       1.00      1.00      1.00         8\n",
            "           1       1.00      1.00      1.00        12\n",
            "           2       1.00      1.00      1.00         8\n",
            "           3       1.00      0.90      0.95        10\n",
            "           4       1.00      1.00      1.00        13\n",
            "           5       1.00      1.00      1.00         7\n",
            "           6       1.00      1.00      1.00         8\n",
            "           7       1.00      1.00      1.00        14\n",
            "           8       0.67      1.00      0.80         2\n",
            "           9       1.00      1.00      1.00         9\n",
            "\n",
            "    accuracy                           0.99        91\n",
            "   macro avg       0.97      0.99      0.97        91\n",
            "weighted avg       0.99      0.99      0.99        91\n",
            "\n",
            "Time taken to evaluate KNN model on test portion: 4.124956369400024 seconds\n",
            "\n",
            "Time taken to fit KNN model: 0.0047206878662109375 seconds\n"
          ]
        },
        {
          "name": "stderr",
          "output_type": "stream",
          "text": [
            "/usr/local/lib/python3.9/dist-packages/sklearn/metrics/pairwise.py:2025: DataConversionWarning: Data was converted to boolean for metric jaccard\n",
            "  warnings.warn(msg, DataConversionWarning)\n"
          ]
        },
        {
          "name": "stdout",
          "output_type": "stream",
          "text": [
            "              precision    recall  f1-score   support\n",
            "\n",
            "           0       1.00      1.00      1.00         8\n",
            "           1       1.00      1.00      1.00        12\n",
            "           2       0.89      1.00      0.94         8\n",
            "           3       1.00      0.90      0.95        10\n",
            "           4       1.00      1.00      1.00        13\n",
            "           5       1.00      1.00      1.00         7\n",
            "           6       1.00      1.00      1.00         8\n",
            "           7       1.00      1.00      1.00        14\n",
            "           8       1.00      1.00      1.00         2\n",
            "           9       1.00      1.00      1.00         9\n",
            "\n",
            "    accuracy                           0.99        91\n",
            "   macro avg       0.99      0.99      0.99        91\n",
            "weighted avg       0.99      0.99      0.99        91\n",
            "\n",
            "Time taken to evaluate KNN model on test portion: 2.987200975418091 seconds\n",
            "\n",
            "Time taken to fit KNN model: 0.004838228225708008 seconds\n"
          ]
        },
        {
          "name": "stderr",
          "output_type": "stream",
          "text": [
            "/usr/local/lib/python3.9/dist-packages/sklearn/metrics/pairwise.py:2025: DataConversionWarning: Data was converted to boolean for metric jaccard\n",
            "  warnings.warn(msg, DataConversionWarning)\n"
          ]
        },
        {
          "name": "stdout",
          "output_type": "stream",
          "text": [
            "              precision    recall  f1-score   support\n",
            "\n",
            "           0       0.89      1.00      0.94         8\n",
            "           1       1.00      1.00      1.00        12\n",
            "           2       1.00      1.00      1.00         8\n",
            "           3       1.00      0.90      0.95        10\n",
            "           4       1.00      1.00      1.00        13\n",
            "           5       1.00      1.00      1.00         7\n",
            "           6       1.00      1.00      1.00         8\n",
            "           7       1.00      1.00      1.00        14\n",
            "           8       1.00      1.00      1.00         2\n",
            "           9       1.00      1.00      1.00         9\n",
            "\n",
            "    accuracy                           0.99        91\n",
            "   macro avg       0.99      0.99      0.99        91\n",
            "weighted avg       0.99      0.99      0.99        91\n",
            "\n",
            "Time taken to evaluate KNN model on test portion: 2.994518280029297 seconds\n",
            "\n",
            "Time taken to fit KNN model: 0.005452871322631836 seconds\n"
          ]
        },
        {
          "name": "stderr",
          "output_type": "stream",
          "text": [
            "/usr/local/lib/python3.9/dist-packages/sklearn/metrics/pairwise.py:2025: DataConversionWarning: Data was converted to boolean for metric jaccard\n",
            "  warnings.warn(msg, DataConversionWarning)\n"
          ]
        },
        {
          "name": "stdout",
          "output_type": "stream",
          "text": [
            "              precision    recall  f1-score   support\n",
            "\n",
            "           0       1.00      1.00      1.00         8\n",
            "           1       1.00      1.00      1.00        12\n",
            "           2       1.00      1.00      1.00         8\n",
            "           3       1.00      1.00      1.00        10\n",
            "           4       1.00      1.00      1.00        13\n",
            "           5       1.00      1.00      1.00         7\n",
            "           6       1.00      1.00      1.00         8\n",
            "           7       1.00      1.00      1.00        14\n",
            "           8       1.00      1.00      1.00         2\n",
            "           9       1.00      1.00      1.00         9\n",
            "\n",
            "    accuracy                           1.00        91\n",
            "   macro avg       1.00      1.00      1.00        91\n",
            "weighted avg       1.00      1.00      1.00        91\n",
            "\n",
            "Time taken to evaluate KNN model on test portion: 3.203073501586914 seconds\n",
            "\n",
            "Time taken to fit KNN model: 0.004694700241088867 seconds\n"
          ]
        },
        {
          "name": "stderr",
          "output_type": "stream",
          "text": [
            "/usr/local/lib/python3.9/dist-packages/sklearn/metrics/pairwise.py:2025: DataConversionWarning: Data was converted to boolean for metric jaccard\n",
            "  warnings.warn(msg, DataConversionWarning)\n"
          ]
        },
        {
          "name": "stdout",
          "output_type": "stream",
          "text": [
            "              precision    recall  f1-score   support\n",
            "\n",
            "           0       1.00      1.00      1.00         8\n",
            "           1       1.00      1.00      1.00        12\n",
            "           2       1.00      1.00      1.00         8\n",
            "           3       1.00      1.00      1.00        10\n",
            "           4       1.00      0.92      0.96        13\n",
            "           5       1.00      1.00      1.00         7\n",
            "           6       1.00      1.00      1.00         8\n",
            "           7       1.00      1.00      1.00        14\n",
            "           8       1.00      1.00      1.00         2\n",
            "           9       0.90      1.00      0.95         9\n",
            "\n",
            "    accuracy                           0.99        91\n",
            "   macro avg       0.99      0.99      0.99        91\n",
            "weighted avg       0.99      0.99      0.99        91\n",
            "\n",
            "Time taken to evaluate KNN model on test portion: 3.910271167755127 seconds\n",
            "\n"
          ]
        }
      ],
      "source": [
        "KNN_Classification(1,2,tr_images,tr_labels,te_images,te_labels,90)\n",
        "KNN_Classification(2,2,tr_images,tr_labels,te_images,te_labels,90)\n",
        "KNN_Classification(3,2,tr_images,tr_labels,te_images,te_labels,90)\n",
        "KNN_Classification(4,2,tr_images,tr_labels,te_images,te_labels,90)\n",
        "KNN_Classification(5,2,tr_images,tr_labels,te_images,te_labels,90)"
      ]
    },
    {
      "cell_type": "code",
      "execution_count": null,
      "metadata": {
        "colab": {
          "base_uri": "https://localhost:8080/"
        },
        "id": "ZlqlU8aJlYez",
        "outputId": "efe97619-0965-41e2-8b95-761a951d533e"
      },
      "outputs": [
        {
          "name": "stdout",
          "output_type": "stream",
          "text": [
            "Time taken to fit KNN model: 0.007369279861450195 seconds\n"
          ]
        },
        {
          "name": "stderr",
          "output_type": "stream",
          "text": [
            "/usr/local/lib/python3.9/dist-packages/sklearn/metrics/pairwise.py:2025: DataConversionWarning: Data was converted to boolean for metric jaccard\n",
            "  warnings.warn(msg, DataConversionWarning)\n",
            "/usr/local/lib/python3.9/dist-packages/sklearn/metrics/pairwise.py:2025: DataConversionWarning: Data was converted to boolean for metric jaccard\n",
            "  warnings.warn(msg, DataConversionWarning)\n",
            "/usr/local/lib/python3.9/dist-packages/sklearn/metrics/pairwise.py:2025: DataConversionWarning: Data was converted to boolean for metric jaccard\n",
            "  warnings.warn(msg, DataConversionWarning)\n",
            "/usr/local/lib/python3.9/dist-packages/sklearn/metrics/pairwise.py:2025: DataConversionWarning: Data was converted to boolean for metric jaccard\n",
            "  warnings.warn(msg, DataConversionWarning)\n",
            "/usr/local/lib/python3.9/dist-packages/sklearn/metrics/pairwise.py:2025: DataConversionWarning: Data was converted to boolean for metric jaccard\n",
            "  warnings.warn(msg, DataConversionWarning)\n"
          ]
        },
        {
          "name": "stdout",
          "output_type": "stream",
          "text": [
            "              precision    recall  f1-score   support\n",
            "\n",
            "           0       0.96      0.99      0.98       980\n",
            "           1       0.97      0.99      0.98      1135\n",
            "           2       0.98      0.96      0.97      1032\n",
            "           3       0.94      0.95      0.95      1010\n",
            "           4       0.98      0.93      0.95       982\n",
            "           5       0.98      0.92      0.95       892\n",
            "           6       0.97      0.99      0.98       958\n",
            "           7       0.97      0.95      0.96      1028\n",
            "           8       0.94      0.95      0.95       974\n",
            "           9       0.91      0.95      0.93      1009\n",
            "\n",
            "    accuracy                           0.96     10000\n",
            "   macro avg       0.96      0.96      0.96     10000\n",
            "weighted avg       0.96      0.96      0.96     10000\n",
            "\n",
            "Time taken to evaluate KNN model on test portion: 351.071163892746 seconds\n",
            "\n",
            "Time taken to fit KNN model: 0.00490260124206543 seconds\n"
          ]
        },
        {
          "name": "stderr",
          "output_type": "stream",
          "text": [
            "/usr/local/lib/python3.9/dist-packages/sklearn/metrics/pairwise.py:2025: DataConversionWarning: Data was converted to boolean for metric jaccard\n",
            "  warnings.warn(msg, DataConversionWarning)\n",
            "/usr/local/lib/python3.9/dist-packages/sklearn/metrics/pairwise.py:2025: DataConversionWarning: Data was converted to boolean for metric jaccard\n",
            "  warnings.warn(msg, DataConversionWarning)\n",
            "/usr/local/lib/python3.9/dist-packages/sklearn/metrics/pairwise.py:2025: DataConversionWarning: Data was converted to boolean for metric jaccard\n",
            "  warnings.warn(msg, DataConversionWarning)\n",
            "/usr/local/lib/python3.9/dist-packages/sklearn/metrics/pairwise.py:2025: DataConversionWarning: Data was converted to boolean for metric jaccard\n",
            "  warnings.warn(msg, DataConversionWarning)\n",
            "/usr/local/lib/python3.9/dist-packages/sklearn/metrics/pairwise.py:2025: DataConversionWarning: Data was converted to boolean for metric jaccard\n",
            "  warnings.warn(msg, DataConversionWarning)\n"
          ]
        },
        {
          "name": "stdout",
          "output_type": "stream",
          "text": [
            "              precision    recall  f1-score   support\n",
            "\n",
            "           0       0.94      1.00      0.96       980\n",
            "           1       0.96      0.99      0.98      1135\n",
            "           2       0.97      0.97      0.97      1032\n",
            "           3       0.92      0.96      0.94      1010\n",
            "           4       0.97      0.96      0.96       982\n",
            "           5       0.98      0.92      0.95       892\n",
            "           6       0.97      0.98      0.98       958\n",
            "           7       0.96      0.96      0.96      1028\n",
            "           8       0.97      0.92      0.95       974\n",
            "           9       0.96      0.93      0.94      1009\n",
            "\n",
            "    accuracy                           0.96     10000\n",
            "   macro avg       0.96      0.96      0.96     10000\n",
            "weighted avg       0.96      0.96      0.96     10000\n",
            "\n",
            "Time taken to evaluate KNN model on test portion: 349.31530237197876 seconds\n",
            "\n",
            "Time taken to fit KNN model: 0.00847482681274414 seconds\n"
          ]
        },
        {
          "name": "stderr",
          "output_type": "stream",
          "text": [
            "/usr/local/lib/python3.9/dist-packages/sklearn/metrics/pairwise.py:2025: DataConversionWarning: Data was converted to boolean for metric jaccard\n",
            "  warnings.warn(msg, DataConversionWarning)\n",
            "/usr/local/lib/python3.9/dist-packages/sklearn/metrics/pairwise.py:2025: DataConversionWarning: Data was converted to boolean for metric jaccard\n",
            "  warnings.warn(msg, DataConversionWarning)\n",
            "/usr/local/lib/python3.9/dist-packages/sklearn/metrics/pairwise.py:2025: DataConversionWarning: Data was converted to boolean for metric jaccard\n",
            "  warnings.warn(msg, DataConversionWarning)\n",
            "/usr/local/lib/python3.9/dist-packages/sklearn/metrics/pairwise.py:2025: DataConversionWarning: Data was converted to boolean for metric jaccard\n",
            "  warnings.warn(msg, DataConversionWarning)\n",
            "/usr/local/lib/python3.9/dist-packages/sklearn/metrics/pairwise.py:2025: DataConversionWarning: Data was converted to boolean for metric jaccard\n",
            "  warnings.warn(msg, DataConversionWarning)\n"
          ]
        },
        {
          "name": "stdout",
          "output_type": "stream",
          "text": [
            "              precision    recall  f1-score   support\n",
            "\n",
            "           0       0.94      1.00      0.97       980\n",
            "           1       0.97      0.99      0.98      1135\n",
            "           2       0.98      0.97      0.97      1032\n",
            "           3       0.96      0.95      0.95      1010\n",
            "           4       0.98      0.94      0.96       982\n",
            "           5       0.98      0.93      0.95       892\n",
            "           6       0.97      0.98      0.98       958\n",
            "           7       0.98      0.95      0.96      1028\n",
            "           8       0.95      0.96      0.95       974\n",
            "           9       0.92      0.95      0.94      1009\n",
            "\n",
            "    accuracy                           0.96     10000\n",
            "   macro avg       0.96      0.96      0.96     10000\n",
            "weighted avg       0.96      0.96      0.96     10000\n",
            "\n",
            "Time taken to evaluate KNN model on test portion: 352.9322168827057 seconds\n",
            "\n",
            "Time taken to fit KNN model: 0.005086421966552734 seconds\n"
          ]
        },
        {
          "name": "stderr",
          "output_type": "stream",
          "text": [
            "/usr/local/lib/python3.9/dist-packages/sklearn/metrics/pairwise.py:2025: DataConversionWarning: Data was converted to boolean for metric jaccard\n",
            "  warnings.warn(msg, DataConversionWarning)\n",
            "/usr/local/lib/python3.9/dist-packages/sklearn/metrics/pairwise.py:2025: DataConversionWarning: Data was converted to boolean for metric jaccard\n",
            "  warnings.warn(msg, DataConversionWarning)\n",
            "/usr/local/lib/python3.9/dist-packages/sklearn/metrics/pairwise.py:2025: DataConversionWarning: Data was converted to boolean for metric jaccard\n",
            "  warnings.warn(msg, DataConversionWarning)\n",
            "/usr/local/lib/python3.9/dist-packages/sklearn/metrics/pairwise.py:2025: DataConversionWarning: Data was converted to boolean for metric jaccard\n",
            "  warnings.warn(msg, DataConversionWarning)\n",
            "/usr/local/lib/python3.9/dist-packages/sklearn/metrics/pairwise.py:2025: DataConversionWarning: Data was converted to boolean for metric jaccard\n",
            "  warnings.warn(msg, DataConversionWarning)\n"
          ]
        },
        {
          "name": "stdout",
          "output_type": "stream",
          "text": [
            "              precision    recall  f1-score   support\n",
            "\n",
            "           0       0.95      1.00      0.97       980\n",
            "           1       0.97      0.99      0.98      1135\n",
            "           2       0.98      0.97      0.98      1032\n",
            "           3       0.94      0.96      0.95      1010\n",
            "           4       0.98      0.95      0.96       982\n",
            "           5       0.99      0.93      0.95       892\n",
            "           6       0.97      0.98      0.97       958\n",
            "           7       0.97      0.96      0.96      1028\n",
            "           8       0.96      0.95      0.95       974\n",
            "           9       0.93      0.95      0.94      1009\n",
            "\n",
            "    accuracy                           0.96     10000\n",
            "   macro avg       0.96      0.96      0.96     10000\n",
            "weighted avg       0.96      0.96      0.96     10000\n",
            "\n",
            "Time taken to evaluate KNN model on test portion: 353.1395151615143 seconds\n",
            "\n",
            "Time taken to fit KNN model: 0.005254268646240234 seconds\n"
          ]
        },
        {
          "name": "stderr",
          "output_type": "stream",
          "text": [
            "/usr/local/lib/python3.9/dist-packages/sklearn/metrics/pairwise.py:2025: DataConversionWarning: Data was converted to boolean for metric jaccard\n",
            "  warnings.warn(msg, DataConversionWarning)\n",
            "/usr/local/lib/python3.9/dist-packages/sklearn/metrics/pairwise.py:2025: DataConversionWarning: Data was converted to boolean for metric jaccard\n",
            "  warnings.warn(msg, DataConversionWarning)\n",
            "/usr/local/lib/python3.9/dist-packages/sklearn/metrics/pairwise.py:2025: DataConversionWarning: Data was converted to boolean for metric jaccard\n",
            "  warnings.warn(msg, DataConversionWarning)\n",
            "/usr/local/lib/python3.9/dist-packages/sklearn/metrics/pairwise.py:2025: DataConversionWarning: Data was converted to boolean for metric jaccard\n",
            "  warnings.warn(msg, DataConversionWarning)\n",
            "/usr/local/lib/python3.9/dist-packages/sklearn/metrics/pairwise.py:2025: DataConversionWarning: Data was converted to boolean for metric jaccard\n",
            "  warnings.warn(msg, DataConversionWarning)\n"
          ]
        },
        {
          "name": "stdout",
          "output_type": "stream",
          "text": [
            "              precision    recall  f1-score   support\n",
            "\n",
            "           0       0.95      1.00      0.97       980\n",
            "           1       0.97      0.99      0.98      1135\n",
            "           2       0.98      0.97      0.97      1032\n",
            "           3       0.95      0.96      0.95      1010\n",
            "           4       0.98      0.94      0.96       982\n",
            "           5       0.99      0.93      0.96       892\n",
            "           6       0.97      0.98      0.98       958\n",
            "           7       0.97      0.95      0.96      1028\n",
            "           8       0.95      0.96      0.95       974\n",
            "           9       0.91      0.95      0.93      1009\n",
            "\n",
            "    accuracy                           0.96     10000\n",
            "   macro avg       0.96      0.96      0.96     10000\n",
            "weighted avg       0.96      0.96      0.96     10000\n",
            "\n",
            "Time taken to evaluate KNN model on test portion: 357.85477685928345 seconds\n",
            "\n"
          ]
        }
      ],
      "source": [
        "KNN_Classification(1,2,tr_images,tr_labels,te_images,te_labels,te_images.shape[0])\n",
        "KNN_Classification(2,2,tr_images,tr_labels,te_images,te_labels,te_images.shape[0])\n",
        "KNN_Classification(3,2,tr_images,tr_labels,te_images,te_labels,te_images.shape[0])\n",
        "KNN_Classification(4,2,tr_images,tr_labels,te_images,te_labels,te_images.shape[0])"
      ]
    },
    {
      "cell_type": "markdown",
      "metadata": {
        "id": "dnmXEdAv4iL9"
      },
      "source": [
        "### Memory related information for imgs=10"
      ]
    },
    {
      "cell_type": "code",
      "execution_count": 41,
      "metadata": {
        "colab": {
          "base_uri": "https://localhost:8080/"
        },
        "id": "DoN05rgD4iL-",
        "outputId": "b87351a6-3f54-4b1e-8a47-8efece9bd25a"
      },
      "outputs": [
        {
          "output_type": "stream",
          "name": "stderr",
          "text": [
            "/usr/local/lib/python3.9/dist-packages/sklearn/metrics/pairwise.py:2025: DataConversionWarning: Data was converted to boolean for metric jaccard\n",
            "  warnings.warn(msg, DataConversionWarning)\n"
          ]
        },
        {
          "output_type": "stream",
          "name": "stdout",
          "text": [
            "Peak memory usage during fit function: 9488.35 MiB\n",
            "Peak memory usage during predict function: 9533.29 MiB\n",
            "L1 cache size: 32.00 KiB\n",
            "L2 cache size: 256.00 KiB\n",
            "Memory usage of KNN object and its attributes: 0.00 MiB\n",
            "Resident memory usage of Python process: 9488.64 MiB\n",
            "Virtual memory usage of Python process: 10654.89 MiB\n",
            "CPU usage of Python process: 0.00%\n",
            "Number of threads of Python process: 17\n",
            "Number of open file descriptors of Python process: 53\n"
          ]
        }
      ],
      "source": [
        "KNN_Information(1, 2, tr_images, tr_labels, te_images, te_labels, 10)"
      ]
    },
    {
      "cell_type": "code",
      "execution_count": 42,
      "metadata": {
        "colab": {
          "base_uri": "https://localhost:8080/"
        },
        "id": "FkQa8Tg74iL_",
        "outputId": "d7df87fd-4797-4d01-81f3-a3ff2d28e339"
      },
      "outputs": [
        {
          "output_type": "stream",
          "name": "stderr",
          "text": [
            "/usr/local/lib/python3.9/dist-packages/sklearn/metrics/pairwise.py:2025: DataConversionWarning: Data was converted to boolean for metric jaccard\n",
            "  warnings.warn(msg, DataConversionWarning)\n"
          ]
        },
        {
          "output_type": "stream",
          "name": "stdout",
          "text": [
            "Peak memory usage during fit function: 9488.65 MiB\n",
            "Peak memory usage during predict function: 9533.52 MiB\n",
            "L1 cache size: 32.00 KiB\n",
            "L2 cache size: 256.00 KiB\n",
            "Memory usage of KNN object and its attributes: 0.00 MiB\n",
            "Resident memory usage of Python process: 9488.65 MiB\n",
            "Virtual memory usage of Python process: 10654.89 MiB\n",
            "CPU usage of Python process: 0.00%\n",
            "Number of threads of Python process: 17\n",
            "Number of open file descriptors of Python process: 53\n"
          ]
        }
      ],
      "source": [
        "KNN_Information(2, 2, tr_images, tr_labels, te_images, te_labels, 10)"
      ]
    },
    {
      "cell_type": "code",
      "execution_count": 43,
      "metadata": {
        "colab": {
          "base_uri": "https://localhost:8080/"
        },
        "id": "wXQwVC_K4iMA",
        "outputId": "ec19cdec-b1ac-4e64-a897-4bd4b0bdc12f"
      },
      "outputs": [
        {
          "output_type": "stream",
          "name": "stderr",
          "text": [
            "/usr/local/lib/python3.9/dist-packages/sklearn/metrics/pairwise.py:2025: DataConversionWarning: Data was converted to boolean for metric jaccard\n",
            "  warnings.warn(msg, DataConversionWarning)\n"
          ]
        },
        {
          "output_type": "stream",
          "name": "stdout",
          "text": [
            "Peak memory usage during fit function: 9488.65 MiB\n",
            "Peak memory usage during predict function: 9533.52 MiB\n",
            "L1 cache size: 32.00 KiB\n",
            "L2 cache size: 256.00 KiB\n",
            "Memory usage of KNN object and its attributes: 0.00 MiB\n",
            "Resident memory usage of Python process: 9488.65 MiB\n",
            "Virtual memory usage of Python process: 10654.89 MiB\n",
            "CPU usage of Python process: 0.00%\n",
            "Number of threads of Python process: 17\n",
            "Number of open file descriptors of Python process: 53\n"
          ]
        }
      ],
      "source": [
        "KNN_Information(3, 2, tr_images, tr_labels, te_images, te_labels, 10)"
      ]
    },
    {
      "cell_type": "code",
      "execution_count": 44,
      "metadata": {
        "colab": {
          "base_uri": "https://localhost:8080/"
        },
        "id": "FFBkV17r4iMA",
        "outputId": "175f2f98-943b-4d81-826a-bb2b23eaaa81"
      },
      "outputs": [
        {
          "output_type": "stream",
          "name": "stderr",
          "text": [
            "/usr/local/lib/python3.9/dist-packages/sklearn/metrics/pairwise.py:2025: DataConversionWarning: Data was converted to boolean for metric jaccard\n",
            "  warnings.warn(msg, DataConversionWarning)\n"
          ]
        },
        {
          "output_type": "stream",
          "name": "stdout",
          "text": [
            "Peak memory usage during fit function: 9488.65 MiB\n",
            "Peak memory usage during predict function: 9533.52 MiB\n",
            "L1 cache size: 32.00 KiB\n",
            "L2 cache size: 256.00 KiB\n",
            "Memory usage of KNN object and its attributes: 0.00 MiB\n",
            "Resident memory usage of Python process: 9488.65 MiB\n",
            "Virtual memory usage of Python process: 10654.89 MiB\n",
            "CPU usage of Python process: 0.00%\n",
            "Number of threads of Python process: 17\n",
            "Number of open file descriptors of Python process: 53\n"
          ]
        }
      ],
      "source": [
        "KNN_Information(4, 2, tr_images, tr_labels, te_images, te_labels, 10)"
      ]
    },
    {
      "cell_type": "code",
      "execution_count": 45,
      "metadata": {
        "colab": {
          "base_uri": "https://localhost:8080/"
        },
        "id": "_SlRz55S4iMB",
        "outputId": "229bfb41-3353-4e02-fbb6-a1395de74b97"
      },
      "outputs": [
        {
          "output_type": "stream",
          "name": "stderr",
          "text": [
            "/usr/local/lib/python3.9/dist-packages/sklearn/metrics/pairwise.py:2025: DataConversionWarning: Data was converted to boolean for metric jaccard\n",
            "  warnings.warn(msg, DataConversionWarning)\n"
          ]
        },
        {
          "output_type": "stream",
          "name": "stdout",
          "text": [
            "Peak memory usage during fit function: 9488.65 MiB\n",
            "Peak memory usage during predict function: 9533.52 MiB\n",
            "L1 cache size: 32.00 KiB\n",
            "L2 cache size: 256.00 KiB\n",
            "Memory usage of KNN object and its attributes: 0.00 MiB\n",
            "Resident memory usage of Python process: 9488.65 MiB\n",
            "Virtual memory usage of Python process: 10654.89 MiB\n",
            "CPU usage of Python process: 0.00%\n",
            "Number of threads of Python process: 17\n",
            "Number of open file descriptors of Python process: 53\n"
          ]
        }
      ],
      "source": [
        "KNN_Information(5, 2, tr_images, tr_labels, te_images, te_labels, 10)"
      ]
    },
    {
      "cell_type": "markdown",
      "metadata": {
        "id": "2yG1f9KC4iMB"
      },
      "source": [
        "### Memory related information for imgs=60"
      ]
    },
    {
      "cell_type": "code",
      "execution_count": 46,
      "metadata": {
        "colab": {
          "base_uri": "https://localhost:8080/"
        },
        "id": "CRPc5bru4iMC",
        "outputId": "c1ad63d6-cb3c-4f78-f069-f3c12fec78c9"
      },
      "outputs": [
        {
          "output_type": "stream",
          "name": "stderr",
          "text": [
            "/usr/local/lib/python3.9/dist-packages/sklearn/metrics/pairwise.py:2025: DataConversionWarning: Data was converted to boolean for metric jaccard\n",
            "  warnings.warn(msg, DataConversionWarning)\n"
          ]
        },
        {
          "output_type": "stream",
          "name": "stdout",
          "text": [
            "Peak memory usage during fit function: 9488.66 MiB\n",
            "Peak memory usage during predict function: 9533.54 MiB\n",
            "L1 cache size: 32.00 KiB\n",
            "L2 cache size: 256.00 KiB\n",
            "Memory usage of KNN object and its attributes: 0.00 MiB\n",
            "Resident memory usage of Python process: 9461.21 MiB\n",
            "Virtual memory usage of Python process: 10627.42 MiB\n",
            "CPU usage of Python process: 0.00%\n",
            "Number of threads of Python process: 17\n",
            "Number of open file descriptors of Python process: 53\n"
          ]
        }
      ],
      "source": [
        "KNN_Information(1, 2, tr_images, tr_labels, te_images, te_labels, 60)"
      ]
    },
    {
      "cell_type": "code",
      "execution_count": 47,
      "metadata": {
        "colab": {
          "base_uri": "https://localhost:8080/"
        },
        "id": "9UA_iGhY4iMC",
        "outputId": "e86bad88-2994-4e4e-99f7-195ad1f8ba69"
      },
      "outputs": [
        {
          "output_type": "stream",
          "name": "stderr",
          "text": [
            "/usr/local/lib/python3.9/dist-packages/sklearn/metrics/pairwise.py:2025: DataConversionWarning: Data was converted to boolean for metric jaccard\n",
            "  warnings.warn(msg, DataConversionWarning)\n"
          ]
        },
        {
          "output_type": "stream",
          "name": "stdout",
          "text": [
            "Peak memory usage during fit function: 9461.21 MiB\n",
            "Peak memory usage during predict function: 9533.71 MiB\n",
            "L1 cache size: 32.00 KiB\n",
            "L2 cache size: 256.00 KiB\n",
            "Memory usage of KNN object and its attributes: 0.00 MiB\n",
            "Resident memory usage of Python process: 9461.21 MiB\n",
            "Virtual memory usage of Python process: 10627.42 MiB\n",
            "CPU usage of Python process: 0.00%\n",
            "Number of threads of Python process: 17\n",
            "Number of open file descriptors of Python process: 53\n"
          ]
        }
      ],
      "source": [
        "KNN_Information(2, 2, tr_images, tr_labels, te_images, te_labels, 60)"
      ]
    },
    {
      "cell_type": "code",
      "execution_count": 48,
      "metadata": {
        "colab": {
          "base_uri": "https://localhost:8080/"
        },
        "id": "E4yKp3P84iMD",
        "outputId": "4f6ecd45-5845-4931-8ec0-9b8b1e5c4ef2"
      },
      "outputs": [
        {
          "output_type": "stream",
          "name": "stderr",
          "text": [
            "/usr/local/lib/python3.9/dist-packages/sklearn/metrics/pairwise.py:2025: DataConversionWarning: Data was converted to boolean for metric jaccard\n",
            "  warnings.warn(msg, DataConversionWarning)\n"
          ]
        },
        {
          "output_type": "stream",
          "name": "stdout",
          "text": [
            "Peak memory usage during fit function: 9461.21 MiB\n",
            "Peak memory usage during predict function: 9533.58 MiB\n",
            "L1 cache size: 32.00 KiB\n",
            "L2 cache size: 256.00 KiB\n",
            "Memory usage of KNN object and its attributes: 0.00 MiB\n",
            "Resident memory usage of Python process: 9461.21 MiB\n",
            "Virtual memory usage of Python process: 10627.42 MiB\n",
            "CPU usage of Python process: 0.00%\n",
            "Number of threads of Python process: 17\n",
            "Number of open file descriptors of Python process: 53\n"
          ]
        }
      ],
      "source": [
        "KNN_Information(3, 2, tr_images, tr_labels, te_images, te_labels, 60)"
      ]
    },
    {
      "cell_type": "code",
      "execution_count": 49,
      "metadata": {
        "colab": {
          "base_uri": "https://localhost:8080/"
        },
        "id": "TFZJ4NnL4iMD",
        "outputId": "68e618db-b31f-4589-deb7-0b7e347b342f"
      },
      "outputs": [
        {
          "output_type": "stream",
          "name": "stderr",
          "text": [
            "/usr/local/lib/python3.9/dist-packages/sklearn/metrics/pairwise.py:2025: DataConversionWarning: Data was converted to boolean for metric jaccard\n",
            "  warnings.warn(msg, DataConversionWarning)\n"
          ]
        },
        {
          "output_type": "stream",
          "name": "stdout",
          "text": [
            "Peak memory usage during fit function: 9461.21 MiB\n",
            "Peak memory usage during predict function: 9533.71 MiB\n",
            "L1 cache size: 32.00 KiB\n",
            "L2 cache size: 256.00 KiB\n",
            "Memory usage of KNN object and its attributes: 0.00 MiB\n",
            "Resident memory usage of Python process: 9461.21 MiB\n",
            "Virtual memory usage of Python process: 10627.42 MiB\n",
            "CPU usage of Python process: 0.00%\n",
            "Number of threads of Python process: 17\n",
            "Number of open file descriptors of Python process: 53\n"
          ]
        }
      ],
      "source": [
        "KNN_Information(4, 2, tr_images, tr_labels, te_images, te_labels, 60)"
      ]
    },
    {
      "cell_type": "code",
      "execution_count": 50,
      "metadata": {
        "colab": {
          "base_uri": "https://localhost:8080/"
        },
        "id": "8C9iP6rw4iMD",
        "outputId": "13f7b03e-70a1-4bc2-f60d-0e058295a89c"
      },
      "outputs": [
        {
          "output_type": "stream",
          "name": "stderr",
          "text": [
            "/usr/local/lib/python3.9/dist-packages/sklearn/metrics/pairwise.py:2025: DataConversionWarning: Data was converted to boolean for metric jaccard\n",
            "  warnings.warn(msg, DataConversionWarning)\n"
          ]
        },
        {
          "output_type": "stream",
          "name": "stdout",
          "text": [
            "Peak memory usage during fit function: 9461.21 MiB\n",
            "Peak memory usage during predict function: 9533.62 MiB\n",
            "L1 cache size: 32.00 KiB\n",
            "L2 cache size: 256.00 KiB\n",
            "Memory usage of KNN object and its attributes: 0.00 MiB\n",
            "Resident memory usage of Python process: 9461.21 MiB\n",
            "Virtual memory usage of Python process: 10627.42 MiB\n",
            "CPU usage of Python process: 0.00%\n",
            "Number of threads of Python process: 17\n",
            "Number of open file descriptors of Python process: 53\n"
          ]
        }
      ],
      "source": [
        "KNN_Information(5, 2, tr_images, tr_labels, te_images, te_labels, 60)"
      ]
    },
    {
      "cell_type": "markdown",
      "metadata": {
        "id": "_GVFbOjA4iME"
      },
      "source": [
        "### Memory related information for imgs=90"
      ]
    },
    {
      "cell_type": "code",
      "execution_count": 51,
      "metadata": {
        "colab": {
          "base_uri": "https://localhost:8080/"
        },
        "id": "kkgVWK8B4iME",
        "outputId": "847e21ea-9994-44f1-b2b9-0c3102a7f9ee"
      },
      "outputs": [
        {
          "output_type": "stream",
          "name": "stderr",
          "text": [
            "/usr/local/lib/python3.9/dist-packages/sklearn/metrics/pairwise.py:2025: DataConversionWarning: Data was converted to boolean for metric jaccard\n",
            "  warnings.warn(msg, DataConversionWarning)\n"
          ]
        },
        {
          "output_type": "stream",
          "name": "stdout",
          "text": [
            "Peak memory usage during fit function: 9461.21 MiB\n",
            "Peak memory usage during predict function: 9547.05 MiB\n",
            "L1 cache size: 32.00 KiB\n",
            "L2 cache size: 256.00 KiB\n",
            "Memory usage of KNN object and its attributes: 0.00 MiB\n",
            "Resident memory usage of Python process: 9461.21 MiB\n",
            "Virtual memory usage of Python process: 10627.42 MiB\n",
            "CPU usage of Python process: 0.00%\n",
            "Number of threads of Python process: 17\n",
            "Number of open file descriptors of Python process: 53\n"
          ]
        }
      ],
      "source": [
        "KNN_Information(1, 2, tr_images, tr_labels, te_images, te_labels, 90)"
      ]
    },
    {
      "cell_type": "code",
      "execution_count": 52,
      "metadata": {
        "colab": {
          "base_uri": "https://localhost:8080/"
        },
        "id": "c5G2FEF44iME",
        "outputId": "50ab3ed5-736d-4362-964a-2a91e5745787"
      },
      "outputs": [
        {
          "output_type": "stream",
          "name": "stderr",
          "text": [
            "/usr/local/lib/python3.9/dist-packages/sklearn/metrics/pairwise.py:2025: DataConversionWarning: Data was converted to boolean for metric jaccard\n",
            "  warnings.warn(msg, DataConversionWarning)\n"
          ]
        },
        {
          "output_type": "stream",
          "name": "stdout",
          "text": [
            "Peak memory usage during fit function: 9461.21 MiB\n",
            "Peak memory usage during predict function: 9547.11 MiB\n",
            "L1 cache size: 32.00 KiB\n",
            "L2 cache size: 256.00 KiB\n",
            "Memory usage of KNN object and its attributes: 0.00 MiB\n",
            "Resident memory usage of Python process: 9461.21 MiB\n",
            "Virtual memory usage of Python process: 10627.42 MiB\n",
            "CPU usage of Python process: 0.00%\n",
            "Number of threads of Python process: 17\n",
            "Number of open file descriptors of Python process: 53\n"
          ]
        }
      ],
      "source": [
        "KNN_Information(2, 2, tr_images, tr_labels, te_images, te_labels, 90)"
      ]
    },
    {
      "cell_type": "code",
      "execution_count": 53,
      "metadata": {
        "colab": {
          "base_uri": "https://localhost:8080/"
        },
        "id": "mq7rT4jQ4iMF",
        "outputId": "3df2fce5-5d8b-4d15-8ed4-317e4a87bb73"
      },
      "outputs": [
        {
          "output_type": "stream",
          "name": "stderr",
          "text": [
            "/usr/local/lib/python3.9/dist-packages/sklearn/metrics/pairwise.py:2025: DataConversionWarning: Data was converted to boolean for metric jaccard\n",
            "  warnings.warn(msg, DataConversionWarning)\n"
          ]
        },
        {
          "output_type": "stream",
          "name": "stdout",
          "text": [
            "Peak memory usage during fit function: 9461.21 MiB\n",
            "Peak memory usage during predict function: 9547.11 MiB\n",
            "L1 cache size: 32.00 KiB\n",
            "L2 cache size: 256.00 KiB\n",
            "Memory usage of KNN object and its attributes: 0.00 MiB\n",
            "Resident memory usage of Python process: 9461.21 MiB\n",
            "Virtual memory usage of Python process: 10627.42 MiB\n",
            "CPU usage of Python process: 0.00%\n",
            "Number of threads of Python process: 17\n",
            "Number of open file descriptors of Python process: 53\n"
          ]
        }
      ],
      "source": [
        "KNN_Information(3, 2, tr_images, tr_labels, te_images, te_labels, 90)"
      ]
    },
    {
      "cell_type": "code",
      "execution_count": 54,
      "metadata": {
        "colab": {
          "base_uri": "https://localhost:8080/"
        },
        "id": "ANyv23gT4iMF",
        "outputId": "93abfe30-8904-4879-9569-51b080268976"
      },
      "outputs": [
        {
          "output_type": "stream",
          "name": "stderr",
          "text": [
            "/usr/local/lib/python3.9/dist-packages/sklearn/metrics/pairwise.py:2025: DataConversionWarning: Data was converted to boolean for metric jaccard\n",
            "  warnings.warn(msg, DataConversionWarning)\n"
          ]
        },
        {
          "output_type": "stream",
          "name": "stdout",
          "text": [
            "Peak memory usage during fit function: 9461.21 MiB\n",
            "Peak memory usage during predict function: 9547.46 MiB\n",
            "L1 cache size: 32.00 KiB\n",
            "L2 cache size: 256.00 KiB\n",
            "Memory usage of KNN object and its attributes: 0.00 MiB\n",
            "Resident memory usage of Python process: 9461.21 MiB\n",
            "Virtual memory usage of Python process: 10627.42 MiB\n",
            "CPU usage of Python process: 0.00%\n",
            "Number of threads of Python process: 17\n",
            "Number of open file descriptors of Python process: 53\n"
          ]
        }
      ],
      "source": [
        "KNN_Information(4, 2, tr_images, tr_labels, te_images, te_labels, 90)"
      ]
    },
    {
      "cell_type": "code",
      "execution_count": 55,
      "metadata": {
        "colab": {
          "base_uri": "https://localhost:8080/"
        },
        "id": "wHXSOnJS4iMF",
        "outputId": "c0080504-4e1f-4036-b5d7-525f5a58a5f4"
      },
      "outputs": [
        {
          "output_type": "stream",
          "name": "stderr",
          "text": [
            "/usr/local/lib/python3.9/dist-packages/sklearn/metrics/pairwise.py:2025: DataConversionWarning: Data was converted to boolean for metric jaccard\n",
            "  warnings.warn(msg, DataConversionWarning)\n"
          ]
        },
        {
          "output_type": "stream",
          "name": "stdout",
          "text": [
            "Peak memory usage during fit function: 9461.21 MiB\n",
            "Peak memory usage during predict function: 9547.14 MiB\n",
            "L1 cache size: 32.00 KiB\n",
            "L2 cache size: 256.00 KiB\n",
            "Memory usage of KNN object and its attributes: 0.00 MiB\n",
            "Resident memory usage of Python process: 9461.21 MiB\n",
            "Virtual memory usage of Python process: 10627.42 MiB\n",
            "CPU usage of Python process: 0.00%\n",
            "Number of threads of Python process: 17\n",
            "Number of open file descriptors of Python process: 53\n"
          ]
        }
      ],
      "source": [
        "KNN_Information(5, 2, tr_images, tr_labels, te_images, te_labels, 90)"
      ]
    },
    {
      "cell_type": "markdown",
      "metadata": {
        "id": "7oZlbuZe4jwZ"
      },
      "source": [
        "### Memory related information for all test images"
      ]
    },
    {
      "cell_type": "code",
      "execution_count": 56,
      "metadata": {
        "colab": {
          "base_uri": "https://localhost:8080/"
        },
        "id": "rC_k2wlj4jwa",
        "outputId": "67d6e272-6c8e-4b12-9dfd-9d9d77551d1a"
      },
      "outputs": [
        {
          "output_type": "stream",
          "name": "stderr",
          "text": [
            "/usr/local/lib/python3.9/dist-packages/sklearn/metrics/pairwise.py:2025: DataConversionWarning: Data was converted to boolean for metric jaccard\n",
            "  warnings.warn(msg, DataConversionWarning)\n",
            "/usr/local/lib/python3.9/dist-packages/sklearn/metrics/pairwise.py:2025: DataConversionWarning: Data was converted to boolean for metric jaccard\n",
            "  warnings.warn(msg, DataConversionWarning)\n",
            "/usr/local/lib/python3.9/dist-packages/sklearn/metrics/pairwise.py:2025: DataConversionWarning: Data was converted to boolean for metric jaccard\n",
            "  warnings.warn(msg, DataConversionWarning)\n",
            "/usr/local/lib/python3.9/dist-packages/sklearn/metrics/pairwise.py:2025: DataConversionWarning: Data was converted to boolean for metric jaccard\n",
            "  warnings.warn(msg, DataConversionWarning)\n",
            "/usr/local/lib/python3.9/dist-packages/sklearn/metrics/pairwise.py:2025: DataConversionWarning: Data was converted to boolean for metric jaccard\n",
            "  warnings.warn(msg, DataConversionWarning)\n"
          ]
        },
        {
          "output_type": "stream",
          "name": "stdout",
          "text": [
            "Peak memory usage during fit function: 9461.21 MiB\n",
            "Peak memory usage during predict function: 11493.12 MiB\n",
            "L1 cache size: 32.00 KiB\n",
            "L2 cache size: 256.00 KiB\n",
            "Memory usage of KNN object and its attributes: 0.00 MiB\n",
            "Resident memory usage of Python process: 9461.16 MiB\n",
            "Virtual memory usage of Python process: 10627.42 MiB\n",
            "CPU usage of Python process: 0.00%\n",
            "Number of threads of Python process: 17\n",
            "Number of open file descriptors of Python process: 53\n"
          ]
        }
      ],
      "source": [
        "KNN_Information(1, 2, tr_images, tr_labels, te_images, te_labels, te_images.shape[0])"
      ]
    },
    {
      "cell_type": "code",
      "execution_count": 57,
      "metadata": {
        "colab": {
          "base_uri": "https://localhost:8080/"
        },
        "id": "XS7wIpvD4jwb",
        "outputId": "1f3c74d6-941e-438b-9a66-186ee7b1237a"
      },
      "outputs": [
        {
          "output_type": "stream",
          "name": "stderr",
          "text": [
            "/usr/local/lib/python3.9/dist-packages/sklearn/metrics/pairwise.py:2025: DataConversionWarning: Data was converted to boolean for metric jaccard\n",
            "  warnings.warn(msg, DataConversionWarning)\n",
            "/usr/local/lib/python3.9/dist-packages/sklearn/metrics/pairwise.py:2025: DataConversionWarning: Data was converted to boolean for metric jaccard\n",
            "  warnings.warn(msg, DataConversionWarning)\n",
            "/usr/local/lib/python3.9/dist-packages/sklearn/metrics/pairwise.py:2025: DataConversionWarning: Data was converted to boolean for metric jaccard\n",
            "  warnings.warn(msg, DataConversionWarning)\n",
            "/usr/local/lib/python3.9/dist-packages/sklearn/metrics/pairwise.py:2025: DataConversionWarning: Data was converted to boolean for metric jaccard\n",
            "  warnings.warn(msg, DataConversionWarning)\n",
            "/usr/local/lib/python3.9/dist-packages/sklearn/metrics/pairwise.py:2025: DataConversionWarning: Data was converted to boolean for metric jaccard\n",
            "  warnings.warn(msg, DataConversionWarning)\n"
          ]
        },
        {
          "output_type": "stream",
          "name": "stdout",
          "text": [
            "Peak memory usage during fit function: 9461.18 MiB\n",
            "Peak memory usage during predict function: 11497.30 MiB\n",
            "L1 cache size: 32.00 KiB\n",
            "L2 cache size: 256.00 KiB\n",
            "Memory usage of KNN object and its attributes: 0.00 MiB\n",
            "Resident memory usage of Python process: 9461.23 MiB\n",
            "Virtual memory usage of Python process: 10627.67 MiB\n",
            "CPU usage of Python process: 0.00%\n",
            "Number of threads of Python process: 17\n",
            "Number of open file descriptors of Python process: 53\n"
          ]
        }
      ],
      "source": [
        "KNN_Information(2, 2, tr_images, tr_labels, te_images, te_labels, te_images.shape[0])"
      ]
    },
    {
      "cell_type": "code",
      "execution_count": 58,
      "metadata": {
        "colab": {
          "base_uri": "https://localhost:8080/"
        },
        "id": "X_Oqhbcw4jwc",
        "outputId": "07ad67a9-1a63-4e91-cdbe-c7201a643500"
      },
      "outputs": [
        {
          "output_type": "stream",
          "name": "stderr",
          "text": [
            "/usr/local/lib/python3.9/dist-packages/sklearn/metrics/pairwise.py:2025: DataConversionWarning: Data was converted to boolean for metric jaccard\n",
            "  warnings.warn(msg, DataConversionWarning)\n",
            "/usr/local/lib/python3.9/dist-packages/sklearn/metrics/pairwise.py:2025: DataConversionWarning: Data was converted to boolean for metric jaccard\n",
            "  warnings.warn(msg, DataConversionWarning)\n",
            "/usr/local/lib/python3.9/dist-packages/sklearn/metrics/pairwise.py:2025: DataConversionWarning: Data was converted to boolean for metric jaccard\n",
            "  warnings.warn(msg, DataConversionWarning)\n",
            "/usr/local/lib/python3.9/dist-packages/sklearn/metrics/pairwise.py:2025: DataConversionWarning: Data was converted to boolean for metric jaccard\n",
            "  warnings.warn(msg, DataConversionWarning)\n",
            "/usr/local/lib/python3.9/dist-packages/sklearn/metrics/pairwise.py:2025: DataConversionWarning: Data was converted to boolean for metric jaccard\n",
            "  warnings.warn(msg, DataConversionWarning)\n"
          ]
        },
        {
          "output_type": "stream",
          "name": "stdout",
          "text": [
            "Peak memory usage during fit function: 9461.23 MiB\n",
            "Peak memory usage during predict function: 11505.33 MiB\n",
            "L1 cache size: 32.00 KiB\n",
            "L2 cache size: 256.00 KiB\n",
            "Memory usage of KNN object and its attributes: 0.00 MiB\n",
            "Resident memory usage of Python process: 9461.27 MiB\n",
            "Virtual memory usage of Python process: 10627.67 MiB\n",
            "CPU usage of Python process: 0.00%\n",
            "Number of threads of Python process: 17\n",
            "Number of open file descriptors of Python process: 53\n"
          ]
        }
      ],
      "source": [
        "KNN_Information(3, 2, tr_images, tr_labels, te_images, te_labels, te_images.shape[0])"
      ]
    },
    {
      "cell_type": "code",
      "execution_count": 59,
      "metadata": {
        "colab": {
          "base_uri": "https://localhost:8080/"
        },
        "id": "EOf4AfT94jwc",
        "outputId": "0e5655a5-c1d8-45ce-c467-48d2f9264579"
      },
      "outputs": [
        {
          "output_type": "stream",
          "name": "stderr",
          "text": [
            "/usr/local/lib/python3.9/dist-packages/sklearn/metrics/pairwise.py:2025: DataConversionWarning: Data was converted to boolean for metric jaccard\n",
            "  warnings.warn(msg, DataConversionWarning)\n",
            "/usr/local/lib/python3.9/dist-packages/sklearn/metrics/pairwise.py:2025: DataConversionWarning: Data was converted to boolean for metric jaccard\n",
            "  warnings.warn(msg, DataConversionWarning)\n",
            "/usr/local/lib/python3.9/dist-packages/sklearn/metrics/pairwise.py:2025: DataConversionWarning: Data was converted to boolean for metric jaccard\n",
            "  warnings.warn(msg, DataConversionWarning)\n",
            "/usr/local/lib/python3.9/dist-packages/sklearn/metrics/pairwise.py:2025: DataConversionWarning: Data was converted to boolean for metric jaccard\n",
            "  warnings.warn(msg, DataConversionWarning)\n",
            "/usr/local/lib/python3.9/dist-packages/sklearn/metrics/pairwise.py:2025: DataConversionWarning: Data was converted to boolean for metric jaccard\n",
            "  warnings.warn(msg, DataConversionWarning)\n"
          ]
        },
        {
          "output_type": "stream",
          "name": "stdout",
          "text": [
            "Peak memory usage during fit function: 9461.27 MiB\n",
            "Peak memory usage during predict function: 11491.36 MiB\n",
            "L1 cache size: 32.00 KiB\n",
            "L2 cache size: 256.00 KiB\n",
            "Memory usage of KNN object and its attributes: 0.00 MiB\n",
            "Resident memory usage of Python process: 9461.30 MiB\n",
            "Virtual memory usage of Python process: 10627.67 MiB\n",
            "CPU usage of Python process: 0.00%\n",
            "Number of threads of Python process: 17\n",
            "Number of open file descriptors of Python process: 53\n"
          ]
        }
      ],
      "source": [
        "KNN_Information(4, 2, tr_images, tr_labels, te_images, te_labels, te_images.shape[0])"
      ]
    },
    {
      "cell_type": "code",
      "execution_count": 60,
      "metadata": {
        "colab": {
          "base_uri": "https://localhost:8080/"
        },
        "id": "XzGHiyAD4jwd",
        "outputId": "58316806-d4d7-4faf-a3b1-2a0b67eb9f77"
      },
      "outputs": [
        {
          "output_type": "stream",
          "name": "stderr",
          "text": [
            "/usr/local/lib/python3.9/dist-packages/sklearn/metrics/pairwise.py:2025: DataConversionWarning: Data was converted to boolean for metric jaccard\n",
            "  warnings.warn(msg, DataConversionWarning)\n",
            "/usr/local/lib/python3.9/dist-packages/sklearn/metrics/pairwise.py:2025: DataConversionWarning: Data was converted to boolean for metric jaccard\n",
            "  warnings.warn(msg, DataConversionWarning)\n",
            "/usr/local/lib/python3.9/dist-packages/sklearn/metrics/pairwise.py:2025: DataConversionWarning: Data was converted to boolean for metric jaccard\n",
            "  warnings.warn(msg, DataConversionWarning)\n",
            "/usr/local/lib/python3.9/dist-packages/sklearn/metrics/pairwise.py:2025: DataConversionWarning: Data was converted to boolean for metric jaccard\n",
            "  warnings.warn(msg, DataConversionWarning)\n",
            "/usr/local/lib/python3.9/dist-packages/sklearn/metrics/pairwise.py:2025: DataConversionWarning: Data was converted to boolean for metric jaccard\n",
            "  warnings.warn(msg, DataConversionWarning)\n"
          ]
        },
        {
          "output_type": "stream",
          "name": "stdout",
          "text": [
            "Peak memory usage during fit function: 9461.30 MiB\n",
            "Peak memory usage during predict function: 11491.41 MiB\n",
            "L1 cache size: 32.00 KiB\n",
            "L2 cache size: 256.00 KiB\n",
            "Memory usage of KNN object and its attributes: 0.00 MiB\n",
            "Resident memory usage of Python process: 9461.34 MiB\n",
            "Virtual memory usage of Python process: 10627.67 MiB\n",
            "CPU usage of Python process: 0.00%\n",
            "Number of threads of Python process: 17\n",
            "Number of open file descriptors of Python process: 53\n"
          ]
        }
      ],
      "source": [
        "KNN_Information(5, 2, tr_images, tr_labels, te_images, te_labels, te_images.shape[0])"
      ]
    },
    {
      "cell_type": "markdown",
      "source": [
        "## With LSH"
      ],
      "metadata": {
        "id": "YHrZZnTTfm2E"
      }
    },
    {
      "cell_type": "markdown",
      "metadata": {
        "id": "FnBY69GVfm2F"
      },
      "source": [
        "### Time and Accuracy"
      ]
    },
    {
      "cell_type": "code",
      "execution_count": 11,
      "metadata": {
        "colab": {
          "base_uri": "https://localhost:8080/"
        },
        "outputId": "60eba363-f7a0-48a0-dc2e-95ee106fca2e",
        "id": "p9bVu0jdfm2F"
      },
      "outputs": [
        {
          "output_type": "stream",
          "name": "stderr",
          "text": [
            "/usr/local/lib/python3.9/dist-packages/sklearn/metrics/pairwise.py:2025: DataConversionWarning: Data was converted to boolean for metric jaccard\n",
            "  warnings.warn(msg, DataConversionWarning)\n"
          ]
        },
        {
          "output_type": "stream",
          "name": "stdout",
          "text": [
            "Time taken to fit KNN model: 0.062479257583618164 seconds\n",
            "              precision    recall  f1-score   support\n",
            "\n",
            "           0       1.00      0.50      0.67         2\n",
            "           1       1.00      1.00      1.00         2\n",
            "           2       0.00      0.00      0.00         1\n",
            "           3       0.00      0.00      0.00         0\n",
            "           4       0.67      1.00      0.80         2\n",
            "           5       0.00      0.00      0.00         1\n",
            "           7       0.50      1.00      0.67         1\n",
            "           8       0.00      0.00      0.00         0\n",
            "           9       1.00      0.50      0.67         2\n",
            "\n",
            "    accuracy                           0.64        11\n",
            "   macro avg       0.46      0.44      0.42        11\n",
            "weighted avg       0.71      0.64      0.63        11\n",
            "\n",
            "Time taken to evaluate KNN model on test portion: 0.05884909629821777 seconds\n",
            "\n"
          ]
        },
        {
          "output_type": "stream",
          "name": "stderr",
          "text": [
            "/usr/local/lib/python3.9/dist-packages/sklearn/metrics/pairwise.py:2025: DataConversionWarning: Data was converted to boolean for metric jaccard\n",
            "  warnings.warn(msg, DataConversionWarning)\n",
            "/usr/local/lib/python3.9/dist-packages/sklearn/metrics/pairwise.py:2025: DataConversionWarning: Data was converted to boolean for metric jaccard\n",
            "  warnings.warn(msg, DataConversionWarning)\n"
          ]
        },
        {
          "output_type": "stream",
          "name": "stdout",
          "text": [
            "Time taken to fit KNN model: 0.008626461029052734 seconds\n",
            "              precision    recall  f1-score   support\n",
            "\n",
            "           0       1.00      1.00      1.00         2\n",
            "           1       0.67      1.00      0.80         2\n",
            "           2       1.00      1.00      1.00         1\n",
            "           4       0.50      0.50      0.50         2\n",
            "           5       0.00      0.00      0.00         1\n",
            "           7       0.00      0.00      0.00         1\n",
            "           9       0.00      0.00      0.00         2\n",
            "\n",
            "    accuracy                           0.55        11\n",
            "   macro avg       0.45      0.50      0.47        11\n",
            "weighted avg       0.48      0.55      0.51        11\n",
            "\n",
            "Time taken to evaluate KNN model on test portion: 0.044309377670288086 seconds\n",
            "\n"
          ]
        },
        {
          "output_type": "stream",
          "name": "stderr",
          "text": [
            "/usr/local/lib/python3.9/dist-packages/sklearn/metrics/pairwise.py:2025: DataConversionWarning: Data was converted to boolean for metric jaccard\n",
            "  warnings.warn(msg, DataConversionWarning)\n",
            "/usr/local/lib/python3.9/dist-packages/sklearn/metrics/pairwise.py:2025: DataConversionWarning: Data was converted to boolean for metric jaccard\n",
            "  warnings.warn(msg, DataConversionWarning)\n"
          ]
        },
        {
          "output_type": "stream",
          "name": "stdout",
          "text": [
            "Time taken to fit KNN model: 0.011032581329345703 seconds\n",
            "              precision    recall  f1-score   support\n",
            "\n",
            "           0       1.00      1.00      1.00         2\n",
            "           1       1.00      1.00      1.00         2\n",
            "           2       1.00      1.00      1.00         1\n",
            "           3       0.00      0.00      0.00         0\n",
            "           4       1.00      0.50      0.67         2\n",
            "           5       1.00      1.00      1.00         1\n",
            "           7       1.00      1.00      1.00         1\n",
            "           9       1.00      1.00      1.00         2\n",
            "\n",
            "    accuracy                           0.91        11\n",
            "   macro avg       0.88      0.81      0.83        11\n",
            "weighted avg       1.00      0.91      0.94        11\n",
            "\n",
            "Time taken to evaluate KNN model on test portion: 0.07232356071472168 seconds\n",
            "\n"
          ]
        },
        {
          "output_type": "stream",
          "name": "stderr",
          "text": [
            "/usr/local/lib/python3.9/dist-packages/sklearn/metrics/pairwise.py:2025: DataConversionWarning: Data was converted to boolean for metric jaccard\n",
            "  warnings.warn(msg, DataConversionWarning)\n",
            "/usr/local/lib/python3.9/dist-packages/sklearn/metrics/pairwise.py:2025: DataConversionWarning: Data was converted to boolean for metric jaccard\n",
            "  warnings.warn(msg, DataConversionWarning)\n"
          ]
        },
        {
          "output_type": "stream",
          "name": "stdout",
          "text": [
            "Time taken to fit KNN model: 0.011839628219604492 seconds\n",
            "              precision    recall  f1-score   support\n",
            "\n",
            "           0       1.00      1.00      1.00         2\n",
            "           1       1.00      1.00      1.00         2\n",
            "           2       0.00      0.00      0.00         1\n",
            "           3       0.00      0.00      0.00         0\n",
            "           4       0.67      1.00      0.80         2\n",
            "           5       0.00      0.00      0.00         1\n",
            "           7       0.50      1.00      0.67         1\n",
            "           8       0.00      0.00      0.00         0\n",
            "           9       0.00      0.00      0.00         2\n",
            "\n",
            "    accuracy                           0.64        11\n",
            "   macro avg       0.35      0.44      0.39        11\n",
            "weighted avg       0.53      0.64      0.57        11\n",
            "\n",
            "Time taken to evaluate KNN model on test portion: 0.07805228233337402 seconds\n",
            "\n"
          ]
        },
        {
          "output_type": "stream",
          "name": "stderr",
          "text": [
            "/usr/local/lib/python3.9/dist-packages/sklearn/metrics/pairwise.py:2025: DataConversionWarning: Data was converted to boolean for metric jaccard\n",
            "  warnings.warn(msg, DataConversionWarning)\n",
            "/usr/local/lib/python3.9/dist-packages/sklearn/metrics/pairwise.py:2025: DataConversionWarning: Data was converted to boolean for metric jaccard\n",
            "  warnings.warn(msg, DataConversionWarning)\n"
          ]
        },
        {
          "output_type": "stream",
          "name": "stdout",
          "text": [
            "Time taken to fit KNN model: 0.008510351181030273 seconds\n",
            "              precision    recall  f1-score   support\n",
            "\n",
            "           0       1.00      1.00      1.00         2\n",
            "           1       1.00      1.00      1.00         2\n",
            "           2       0.50      1.00      0.67         1\n",
            "           3       0.00      0.00      0.00         0\n",
            "           4       0.00      0.00      0.00         2\n",
            "           5       0.00      0.00      0.00         1\n",
            "           7       1.00      1.00      1.00         1\n",
            "           8       0.00      0.00      0.00         0\n",
            "           9       1.00      0.50      0.67         2\n",
            "\n",
            "    accuracy                           0.64        11\n",
            "   macro avg       0.50      0.50      0.48        11\n",
            "weighted avg       0.68      0.64      0.64        11\n",
            "\n",
            "Time taken to evaluate KNN model on test portion: 0.04380178451538086 seconds\n",
            "\n"
          ]
        },
        {
          "output_type": "stream",
          "name": "stderr",
          "text": [
            "/usr/local/lib/python3.9/dist-packages/sklearn/metrics/pairwise.py:2025: DataConversionWarning: Data was converted to boolean for metric jaccard\n",
            "  warnings.warn(msg, DataConversionWarning)\n"
          ]
        }
      ],
      "source": [
        "LSH_KNN(1,2,tr_images,tr_labels,te_images,te_labels,10,40,0.8)\n",
        "LSH_KNN(2,2,tr_images,tr_labels,te_images,te_labels,10,40,0.8)\n",
        "LSH_KNN(3,2,tr_images,tr_labels,te_images,te_labels,10,40,0.8)\n",
        "LSH_KNN(4,2,tr_images,tr_labels,te_images,te_labels,10,40,0.8)\n",
        "LSH_KNN(5,2,tr_images,tr_labels,te_images,te_labels,10,40,0.8)"
      ]
    },
    {
      "cell_type": "code",
      "source": [
        "LSH_KNN(1,2,tr_images,tr_labels,te_images,te_labels,10,40,0.9)\n",
        "LSH_KNN(2,2,tr_images,tr_labels,te_images,te_labels,10,40,0.9)\n",
        "LSH_KNN(3,2,tr_images,tr_labels,te_images,te_labels,10,40,0.9)\n",
        "LSH_KNN(4,2,tr_images,tr_labels,te_images,te_labels,10,40,0.9)\n",
        "LSH_KNN(5,2,tr_images,tr_labels,te_images,te_labels,10,40,0.9)"
      ],
      "metadata": {
        "colab": {
          "base_uri": "https://localhost:8080/"
        },
        "id": "G1e2xTHmg1-P",
        "outputId": "f1c9ed38-ddaa-4e88-9064-bad5c66d1d1f"
      },
      "execution_count": 12,
      "outputs": [
        {
          "output_type": "stream",
          "name": "stderr",
          "text": [
            "/usr/local/lib/python3.9/dist-packages/sklearn/metrics/pairwise.py:2025: DataConversionWarning: Data was converted to boolean for metric jaccard\n",
            "  warnings.warn(msg, DataConversionWarning)\n"
          ]
        },
        {
          "output_type": "stream",
          "name": "stdout",
          "text": [
            "Time taken to fit KNN model: 0.009089946746826172 seconds\n",
            "              precision    recall  f1-score   support\n",
            "\n",
            "           0       1.00      0.50      0.67         2\n",
            "           1       1.00      0.50      0.67         2\n",
            "           2       1.00      1.00      1.00         1\n",
            "           3       0.00      0.00      0.00         0\n",
            "           4       1.00      0.50      0.67         2\n",
            "           5       0.50      1.00      0.67         1\n",
            "           6       0.00      0.00      0.00         0\n",
            "           7       0.50      1.00      0.67         1\n",
            "           8       0.00      0.00      0.00         0\n",
            "           9       0.00      0.00      0.00         2\n",
            "\n",
            "    accuracy                           0.55        11\n",
            "   macro avg       0.50      0.45      0.43        11\n",
            "weighted avg       0.73      0.55      0.58        11\n",
            "\n",
            "Time taken to evaluate KNN model on test portion: 0.037896156311035156 seconds\n",
            "\n"
          ]
        },
        {
          "output_type": "stream",
          "name": "stderr",
          "text": [
            "/usr/local/lib/python3.9/dist-packages/sklearn/metrics/pairwise.py:2025: DataConversionWarning: Data was converted to boolean for metric jaccard\n",
            "  warnings.warn(msg, DataConversionWarning)\n",
            "/usr/local/lib/python3.9/dist-packages/sklearn/metrics/pairwise.py:2025: DataConversionWarning: Data was converted to boolean for metric jaccard\n",
            "  warnings.warn(msg, DataConversionWarning)\n"
          ]
        },
        {
          "output_type": "stream",
          "name": "stdout",
          "text": [
            "Time taken to fit KNN model: 0.008667469024658203 seconds\n",
            "              precision    recall  f1-score   support\n",
            "\n",
            "           0       1.00      1.00      1.00         2\n",
            "           1       1.00      0.50      0.67         2\n",
            "           2       1.00      1.00      1.00         1\n",
            "           4       0.50      0.50      0.50         2\n",
            "           5       0.00      0.00      0.00         1\n",
            "           6       0.00      0.00      0.00         0\n",
            "           7       0.50      1.00      0.67         1\n",
            "           9       1.00      0.50      0.67         2\n",
            "\n",
            "    accuracy                           0.64        11\n",
            "   macro avg       0.62      0.56      0.56        11\n",
            "weighted avg       0.77      0.64      0.67        11\n",
            "\n",
            "Time taken to evaluate KNN model on test portion: 0.046875953674316406 seconds\n",
            "\n"
          ]
        },
        {
          "output_type": "stream",
          "name": "stderr",
          "text": [
            "/usr/local/lib/python3.9/dist-packages/sklearn/metrics/pairwise.py:2025: DataConversionWarning: Data was converted to boolean for metric jaccard\n",
            "  warnings.warn(msg, DataConversionWarning)\n",
            "/usr/local/lib/python3.9/dist-packages/sklearn/metrics/pairwise.py:2025: DataConversionWarning: Data was converted to boolean for metric jaccard\n",
            "  warnings.warn(msg, DataConversionWarning)\n"
          ]
        },
        {
          "output_type": "stream",
          "name": "stdout",
          "text": [
            "Time taken to fit KNN model: 0.011394739151000977 seconds\n",
            "              precision    recall  f1-score   support\n",
            "\n",
            "           0       1.00      0.50      0.67         2\n",
            "           1       1.00      1.00      1.00         2\n",
            "           2       1.00      1.00      1.00         1\n",
            "           3       0.00      0.00      0.00         0\n",
            "           4       1.00      1.00      1.00         2\n",
            "           5       0.00      0.00      0.00         1\n",
            "           7       0.50      1.00      0.67         1\n",
            "           9       1.00      1.00      1.00         2\n",
            "\n",
            "    accuracy                           0.82        11\n",
            "   macro avg       0.69      0.69      0.67        11\n",
            "weighted avg       0.86      0.82      0.82        11\n",
            "\n",
            "Time taken to evaluate KNN model on test portion: 0.07505321502685547 seconds\n",
            "\n"
          ]
        },
        {
          "output_type": "stream",
          "name": "stderr",
          "text": [
            "/usr/local/lib/python3.9/dist-packages/sklearn/metrics/pairwise.py:2025: DataConversionWarning: Data was converted to boolean for metric jaccard\n",
            "  warnings.warn(msg, DataConversionWarning)\n",
            "/usr/local/lib/python3.9/dist-packages/sklearn/metrics/pairwise.py:2025: DataConversionWarning: Data was converted to boolean for metric jaccard\n",
            "  warnings.warn(msg, DataConversionWarning)\n"
          ]
        },
        {
          "output_type": "stream",
          "name": "stdout",
          "text": [
            "Time taken to fit KNN model: 0.008722066879272461 seconds\n",
            "              precision    recall  f1-score   support\n",
            "\n",
            "           0       0.67      1.00      0.80         2\n",
            "           1       1.00      1.00      1.00         2\n",
            "           2       0.50      1.00      0.67         1\n",
            "           4       1.00      1.00      1.00         2\n",
            "           5       0.00      0.00      0.00         1\n",
            "           7       1.00      1.00      1.00         1\n",
            "           9       1.00      0.50      0.67         2\n",
            "\n",
            "    accuracy                           0.82        11\n",
            "   macro avg       0.74      0.79      0.73        11\n",
            "weighted avg       0.80      0.82      0.78        11\n",
            "\n",
            "Time taken to evaluate KNN model on test portion: 0.04538440704345703 seconds\n",
            "\n"
          ]
        },
        {
          "output_type": "stream",
          "name": "stderr",
          "text": [
            "/usr/local/lib/python3.9/dist-packages/sklearn/metrics/pairwise.py:2025: DataConversionWarning: Data was converted to boolean for metric jaccard\n",
            "  warnings.warn(msg, DataConversionWarning)\n",
            "/usr/local/lib/python3.9/dist-packages/sklearn/metrics/pairwise.py:2025: DataConversionWarning: Data was converted to boolean for metric jaccard\n",
            "  warnings.warn(msg, DataConversionWarning)\n"
          ]
        },
        {
          "output_type": "stream",
          "name": "stdout",
          "text": [
            "Time taken to fit KNN model: 0.010109901428222656 seconds\n",
            "              precision    recall  f1-score   support\n",
            "\n",
            "           0       0.67      1.00      0.80         2\n",
            "           1       1.00      1.00      1.00         2\n",
            "           2       1.00      1.00      1.00         1\n",
            "           4       1.00      1.00      1.00         2\n",
            "           5       0.00      0.00      0.00         1\n",
            "           7       1.00      1.00      1.00         1\n",
            "           9       1.00      1.00      1.00         2\n",
            "\n",
            "    accuracy                           0.91        11\n",
            "   macro avg       0.81      0.86      0.83        11\n",
            "weighted avg       0.85      0.91      0.87        11\n",
            "\n",
            "Time taken to evaluate KNN model on test portion: 0.04611659049987793 seconds\n",
            "\n"
          ]
        },
        {
          "output_type": "stream",
          "name": "stderr",
          "text": [
            "/usr/local/lib/python3.9/dist-packages/sklearn/metrics/pairwise.py:2025: DataConversionWarning: Data was converted to boolean for metric jaccard\n",
            "  warnings.warn(msg, DataConversionWarning)\n"
          ]
        }
      ]
    },
    {
      "cell_type": "code",
      "source": [
        "LSH_KNN(1,2,tr_images,tr_labels,te_images,te_labels,10,60,0.8)\n",
        "LSH_KNN(2,2,tr_images,tr_labels,te_images,te_labels,10,60,0.8)\n",
        "LSH_KNN(3,2,tr_images,tr_labels,te_images,te_labels,10,60,0.8)\n",
        "LSH_KNN(4,2,tr_images,tr_labels,te_images,te_labels,10,60,0.8)\n",
        "LSH_KNN(5,2,tr_images,tr_labels,te_images,te_labels,10,60,0.8)"
      ],
      "metadata": {
        "colab": {
          "base_uri": "https://localhost:8080/"
        },
        "id": "5Jp4Rxmug7Lp",
        "outputId": "9bea1d2d-394b-463b-df86-6a34db6af5dd"
      },
      "execution_count": 13,
      "outputs": [
        {
          "output_type": "stream",
          "name": "stderr",
          "text": [
            "/usr/local/lib/python3.9/dist-packages/sklearn/metrics/pairwise.py:2025: DataConversionWarning: Data was converted to boolean for metric jaccard\n",
            "  warnings.warn(msg, DataConversionWarning)\n"
          ]
        },
        {
          "output_type": "stream",
          "name": "stdout",
          "text": [
            "Time taken to fit KNN model: 0.012378215789794922 seconds\n",
            "              precision    recall  f1-score   support\n",
            "\n",
            "           0       1.00      1.00      1.00         2\n",
            "           1       1.00      0.50      0.67         2\n",
            "           2       1.00      1.00      1.00         1\n",
            "           4       0.67      1.00      0.80         2\n",
            "           5       0.00      0.00      0.00         1\n",
            "           6       0.00      0.00      0.00         0\n",
            "           7       0.50      1.00      0.67         1\n",
            "           9       1.00      0.50      0.67         2\n",
            "\n",
            "    accuracy                           0.73        11\n",
            "   macro avg       0.65      0.62      0.60        11\n",
            "weighted avg       0.80      0.73      0.72        11\n",
            "\n",
            "Time taken to evaluate KNN model on test portion: 0.09534525871276855 seconds\n",
            "\n"
          ]
        },
        {
          "output_type": "stream",
          "name": "stderr",
          "text": [
            "/usr/local/lib/python3.9/dist-packages/sklearn/metrics/pairwise.py:2025: DataConversionWarning: Data was converted to boolean for metric jaccard\n",
            "  warnings.warn(msg, DataConversionWarning)\n",
            "/usr/local/lib/python3.9/dist-packages/sklearn/metrics/pairwise.py:2025: DataConversionWarning: Data was converted to boolean for metric jaccard\n",
            "  warnings.warn(msg, DataConversionWarning)\n"
          ]
        },
        {
          "output_type": "stream",
          "name": "stdout",
          "text": [
            "Time taken to fit KNN model: 0.011748313903808594 seconds\n",
            "              precision    recall  f1-score   support\n",
            "\n",
            "           0       1.00      1.00      1.00         2\n",
            "           1       1.00      1.00      1.00         2\n",
            "           2       1.00      1.00      1.00         1\n",
            "           4       1.00      1.00      1.00         2\n",
            "           5       1.00      1.00      1.00         1\n",
            "           7       1.00      1.00      1.00         1\n",
            "           9       1.00      1.00      1.00         2\n",
            "\n",
            "    accuracy                           1.00        11\n",
            "   macro avg       1.00      1.00      1.00        11\n",
            "weighted avg       1.00      1.00      1.00        11\n",
            "\n",
            "Time taken to evaluate KNN model on test portion: 0.06017589569091797 seconds\n",
            "\n"
          ]
        },
        {
          "output_type": "stream",
          "name": "stderr",
          "text": [
            "/usr/local/lib/python3.9/dist-packages/sklearn/metrics/pairwise.py:2025: DataConversionWarning: Data was converted to boolean for metric jaccard\n",
            "  warnings.warn(msg, DataConversionWarning)\n",
            "/usr/local/lib/python3.9/dist-packages/sklearn/metrics/pairwise.py:2025: DataConversionWarning: Data was converted to boolean for metric jaccard\n",
            "  warnings.warn(msg, DataConversionWarning)\n"
          ]
        },
        {
          "output_type": "stream",
          "name": "stdout",
          "text": [
            "Time taken to fit KNN model: 0.013377189636230469 seconds\n",
            "              precision    recall  f1-score   support\n",
            "\n",
            "           0       1.00      1.00      1.00         2\n",
            "           1       1.00      1.00      1.00         2\n",
            "           2       1.00      1.00      1.00         1\n",
            "           4       1.00      1.00      1.00         2\n",
            "           5       1.00      1.00      1.00         1\n",
            "           7       1.00      1.00      1.00         1\n",
            "           9       1.00      1.00      1.00         2\n",
            "\n",
            "    accuracy                           1.00        11\n",
            "   macro avg       1.00      1.00      1.00        11\n",
            "weighted avg       1.00      1.00      1.00        11\n",
            "\n",
            "Time taken to evaluate KNN model on test portion: 0.08991384506225586 seconds\n",
            "\n"
          ]
        },
        {
          "output_type": "stream",
          "name": "stderr",
          "text": [
            "/usr/local/lib/python3.9/dist-packages/sklearn/metrics/pairwise.py:2025: DataConversionWarning: Data was converted to boolean for metric jaccard\n",
            "  warnings.warn(msg, DataConversionWarning)\n",
            "/usr/local/lib/python3.9/dist-packages/sklearn/metrics/pairwise.py:2025: DataConversionWarning: Data was converted to boolean for metric jaccard\n",
            "  warnings.warn(msg, DataConversionWarning)\n"
          ]
        },
        {
          "output_type": "stream",
          "name": "stdout",
          "text": [
            "Time taken to fit KNN model: 0.008639097213745117 seconds\n",
            "              precision    recall  f1-score   support\n",
            "\n",
            "           0       1.00      1.00      1.00         2\n",
            "           1       1.00      1.00      1.00         2\n",
            "           2       0.50      1.00      0.67         1\n",
            "           4       0.67      1.00      0.80         2\n",
            "           5       0.00      0.00      0.00         1\n",
            "           7       0.50      1.00      0.67         1\n",
            "           9       0.00      0.00      0.00         2\n",
            "\n",
            "    accuracy                           0.73        11\n",
            "   macro avg       0.52      0.71      0.59        11\n",
            "weighted avg       0.58      0.73      0.63        11\n",
            "\n",
            "Time taken to evaluate KNN model on test portion: 0.05669355392456055 seconds\n",
            "\n"
          ]
        },
        {
          "output_type": "stream",
          "name": "stderr",
          "text": [
            "/usr/local/lib/python3.9/dist-packages/sklearn/metrics/pairwise.py:2025: DataConversionWarning: Data was converted to boolean for metric jaccard\n",
            "  warnings.warn(msg, DataConversionWarning)\n",
            "/usr/local/lib/python3.9/dist-packages/sklearn/metrics/pairwise.py:2025: DataConversionWarning: Data was converted to boolean for metric jaccard\n",
            "  warnings.warn(msg, DataConversionWarning)\n"
          ]
        },
        {
          "output_type": "stream",
          "name": "stdout",
          "text": [
            "Time taken to fit KNN model: 0.009063005447387695 seconds\n",
            "              precision    recall  f1-score   support\n",
            "\n",
            "           0       1.00      1.00      1.00         2\n",
            "           1       1.00      1.00      1.00         2\n",
            "           2       0.50      1.00      0.67         1\n",
            "           4       0.50      0.50      0.50         2\n",
            "           5       0.00      0.00      0.00         1\n",
            "           6       0.00      0.00      0.00         0\n",
            "           7       1.00      1.00      1.00         1\n",
            "           9       0.00      0.00      0.00         2\n",
            "\n",
            "    accuracy                           0.64        11\n",
            "   macro avg       0.50      0.56      0.52        11\n",
            "weighted avg       0.59      0.64      0.61        11\n",
            "\n",
            "Time taken to evaluate KNN model on test portion: 0.06508612632751465 seconds\n",
            "\n"
          ]
        },
        {
          "output_type": "stream",
          "name": "stderr",
          "text": [
            "/usr/local/lib/python3.9/dist-packages/sklearn/metrics/pairwise.py:2025: DataConversionWarning: Data was converted to boolean for metric jaccard\n",
            "  warnings.warn(msg, DataConversionWarning)\n"
          ]
        }
      ]
    },
    {
      "cell_type": "code",
      "source": [
        "LSH_KNN(1,2,tr_images,tr_labels,te_images,te_labels,10,60,0.9)\n",
        "LSH_KNN(2,2,tr_images,tr_labels,te_images,te_labels,10,60,0.9)\n",
        "LSH_KNN(3,2,tr_images,tr_labels,te_images,te_labels,10,60,0.9)\n",
        "LSH_KNN(4,2,tr_images,tr_labels,te_images,te_labels,10,60,0.9)\n",
        "LSH_KNN(5,2,tr_images,tr_labels,te_images,te_labels,10,60,0.9)"
      ],
      "metadata": {
        "colab": {
          "base_uri": "https://localhost:8080/"
        },
        "id": "VJji5meJhmxP",
        "outputId": "f9d7fc94-cdb5-40b5-cb94-ba1a1b6affca"
      },
      "execution_count": 14,
      "outputs": [
        {
          "output_type": "stream",
          "name": "stderr",
          "text": [
            "/usr/local/lib/python3.9/dist-packages/sklearn/metrics/pairwise.py:2025: DataConversionWarning: Data was converted to boolean for metric jaccard\n",
            "  warnings.warn(msg, DataConversionWarning)\n"
          ]
        },
        {
          "output_type": "stream",
          "name": "stdout",
          "text": [
            "Time taken to fit KNN model: 0.01157236099243164 seconds\n",
            "              precision    recall  f1-score   support\n",
            "\n",
            "           0       1.00      1.00      1.00         2\n",
            "           1       1.00      1.00      1.00         2\n",
            "           2       1.00      1.00      1.00         1\n",
            "           4       0.00      0.00      0.00         2\n",
            "           5       0.00      0.00      0.00         1\n",
            "           7       0.50      1.00      0.67         1\n",
            "           8       0.00      0.00      0.00         0\n",
            "           9       1.00      0.50      0.67         2\n",
            "\n",
            "    accuracy                           0.64        11\n",
            "   macro avg       0.56      0.56      0.54        11\n",
            "weighted avg       0.68      0.64      0.64        11\n",
            "\n",
            "Time taken to evaluate KNN model on test portion: 0.055113792419433594 seconds\n",
            "\n"
          ]
        },
        {
          "output_type": "stream",
          "name": "stderr",
          "text": [
            "/usr/local/lib/python3.9/dist-packages/sklearn/metrics/pairwise.py:2025: DataConversionWarning: Data was converted to boolean for metric jaccard\n",
            "  warnings.warn(msg, DataConversionWarning)\n",
            "/usr/local/lib/python3.9/dist-packages/sklearn/metrics/pairwise.py:2025: DataConversionWarning: Data was converted to boolean for metric jaccard\n",
            "  warnings.warn(msg, DataConversionWarning)\n"
          ]
        },
        {
          "output_type": "stream",
          "name": "stdout",
          "text": [
            "Time taken to fit KNN model: 0.009945392608642578 seconds\n",
            "              precision    recall  f1-score   support\n",
            "\n",
            "           0       1.00      1.00      1.00         2\n",
            "           1       1.00      1.00      1.00         2\n",
            "           2       1.00      1.00      1.00         1\n",
            "           4       1.00      1.00      1.00         2\n",
            "           5       1.00      1.00      1.00         1\n",
            "           7       1.00      1.00      1.00         1\n",
            "           9       1.00      1.00      1.00         2\n",
            "\n",
            "    accuracy                           1.00        11\n",
            "   macro avg       1.00      1.00      1.00        11\n",
            "weighted avg       1.00      1.00      1.00        11\n",
            "\n",
            "Time taken to evaluate KNN model on test portion: 0.05476236343383789 seconds\n",
            "\n"
          ]
        },
        {
          "output_type": "stream",
          "name": "stderr",
          "text": [
            "/usr/local/lib/python3.9/dist-packages/sklearn/metrics/pairwise.py:2025: DataConversionWarning: Data was converted to boolean for metric jaccard\n",
            "  warnings.warn(msg, DataConversionWarning)\n",
            "/usr/local/lib/python3.9/dist-packages/sklearn/metrics/pairwise.py:2025: DataConversionWarning: Data was converted to boolean for metric jaccard\n",
            "  warnings.warn(msg, DataConversionWarning)\n"
          ]
        },
        {
          "output_type": "stream",
          "name": "stdout",
          "text": [
            "Time taken to fit KNN model: 0.012298345565795898 seconds\n",
            "              precision    recall  f1-score   support\n",
            "\n",
            "           0       1.00      1.00      1.00         2\n",
            "           1       1.00      1.00      1.00         2\n",
            "           2       1.00      1.00      1.00         1\n",
            "           4       0.67      1.00      0.80         2\n",
            "           5       0.00      0.00      0.00         1\n",
            "           7       1.00      1.00      1.00         1\n",
            "           9       1.00      1.00      1.00         2\n",
            "\n",
            "    accuracy                           0.91        11\n",
            "   macro avg       0.81      0.86      0.83        11\n",
            "weighted avg       0.85      0.91      0.87        11\n",
            "\n",
            "Time taken to evaluate KNN model on test portion: 0.10210299491882324 seconds\n",
            "\n"
          ]
        },
        {
          "output_type": "stream",
          "name": "stderr",
          "text": [
            "/usr/local/lib/python3.9/dist-packages/sklearn/metrics/pairwise.py:2025: DataConversionWarning: Data was converted to boolean for metric jaccard\n",
            "  warnings.warn(msg, DataConversionWarning)\n",
            "/usr/local/lib/python3.9/dist-packages/sklearn/metrics/pairwise.py:2025: DataConversionWarning: Data was converted to boolean for metric jaccard\n",
            "  warnings.warn(msg, DataConversionWarning)\n"
          ]
        },
        {
          "output_type": "stream",
          "name": "stdout",
          "text": [
            "Time taken to fit KNN model: 0.009916543960571289 seconds\n",
            "              precision    recall  f1-score   support\n",
            "\n",
            "           0       1.00      1.00      1.00         2\n",
            "           1       1.00      1.00      1.00         2\n",
            "           2       1.00      1.00      1.00         1\n",
            "           4       1.00      1.00      1.00         2\n",
            "           5       0.00      0.00      0.00         1\n",
            "           7       0.50      1.00      0.67         1\n",
            "           8       0.00      0.00      0.00         0\n",
            "           9       1.00      0.50      0.67         2\n",
            "\n",
            "    accuracy                           0.82        11\n",
            "   macro avg       0.69      0.69      0.67        11\n",
            "weighted avg       0.86      0.82      0.82        11\n",
            "\n",
            "Time taken to evaluate KNN model on test portion: 0.0588374137878418 seconds\n",
            "\n"
          ]
        },
        {
          "output_type": "stream",
          "name": "stderr",
          "text": [
            "/usr/local/lib/python3.9/dist-packages/sklearn/metrics/pairwise.py:2025: DataConversionWarning: Data was converted to boolean for metric jaccard\n",
            "  warnings.warn(msg, DataConversionWarning)\n",
            "/usr/local/lib/python3.9/dist-packages/sklearn/metrics/pairwise.py:2025: DataConversionWarning: Data was converted to boolean for metric jaccard\n",
            "  warnings.warn(msg, DataConversionWarning)\n"
          ]
        },
        {
          "output_type": "stream",
          "name": "stdout",
          "text": [
            "Time taken to fit KNN model: 0.008753299713134766 seconds\n",
            "              precision    recall  f1-score   support\n",
            "\n",
            "           0       1.00      1.00      1.00         2\n",
            "           1       1.00      1.00      1.00         2\n",
            "           2       1.00      1.00      1.00         1\n",
            "           4       1.00      1.00      1.00         2\n",
            "           5       1.00      1.00      1.00         1\n",
            "           7       1.00      1.00      1.00         1\n",
            "           9       1.00      1.00      1.00         2\n",
            "\n",
            "    accuracy                           1.00        11\n",
            "   macro avg       1.00      1.00      1.00        11\n",
            "weighted avg       1.00      1.00      1.00        11\n",
            "\n",
            "Time taken to evaluate KNN model on test portion: 0.06262540817260742 seconds\n",
            "\n"
          ]
        },
        {
          "output_type": "stream",
          "name": "stderr",
          "text": [
            "/usr/local/lib/python3.9/dist-packages/sklearn/metrics/pairwise.py:2025: DataConversionWarning: Data was converted to boolean for metric jaccard\n",
            "  warnings.warn(msg, DataConversionWarning)\n"
          ]
        }
      ]
    },
    {
      "cell_type": "code",
      "execution_count": 11,
      "metadata": {
        "colab": {
          "base_uri": "https://localhost:8080/"
        },
        "id": "3FdL3nZevUhW",
        "outputId": "29fed3b9-30ac-4536-9ad1-f7535f99391e"
      },
      "outputs": [
        {
          "output_type": "stream",
          "name": "stderr",
          "text": [
            "/usr/local/lib/python3.9/dist-packages/sklearn/metrics/pairwise.py:2025: DataConversionWarning: Data was converted to boolean for metric jaccard\n",
            "  warnings.warn(msg, DataConversionWarning)\n"
          ]
        },
        {
          "output_type": "stream",
          "name": "stdout",
          "text": [
            "Time taken to fit KNN model: 0.03173708915710449 seconds\n"
          ]
        },
        {
          "output_type": "stream",
          "name": "stderr",
          "text": [
            "/usr/local/lib/python3.9/dist-packages/sklearn/metrics/pairwise.py:2025: DataConversionWarning: Data was converted to boolean for metric jaccard\n",
            "  warnings.warn(msg, DataConversionWarning)\n"
          ]
        },
        {
          "output_type": "stream",
          "name": "stdout",
          "text": [
            "              precision    recall  f1-score   support\n",
            "\n",
            "           0       1.00      1.00      1.00         6\n",
            "           1       1.00      0.80      0.89        10\n",
            "           2       0.50      0.40      0.44         5\n",
            "           3       0.50      0.40      0.44         5\n",
            "           4       0.62      0.50      0.56        10\n",
            "           5       0.44      0.57      0.50         7\n",
            "           6       0.50      0.60      0.55         5\n",
            "           7       0.71      0.71      0.71         7\n",
            "           8       0.00      0.00      0.00         0\n",
            "           9       0.29      0.33      0.31         6\n",
            "\n",
            "    accuracy                           0.61        61\n",
            "   macro avg       0.56      0.53      0.54        61\n",
            "weighted avg       0.65      0.61      0.62        61\n",
            "\n",
            "Time taken to evaluate KNN model on test portion: 0.3213772773742676 seconds\n",
            "\n"
          ]
        },
        {
          "output_type": "stream",
          "name": "stderr",
          "text": [
            "/usr/local/lib/python3.9/dist-packages/sklearn/metrics/pairwise.py:2025: DataConversionWarning: Data was converted to boolean for metric jaccard\n",
            "  warnings.warn(msg, DataConversionWarning)\n"
          ]
        },
        {
          "output_type": "stream",
          "name": "stdout",
          "text": [
            "Time taken to fit KNN model: 0.008363008499145508 seconds\n",
            "              precision    recall  f1-score   support\n",
            "\n",
            "           0       0.86      1.00      0.92         6\n",
            "           1       0.83      1.00      0.91        10\n",
            "           2       1.00      0.80      0.89         5\n",
            "           3       1.00      1.00      1.00         5\n",
            "           4       0.73      0.80      0.76        10\n",
            "           5       1.00      0.71      0.83         7\n",
            "           6       0.75      0.60      0.67         5\n",
            "           7       0.78      1.00      0.88         7\n",
            "           9       0.75      0.50      0.60         6\n",
            "\n",
            "    accuracy                           0.84        61\n",
            "   macro avg       0.86      0.82      0.83        61\n",
            "weighted avg       0.84      0.84      0.83        61\n",
            "\n",
            "Time taken to evaluate KNN model on test portion: 0.18094658851623535 seconds\n",
            "\n"
          ]
        },
        {
          "output_type": "stream",
          "name": "stderr",
          "text": [
            "/usr/local/lib/python3.9/dist-packages/sklearn/metrics/pairwise.py:2025: DataConversionWarning: Data was converted to boolean for metric jaccard\n",
            "  warnings.warn(msg, DataConversionWarning)\n",
            "/usr/local/lib/python3.9/dist-packages/sklearn/metrics/pairwise.py:2025: DataConversionWarning: Data was converted to boolean for metric jaccard\n",
            "  warnings.warn(msg, DataConversionWarning)\n"
          ]
        },
        {
          "output_type": "stream",
          "name": "stdout",
          "text": [
            "Time taken to fit KNN model: 0.007195472717285156 seconds\n"
          ]
        },
        {
          "output_type": "stream",
          "name": "stderr",
          "text": [
            "/usr/local/lib/python3.9/dist-packages/sklearn/metrics/pairwise.py:2025: DataConversionWarning: Data was converted to boolean for metric jaccard\n",
            "  warnings.warn(msg, DataConversionWarning)\n"
          ]
        },
        {
          "output_type": "stream",
          "name": "stdout",
          "text": [
            "              precision    recall  f1-score   support\n",
            "\n",
            "           0       0.67      1.00      0.80         6\n",
            "           1       0.91      1.00      0.95        10\n",
            "           2       0.75      0.60      0.67         5\n",
            "           3       0.75      0.60      0.67         5\n",
            "           4       0.83      0.50      0.62        10\n",
            "           5       0.83      0.71      0.77         7\n",
            "           6       0.50      0.40      0.44         5\n",
            "           7       0.75      0.86      0.80         7\n",
            "           8       0.00      0.00      0.00         0\n",
            "           9       0.50      0.67      0.57         6\n",
            "\n",
            "    accuracy                           0.72        61\n",
            "   macro avg       0.65      0.63      0.63        61\n",
            "weighted avg       0.75      0.72      0.72        61\n",
            "\n",
            "Time taken to evaluate KNN model on test portion: 0.21075749397277832 seconds\n",
            "\n"
          ]
        },
        {
          "output_type": "stream",
          "name": "stderr",
          "text": [
            "/usr/local/lib/python3.9/dist-packages/sklearn/metrics/pairwise.py:2025: DataConversionWarning: Data was converted to boolean for metric jaccard\n",
            "  warnings.warn(msg, DataConversionWarning)\n"
          ]
        },
        {
          "output_type": "stream",
          "name": "stdout",
          "text": [
            "Time taken to fit KNN model: 0.007725715637207031 seconds\n"
          ]
        },
        {
          "output_type": "stream",
          "name": "stderr",
          "text": [
            "/usr/local/lib/python3.9/dist-packages/sklearn/metrics/pairwise.py:2025: DataConversionWarning: Data was converted to boolean for metric jaccard\n",
            "  warnings.warn(msg, DataConversionWarning)\n"
          ]
        },
        {
          "output_type": "stream",
          "name": "stdout",
          "text": [
            "              precision    recall  f1-score   support\n",
            "\n",
            "           0       0.83      0.83      0.83         6\n",
            "           1       0.83      1.00      0.91        10\n",
            "           2       1.00      0.60      0.75         5\n",
            "           3       0.75      0.60      0.67         5\n",
            "           4       0.67      0.80      0.73        10\n",
            "           5       0.75      0.43      0.55         7\n",
            "           6       0.83      1.00      0.91         5\n",
            "           7       0.60      0.86      0.71         7\n",
            "           8       0.00      0.00      0.00         0\n",
            "           9       1.00      0.33      0.50         6\n",
            "\n",
            "    accuracy                           0.74        61\n",
            "   macro avg       0.73      0.65      0.65        61\n",
            "weighted avg       0.79      0.74      0.73        61\n",
            "\n",
            "Time taken to evaluate KNN model on test portion: 0.20363998413085938 seconds\n",
            "\n"
          ]
        },
        {
          "output_type": "stream",
          "name": "stderr",
          "text": [
            "/usr/local/lib/python3.9/dist-packages/sklearn/metrics/pairwise.py:2025: DataConversionWarning: Data was converted to boolean for metric jaccard\n",
            "  warnings.warn(msg, DataConversionWarning)\n"
          ]
        },
        {
          "output_type": "stream",
          "name": "stdout",
          "text": [
            "Time taken to fit KNN model: 0.007482290267944336 seconds\n",
            "              precision    recall  f1-score   support\n",
            "\n",
            "           0       1.00      0.83      0.91         6\n",
            "           1       0.82      0.90      0.86        10\n",
            "           2       0.50      0.60      0.55         5\n",
            "           3       1.00      0.60      0.75         5\n",
            "           4       0.50      0.50      0.50        10\n",
            "           5       0.80      0.57      0.67         7\n",
            "           6       0.57      0.80      0.67         5\n",
            "           7       0.71      0.71      0.71         7\n",
            "           9       0.43      0.50      0.46         6\n",
            "\n",
            "    accuracy                           0.67        61\n",
            "   macro avg       0.70      0.67      0.67        61\n",
            "weighted avg       0.70      0.67      0.68        61\n",
            "\n",
            "Time taken to evaluate KNN model on test portion: 0.19919085502624512"
          ]
        },
        {
          "output_type": "stream",
          "name": "stderr",
          "text": [
            "/usr/local/lib/python3.9/dist-packages/sklearn/metrics/pairwise.py:2025: DataConversionWarning: Data was converted to boolean for metric jaccard\n",
            "  warnings.warn(msg, DataConversionWarning)\n"
          ]
        },
        {
          "output_type": "stream",
          "name": "stdout",
          "text": [
            " seconds\n",
            "\n"
          ]
        }
      ],
      "source": [
        "LSH_KNN(1,2,tr_images,tr_labels,te_images,te_labels,60,40,0.8)\n",
        "LSH_KNN(2,2,tr_images,tr_labels,te_images,te_labels,60,40,0.8)\n",
        "LSH_KNN(3,2,tr_images,tr_labels,te_images,te_labels,60,40,0.8)\n",
        "LSH_KNN(4,2,tr_images,tr_labels,te_images,te_labels,60,40,0.8)\n",
        "LSH_KNN(5,2,tr_images,tr_labels,te_images,te_labels,60,40,0.8)"
      ]
    },
    {
      "cell_type": "code",
      "source": [
        "LSH_KNN(1,2,tr_images,tr_labels,te_images,te_labels,60,40,0.9)\n",
        "LSH_KNN(2,2,tr_images,tr_labels,te_images,te_labels,60,40,0.9)\n",
        "LSH_KNN(3,2,tr_images,tr_labels,te_images,te_labels,60,40,0.9)\n",
        "LSH_KNN(4,2,tr_images,tr_labels,te_images,te_labels,60,40,0.9)\n",
        "LSH_KNN(5,2,tr_images,tr_labels,te_images,te_labels,60,40,0.9)"
      ],
      "metadata": {
        "colab": {
          "base_uri": "https://localhost:8080/"
        },
        "id": "ZAZUCfgTvUhW",
        "outputId": "3242dd03-c54e-427b-994b-2c7a89543a4d"
      },
      "execution_count": 16,
      "outputs": [
        {
          "output_type": "stream",
          "name": "stderr",
          "text": [
            "/usr/local/lib/python3.9/dist-packages/sklearn/metrics/pairwise.py:2025: DataConversionWarning: Data was converted to boolean for metric jaccard\n",
            "  warnings.warn(msg, DataConversionWarning)\n"
          ]
        },
        {
          "output_type": "stream",
          "name": "stdout",
          "text": [
            "Time taken to fit KNN model: 0.010791301727294922 seconds\n"
          ]
        },
        {
          "output_type": "stream",
          "name": "stderr",
          "text": [
            "/usr/local/lib/python3.9/dist-packages/sklearn/metrics/pairwise.py:2025: DataConversionWarning: Data was converted to boolean for metric jaccard\n",
            "  warnings.warn(msg, DataConversionWarning)\n"
          ]
        },
        {
          "output_type": "stream",
          "name": "stdout",
          "text": [
            "              precision    recall  f1-score   support\n",
            "\n",
            "           0       0.50      0.83      0.62         6\n",
            "           1       1.00      1.00      1.00        10\n",
            "           2       1.00      0.60      0.75         5\n",
            "           3       0.43      0.60      0.50         5\n",
            "           4       0.50      0.30      0.37        10\n",
            "           5       0.75      0.43      0.55         7\n",
            "           6       0.43      0.60      0.50         5\n",
            "           7       0.83      0.71      0.77         7\n",
            "           8       0.00      0.00      0.00         0\n",
            "           9       0.43      0.50      0.46         6\n",
            "\n",
            "    accuracy                           0.62        61\n",
            "   macro avg       0.59      0.56      0.55        61\n",
            "weighted avg       0.67      0.62      0.63        61\n",
            "\n",
            "Time taken to evaluate KNN model on test portion: 0.328930139541626 seconds\n",
            "\n"
          ]
        },
        {
          "output_type": "stream",
          "name": "stderr",
          "text": [
            "/usr/local/lib/python3.9/dist-packages/sklearn/metrics/pairwise.py:2025: DataConversionWarning: Data was converted to boolean for metric jaccard\n",
            "  warnings.warn(msg, DataConversionWarning)\n"
          ]
        },
        {
          "output_type": "stream",
          "name": "stdout",
          "text": [
            "Time taken to fit KNN model: 0.008661985397338867 seconds\n",
            "              precision    recall  f1-score   support\n",
            "\n",
            "           0       1.00      1.00      1.00         6\n",
            "           1       0.64      0.90      0.75        10\n",
            "           2       0.43      0.60      0.50         5\n",
            "           3       0.50      0.60      0.55         5\n",
            "           4       0.67      0.60      0.63        10\n",
            "           5       1.00      0.57      0.73         7\n",
            "           6       0.50      0.40      0.44         5\n",
            "           7       0.86      0.86      0.86         7\n",
            "           9       1.00      0.67      0.80         6\n",
            "\n",
            "    accuracy                           0.70        61\n",
            "   macro avg       0.73      0.69      0.70        61\n",
            "weighted avg       0.74      0.70      0.71        61\n",
            "\n",
            "Time taken to evaluate KNN model on test portion: 0.18750309944152832 seconds\n",
            "\n"
          ]
        },
        {
          "output_type": "stream",
          "name": "stderr",
          "text": [
            "/usr/local/lib/python3.9/dist-packages/sklearn/metrics/pairwise.py:2025: DataConversionWarning: Data was converted to boolean for metric jaccard\n",
            "  warnings.warn(msg, DataConversionWarning)\n",
            "/usr/local/lib/python3.9/dist-packages/sklearn/metrics/pairwise.py:2025: DataConversionWarning: Data was converted to boolean for metric jaccard\n",
            "  warnings.warn(msg, DataConversionWarning)\n"
          ]
        },
        {
          "output_type": "stream",
          "name": "stdout",
          "text": [
            "Time taken to fit KNN model: 0.00822758674621582 seconds\n",
            "              precision    recall  f1-score   support\n",
            "\n",
            "           0       1.00      1.00      1.00         6\n",
            "           1       0.83      1.00      0.91        10\n",
            "           2       1.00      0.80      0.89         5\n",
            "           3       0.67      0.40      0.50         5\n",
            "           4       0.89      0.80      0.84        10\n",
            "           5       1.00      0.71      0.83         7\n",
            "           6       1.00      1.00      1.00         5\n",
            "           7       0.70      1.00      0.82         7\n",
            "           8       0.00      0.00      0.00         0\n",
            "           9       0.60      0.50      0.55         6\n",
            "\n",
            "    accuracy                           0.82        61\n",
            "   macro avg       0.77      0.72      0.73        61\n",
            "weighted avg       0.85      0.82      0.83        61\n",
            "\n",
            "Time taken to evaluate KNN model on test portion: 0.19844436645507812 "
          ]
        },
        {
          "output_type": "stream",
          "name": "stderr",
          "text": [
            "/usr/local/lib/python3.9/dist-packages/sklearn/metrics/pairwise.py:2025: DataConversionWarning: Data was converted to boolean for metric jaccard\n",
            "  warnings.warn(msg, DataConversionWarning)\n"
          ]
        },
        {
          "output_type": "stream",
          "name": "stdout",
          "text": [
            "seconds\n",
            "\n"
          ]
        },
        {
          "output_type": "stream",
          "name": "stderr",
          "text": [
            "/usr/local/lib/python3.9/dist-packages/sklearn/metrics/pairwise.py:2025: DataConversionWarning: Data was converted to boolean for metric jaccard\n",
            "  warnings.warn(msg, DataConversionWarning)\n"
          ]
        },
        {
          "output_type": "stream",
          "name": "stdout",
          "text": [
            "Time taken to fit KNN model: 0.008402585983276367 seconds\n"
          ]
        },
        {
          "output_type": "stream",
          "name": "stderr",
          "text": [
            "/usr/local/lib/python3.9/dist-packages/sklearn/metrics/pairwise.py:2025: DataConversionWarning: Data was converted to boolean for metric jaccard\n",
            "  warnings.warn(msg, DataConversionWarning)\n"
          ]
        },
        {
          "output_type": "stream",
          "name": "stdout",
          "text": [
            "              precision    recall  f1-score   support\n",
            "\n",
            "           0       0.50      0.83      0.62         6\n",
            "           1       0.91      1.00      0.95        10\n",
            "           2       0.50      0.60      0.55         5\n",
            "           3       0.75      0.60      0.67         5\n",
            "           4       0.89      0.80      0.84        10\n",
            "           5       0.60      0.43      0.50         7\n",
            "           6       0.50      0.40      0.44         5\n",
            "           7       0.75      0.86      0.80         7\n",
            "           8       0.00      0.00      0.00         0\n",
            "           9       0.67      0.33      0.44         6\n",
            "\n",
            "    accuracy                           0.69        61\n",
            "   macro avg       0.61      0.59      0.58        61\n",
            "weighted avg       0.71      0.69      0.68        61\n",
            "\n",
            "Time taken to evaluate KNN model on test portion: 0.2171328067779541 seconds\n",
            "\n"
          ]
        },
        {
          "output_type": "stream",
          "name": "stderr",
          "text": [
            "/usr/local/lib/python3.9/dist-packages/sklearn/metrics/pairwise.py:2025: DataConversionWarning: Data was converted to boolean for metric jaccard\n",
            "  warnings.warn(msg, DataConversionWarning)\n"
          ]
        },
        {
          "output_type": "stream",
          "name": "stdout",
          "text": [
            "Time taken to fit KNN model: 0.011789083480834961 seconds\n"
          ]
        },
        {
          "output_type": "stream",
          "name": "stderr",
          "text": [
            "/usr/local/lib/python3.9/dist-packages/sklearn/metrics/pairwise.py:2025: DataConversionWarning: Data was converted to boolean for metric jaccard\n",
            "  warnings.warn(msg, DataConversionWarning)\n"
          ]
        },
        {
          "output_type": "stream",
          "name": "stdout",
          "text": [
            "              precision    recall  f1-score   support\n",
            "\n",
            "           0       0.83      0.83      0.83         6\n",
            "           1       1.00      0.90      0.95        10\n",
            "           2       0.67      0.80      0.73         5\n",
            "           3       0.67      0.80      0.73         5\n",
            "           4       0.89      0.80      0.84        10\n",
            "           5       0.88      1.00      0.93         7\n",
            "           6       1.00      0.80      0.89         5\n",
            "           7       0.67      0.57      0.62         7\n",
            "           9       0.71      0.83      0.77         6\n",
            "\n",
            "    accuracy                           0.82        61\n",
            "   macro avg       0.81      0.82      0.81        61\n",
            "weighted avg       0.83      0.82      0.82        61\n",
            "\n",
            "Time taken to evaluate KNN model on test portion: 0.3822958469390869 seconds\n",
            "\n"
          ]
        }
      ]
    },
    {
      "cell_type": "code",
      "source": [
        "LSH_KNN(1,2,tr_images,tr_labels,te_images,te_labels,60,60,0.8)\n",
        "LSH_KNN(2,2,tr_images,tr_labels,te_images,te_labels,60,60,0.8)\n",
        "LSH_KNN(3,2,tr_images,tr_labels,te_images,te_labels,60,60,0.8)\n",
        "LSH_KNN(4,2,tr_images,tr_labels,te_images,te_labels,60,60,0.8)\n",
        "LSH_KNN(5,2,tr_images,tr_labels,te_images,te_labels,60,60,0.8)"
      ],
      "metadata": {
        "colab": {
          "base_uri": "https://localhost:8080/"
        },
        "id": "nycZby-GvUhW",
        "outputId": "9b85a620-23e0-4c25-a045-af4c3780c835"
      },
      "execution_count": 17,
      "outputs": [
        {
          "output_type": "stream",
          "name": "stderr",
          "text": [
            "/usr/local/lib/python3.9/dist-packages/sklearn/metrics/pairwise.py:2025: DataConversionWarning: Data was converted to boolean for metric jaccard\n",
            "  warnings.warn(msg, DataConversionWarning)\n"
          ]
        },
        {
          "output_type": "stream",
          "name": "stdout",
          "text": [
            "Time taken to fit KNN model: 0.011161565780639648 seconds\n"
          ]
        },
        {
          "output_type": "stream",
          "name": "stderr",
          "text": [
            "/usr/local/lib/python3.9/dist-packages/sklearn/metrics/pairwise.py:2025: DataConversionWarning: Data was converted to boolean for metric jaccard\n",
            "  warnings.warn(msg, DataConversionWarning)\n"
          ]
        },
        {
          "output_type": "stream",
          "name": "stdout",
          "text": [
            "              precision    recall  f1-score   support\n",
            "\n",
            "           0       0.75      0.50      0.60         6\n",
            "           1       1.00      1.00      1.00        10\n",
            "           2       1.00      0.80      0.89         5\n",
            "           3       0.57      0.80      0.67         5\n",
            "           4       0.60      0.60      0.60        10\n",
            "           5       0.80      0.57      0.67         7\n",
            "           6       0.80      0.80      0.80         5\n",
            "           7       0.88      1.00      0.93         7\n",
            "           8       0.00      0.00      0.00         0\n",
            "           9       0.50      0.50      0.50         6\n",
            "\n",
            "    accuracy                           0.74        61\n",
            "   macro avg       0.69      0.66      0.67        61\n",
            "weighted avg       0.77      0.74      0.75        61\n",
            "\n",
            "Time taken to evaluate KNN model on test portion: 0.2576746940612793 seconds\n",
            "\n"
          ]
        },
        {
          "output_type": "stream",
          "name": "stderr",
          "text": [
            "/usr/local/lib/python3.9/dist-packages/sklearn/metrics/pairwise.py:2025: DataConversionWarning: Data was converted to boolean for metric jaccard\n",
            "  warnings.warn(msg, DataConversionWarning)\n"
          ]
        },
        {
          "output_type": "stream",
          "name": "stdout",
          "text": [
            "Time taken to fit KNN model: 0.013594627380371094 seconds\n"
          ]
        },
        {
          "output_type": "stream",
          "name": "stderr",
          "text": [
            "/usr/local/lib/python3.9/dist-packages/sklearn/metrics/pairwise.py:2025: DataConversionWarning: Data was converted to boolean for metric jaccard\n",
            "  warnings.warn(msg, DataConversionWarning)\n"
          ]
        },
        {
          "output_type": "stream",
          "name": "stdout",
          "text": [
            "              precision    recall  f1-score   support\n",
            "\n",
            "           0       1.00      0.83      0.91         6\n",
            "           1       0.91      1.00      0.95        10\n",
            "           2       1.00      0.80      0.89         5\n",
            "           3       0.50      0.80      0.62         5\n",
            "           4       0.83      1.00      0.91        10\n",
            "           5       0.67      0.29      0.40         7\n",
            "           6       1.00      1.00      1.00         5\n",
            "           7       1.00      1.00      1.00         7\n",
            "           9       0.83      0.83      0.83         6\n",
            "\n",
            "    accuracy                           0.85        61\n",
            "   macro avg       0.86      0.84      0.83        61\n",
            "weighted avg       0.86      0.85      0.84        61\n",
            "\n",
            "Time taken to evaluate KNN model on test portion: 0.44847750663757324 seconds\n",
            "\n"
          ]
        },
        {
          "output_type": "stream",
          "name": "stderr",
          "text": [
            "/usr/local/lib/python3.9/dist-packages/sklearn/metrics/pairwise.py:2025: DataConversionWarning: Data was converted to boolean for metric jaccard\n",
            "  warnings.warn(msg, DataConversionWarning)\n"
          ]
        },
        {
          "output_type": "stream",
          "name": "stdout",
          "text": [
            "Time taken to fit KNN model: 0.00963735580444336 seconds\n"
          ]
        },
        {
          "output_type": "stream",
          "name": "stderr",
          "text": [
            "/usr/local/lib/python3.9/dist-packages/sklearn/metrics/pairwise.py:2025: DataConversionWarning: Data was converted to boolean for metric jaccard\n",
            "  warnings.warn(msg, DataConversionWarning)\n"
          ]
        },
        {
          "output_type": "stream",
          "name": "stdout",
          "text": [
            "              precision    recall  f1-score   support\n",
            "\n",
            "           0       1.00      1.00      1.00         6\n",
            "           1       1.00      1.00      1.00        10\n",
            "           2       0.80      0.80      0.80         5\n",
            "           3       1.00      0.60      0.75         5\n",
            "           4       0.86      0.60      0.71        10\n",
            "           5       0.70      1.00      0.82         7\n",
            "           6       1.00      1.00      1.00         5\n",
            "           7       0.88      1.00      0.93         7\n",
            "           9       0.57      0.67      0.62         6\n",
            "\n",
            "    accuracy                           0.85        61\n",
            "   macro avg       0.87      0.85      0.85        61\n",
            "weighted avg       0.87      0.85      0.85        61\n",
            "\n",
            "Time taken to evaluate KNN model on test portion: 0.2664968967437744 seconds\n",
            "\n"
          ]
        },
        {
          "output_type": "stream",
          "name": "stderr",
          "text": [
            "/usr/local/lib/python3.9/dist-packages/sklearn/metrics/pairwise.py:2025: DataConversionWarning: Data was converted to boolean for metric jaccard\n",
            "  warnings.warn(msg, DataConversionWarning)\n"
          ]
        },
        {
          "output_type": "stream",
          "name": "stdout",
          "text": [
            "Time taken to fit KNN model: 0.012609243392944336 seconds\n"
          ]
        },
        {
          "output_type": "stream",
          "name": "stderr",
          "text": [
            "/usr/local/lib/python3.9/dist-packages/sklearn/metrics/pairwise.py:2025: DataConversionWarning: Data was converted to boolean for metric jaccard\n",
            "  warnings.warn(msg, DataConversionWarning)\n"
          ]
        },
        {
          "output_type": "stream",
          "name": "stdout",
          "text": [
            "              precision    recall  f1-score   support\n",
            "\n",
            "           0       1.00      1.00      1.00         6\n",
            "           1       0.91      1.00      0.95        10\n",
            "           2       1.00      0.80      0.89         5\n",
            "           3       0.67      0.80      0.73         5\n",
            "           4       0.90      0.90      0.90        10\n",
            "           5       1.00      0.71      0.83         7\n",
            "           6       0.71      1.00      0.83         5\n",
            "           7       1.00      0.71      0.83         7\n",
            "           9       0.86      1.00      0.92         6\n",
            "\n",
            "    accuracy                           0.89        61\n",
            "   macro avg       0.89      0.88      0.88        61\n",
            "weighted avg       0.90      0.89      0.88        61\n",
            "\n",
            "Time taken to evaluate KNN model on test portion: 0.4830954074859619 seconds\n",
            "\n"
          ]
        },
        {
          "output_type": "stream",
          "name": "stderr",
          "text": [
            "/usr/local/lib/python3.9/dist-packages/sklearn/metrics/pairwise.py:2025: DataConversionWarning: Data was converted to boolean for metric jaccard\n",
            "  warnings.warn(msg, DataConversionWarning)\n"
          ]
        },
        {
          "output_type": "stream",
          "name": "stdout",
          "text": [
            "Time taken to fit KNN model: 0.010962247848510742 seconds\n"
          ]
        },
        {
          "output_type": "stream",
          "name": "stderr",
          "text": [
            "/usr/local/lib/python3.9/dist-packages/sklearn/metrics/pairwise.py:2025: DataConversionWarning: Data was converted to boolean for metric jaccard\n",
            "  warnings.warn(msg, DataConversionWarning)\n"
          ]
        },
        {
          "output_type": "stream",
          "name": "stdout",
          "text": [
            "              precision    recall  f1-score   support\n",
            "\n",
            "           0       1.00      0.50      0.67         6\n",
            "           1       0.77      1.00      0.87        10\n",
            "           2       0.67      0.80      0.73         5\n",
            "           3       0.43      0.60      0.50         5\n",
            "           4       0.64      0.70      0.67        10\n",
            "           5       1.00      0.29      0.44         7\n",
            "           6       1.00      0.60      0.75         5\n",
            "           7       0.70      1.00      0.82         7\n",
            "           8       0.00      0.00      0.00         0\n",
            "           9       0.50      0.33      0.40         6\n",
            "\n",
            "    accuracy                           0.67        61\n",
            "   macro avg       0.67      0.58      0.58        61\n",
            "weighted avg       0.74      0.67      0.66        61\n",
            "\n",
            "Time taken to evaluate KNN model on test portion: 0.28705596923828125 seconds\n",
            "\n"
          ]
        }
      ]
    },
    {
      "cell_type": "code",
      "source": [
        "LSH_KNN(1,2,tr_images,tr_labels,te_images,te_labels,60,60,0.9)\n",
        "LSH_KNN(2,2,tr_images,tr_labels,te_images,te_labels,60,60,0.9)\n",
        "LSH_KNN(3,2,tr_images,tr_labels,te_images,te_labels,60,60,0.9)\n",
        "LSH_KNN(4,2,tr_images,tr_labels,te_images,te_labels,60,60,0.9)\n",
        "LSH_KNN(5,2,tr_images,tr_labels,te_images,te_labels,60,60,0.9)"
      ],
      "metadata": {
        "colab": {
          "base_uri": "https://localhost:8080/"
        },
        "id": "RLre9CqmvUhW",
        "outputId": "320d8370-5df4-4353-e67e-6c5dfce89be4"
      },
      "execution_count": 18,
      "outputs": [
        {
          "output_type": "stream",
          "name": "stderr",
          "text": [
            "/usr/local/lib/python3.9/dist-packages/sklearn/metrics/pairwise.py:2025: DataConversionWarning: Data was converted to boolean for metric jaccard\n",
            "  warnings.warn(msg, DataConversionWarning)\n"
          ]
        },
        {
          "output_type": "stream",
          "name": "stdout",
          "text": [
            "Time taken to fit KNN model: 0.011441707611083984 seconds\n"
          ]
        },
        {
          "output_type": "stream",
          "name": "stderr",
          "text": [
            "/usr/local/lib/python3.9/dist-packages/sklearn/metrics/pairwise.py:2025: DataConversionWarning: Data was converted to boolean for metric jaccard\n",
            "  warnings.warn(msg, DataConversionWarning)\n"
          ]
        },
        {
          "output_type": "stream",
          "name": "stdout",
          "text": [
            "              precision    recall  f1-score   support\n",
            "\n",
            "           0       1.00      1.00      1.00         6\n",
            "           1       0.77      1.00      0.87        10\n",
            "           2       0.75      0.60      0.67         5\n",
            "           3       0.75      0.60      0.67         5\n",
            "           4       0.71      0.50      0.59        10\n",
            "           5       1.00      0.86      0.92         7\n",
            "           6       0.75      0.60      0.67         5\n",
            "           7       1.00      1.00      1.00         7\n",
            "           9       0.60      1.00      0.75         6\n",
            "\n",
            "    accuracy                           0.80        61\n",
            "   macro avg       0.81      0.80      0.79        61\n",
            "weighted avg       0.81      0.80      0.80        61\n",
            "\n",
            "Time taken to evaluate KNN model on test portion: 0.24327516555786133 seconds\n",
            "\n"
          ]
        },
        {
          "output_type": "stream",
          "name": "stderr",
          "text": [
            "/usr/local/lib/python3.9/dist-packages/sklearn/metrics/pairwise.py:2025: DataConversionWarning: Data was converted to boolean for metric jaccard\n",
            "  warnings.warn(msg, DataConversionWarning)\n"
          ]
        },
        {
          "output_type": "stream",
          "name": "stdout",
          "text": [
            "Time taken to fit KNN model: 0.008426427841186523 seconds\n"
          ]
        },
        {
          "output_type": "stream",
          "name": "stderr",
          "text": [
            "/usr/local/lib/python3.9/dist-packages/sklearn/metrics/pairwise.py:2025: DataConversionWarning: Data was converted to boolean for metric jaccard\n",
            "  warnings.warn(msg, DataConversionWarning)\n"
          ]
        },
        {
          "output_type": "stream",
          "name": "stdout",
          "text": [
            "              precision    recall  f1-score   support\n",
            "\n",
            "           0       0.86      1.00      0.92         6\n",
            "           1       0.91      1.00      0.95        10\n",
            "           2       0.60      0.60      0.60         5\n",
            "           3       0.33      0.40      0.36         5\n",
            "           4       0.73      0.80      0.76        10\n",
            "           5       0.67      0.57      0.62         7\n",
            "           6       0.75      0.60      0.67         5\n",
            "           7       0.78      1.00      0.88         7\n",
            "           9       1.00      0.33      0.50         6\n",
            "\n",
            "    accuracy                           0.74        61\n",
            "   macro avg       0.74      0.70      0.70        61\n",
            "weighted avg       0.75      0.74      0.73        61\n",
            "\n",
            "Time taken to evaluate KNN model on test portion: 0.257662296295166 seconds\n",
            "\n"
          ]
        },
        {
          "output_type": "stream",
          "name": "stderr",
          "text": [
            "/usr/local/lib/python3.9/dist-packages/sklearn/metrics/pairwise.py:2025: DataConversionWarning: Data was converted to boolean for metric jaccard\n",
            "  warnings.warn(msg, DataConversionWarning)\n"
          ]
        },
        {
          "output_type": "stream",
          "name": "stdout",
          "text": [
            "Time taken to fit KNN model: 0.01153111457824707 seconds\n"
          ]
        },
        {
          "output_type": "stream",
          "name": "stderr",
          "text": [
            "/usr/local/lib/python3.9/dist-packages/sklearn/metrics/pairwise.py:2025: DataConversionWarning: Data was converted to boolean for metric jaccard\n",
            "  warnings.warn(msg, DataConversionWarning)\n"
          ]
        },
        {
          "output_type": "stream",
          "name": "stdout",
          "text": [
            "              precision    recall  f1-score   support\n",
            "\n",
            "           0       0.86      1.00      0.92         6\n",
            "           1       0.77      1.00      0.87        10\n",
            "           2       1.00      0.60      0.75         5\n",
            "           3       0.67      0.40      0.50         5\n",
            "           4       1.00      0.90      0.95        10\n",
            "           5       0.71      0.71      0.71         7\n",
            "           6       1.00      1.00      1.00         5\n",
            "           7       0.88      1.00      0.93         7\n",
            "           9       0.83      0.83      0.83         6\n",
            "\n",
            "    accuracy                           0.85        61\n",
            "   macro avg       0.86      0.83      0.83        61\n",
            "weighted avg       0.86      0.85      0.84        61\n",
            "\n",
            "Time taken to evaluate KNN model on test portion: 0.2748267650604248 seconds\n",
            "\n"
          ]
        },
        {
          "output_type": "stream",
          "name": "stderr",
          "text": [
            "/usr/local/lib/python3.9/dist-packages/sklearn/metrics/pairwise.py:2025: DataConversionWarning: Data was converted to boolean for metric jaccard\n",
            "  warnings.warn(msg, DataConversionWarning)\n"
          ]
        },
        {
          "output_type": "stream",
          "name": "stdout",
          "text": [
            "Time taken to fit KNN model: 0.011243581771850586 seconds\n"
          ]
        },
        {
          "output_type": "stream",
          "name": "stderr",
          "text": [
            "/usr/local/lib/python3.9/dist-packages/sklearn/metrics/pairwise.py:2025: DataConversionWarning: Data was converted to boolean for metric jaccard\n",
            "  warnings.warn(msg, DataConversionWarning)\n"
          ]
        },
        {
          "output_type": "stream",
          "name": "stdout",
          "text": [
            "              precision    recall  f1-score   support\n",
            "\n",
            "           0       1.00      1.00      1.00         6\n",
            "           1       1.00      1.00      1.00        10\n",
            "           2       0.80      0.80      0.80         5\n",
            "           3       0.50      0.60      0.55         5\n",
            "           4       0.89      0.80      0.84        10\n",
            "           5       0.83      0.71      0.77         7\n",
            "           6       0.83      1.00      0.91         5\n",
            "           7       1.00      1.00      1.00         7\n",
            "           9       0.83      0.83      0.83         6\n",
            "\n",
            "    accuracy                           0.87        61\n",
            "   macro avg       0.85      0.86      0.86        61\n",
            "weighted avg       0.88      0.87      0.87        61\n",
            "\n",
            "Time taken to evaluate KNN model on test portion: 0.4610023498535156 seconds\n",
            "\n"
          ]
        },
        {
          "output_type": "stream",
          "name": "stderr",
          "text": [
            "/usr/local/lib/python3.9/dist-packages/sklearn/metrics/pairwise.py:2025: DataConversionWarning: Data was converted to boolean for metric jaccard\n",
            "  warnings.warn(msg, DataConversionWarning)\n"
          ]
        },
        {
          "output_type": "stream",
          "name": "stdout",
          "text": [
            "Time taken to fit KNN model: 0.010412216186523438 seconds\n"
          ]
        },
        {
          "output_type": "stream",
          "name": "stderr",
          "text": [
            "/usr/local/lib/python3.9/dist-packages/sklearn/metrics/pairwise.py:2025: DataConversionWarning: Data was converted to boolean for metric jaccard\n",
            "  warnings.warn(msg, DataConversionWarning)\n"
          ]
        },
        {
          "output_type": "stream",
          "name": "stdout",
          "text": [
            "              precision    recall  f1-score   support\n",
            "\n",
            "           0       0.86      1.00      0.92         6\n",
            "           1       0.90      0.90      0.90        10\n",
            "           2       1.00      0.60      0.75         5\n",
            "           3       1.00      0.60      0.75         5\n",
            "           4       0.67      0.80      0.73        10\n",
            "           5       0.83      0.71      0.77         7\n",
            "           6       0.83      1.00      0.91         5\n",
            "           7       0.75      0.86      0.80         7\n",
            "           8       0.00      0.00      0.00         0\n",
            "           9       0.60      0.50      0.55         6\n",
            "\n",
            "    accuracy                           0.79        61\n",
            "   macro avg       0.74      0.70      0.71        61\n",
            "weighted avg       0.81      0.79      0.79        61\n",
            "\n",
            "Time taken to evaluate KNN model on test portion: 0.2788262367248535 seconds\n",
            "\n"
          ]
        }
      ]
    },
    {
      "cell_type": "code",
      "execution_count": 19,
      "metadata": {
        "colab": {
          "base_uri": "https://localhost:8080/"
        },
        "id": "YMk8ksCgvdWI",
        "outputId": "917bdec4-03c5-4a60-cbd7-62db98d8cf31"
      },
      "outputs": [
        {
          "output_type": "stream",
          "name": "stderr",
          "text": [
            "/usr/local/lib/python3.9/dist-packages/sklearn/metrics/pairwise.py:2025: DataConversionWarning: Data was converted to boolean for metric jaccard\n",
            "  warnings.warn(msg, DataConversionWarning)\n"
          ]
        },
        {
          "output_type": "stream",
          "name": "stdout",
          "text": [
            "Time taken to fit KNN model: 0.00838780403137207 seconds\n"
          ]
        },
        {
          "output_type": "stream",
          "name": "stderr",
          "text": [
            "/usr/local/lib/python3.9/dist-packages/sklearn/metrics/pairwise.py:2025: DataConversionWarning: Data was converted to boolean for metric jaccard\n",
            "  warnings.warn(msg, DataConversionWarning)\n"
          ]
        },
        {
          "output_type": "stream",
          "name": "stdout",
          "text": [
            "              precision    recall  f1-score   support\n",
            "\n",
            "           0       0.57      0.50      0.53         8\n",
            "           1       0.64      0.58      0.61        12\n",
            "           2       0.50      0.38      0.43         8\n",
            "           3       0.71      0.50      0.59        10\n",
            "           4       0.76      1.00      0.87        13\n",
            "           5       0.60      0.43      0.50         7\n",
            "           6       0.46      0.75      0.57         8\n",
            "           7       0.62      0.57      0.59        14\n",
            "           8       0.50      0.50      0.50         2\n",
            "           9       0.30      0.33      0.32         9\n",
            "\n",
            "    accuracy                           0.58        91\n",
            "   macro avg       0.57      0.55      0.55        91\n",
            "weighted avg       0.59      0.58      0.58        91\n",
            "\n",
            "Time taken to evaluate KNN model on test portion: 0.2519650459289551 seconds\n",
            "\n"
          ]
        },
        {
          "output_type": "stream",
          "name": "stderr",
          "text": [
            "/usr/local/lib/python3.9/dist-packages/sklearn/metrics/pairwise.py:2025: DataConversionWarning: Data was converted to boolean for metric jaccard\n",
            "  warnings.warn(msg, DataConversionWarning)\n"
          ]
        },
        {
          "output_type": "stream",
          "name": "stdout",
          "text": [
            "Time taken to fit KNN model: 0.010099411010742188 seconds\n"
          ]
        },
        {
          "output_type": "stream",
          "name": "stderr",
          "text": [
            "/usr/local/lib/python3.9/dist-packages/sklearn/metrics/pairwise.py:2025: DataConversionWarning: Data was converted to boolean for metric jaccard\n",
            "  warnings.warn(msg, DataConversionWarning)\n"
          ]
        },
        {
          "output_type": "stream",
          "name": "stdout",
          "text": [
            "              precision    recall  f1-score   support\n",
            "\n",
            "           0       0.56      0.62      0.59         8\n",
            "           1       0.52      1.00      0.69        12\n",
            "           2       0.36      0.50      0.42         8\n",
            "           3       0.80      0.40      0.53        10\n",
            "           4       0.56      0.38      0.45        13\n",
            "           5       0.40      0.57      0.47         7\n",
            "           6       1.00      0.75      0.86         8\n",
            "           7       0.67      0.71      0.69        14\n",
            "           8       0.00      0.00      0.00         2\n",
            "           9       1.00      0.22      0.36         9\n",
            "\n",
            "    accuracy                           0.57        91\n",
            "   macro avg       0.59      0.52      0.51        91\n",
            "weighted avg       0.64      0.57      0.56        91\n",
            "\n",
            "Time taken to evaluate KNN model on test portion: 0.4972529411315918 seconds\n",
            "\n"
          ]
        },
        {
          "output_type": "stream",
          "name": "stderr",
          "text": [
            "/usr/local/lib/python3.9/dist-packages/sklearn/metrics/pairwise.py:2025: DataConversionWarning: Data was converted to boolean for metric jaccard\n",
            "  warnings.warn(msg, DataConversionWarning)\n"
          ]
        },
        {
          "output_type": "stream",
          "name": "stdout",
          "text": [
            "Time taken to fit KNN model: 0.00830531120300293 seconds\n"
          ]
        },
        {
          "output_type": "stream",
          "name": "stderr",
          "text": [
            "/usr/local/lib/python3.9/dist-packages/sklearn/metrics/pairwise.py:2025: DataConversionWarning: Data was converted to boolean for metric jaccard\n",
            "  warnings.warn(msg, DataConversionWarning)\n"
          ]
        },
        {
          "output_type": "stream",
          "name": "stdout",
          "text": [
            "              precision    recall  f1-score   support\n",
            "\n",
            "           0       0.73      1.00      0.84         8\n",
            "           1       0.77      0.83      0.80        12\n",
            "           2       0.56      0.62      0.59         8\n",
            "           3       0.80      0.80      0.80        10\n",
            "           4       0.90      0.69      0.78        13\n",
            "           5       0.40      0.29      0.33         7\n",
            "           6       0.86      0.75      0.80         8\n",
            "           7       0.67      0.57      0.62        14\n",
            "           8       0.00      0.00      0.00         2\n",
            "           9       0.46      0.67      0.55         9\n",
            "\n",
            "    accuracy                           0.68        91\n",
            "   macro avg       0.61      0.62      0.61        91\n",
            "weighted avg       0.69      0.68      0.68        91\n",
            "\n",
            "Time taken to evaluate KNN model on test portion: 0.31105947494506836 seconds\n",
            "\n"
          ]
        },
        {
          "output_type": "stream",
          "name": "stderr",
          "text": [
            "/usr/local/lib/python3.9/dist-packages/sklearn/metrics/pairwise.py:2025: DataConversionWarning: Data was converted to boolean for metric jaccard\n",
            "  warnings.warn(msg, DataConversionWarning)\n"
          ]
        },
        {
          "output_type": "stream",
          "name": "stdout",
          "text": [
            "Time taken to fit KNN model: 0.007285356521606445 seconds\n"
          ]
        },
        {
          "output_type": "stream",
          "name": "stderr",
          "text": [
            "/usr/local/lib/python3.9/dist-packages/sklearn/metrics/pairwise.py:2025: DataConversionWarning: Data was converted to boolean for metric jaccard\n",
            "  warnings.warn(msg, DataConversionWarning)\n"
          ]
        },
        {
          "output_type": "stream",
          "name": "stdout",
          "text": [
            "              precision    recall  f1-score   support\n",
            "\n",
            "           0       0.80      1.00      0.89         8\n",
            "           1       1.00      1.00      1.00        12\n",
            "           2       0.67      0.75      0.71         8\n",
            "           3       0.83      1.00      0.91        10\n",
            "           4       0.69      0.69      0.69        13\n",
            "           5       1.00      0.71      0.83         7\n",
            "           6       0.86      0.75      0.80         8\n",
            "           7       0.75      0.64      0.69        14\n",
            "           8       0.00      0.00      0.00         2\n",
            "           9       0.30      0.33      0.32         9\n",
            "\n",
            "    accuracy                           0.75        91\n",
            "   macro avg       0.69      0.69      0.68        91\n",
            "weighted avg       0.75      0.75      0.74        91\n",
            "\n",
            "Time taken to evaluate KNN model on test portion: 0.2952561378479004 seconds\n",
            "\n"
          ]
        },
        {
          "output_type": "stream",
          "name": "stderr",
          "text": [
            "/usr/local/lib/python3.9/dist-packages/sklearn/metrics/pairwise.py:2025: DataConversionWarning: Data was converted to boolean for metric jaccard\n",
            "  warnings.warn(msg, DataConversionWarning)\n"
          ]
        },
        {
          "output_type": "stream",
          "name": "stdout",
          "text": [
            "Time taken to fit KNN model: 0.00848078727722168 seconds\n"
          ]
        },
        {
          "output_type": "stream",
          "name": "stderr",
          "text": [
            "/usr/local/lib/python3.9/dist-packages/sklearn/metrics/pairwise.py:2025: DataConversionWarning: Data was converted to boolean for metric jaccard\n",
            "  warnings.warn(msg, DataConversionWarning)\n"
          ]
        },
        {
          "output_type": "stream",
          "name": "stdout",
          "text": [
            "              precision    recall  f1-score   support\n",
            "\n",
            "           0       0.80      1.00      0.89         8\n",
            "           1       1.00      1.00      1.00        12\n",
            "           2       0.71      0.62      0.67         8\n",
            "           3       1.00      0.60      0.75        10\n",
            "           4       0.69      0.85      0.76        13\n",
            "           5       0.71      0.71      0.71         7\n",
            "           6       0.70      0.88      0.78         8\n",
            "           7       0.69      0.64      0.67        14\n",
            "           8       0.33      0.50      0.40         2\n",
            "           9       0.57      0.44      0.50         9\n",
            "\n",
            "    accuracy                           0.75        91\n",
            "   macro avg       0.72      0.72      0.71        91\n",
            "weighted avg       0.76      0.75      0.74        91\n",
            "\n",
            "Time taken to evaluate KNN model on test portion: 0.31917905807495117 seconds\n",
            "\n"
          ]
        }
      ],
      "source": [
        "LSH_KNN(1,2,tr_images,tr_labels,te_images,te_labels,90,40,0.8)\n",
        "LSH_KNN(2,2,tr_images,tr_labels,te_images,te_labels,90,40,0.8)\n",
        "LSH_KNN(3,2,tr_images,tr_labels,te_images,te_labels,90,40,0.8)\n",
        "LSH_KNN(4,2,tr_images,tr_labels,te_images,te_labels,90,40,0.8)\n",
        "LSH_KNN(5,2,tr_images,tr_labels,te_images,te_labels,90,40,0.8)"
      ]
    },
    {
      "cell_type": "code",
      "source": [
        "LSH_KNN(1,2,tr_images,tr_labels,te_images,te_labels,90,40,0.9)\n",
        "LSH_KNN(2,2,tr_images,tr_labels,te_images,te_labels,90,40,0.9)\n",
        "LSH_KNN(3,2,tr_images,tr_labels,te_images,te_labels,90,40,0.9)\n",
        "LSH_KNN(4,2,tr_images,tr_labels,te_images,te_labels,90,40,0.9)\n",
        "LSH_KNN(5,2,tr_images,tr_labels,te_images,te_labels,90,40,0.9)"
      ],
      "metadata": {
        "colab": {
          "base_uri": "https://localhost:8080/"
        },
        "id": "FRY8oPVcvdWI",
        "outputId": "3c3d3ace-5e6b-49bb-e585-620884d7c8c9"
      },
      "execution_count": 20,
      "outputs": [
        {
          "output_type": "stream",
          "name": "stderr",
          "text": [
            "/usr/local/lib/python3.9/dist-packages/sklearn/metrics/pairwise.py:2025: DataConversionWarning: Data was converted to boolean for metric jaccard\n",
            "  warnings.warn(msg, DataConversionWarning)\n"
          ]
        },
        {
          "output_type": "stream",
          "name": "stdout",
          "text": [
            "Time taken to fit KNN model: 0.0072019100189208984 seconds\n"
          ]
        },
        {
          "output_type": "stream",
          "name": "stderr",
          "text": [
            "/usr/local/lib/python3.9/dist-packages/sklearn/metrics/pairwise.py:2025: DataConversionWarning: Data was converted to boolean for metric jaccard\n",
            "  warnings.warn(msg, DataConversionWarning)\n"
          ]
        },
        {
          "output_type": "stream",
          "name": "stdout",
          "text": [
            "              precision    recall  f1-score   support\n",
            "\n",
            "           0       0.80      0.50      0.62         8\n",
            "           1       0.90      0.75      0.82        12\n",
            "           2       0.40      0.50      0.44         8\n",
            "           3       0.44      0.40      0.42        10\n",
            "           4       0.57      0.62      0.59        13\n",
            "           5       0.50      0.71      0.59         7\n",
            "           6       0.55      0.75      0.63         8\n",
            "           7       0.64      0.64      0.64        14\n",
            "           8       0.33      0.50      0.40         2\n",
            "           9       0.40      0.22      0.29         9\n",
            "\n",
            "    accuracy                           0.57        91\n",
            "   macro avg       0.55      0.56      0.54        91\n",
            "weighted avg       0.59      0.57      0.57        91\n",
            "\n",
            "Time taken to evaluate KNN model on test portion: 0.24843692779541016 seconds\n",
            "\n"
          ]
        },
        {
          "output_type": "stream",
          "name": "stderr",
          "text": [
            "/usr/local/lib/python3.9/dist-packages/sklearn/metrics/pairwise.py:2025: DataConversionWarning: Data was converted to boolean for metric jaccard\n",
            "  warnings.warn(msg, DataConversionWarning)\n"
          ]
        },
        {
          "output_type": "stream",
          "name": "stdout",
          "text": [
            "Time taken to fit KNN model: 0.010455608367919922 seconds\n"
          ]
        },
        {
          "output_type": "stream",
          "name": "stderr",
          "text": [
            "/usr/local/lib/python3.9/dist-packages/sklearn/metrics/pairwise.py:2025: DataConversionWarning: Data was converted to boolean for metric jaccard\n",
            "  warnings.warn(msg, DataConversionWarning)\n"
          ]
        },
        {
          "output_type": "stream",
          "name": "stdout",
          "text": [
            "              precision    recall  f1-score   support\n",
            "\n",
            "           0       0.88      0.88      0.88         8\n",
            "           1       0.75      1.00      0.86        12\n",
            "           2       0.67      0.75      0.71         8\n",
            "           3       0.70      0.70      0.70        10\n",
            "           4       0.79      0.85      0.81        13\n",
            "           5       0.57      0.57      0.57         7\n",
            "           6       1.00      0.88      0.93         8\n",
            "           7       0.85      0.79      0.81        14\n",
            "           8       0.00      0.00      0.00         2\n",
            "           9       0.50      0.33      0.40         9\n",
            "\n",
            "    accuracy                           0.75        91\n",
            "   macro avg       0.67      0.67      0.67        91\n",
            "weighted avg       0.74      0.75      0.74        91\n",
            "\n",
            "Time taken to evaluate KNN model on test portion: 0.3749845027923584 seconds\n",
            "\n"
          ]
        },
        {
          "output_type": "stream",
          "name": "stderr",
          "text": [
            "/usr/local/lib/python3.9/dist-packages/sklearn/metrics/pairwise.py:2025: DataConversionWarning: Data was converted to boolean for metric jaccard\n",
            "  warnings.warn(msg, DataConversionWarning)\n"
          ]
        },
        {
          "output_type": "stream",
          "name": "stdout",
          "text": [
            "Time taken to fit KNN model: 0.008342742919921875 seconds\n"
          ]
        },
        {
          "output_type": "stream",
          "name": "stderr",
          "text": [
            "/usr/local/lib/python3.9/dist-packages/sklearn/metrics/pairwise.py:2025: DataConversionWarning: Data was converted to boolean for metric jaccard\n",
            "  warnings.warn(msg, DataConversionWarning)\n"
          ]
        },
        {
          "output_type": "stream",
          "name": "stdout",
          "text": [
            "              precision    recall  f1-score   support\n",
            "\n",
            "           0       1.00      1.00      1.00         8\n",
            "           1       1.00      0.92      0.96        12\n",
            "           2       0.80      1.00      0.89         8\n",
            "           3       0.89      0.80      0.84        10\n",
            "           4       0.80      0.92      0.86        13\n",
            "           5       0.86      0.86      0.86         7\n",
            "           6       1.00      0.88      0.93         8\n",
            "           7       0.92      0.86      0.89        14\n",
            "           8       0.00      0.00      0.00         2\n",
            "           9       0.70      0.78      0.74         9\n",
            "\n",
            "    accuracy                           0.87        91\n",
            "   macro avg       0.80      0.80      0.80        91\n",
            "weighted avg       0.87      0.87      0.86        91\n",
            "\n",
            "Time taken to evaluate KNN model on test portion: 0.2974209785461426 seconds\n",
            "\n"
          ]
        },
        {
          "output_type": "stream",
          "name": "stderr",
          "text": [
            "/usr/local/lib/python3.9/dist-packages/sklearn/metrics/pairwise.py:2025: DataConversionWarning: Data was converted to boolean for metric jaccard\n",
            "  warnings.warn(msg, DataConversionWarning)\n"
          ]
        },
        {
          "output_type": "stream",
          "name": "stdout",
          "text": [
            "Time taken to fit KNN model: 0.008159399032592773 seconds\n"
          ]
        },
        {
          "output_type": "stream",
          "name": "stderr",
          "text": [
            "/usr/local/lib/python3.9/dist-packages/sklearn/metrics/pairwise.py:2025: DataConversionWarning: Data was converted to boolean for metric jaccard\n",
            "  warnings.warn(msg, DataConversionWarning)\n"
          ]
        },
        {
          "output_type": "stream",
          "name": "stdout",
          "text": [
            "              precision    recall  f1-score   support\n",
            "\n",
            "           0       0.67      1.00      0.80         8\n",
            "           1       0.85      0.92      0.88        12\n",
            "           2       0.60      0.38      0.46         8\n",
            "           3       0.58      0.70      0.64        10\n",
            "           4       0.69      0.69      0.69        13\n",
            "           5       0.40      0.29      0.33         7\n",
            "           6       0.71      0.62      0.67         8\n",
            "           7       0.69      0.64      0.67        14\n",
            "           8       0.00      0.00      0.00         2\n",
            "           9       0.44      0.44      0.44         9\n",
            "\n",
            "    accuracy                           0.64        91\n",
            "   macro avg       0.56      0.57      0.56        91\n",
            "weighted avg       0.63      0.64      0.63        91\n",
            "\n",
            "Time taken to evaluate KNN model on test portion: 0.3306267261505127 seconds\n",
            "\n"
          ]
        },
        {
          "output_type": "stream",
          "name": "stderr",
          "text": [
            "/usr/local/lib/python3.9/dist-packages/sklearn/metrics/pairwise.py:2025: DataConversionWarning: Data was converted to boolean for metric jaccard\n",
            "  warnings.warn(msg, DataConversionWarning)\n"
          ]
        },
        {
          "output_type": "stream",
          "name": "stdout",
          "text": [
            "Time taken to fit KNN model: 0.0073087215423583984 seconds\n"
          ]
        },
        {
          "output_type": "stream",
          "name": "stderr",
          "text": [
            "/usr/local/lib/python3.9/dist-packages/sklearn/metrics/pairwise.py:2025: DataConversionWarning: Data was converted to boolean for metric jaccard\n",
            "  warnings.warn(msg, DataConversionWarning)\n"
          ]
        },
        {
          "output_type": "stream",
          "name": "stdout",
          "text": [
            "              precision    recall  f1-score   support\n",
            "\n",
            "           0       0.80      1.00      0.89         8\n",
            "           1       0.92      1.00      0.96        12\n",
            "           2       0.75      0.38      0.50         8\n",
            "           3       0.82      0.90      0.86        10\n",
            "           4       0.90      0.69      0.78        13\n",
            "           5       0.71      0.71      0.71         7\n",
            "           6       0.86      0.75      0.80         8\n",
            "           7       0.80      0.86      0.83        14\n",
            "           8       1.00      0.50      0.67         2\n",
            "           9       0.62      0.89      0.73         9\n",
            "\n",
            "    accuracy                           0.80        91\n",
            "   macro avg       0.82      0.77      0.77        91\n",
            "weighted avg       0.81      0.80      0.79        91\n",
            "\n",
            "Time taken to evaluate KNN model on test portion: 0.30472350120544434 seconds\n",
            "\n"
          ]
        }
      ]
    },
    {
      "cell_type": "code",
      "source": [
        "LSH_KNN(1,2,tr_images,tr_labels,te_images,te_labels,90,60,0.8)\n",
        "LSH_KNN(2,2,tr_images,tr_labels,te_images,te_labels,90,60,0.8)\n",
        "LSH_KNN(3,2,tr_images,tr_labels,te_images,te_labels,90,60,0.8)\n",
        "LSH_KNN(4,2,tr_images,tr_labels,te_images,te_labels,90,60,0.8)\n",
        "LSH_KNN(5,2,tr_images,tr_labels,te_images,te_labels,90,60,0.8)"
      ],
      "metadata": {
        "colab": {
          "base_uri": "https://localhost:8080/"
        },
        "id": "yR7N697avdWI",
        "outputId": "0b1561f5-3d1c-456e-9a4c-ec12a3553295"
      },
      "execution_count": 21,
      "outputs": [
        {
          "output_type": "stream",
          "name": "stderr",
          "text": [
            "/usr/local/lib/python3.9/dist-packages/sklearn/metrics/pairwise.py:2025: DataConversionWarning: Data was converted to boolean for metric jaccard\n",
            "  warnings.warn(msg, DataConversionWarning)\n"
          ]
        },
        {
          "output_type": "stream",
          "name": "stdout",
          "text": [
            "Time taken to fit KNN model: 0.00876927375793457 seconds\n"
          ]
        },
        {
          "output_type": "stream",
          "name": "stderr",
          "text": [
            "/usr/local/lib/python3.9/dist-packages/sklearn/metrics/pairwise.py:2025: DataConversionWarning: Data was converted to boolean for metric jaccard\n",
            "  warnings.warn(msg, DataConversionWarning)\n"
          ]
        },
        {
          "output_type": "stream",
          "name": "stdout",
          "text": [
            "              precision    recall  f1-score   support\n",
            "\n",
            "           0       1.00      0.88      0.93         8\n",
            "           1       1.00      0.83      0.91        12\n",
            "           2       1.00      0.88      0.93         8\n",
            "           3       0.67      0.60      0.63        10\n",
            "           4       0.80      0.92      0.86        13\n",
            "           5       0.60      0.43      0.50         7\n",
            "           6       1.00      1.00      1.00         8\n",
            "           7       0.67      0.86      0.75        14\n",
            "           8       0.67      1.00      0.80         2\n",
            "           9       0.67      0.67      0.67         9\n",
            "\n",
            "    accuracy                           0.80        91\n",
            "   macro avg       0.81      0.81      0.80        91\n",
            "weighted avg       0.81      0.80      0.80        91\n",
            "\n",
            "Time taken to evaluate KNN model on test portion: 0.35521793365478516 seconds\n",
            "\n"
          ]
        },
        {
          "output_type": "stream",
          "name": "stderr",
          "text": [
            "/usr/local/lib/python3.9/dist-packages/sklearn/metrics/pairwise.py:2025: DataConversionWarning: Data was converted to boolean for metric jaccard\n",
            "  warnings.warn(msg, DataConversionWarning)\n"
          ]
        },
        {
          "output_type": "stream",
          "name": "stdout",
          "text": [
            "Time taken to fit KNN model: 0.009171724319458008 seconds\n"
          ]
        },
        {
          "output_type": "stream",
          "name": "stderr",
          "text": [
            "/usr/local/lib/python3.9/dist-packages/sklearn/metrics/pairwise.py:2025: DataConversionWarning: Data was converted to boolean for metric jaccard\n",
            "  warnings.warn(msg, DataConversionWarning)\n"
          ]
        },
        {
          "output_type": "stream",
          "name": "stdout",
          "text": [
            "              precision    recall  f1-score   support\n",
            "\n",
            "           0       0.80      1.00      0.89         8\n",
            "           1       0.92      1.00      0.96        12\n",
            "           2       0.67      0.75      0.71         8\n",
            "           3       0.67      0.60      0.63        10\n",
            "           4       0.83      0.77      0.80        13\n",
            "           5       0.50      0.57      0.53         7\n",
            "           6       0.83      0.62      0.71         8\n",
            "           7       0.80      0.86      0.83        14\n",
            "           8       1.00      0.50      0.67         2\n",
            "           9       0.62      0.56      0.59         9\n",
            "\n",
            "    accuracy                           0.76        91\n",
            "   macro avg       0.76      0.72      0.73        91\n",
            "weighted avg       0.76      0.76      0.75        91\n",
            "\n",
            "Time taken to evaluate KNN model on test portion: 0.375110387802124 seconds\n",
            "\n"
          ]
        },
        {
          "output_type": "stream",
          "name": "stderr",
          "text": [
            "/usr/local/lib/python3.9/dist-packages/sklearn/metrics/pairwise.py:2025: DataConversionWarning: Data was converted to boolean for metric jaccard\n",
            "  warnings.warn(msg, DataConversionWarning)\n"
          ]
        },
        {
          "output_type": "stream",
          "name": "stdout",
          "text": [
            "Time taken to fit KNN model: 0.011456727981567383 seconds\n"
          ]
        },
        {
          "output_type": "stream",
          "name": "stderr",
          "text": [
            "/usr/local/lib/python3.9/dist-packages/sklearn/metrics/pairwise.py:2025: DataConversionWarning: Data was converted to boolean for metric jaccard\n",
            "  warnings.warn(msg, DataConversionWarning)\n"
          ]
        },
        {
          "output_type": "stream",
          "name": "stdout",
          "text": [
            "              precision    recall  f1-score   support\n",
            "\n",
            "           0       1.00      0.88      0.93         8\n",
            "           1       0.85      0.92      0.88        12\n",
            "           2       0.89      1.00      0.94         8\n",
            "           3       0.75      0.60      0.67        10\n",
            "           4       0.71      0.92      0.80        13\n",
            "           5       0.80      0.57      0.67         7\n",
            "           6       0.73      1.00      0.84         8\n",
            "           7       0.83      0.71      0.77        14\n",
            "           8       1.00      0.50      0.67         2\n",
            "           9       0.38      0.33      0.35         9\n",
            "\n",
            "    accuracy                           0.77        91\n",
            "   macro avg       0.79      0.74      0.75        91\n",
            "weighted avg       0.77      0.77      0.76        91\n",
            "\n",
            "Time taken to evaluate KNN model on test portion: 0.3956432342529297 seconds\n",
            "\n"
          ]
        },
        {
          "output_type": "stream",
          "name": "stderr",
          "text": [
            "/usr/local/lib/python3.9/dist-packages/sklearn/metrics/pairwise.py:2025: DataConversionWarning: Data was converted to boolean for metric jaccard\n",
            "  warnings.warn(msg, DataConversionWarning)\n"
          ]
        },
        {
          "output_type": "stream",
          "name": "stdout",
          "text": [
            "Time taken to fit KNN model: 0.010613441467285156 seconds\n"
          ]
        },
        {
          "output_type": "stream",
          "name": "stderr",
          "text": [
            "/usr/local/lib/python3.9/dist-packages/sklearn/metrics/pairwise.py:2025: DataConversionWarning: Data was converted to boolean for metric jaccard\n",
            "  warnings.warn(msg, DataConversionWarning)\n"
          ]
        },
        {
          "output_type": "stream",
          "name": "stdout",
          "text": [
            "              precision    recall  f1-score   support\n",
            "\n",
            "           0       0.89      1.00      0.94         8\n",
            "           1       0.86      1.00      0.92        12\n",
            "           2       0.62      0.62      0.62         8\n",
            "           3       0.88      0.70      0.78        10\n",
            "           4       0.65      0.85      0.73        13\n",
            "           5       1.00      0.71      0.83         7\n",
            "           6       0.78      0.88      0.82         8\n",
            "           7       0.71      0.86      0.77        14\n",
            "           8       1.00      0.50      0.67         2\n",
            "           9       1.00      0.33      0.50         9\n",
            "\n",
            "    accuracy                           0.78        91\n",
            "   macro avg       0.84      0.75      0.76        91\n",
            "weighted avg       0.81      0.78      0.77        91\n",
            "\n",
            "Time taken to evaluate KNN model on test portion: 0.4062316417694092 seconds\n",
            "\n"
          ]
        },
        {
          "output_type": "stream",
          "name": "stderr",
          "text": [
            "/usr/local/lib/python3.9/dist-packages/sklearn/metrics/pairwise.py:2025: DataConversionWarning: Data was converted to boolean for metric jaccard\n",
            "  warnings.warn(msg, DataConversionWarning)\n"
          ]
        },
        {
          "output_type": "stream",
          "name": "stdout",
          "text": [
            "Time taken to fit KNN model: 0.010830163955688477 seconds\n"
          ]
        },
        {
          "output_type": "stream",
          "name": "stderr",
          "text": [
            "/usr/local/lib/python3.9/dist-packages/sklearn/metrics/pairwise.py:2025: DataConversionWarning: Data was converted to boolean for metric jaccard\n",
            "  warnings.warn(msg, DataConversionWarning)\n"
          ]
        },
        {
          "output_type": "stream",
          "name": "stdout",
          "text": [
            "              precision    recall  f1-score   support\n",
            "\n",
            "           0       1.00      1.00      1.00         8\n",
            "           1       0.86      1.00      0.92        12\n",
            "           2       0.62      0.62      0.62         8\n",
            "           3       1.00      0.80      0.89        10\n",
            "           4       1.00      1.00      1.00        13\n",
            "           5       0.88      1.00      0.93         7\n",
            "           6       1.00      1.00      1.00         8\n",
            "           7       0.87      0.93      0.90        14\n",
            "           8       0.50      0.50      0.50         2\n",
            "           9       0.86      0.67      0.75         9\n",
            "\n",
            "    accuracy                           0.89        91\n",
            "   macro avg       0.86      0.85      0.85        91\n",
            "weighted avg       0.89      0.89      0.89        91\n",
            "\n",
            "Time taken to evaluate KNN model on test portion: 0.42535972595214844 seconds\n",
            "\n"
          ]
        }
      ]
    },
    {
      "cell_type": "code",
      "source": [
        "LSH_KNN(1,2,tr_images,tr_labels,te_images,te_labels,90,60,0.9)\n",
        "LSH_KNN(2,2,tr_images,tr_labels,te_images,te_labels,90,60,0.9)\n",
        "LSH_KNN(3,2,tr_images,tr_labels,te_images,te_labels,90,60,0.9)\n",
        "LSH_KNN(4,2,tr_images,tr_labels,te_images,te_labels,90,60,0.9)\n",
        "LSH_KNN(5,2,tr_images,tr_labels,te_images,te_labels,90,60,0.9)"
      ],
      "metadata": {
        "colab": {
          "base_uri": "https://localhost:8080/"
        },
        "id": "LICdfjcTvdWJ",
        "outputId": "d9861b26-1d5a-4ea1-f3ab-1f8ee14e865b"
      },
      "execution_count": 22,
      "outputs": [
        {
          "output_type": "stream",
          "name": "stderr",
          "text": [
            "/usr/local/lib/python3.9/dist-packages/sklearn/metrics/pairwise.py:2025: DataConversionWarning: Data was converted to boolean for metric jaccard\n",
            "  warnings.warn(msg, DataConversionWarning)\n"
          ]
        },
        {
          "output_type": "stream",
          "name": "stdout",
          "text": [
            "Time taken to fit KNN model: 0.011450052261352539 seconds\n"
          ]
        },
        {
          "output_type": "stream",
          "name": "stderr",
          "text": [
            "/usr/local/lib/python3.9/dist-packages/sklearn/metrics/pairwise.py:2025: DataConversionWarning: Data was converted to boolean for metric jaccard\n",
            "  warnings.warn(msg, DataConversionWarning)\n"
          ]
        },
        {
          "output_type": "stream",
          "name": "stdout",
          "text": [
            "              precision    recall  f1-score   support\n",
            "\n",
            "           0       0.89      1.00      0.94         8\n",
            "           1       0.86      1.00      0.92        12\n",
            "           2       0.75      0.75      0.75         8\n",
            "           3       0.67      0.40      0.50        10\n",
            "           4       0.71      0.77      0.74        13\n",
            "           5       0.57      0.57      0.57         7\n",
            "           6       0.88      0.88      0.88         8\n",
            "           7       0.73      0.57      0.64        14\n",
            "           8       0.33      0.50      0.40         2\n",
            "           9       0.18      0.22      0.20         9\n",
            "\n",
            "    accuracy                           0.68        91\n",
            "   macro avg       0.66      0.67      0.65        91\n",
            "weighted avg       0.69      0.68      0.68        91\n",
            "\n",
            "Time taken to evaluate KNN model on test portion: 0.3572263717651367 seconds\n",
            "\n"
          ]
        },
        {
          "output_type": "stream",
          "name": "stderr",
          "text": [
            "/usr/local/lib/python3.9/dist-packages/sklearn/metrics/pairwise.py:2025: DataConversionWarning: Data was converted to boolean for metric jaccard\n",
            "  warnings.warn(msg, DataConversionWarning)\n"
          ]
        },
        {
          "output_type": "stream",
          "name": "stdout",
          "text": [
            "Time taken to fit KNN model: 0.010558366775512695 seconds\n"
          ]
        },
        {
          "output_type": "stream",
          "name": "stderr",
          "text": [
            "/usr/local/lib/python3.9/dist-packages/sklearn/metrics/pairwise.py:2025: DataConversionWarning: Data was converted to boolean for metric jaccard\n",
            "  warnings.warn(msg, DataConversionWarning)\n"
          ]
        },
        {
          "output_type": "stream",
          "name": "stdout",
          "text": [
            "              precision    recall  f1-score   support\n",
            "\n",
            "           0       0.89      1.00      0.94         8\n",
            "           1       0.86      1.00      0.92        12\n",
            "           2       0.75      0.75      0.75         8\n",
            "           3       0.78      0.70      0.74        10\n",
            "           4       0.71      0.77      0.74        13\n",
            "           5       0.75      0.86      0.80         7\n",
            "           6       0.86      0.75      0.80         8\n",
            "           7       1.00      0.71      0.83        14\n",
            "           8       0.33      0.50      0.40         2\n",
            "           9       0.56      0.56      0.56         9\n",
            "\n",
            "    accuracy                           0.78        91\n",
            "   macro avg       0.75      0.76      0.75        91\n",
            "weighted avg       0.79      0.78      0.78        91\n",
            "\n",
            "Time taken to evaluate KNN model on test portion: 0.3800210952758789 seconds\n",
            "\n"
          ]
        },
        {
          "output_type": "stream",
          "name": "stderr",
          "text": [
            "/usr/local/lib/python3.9/dist-packages/sklearn/metrics/pairwise.py:2025: DataConversionWarning: Data was converted to boolean for metric jaccard\n",
            "  warnings.warn(msg, DataConversionWarning)\n"
          ]
        },
        {
          "output_type": "stream",
          "name": "stdout",
          "text": [
            "Time taken to fit KNN model: 0.010461807250976562 seconds\n"
          ]
        },
        {
          "output_type": "stream",
          "name": "stderr",
          "text": [
            "/usr/local/lib/python3.9/dist-packages/sklearn/metrics/pairwise.py:2025: DataConversionWarning: Data was converted to boolean for metric jaccard\n",
            "  warnings.warn(msg, DataConversionWarning)\n"
          ]
        },
        {
          "output_type": "stream",
          "name": "stdout",
          "text": [
            "              precision    recall  f1-score   support\n",
            "\n",
            "           0       0.78      0.88      0.82         8\n",
            "           1       0.86      1.00      0.92        12\n",
            "           2       0.67      0.75      0.71         8\n",
            "           3       0.71      0.50      0.59        10\n",
            "           4       0.73      0.85      0.79        13\n",
            "           5       0.86      0.86      0.86         7\n",
            "           6       0.88      0.88      0.88         8\n",
            "           7       0.86      0.86      0.86        14\n",
            "           8       0.00      0.00      0.00         2\n",
            "           9       0.43      0.33      0.38         9\n",
            "\n",
            "    accuracy                           0.76        91\n",
            "   macro avg       0.68      0.69      0.68        91\n",
            "weighted avg       0.74      0.76      0.74        91\n",
            "\n",
            "Time taken to evaluate KNN model on test portion: 0.4134693145751953 seconds\n",
            "\n"
          ]
        },
        {
          "output_type": "stream",
          "name": "stderr",
          "text": [
            "/usr/local/lib/python3.9/dist-packages/sklearn/metrics/pairwise.py:2025: DataConversionWarning: Data was converted to boolean for metric jaccard\n",
            "  warnings.warn(msg, DataConversionWarning)\n"
          ]
        },
        {
          "output_type": "stream",
          "name": "stdout",
          "text": [
            "Time taken to fit KNN model: 0.01128244400024414 seconds\n"
          ]
        },
        {
          "output_type": "stream",
          "name": "stderr",
          "text": [
            "/usr/local/lib/python3.9/dist-packages/sklearn/metrics/pairwise.py:2025: DataConversionWarning: Data was converted to boolean for metric jaccard\n",
            "  warnings.warn(msg, DataConversionWarning)\n"
          ]
        },
        {
          "output_type": "stream",
          "name": "stdout",
          "text": [
            "              precision    recall  f1-score   support\n",
            "\n",
            "           0       0.89      1.00      0.94         8\n",
            "           1       0.85      0.92      0.88        12\n",
            "           2       0.80      1.00      0.89         8\n",
            "           3       0.71      0.50      0.59        10\n",
            "           4       0.73      0.85      0.79        13\n",
            "           5       0.80      0.57      0.67         7\n",
            "           6       1.00      1.00      1.00         8\n",
            "           7       0.81      0.93      0.87        14\n",
            "           8       1.00      1.00      1.00         2\n",
            "           9       0.50      0.33      0.40         9\n",
            "\n",
            "    accuracy                           0.80        91\n",
            "   macro avg       0.81      0.81      0.80        91\n",
            "weighted avg       0.79      0.80      0.79        91\n",
            "\n",
            "Time taken to evaluate KNN model on test portion: 0.4330899715423584 seconds\n",
            "\n"
          ]
        },
        {
          "output_type": "stream",
          "name": "stderr",
          "text": [
            "/usr/local/lib/python3.9/dist-packages/sklearn/metrics/pairwise.py:2025: DataConversionWarning: Data was converted to boolean for metric jaccard\n",
            "  warnings.warn(msg, DataConversionWarning)\n"
          ]
        },
        {
          "output_type": "stream",
          "name": "stdout",
          "text": [
            "Time taken to fit KNN model: 0.015122175216674805 seconds\n"
          ]
        },
        {
          "output_type": "stream",
          "name": "stderr",
          "text": [
            "/usr/local/lib/python3.9/dist-packages/sklearn/metrics/pairwise.py:2025: DataConversionWarning: Data was converted to boolean for metric jaccard\n",
            "  warnings.warn(msg, DataConversionWarning)\n"
          ]
        },
        {
          "output_type": "stream",
          "name": "stdout",
          "text": [
            "              precision    recall  f1-score   support\n",
            "\n",
            "           0       0.80      1.00      0.89         8\n",
            "           1       1.00      1.00      1.00        12\n",
            "           2       0.86      0.75      0.80         8\n",
            "           3       0.88      0.70      0.78        10\n",
            "           4       0.71      0.77      0.74        13\n",
            "           5       0.71      0.71      0.71         7\n",
            "           6       0.86      0.75      0.80         8\n",
            "           7       0.93      0.93      0.93        14\n",
            "           8       0.33      0.50      0.40         2\n",
            "           9       0.67      0.67      0.67         9\n",
            "\n",
            "    accuracy                           0.81        91\n",
            "   macro avg       0.77      0.78      0.77        91\n",
            "weighted avg       0.82      0.81      0.81        91\n",
            "\n",
            "Time taken to evaluate KNN model on test portion: 0.704859733581543 seconds\n",
            "\n"
          ]
        }
      ]
    },
    {
      "cell_type": "code",
      "execution_count": 23,
      "metadata": {
        "colab": {
          "base_uri": "https://localhost:8080/"
        },
        "outputId": "9d4cd637-33ad-4305-cb12-c868c3f6f2d6",
        "id": "8pEC1vOgiMkC"
      },
      "outputs": [
        {
          "output_type": "stream",
          "name": "stderr",
          "text": [
            "/usr/local/lib/python3.9/dist-packages/sklearn/metrics/pairwise.py:2025: DataConversionWarning: Data was converted to boolean for metric jaccard\n",
            "  warnings.warn(msg, DataConversionWarning)\n"
          ]
        },
        {
          "output_type": "stream",
          "name": "stdout",
          "text": [
            "Time taken to fit KNN model: 0.010589838027954102 seconds\n"
          ]
        },
        {
          "output_type": "stream",
          "name": "stderr",
          "text": [
            "/usr/local/lib/python3.9/dist-packages/sklearn/metrics/pairwise.py:2025: DataConversionWarning: Data was converted to boolean for metric jaccard\n",
            "  warnings.warn(msg, DataConversionWarning)\n",
            "/usr/local/lib/python3.9/dist-packages/sklearn/metrics/pairwise.py:2025: DataConversionWarning: Data was converted to boolean for metric jaccard\n",
            "  warnings.warn(msg, DataConversionWarning)\n",
            "/usr/local/lib/python3.9/dist-packages/sklearn/metrics/pairwise.py:2025: DataConversionWarning: Data was converted to boolean for metric jaccard\n",
            "  warnings.warn(msg, DataConversionWarning)\n",
            "/usr/local/lib/python3.9/dist-packages/sklearn/metrics/pairwise.py:2025: DataConversionWarning: Data was converted to boolean for metric jaccard\n",
            "  warnings.warn(msg, DataConversionWarning)\n",
            "/usr/local/lib/python3.9/dist-packages/sklearn/metrics/pairwise.py:2025: DataConversionWarning: Data was converted to boolean for metric jaccard\n",
            "  warnings.warn(msg, DataConversionWarning)\n"
          ]
        },
        {
          "output_type": "stream",
          "name": "stdout",
          "text": [
            "              precision    recall  f1-score   support\n",
            "\n",
            "           0       0.70      0.66      0.68       980\n",
            "           1       0.91      0.86      0.88      1135\n",
            "           2       0.76      0.78      0.77      1032\n",
            "           3       0.65      0.68      0.66      1010\n",
            "           4       0.58      0.57      0.57       982\n",
            "           5       0.57      0.54      0.55       892\n",
            "           6       0.83      0.84      0.83       958\n",
            "           7       0.56      0.56      0.56      1028\n",
            "           8       0.53      0.51      0.52       974\n",
            "           9       0.48      0.54      0.51      1009\n",
            "\n",
            "    accuracy                           0.66     10000\n",
            "   macro avg       0.66      0.65      0.65     10000\n",
            "weighted avg       0.66      0.66      0.66     10000\n",
            "\n",
            "Time taken to evaluate KNN model on test portion: 37.00922632217407 seconds\n",
            "\n"
          ]
        },
        {
          "output_type": "stream",
          "name": "stderr",
          "text": [
            "/usr/local/lib/python3.9/dist-packages/sklearn/metrics/pairwise.py:2025: DataConversionWarning: Data was converted to boolean for metric jaccard\n",
            "  warnings.warn(msg, DataConversionWarning)\n"
          ]
        },
        {
          "output_type": "stream",
          "name": "stdout",
          "text": [
            "Time taken to fit KNN model: 0.01062774658203125 seconds\n"
          ]
        },
        {
          "output_type": "stream",
          "name": "stderr",
          "text": [
            "/usr/local/lib/python3.9/dist-packages/sklearn/metrics/pairwise.py:2025: DataConversionWarning: Data was converted to boolean for metric jaccard\n",
            "  warnings.warn(msg, DataConversionWarning)\n",
            "/usr/local/lib/python3.9/dist-packages/sklearn/metrics/pairwise.py:2025: DataConversionWarning: Data was converted to boolean for metric jaccard\n",
            "  warnings.warn(msg, DataConversionWarning)\n",
            "/usr/local/lib/python3.9/dist-packages/sklearn/metrics/pairwise.py:2025: DataConversionWarning: Data was converted to boolean for metric jaccard\n",
            "  warnings.warn(msg, DataConversionWarning)\n",
            "/usr/local/lib/python3.9/dist-packages/sklearn/metrics/pairwise.py:2025: DataConversionWarning: Data was converted to boolean for metric jaccard\n",
            "  warnings.warn(msg, DataConversionWarning)\n",
            "/usr/local/lib/python3.9/dist-packages/sklearn/metrics/pairwise.py:2025: DataConversionWarning: Data was converted to boolean for metric jaccard\n",
            "  warnings.warn(msg, DataConversionWarning)\n"
          ]
        },
        {
          "output_type": "stream",
          "name": "stdout",
          "text": [
            "              precision    recall  f1-score   support\n",
            "\n",
            "           0       0.71      0.88      0.78       980\n",
            "           1       0.83      0.95      0.88      1135\n",
            "           2       0.63      0.72      0.67      1032\n",
            "           3       0.55      0.59      0.57      1010\n",
            "           4       0.68      0.76      0.72       982\n",
            "           5       0.61      0.59      0.60       892\n",
            "           6       0.87      0.78      0.82       958\n",
            "           7       0.74      0.79      0.76      1028\n",
            "           8       0.67      0.42      0.52       974\n",
            "           9       0.81      0.54      0.65      1009\n",
            "\n",
            "    accuracy                           0.71     10000\n",
            "   macro avg       0.71      0.70      0.70     10000\n",
            "weighted avg       0.71      0.71      0.70     10000\n",
            "\n",
            "Time taken to evaluate KNN model on test portion: 31.63825297355652 seconds\n",
            "\n"
          ]
        },
        {
          "output_type": "stream",
          "name": "stderr",
          "text": [
            "/usr/local/lib/python3.9/dist-packages/sklearn/metrics/pairwise.py:2025: DataConversionWarning: Data was converted to boolean for metric jaccard\n",
            "  warnings.warn(msg, DataConversionWarning)\n"
          ]
        },
        {
          "output_type": "stream",
          "name": "stdout",
          "text": [
            "Time taken to fit KNN model: 0.010489225387573242 seconds\n"
          ]
        },
        {
          "output_type": "stream",
          "name": "stderr",
          "text": [
            "/usr/local/lib/python3.9/dist-packages/sklearn/metrics/pairwise.py:2025: DataConversionWarning: Data was converted to boolean for metric jaccard\n",
            "  warnings.warn(msg, DataConversionWarning)\n",
            "/usr/local/lib/python3.9/dist-packages/sklearn/metrics/pairwise.py:2025: DataConversionWarning: Data was converted to boolean for metric jaccard\n",
            "  warnings.warn(msg, DataConversionWarning)\n",
            "/usr/local/lib/python3.9/dist-packages/sklearn/metrics/pairwise.py:2025: DataConversionWarning: Data was converted to boolean for metric jaccard\n",
            "  warnings.warn(msg, DataConversionWarning)\n",
            "/usr/local/lib/python3.9/dist-packages/sklearn/metrics/pairwise.py:2025: DataConversionWarning: Data was converted to boolean for metric jaccard\n",
            "  warnings.warn(msg, DataConversionWarning)\n",
            "/usr/local/lib/python3.9/dist-packages/sklearn/metrics/pairwise.py:2025: DataConversionWarning: Data was converted to boolean for metric jaccard\n",
            "  warnings.warn(msg, DataConversionWarning)\n"
          ]
        },
        {
          "output_type": "stream",
          "name": "stdout",
          "text": [
            "              precision    recall  f1-score   support\n",
            "\n",
            "           0       0.72      0.84      0.77       980\n",
            "           1       0.64      0.90      0.75      1135\n",
            "           2       0.64      0.59      0.61      1032\n",
            "           3       0.63      0.65      0.64      1010\n",
            "           4       0.62      0.64      0.63       982\n",
            "           5       0.68      0.64      0.66       892\n",
            "           6       0.76      0.66      0.71       958\n",
            "           7       0.74      0.69      0.71      1028\n",
            "           8       0.67      0.47      0.55       974\n",
            "           9       0.62      0.58      0.60      1009\n",
            "\n",
            "    accuracy                           0.67     10000\n",
            "   macro avg       0.67      0.67      0.66     10000\n",
            "weighted avg       0.67      0.67      0.66     10000\n",
            "\n",
            "Time taken to evaluate KNN model on test portion: 35.24502348899841 seconds\n",
            "\n"
          ]
        },
        {
          "output_type": "stream",
          "name": "stderr",
          "text": [
            "/usr/local/lib/python3.9/dist-packages/sklearn/metrics/pairwise.py:2025: DataConversionWarning: Data was converted to boolean for metric jaccard\n",
            "  warnings.warn(msg, DataConversionWarning)\n"
          ]
        },
        {
          "output_type": "stream",
          "name": "stdout",
          "text": [
            "Time taken to fit KNN model: 0.008182287216186523 seconds\n"
          ]
        },
        {
          "output_type": "stream",
          "name": "stderr",
          "text": [
            "/usr/local/lib/python3.9/dist-packages/sklearn/metrics/pairwise.py:2025: DataConversionWarning: Data was converted to boolean for metric jaccard\n",
            "  warnings.warn(msg, DataConversionWarning)\n",
            "/usr/local/lib/python3.9/dist-packages/sklearn/metrics/pairwise.py:2025: DataConversionWarning: Data was converted to boolean for metric jaccard\n",
            "  warnings.warn(msg, DataConversionWarning)\n",
            "/usr/local/lib/python3.9/dist-packages/sklearn/metrics/pairwise.py:2025: DataConversionWarning: Data was converted to boolean for metric jaccard\n",
            "  warnings.warn(msg, DataConversionWarning)\n",
            "/usr/local/lib/python3.9/dist-packages/sklearn/metrics/pairwise.py:2025: DataConversionWarning: Data was converted to boolean for metric jaccard\n",
            "  warnings.warn(msg, DataConversionWarning)\n",
            "/usr/local/lib/python3.9/dist-packages/sklearn/metrics/pairwise.py:2025: DataConversionWarning: Data was converted to boolean for metric jaccard\n",
            "  warnings.warn(msg, DataConversionWarning)\n"
          ]
        },
        {
          "output_type": "stream",
          "name": "stdout",
          "text": [
            "              precision    recall  f1-score   support\n",
            "\n",
            "           0       0.81      0.89      0.85       980\n",
            "           1       0.83      0.94      0.88      1135\n",
            "           2       0.72      0.71      0.71      1032\n",
            "           3       0.71      0.73      0.72      1010\n",
            "           4       0.65      0.77      0.70       982\n",
            "           5       0.70      0.66      0.68       892\n",
            "           6       0.84      0.85      0.84       958\n",
            "           7       0.84      0.80      0.82      1028\n",
            "           8       0.72      0.58      0.64       974\n",
            "           9       0.71      0.60      0.65      1009\n",
            "\n",
            "    accuracy                           0.75     10000\n",
            "   macro avg       0.75      0.75      0.75     10000\n",
            "weighted avg       0.75      0.75      0.75     10000\n",
            "\n",
            "Time taken to evaluate KNN model on test portion: 37.084452390670776 seconds\n",
            "\n"
          ]
        },
        {
          "output_type": "stream",
          "name": "stderr",
          "text": [
            "/usr/local/lib/python3.9/dist-packages/sklearn/metrics/pairwise.py:2025: DataConversionWarning: Data was converted to boolean for metric jaccard\n",
            "  warnings.warn(msg, DataConversionWarning)\n"
          ]
        },
        {
          "output_type": "stream",
          "name": "stdout",
          "text": [
            "Time taken to fit KNN model: 0.009636402130126953 seconds\n"
          ]
        },
        {
          "output_type": "stream",
          "name": "stderr",
          "text": [
            "/usr/local/lib/python3.9/dist-packages/sklearn/metrics/pairwise.py:2025: DataConversionWarning: Data was converted to boolean for metric jaccard\n",
            "  warnings.warn(msg, DataConversionWarning)\n",
            "/usr/local/lib/python3.9/dist-packages/sklearn/metrics/pairwise.py:2025: DataConversionWarning: Data was converted to boolean for metric jaccard\n",
            "  warnings.warn(msg, DataConversionWarning)\n",
            "/usr/local/lib/python3.9/dist-packages/sklearn/metrics/pairwise.py:2025: DataConversionWarning: Data was converted to boolean for metric jaccard\n",
            "  warnings.warn(msg, DataConversionWarning)\n",
            "/usr/local/lib/python3.9/dist-packages/sklearn/metrics/pairwise.py:2025: DataConversionWarning: Data was converted to boolean for metric jaccard\n",
            "  warnings.warn(msg, DataConversionWarning)\n",
            "/usr/local/lib/python3.9/dist-packages/sklearn/metrics/pairwise.py:2025: DataConversionWarning: Data was converted to boolean for metric jaccard\n",
            "  warnings.warn(msg, DataConversionWarning)\n"
          ]
        },
        {
          "output_type": "stream",
          "name": "stdout",
          "text": [
            "              precision    recall  f1-score   support\n",
            "\n",
            "           0       0.77      0.82      0.79       980\n",
            "           1       0.84      0.96      0.89      1135\n",
            "           2       0.86      0.75      0.80      1032\n",
            "           3       0.74      0.74      0.74      1010\n",
            "           4       0.75      0.80      0.78       982\n",
            "           5       0.73      0.68      0.70       892\n",
            "           6       0.84      0.89      0.86       958\n",
            "           7       0.76      0.81      0.78      1028\n",
            "           8       0.69      0.59      0.64       974\n",
            "           9       0.71      0.66      0.68      1009\n",
            "\n",
            "    accuracy                           0.77     10000\n",
            "   macro avg       0.77      0.77      0.77     10000\n",
            "weighted avg       0.77      0.77      0.77     10000\n",
            "\n",
            "Time taken to evaluate KNN model on test portion: 35.70792269706726 seconds\n",
            "\n"
          ]
        }
      ],
      "source": [
        "LSH_KNN(1,2,tr_images,tr_labels,te_images,te_labels,te_images.shape[0],40,0.8)\n",
        "LSH_KNN(2,2,tr_images,tr_labels,te_images,te_labels,te_images.shape[0],40,0.8)\n",
        "LSH_KNN(3,2,tr_images,tr_labels,te_images,te_labels,te_images.shape[0],40,0.8)\n",
        "LSH_KNN(4,2,tr_images,tr_labels,te_images,te_labels,te_images.shape[0],40,0.8)\n",
        "LSH_KNN(5,2,tr_images,tr_labels,te_images,te_labels,te_images.shape[0],40,0.8)"
      ]
    },
    {
      "cell_type": "code",
      "source": [
        "LSH_KNN(1,2,tr_images,tr_labels,te_images,te_labels,te_images.shape[0],40,0.9)\n",
        "LSH_KNN(2,2,tr_images,tr_labels,te_images,te_labels,te_images.shape[0],40,0.9)\n",
        "LSH_KNN(3,2,tr_images,tr_labels,te_images,te_labels,te_images.shape[0],40,0.9)\n",
        "LSH_KNN(4,2,tr_images,tr_labels,te_images,te_labels,te_images.shape[0],40,0.9)\n",
        "LSH_KNN(5,2,tr_images,tr_labels,te_images,te_labels,te_images.shape[0],40,0.9)"
      ],
      "metadata": {
        "colab": {
          "base_uri": "https://localhost:8080/"
        },
        "outputId": "8054fb0e-a330-4193-8506-0137031f0dda",
        "id": "W-EGwWFDiMkC"
      },
      "execution_count": 24,
      "outputs": [
        {
          "output_type": "stream",
          "name": "stderr",
          "text": [
            "/usr/local/lib/python3.9/dist-packages/sklearn/metrics/pairwise.py:2025: DataConversionWarning: Data was converted to boolean for metric jaccard\n",
            "  warnings.warn(msg, DataConversionWarning)\n"
          ]
        },
        {
          "output_type": "stream",
          "name": "stdout",
          "text": [
            "Time taken to fit KNN model: 0.0073375701904296875 seconds\n"
          ]
        },
        {
          "output_type": "stream",
          "name": "stderr",
          "text": [
            "/usr/local/lib/python3.9/dist-packages/sklearn/metrics/pairwise.py:2025: DataConversionWarning: Data was converted to boolean for metric jaccard\n",
            "  warnings.warn(msg, DataConversionWarning)\n",
            "/usr/local/lib/python3.9/dist-packages/sklearn/metrics/pairwise.py:2025: DataConversionWarning: Data was converted to boolean for metric jaccard\n",
            "  warnings.warn(msg, DataConversionWarning)\n",
            "/usr/local/lib/python3.9/dist-packages/sklearn/metrics/pairwise.py:2025: DataConversionWarning: Data was converted to boolean for metric jaccard\n",
            "  warnings.warn(msg, DataConversionWarning)\n",
            "/usr/local/lib/python3.9/dist-packages/sklearn/metrics/pairwise.py:2025: DataConversionWarning: Data was converted to boolean for metric jaccard\n",
            "  warnings.warn(msg, DataConversionWarning)\n",
            "/usr/local/lib/python3.9/dist-packages/sklearn/metrics/pairwise.py:2025: DataConversionWarning: Data was converted to boolean for metric jaccard\n",
            "  warnings.warn(msg, DataConversionWarning)\n"
          ]
        },
        {
          "output_type": "stream",
          "name": "stdout",
          "text": [
            "              precision    recall  f1-score   support\n",
            "\n",
            "           0       0.80      0.83      0.81       980\n",
            "           1       0.89      0.92      0.90      1135\n",
            "           2       0.82      0.74      0.78      1032\n",
            "           3       0.60      0.59      0.59      1010\n",
            "           4       0.72      0.68      0.70       982\n",
            "           5       0.60      0.62      0.61       892\n",
            "           6       0.69      0.74      0.71       958\n",
            "           7       0.72      0.72      0.72      1028\n",
            "           8       0.67      0.59      0.62       974\n",
            "           9       0.63      0.69      0.66      1009\n",
            "\n",
            "    accuracy                           0.72     10000\n",
            "   macro avg       0.71      0.71      0.71     10000\n",
            "weighted avg       0.72      0.72      0.71     10000\n",
            "\n",
            "Time taken to evaluate KNN model on test portion: 32.74166202545166 seconds\n",
            "\n"
          ]
        },
        {
          "output_type": "stream",
          "name": "stderr",
          "text": [
            "/usr/local/lib/python3.9/dist-packages/sklearn/metrics/pairwise.py:2025: DataConversionWarning: Data was converted to boolean for metric jaccard\n",
            "  warnings.warn(msg, DataConversionWarning)\n"
          ]
        },
        {
          "output_type": "stream",
          "name": "stdout",
          "text": [
            "Time taken to fit KNN model: 0.010286331176757812 seconds\n"
          ]
        },
        {
          "output_type": "stream",
          "name": "stderr",
          "text": [
            "/usr/local/lib/python3.9/dist-packages/sklearn/metrics/pairwise.py:2025: DataConversionWarning: Data was converted to boolean for metric jaccard\n",
            "  warnings.warn(msg, DataConversionWarning)\n",
            "/usr/local/lib/python3.9/dist-packages/sklearn/metrics/pairwise.py:2025: DataConversionWarning: Data was converted to boolean for metric jaccard\n",
            "  warnings.warn(msg, DataConversionWarning)\n",
            "/usr/local/lib/python3.9/dist-packages/sklearn/metrics/pairwise.py:2025: DataConversionWarning: Data was converted to boolean for metric jaccard\n",
            "  warnings.warn(msg, DataConversionWarning)\n",
            "/usr/local/lib/python3.9/dist-packages/sklearn/metrics/pairwise.py:2025: DataConversionWarning: Data was converted to boolean for metric jaccard\n",
            "  warnings.warn(msg, DataConversionWarning)\n",
            "/usr/local/lib/python3.9/dist-packages/sklearn/metrics/pairwise.py:2025: DataConversionWarning: Data was converted to boolean for metric jaccard\n",
            "  warnings.warn(msg, DataConversionWarning)\n"
          ]
        },
        {
          "output_type": "stream",
          "name": "stdout",
          "text": [
            "              precision    recall  f1-score   support\n",
            "\n",
            "           0       0.68      0.88      0.77       980\n",
            "           1       0.79      0.91      0.84      1135\n",
            "           2       0.63      0.74      0.68      1032\n",
            "           3       0.64      0.66      0.65      1010\n",
            "           4       0.43      0.65      0.52       982\n",
            "           5       0.48      0.55      0.51       892\n",
            "           6       0.78      0.61      0.69       958\n",
            "           7       0.72      0.60      0.66      1028\n",
            "           8       0.69      0.35      0.46       974\n",
            "           9       0.61      0.36      0.45      1009\n",
            "\n",
            "    accuracy                           0.64     10000\n",
            "   macro avg       0.65      0.63      0.62     10000\n",
            "weighted avg       0.65      0.64      0.63     10000\n",
            "\n",
            "Time taken to evaluate KNN model on test portion: 31.97809600830078 seconds\n",
            "\n"
          ]
        },
        {
          "output_type": "stream",
          "name": "stderr",
          "text": [
            "/usr/local/lib/python3.9/dist-packages/sklearn/metrics/pairwise.py:2025: DataConversionWarning: Data was converted to boolean for metric jaccard\n",
            "  warnings.warn(msg, DataConversionWarning)\n"
          ]
        },
        {
          "output_type": "stream",
          "name": "stdout",
          "text": [
            "Time taken to fit KNN model: 0.008882761001586914 seconds\n"
          ]
        },
        {
          "output_type": "stream",
          "name": "stderr",
          "text": [
            "/usr/local/lib/python3.9/dist-packages/sklearn/metrics/pairwise.py:2025: DataConversionWarning: Data was converted to boolean for metric jaccard\n",
            "  warnings.warn(msg, DataConversionWarning)\n",
            "/usr/local/lib/python3.9/dist-packages/sklearn/metrics/pairwise.py:2025: DataConversionWarning: Data was converted to boolean for metric jaccard\n",
            "  warnings.warn(msg, DataConversionWarning)\n",
            "/usr/local/lib/python3.9/dist-packages/sklearn/metrics/pairwise.py:2025: DataConversionWarning: Data was converted to boolean for metric jaccard\n",
            "  warnings.warn(msg, DataConversionWarning)\n",
            "/usr/local/lib/python3.9/dist-packages/sklearn/metrics/pairwise.py:2025: DataConversionWarning: Data was converted to boolean for metric jaccard\n",
            "  warnings.warn(msg, DataConversionWarning)\n",
            "/usr/local/lib/python3.9/dist-packages/sklearn/metrics/pairwise.py:2025: DataConversionWarning: Data was converted to boolean for metric jaccard\n",
            "  warnings.warn(msg, DataConversionWarning)\n"
          ]
        },
        {
          "output_type": "stream",
          "name": "stdout",
          "text": [
            "              precision    recall  f1-score   support\n",
            "\n",
            "           0       0.50      0.67      0.57       980\n",
            "           1       0.44      0.93      0.60      1135\n",
            "           2       0.52      0.48      0.50      1032\n",
            "           3       0.48      0.45      0.46      1010\n",
            "           4       0.28      0.58      0.37       982\n",
            "           5       0.51      0.26      0.34       892\n",
            "           6       0.69      0.37      0.49       958\n",
            "           7       0.33      0.30      0.32      1028\n",
            "           8       0.34      0.12      0.18       974\n",
            "           9       0.36      0.03      0.06      1009\n",
            "\n",
            "    accuracy                           0.43     10000\n",
            "   macro avg       0.44      0.42      0.39     10000\n",
            "weighted avg       0.44      0.43      0.39     10000\n",
            "\n",
            "Time taken to evaluate KNN model on test portion: 34.15802526473999 seconds\n",
            "\n"
          ]
        },
        {
          "output_type": "stream",
          "name": "stderr",
          "text": [
            "/usr/local/lib/python3.9/dist-packages/sklearn/metrics/pairwise.py:2025: DataConversionWarning: Data was converted to boolean for metric jaccard\n",
            "  warnings.warn(msg, DataConversionWarning)\n"
          ]
        },
        {
          "output_type": "stream",
          "name": "stdout",
          "text": [
            "Time taken to fit KNN model: 0.008494377136230469 seconds\n"
          ]
        },
        {
          "output_type": "stream",
          "name": "stderr",
          "text": [
            "/usr/local/lib/python3.9/dist-packages/sklearn/metrics/pairwise.py:2025: DataConversionWarning: Data was converted to boolean for metric jaccard\n",
            "  warnings.warn(msg, DataConversionWarning)\n",
            "/usr/local/lib/python3.9/dist-packages/sklearn/metrics/pairwise.py:2025: DataConversionWarning: Data was converted to boolean for metric jaccard\n",
            "  warnings.warn(msg, DataConversionWarning)\n",
            "/usr/local/lib/python3.9/dist-packages/sklearn/metrics/pairwise.py:2025: DataConversionWarning: Data was converted to boolean for metric jaccard\n",
            "  warnings.warn(msg, DataConversionWarning)\n",
            "/usr/local/lib/python3.9/dist-packages/sklearn/metrics/pairwise.py:2025: DataConversionWarning: Data was converted to boolean for metric jaccard\n",
            "  warnings.warn(msg, DataConversionWarning)\n",
            "/usr/local/lib/python3.9/dist-packages/sklearn/metrics/pairwise.py:2025: DataConversionWarning: Data was converted to boolean for metric jaccard\n",
            "  warnings.warn(msg, DataConversionWarning)\n"
          ]
        },
        {
          "output_type": "stream",
          "name": "stdout",
          "text": [
            "              precision    recall  f1-score   support\n",
            "\n",
            "           0       0.77      0.93      0.84       980\n",
            "           1       0.77      0.93      0.84      1135\n",
            "           2       0.69      0.67      0.68      1032\n",
            "           3       0.53      0.63      0.58      1010\n",
            "           4       0.73      0.76      0.74       982\n",
            "           5       0.66      0.56      0.60       892\n",
            "           6       0.74      0.63      0.68       958\n",
            "           7       0.61      0.49      0.55      1028\n",
            "           8       0.53      0.44      0.48       974\n",
            "           9       0.59      0.58      0.58      1009\n",
            "\n",
            "    accuracy                           0.67     10000\n",
            "   macro avg       0.66      0.66      0.66     10000\n",
            "weighted avg       0.66      0.67      0.66     10000\n",
            "\n",
            "Time taken to evaluate KNN model on test portion: 36.70224642753601 seconds\n",
            "\n"
          ]
        },
        {
          "output_type": "stream",
          "name": "stderr",
          "text": [
            "/usr/local/lib/python3.9/dist-packages/sklearn/metrics/pairwise.py:2025: DataConversionWarning: Data was converted to boolean for metric jaccard\n",
            "  warnings.warn(msg, DataConversionWarning)\n"
          ]
        },
        {
          "output_type": "stream",
          "name": "stdout",
          "text": [
            "Time taken to fit KNN model: 0.010201692581176758 seconds\n"
          ]
        },
        {
          "output_type": "stream",
          "name": "stderr",
          "text": [
            "/usr/local/lib/python3.9/dist-packages/sklearn/metrics/pairwise.py:2025: DataConversionWarning: Data was converted to boolean for metric jaccard\n",
            "  warnings.warn(msg, DataConversionWarning)\n",
            "/usr/local/lib/python3.9/dist-packages/sklearn/metrics/pairwise.py:2025: DataConversionWarning: Data was converted to boolean for metric jaccard\n",
            "  warnings.warn(msg, DataConversionWarning)\n",
            "/usr/local/lib/python3.9/dist-packages/sklearn/metrics/pairwise.py:2025: DataConversionWarning: Data was converted to boolean for metric jaccard\n",
            "  warnings.warn(msg, DataConversionWarning)\n",
            "/usr/local/lib/python3.9/dist-packages/sklearn/metrics/pairwise.py:2025: DataConversionWarning: Data was converted to boolean for metric jaccard\n",
            "  warnings.warn(msg, DataConversionWarning)\n",
            "/usr/local/lib/python3.9/dist-packages/sklearn/metrics/pairwise.py:2025: DataConversionWarning: Data was converted to boolean for metric jaccard\n",
            "  warnings.warn(msg, DataConversionWarning)\n"
          ]
        },
        {
          "output_type": "stream",
          "name": "stdout",
          "text": [
            "              precision    recall  f1-score   support\n",
            "\n",
            "           0       0.82      0.89      0.86       980\n",
            "           1       0.85      0.92      0.89      1135\n",
            "           2       0.79      0.79      0.79      1032\n",
            "           3       0.71      0.67      0.69      1010\n",
            "           4       0.58      0.64      0.61       982\n",
            "           5       0.67      0.65      0.66       892\n",
            "           6       0.86      0.82      0.84       958\n",
            "           7       0.72      0.75      0.73      1028\n",
            "           8       0.74      0.64      0.68       974\n",
            "           9       0.56      0.53      0.55      1009\n",
            "\n",
            "    accuracy                           0.73     10000\n",
            "   macro avg       0.73      0.73      0.73     10000\n",
            "weighted avg       0.73      0.73      0.73     10000\n",
            "\n",
            "Time taken to evaluate KNN model on test portion: 34.7724084854126 seconds\n",
            "\n"
          ]
        }
      ]
    },
    {
      "cell_type": "code",
      "source": [
        "LSH_KNN(1,2,tr_images,tr_labels,te_images,te_labels,te_images.shape[0],60,0.8)\n",
        "LSH_KNN(2,2,tr_images,tr_labels,te_images,te_labels,te_images.shape[0],60,0.8)\n",
        "LSH_KNN(3,2,tr_images,tr_labels,te_images,te_labels,te_images.shape[0],60,0.8)\n",
        "LSH_KNN(4,2,tr_images,tr_labels,te_images,te_labels,te_images.shape[0],60,0.8)\n",
        "LSH_KNN(5,2,tr_images,tr_labels,te_images,te_labels,te_images.shape[0],60,0.8)"
      ],
      "metadata": {
        "colab": {
          "base_uri": "https://localhost:8080/"
        },
        "outputId": "96082199-f16b-409a-a25e-da6f60e30710",
        "id": "qTzP2ex9iMkD"
      },
      "execution_count": 25,
      "outputs": [
        {
          "output_type": "stream",
          "name": "stderr",
          "text": [
            "/usr/local/lib/python3.9/dist-packages/sklearn/metrics/pairwise.py:2025: DataConversionWarning: Data was converted to boolean for metric jaccard\n",
            "  warnings.warn(msg, DataConversionWarning)\n"
          ]
        },
        {
          "output_type": "stream",
          "name": "stdout",
          "text": [
            "Time taken to fit KNN model: 0.010690689086914062 seconds\n"
          ]
        },
        {
          "output_type": "stream",
          "name": "stderr",
          "text": [
            "/usr/local/lib/python3.9/dist-packages/sklearn/metrics/pairwise.py:2025: DataConversionWarning: Data was converted to boolean for metric jaccard\n",
            "  warnings.warn(msg, DataConversionWarning)\n",
            "/usr/local/lib/python3.9/dist-packages/sklearn/metrics/pairwise.py:2025: DataConversionWarning: Data was converted to boolean for metric jaccard\n",
            "  warnings.warn(msg, DataConversionWarning)\n",
            "/usr/local/lib/python3.9/dist-packages/sklearn/metrics/pairwise.py:2025: DataConversionWarning: Data was converted to boolean for metric jaccard\n",
            "  warnings.warn(msg, DataConversionWarning)\n",
            "/usr/local/lib/python3.9/dist-packages/sklearn/metrics/pairwise.py:2025: DataConversionWarning: Data was converted to boolean for metric jaccard\n",
            "  warnings.warn(msg, DataConversionWarning)\n",
            "/usr/local/lib/python3.9/dist-packages/sklearn/metrics/pairwise.py:2025: DataConversionWarning: Data was converted to boolean for metric jaccard\n",
            "  warnings.warn(msg, DataConversionWarning)\n"
          ]
        },
        {
          "output_type": "stream",
          "name": "stdout",
          "text": [
            "              precision    recall  f1-score   support\n",
            "\n",
            "           0       0.91      0.94      0.92       980\n",
            "           1       0.92      0.95      0.93      1135\n",
            "           2       0.89      0.82      0.85      1032\n",
            "           3       0.74      0.74      0.74      1010\n",
            "           4       0.77      0.73      0.75       982\n",
            "           5       0.78      0.80      0.79       892\n",
            "           6       0.87      0.89      0.88       958\n",
            "           7       0.80      0.85      0.82      1028\n",
            "           8       0.74      0.68      0.71       974\n",
            "           9       0.70      0.74      0.72      1009\n",
            "\n",
            "    accuracy                           0.82     10000\n",
            "   macro avg       0.81      0.81      0.81     10000\n",
            "weighted avg       0.81      0.82      0.81     10000\n",
            "\n",
            "Time taken to evaluate KNN model on test portion: 43.23662257194519 seconds\n",
            "\n"
          ]
        },
        {
          "output_type": "stream",
          "name": "stderr",
          "text": [
            "/usr/local/lib/python3.9/dist-packages/sklearn/metrics/pairwise.py:2025: DataConversionWarning: Data was converted to boolean for metric jaccard\n",
            "  warnings.warn(msg, DataConversionWarning)\n"
          ]
        },
        {
          "output_type": "stream",
          "name": "stdout",
          "text": [
            "Time taken to fit KNN model: 0.008992195129394531 seconds\n"
          ]
        },
        {
          "output_type": "stream",
          "name": "stderr",
          "text": [
            "/usr/local/lib/python3.9/dist-packages/sklearn/metrics/pairwise.py:2025: DataConversionWarning: Data was converted to boolean for metric jaccard\n",
            "  warnings.warn(msg, DataConversionWarning)\n",
            "/usr/local/lib/python3.9/dist-packages/sklearn/metrics/pairwise.py:2025: DataConversionWarning: Data was converted to boolean for metric jaccard\n",
            "  warnings.warn(msg, DataConversionWarning)\n",
            "/usr/local/lib/python3.9/dist-packages/sklearn/metrics/pairwise.py:2025: DataConversionWarning: Data was converted to boolean for metric jaccard\n",
            "  warnings.warn(msg, DataConversionWarning)\n",
            "/usr/local/lib/python3.9/dist-packages/sklearn/metrics/pairwise.py:2025: DataConversionWarning: Data was converted to boolean for metric jaccard\n",
            "  warnings.warn(msg, DataConversionWarning)\n",
            "/usr/local/lib/python3.9/dist-packages/sklearn/metrics/pairwise.py:2025: DataConversionWarning: Data was converted to boolean for metric jaccard\n",
            "  warnings.warn(msg, DataConversionWarning)\n"
          ]
        },
        {
          "output_type": "stream",
          "name": "stdout",
          "text": [
            "              precision    recall  f1-score   support\n",
            "\n",
            "           0       0.82      0.94      0.88       980\n",
            "           1       0.84      0.93      0.88      1135\n",
            "           2       0.73      0.81      0.76      1032\n",
            "           3       0.75      0.83      0.79      1010\n",
            "           4       0.57      0.74      0.64       982\n",
            "           5       0.80      0.76      0.78       892\n",
            "           6       0.89      0.88      0.89       958\n",
            "           7       0.73      0.75      0.74      1028\n",
            "           8       0.84      0.58      0.68       974\n",
            "           9       0.69      0.38      0.49      1009\n",
            "\n",
            "    accuracy                           0.76     10000\n",
            "   macro avg       0.76      0.76      0.75     10000\n",
            "weighted avg       0.76      0.76      0.75     10000\n",
            "\n",
            "Time taken to evaluate KNN model on test portion: 44.73540711402893 seconds\n",
            "\n"
          ]
        },
        {
          "output_type": "stream",
          "name": "stderr",
          "text": [
            "/usr/local/lib/python3.9/dist-packages/sklearn/metrics/pairwise.py:2025: DataConversionWarning: Data was converted to boolean for metric jaccard\n",
            "  warnings.warn(msg, DataConversionWarning)\n"
          ]
        },
        {
          "output_type": "stream",
          "name": "stdout",
          "text": [
            "Time taken to fit KNN model: 0.009111404418945312 seconds\n"
          ]
        },
        {
          "output_type": "stream",
          "name": "stderr",
          "text": [
            "/usr/local/lib/python3.9/dist-packages/sklearn/metrics/pairwise.py:2025: DataConversionWarning: Data was converted to boolean for metric jaccard\n",
            "  warnings.warn(msg, DataConversionWarning)\n",
            "/usr/local/lib/python3.9/dist-packages/sklearn/metrics/pairwise.py:2025: DataConversionWarning: Data was converted to boolean for metric jaccard\n",
            "  warnings.warn(msg, DataConversionWarning)\n",
            "/usr/local/lib/python3.9/dist-packages/sklearn/metrics/pairwise.py:2025: DataConversionWarning: Data was converted to boolean for metric jaccard\n",
            "  warnings.warn(msg, DataConversionWarning)\n",
            "/usr/local/lib/python3.9/dist-packages/sklearn/metrics/pairwise.py:2025: DataConversionWarning: Data was converted to boolean for metric jaccard\n",
            "  warnings.warn(msg, DataConversionWarning)\n",
            "/usr/local/lib/python3.9/dist-packages/sklearn/metrics/pairwise.py:2025: DataConversionWarning: Data was converted to boolean for metric jaccard\n",
            "  warnings.warn(msg, DataConversionWarning)\n"
          ]
        },
        {
          "output_type": "stream",
          "name": "stdout",
          "text": [
            "              precision    recall  f1-score   support\n",
            "\n",
            "           0       0.82      0.93      0.87       980\n",
            "           1       0.83      0.96      0.89      1135\n",
            "           2       0.82      0.77      0.79      1032\n",
            "           3       0.66      0.72      0.69      1010\n",
            "           4       0.74      0.68      0.71       982\n",
            "           5       0.69      0.64      0.66       892\n",
            "           6       0.84      0.91      0.87       958\n",
            "           7       0.78      0.70      0.74      1028\n",
            "           8       0.77      0.66      0.71       974\n",
            "           9       0.70      0.65      0.67      1009\n",
            "\n",
            "    accuracy                           0.77     10000\n",
            "   macro avg       0.76      0.76      0.76     10000\n",
            "weighted avg       0.76      0.77      0.76     10000\n",
            "\n",
            "Time taken to evaluate KNN model on test portion: 47.48222827911377 seconds\n",
            "\n"
          ]
        },
        {
          "output_type": "stream",
          "name": "stderr",
          "text": [
            "/usr/local/lib/python3.9/dist-packages/sklearn/metrics/pairwise.py:2025: DataConversionWarning: Data was converted to boolean for metric jaccard\n",
            "  warnings.warn(msg, DataConversionWarning)\n"
          ]
        },
        {
          "output_type": "stream",
          "name": "stdout",
          "text": [
            "Time taken to fit KNN model: 0.01062917709350586 seconds\n"
          ]
        },
        {
          "output_type": "stream",
          "name": "stderr",
          "text": [
            "/usr/local/lib/python3.9/dist-packages/sklearn/metrics/pairwise.py:2025: DataConversionWarning: Data was converted to boolean for metric jaccard\n",
            "  warnings.warn(msg, DataConversionWarning)\n",
            "/usr/local/lib/python3.9/dist-packages/sklearn/metrics/pairwise.py:2025: DataConversionWarning: Data was converted to boolean for metric jaccard\n",
            "  warnings.warn(msg, DataConversionWarning)\n",
            "/usr/local/lib/python3.9/dist-packages/sklearn/metrics/pairwise.py:2025: DataConversionWarning: Data was converted to boolean for metric jaccard\n",
            "  warnings.warn(msg, DataConversionWarning)\n",
            "/usr/local/lib/python3.9/dist-packages/sklearn/metrics/pairwise.py:2025: DataConversionWarning: Data was converted to boolean for metric jaccard\n",
            "  warnings.warn(msg, DataConversionWarning)\n",
            "/usr/local/lib/python3.9/dist-packages/sklearn/metrics/pairwise.py:2025: DataConversionWarning: Data was converted to boolean for metric jaccard\n",
            "  warnings.warn(msg, DataConversionWarning)\n"
          ]
        },
        {
          "output_type": "stream",
          "name": "stdout",
          "text": [
            "              precision    recall  f1-score   support\n",
            "\n",
            "           0       0.88      0.96      0.92       980\n",
            "           1       0.86      0.98      0.91      1135\n",
            "           2       0.88      0.82      0.85      1032\n",
            "           3       0.79      0.81      0.80      1010\n",
            "           4       0.69      0.78      0.73       982\n",
            "           5       0.81      0.81      0.81       892\n",
            "           6       0.90      0.90      0.90       958\n",
            "           7       0.84      0.83      0.83      1028\n",
            "           8       0.85      0.69      0.76       974\n",
            "           9       0.75      0.66      0.70      1009\n",
            "\n",
            "    accuracy                           0.83     10000\n",
            "   macro avg       0.83      0.82      0.82     10000\n",
            "weighted avg       0.83      0.83      0.82     10000\n",
            "\n",
            "Time taken to evaluate KNN model on test portion: 49.462000608444214 seconds\n",
            "\n"
          ]
        },
        {
          "output_type": "stream",
          "name": "stderr",
          "text": [
            "/usr/local/lib/python3.9/dist-packages/sklearn/metrics/pairwise.py:2025: DataConversionWarning: Data was converted to boolean for metric jaccard\n",
            "  warnings.warn(msg, DataConversionWarning)\n"
          ]
        },
        {
          "output_type": "stream",
          "name": "stdout",
          "text": [
            "Time taken to fit KNN model: 0.011110067367553711 seconds\n"
          ]
        },
        {
          "output_type": "stream",
          "name": "stderr",
          "text": [
            "/usr/local/lib/python3.9/dist-packages/sklearn/metrics/pairwise.py:2025: DataConversionWarning: Data was converted to boolean for metric jaccard\n",
            "  warnings.warn(msg, DataConversionWarning)\n",
            "/usr/local/lib/python3.9/dist-packages/sklearn/metrics/pairwise.py:2025: DataConversionWarning: Data was converted to boolean for metric jaccard\n",
            "  warnings.warn(msg, DataConversionWarning)\n",
            "/usr/local/lib/python3.9/dist-packages/sklearn/metrics/pairwise.py:2025: DataConversionWarning: Data was converted to boolean for metric jaccard\n",
            "  warnings.warn(msg, DataConversionWarning)\n",
            "/usr/local/lib/python3.9/dist-packages/sklearn/metrics/pairwise.py:2025: DataConversionWarning: Data was converted to boolean for metric jaccard\n",
            "  warnings.warn(msg, DataConversionWarning)\n",
            "/usr/local/lib/python3.9/dist-packages/sklearn/metrics/pairwise.py:2025: DataConversionWarning: Data was converted to boolean for metric jaccard\n",
            "  warnings.warn(msg, DataConversionWarning)\n"
          ]
        },
        {
          "output_type": "stream",
          "name": "stdout",
          "text": [
            "              precision    recall  f1-score   support\n",
            "\n",
            "           0       0.84      0.90      0.87       980\n",
            "           1       0.88      0.96      0.92      1135\n",
            "           2       0.84      0.79      0.81      1032\n",
            "           3       0.72      0.74      0.73      1010\n",
            "           4       0.77      0.77      0.77       982\n",
            "           5       0.70      0.62      0.66       892\n",
            "           6       0.85      0.88      0.86       958\n",
            "           7       0.85      0.85      0.85      1028\n",
            "           8       0.76      0.68      0.72       974\n",
            "           9       0.73      0.75      0.74      1009\n",
            "\n",
            "    accuracy                           0.80     10000\n",
            "   macro avg       0.79      0.80      0.79     10000\n",
            "weighted avg       0.80      0.80      0.80     10000\n",
            "\n",
            "Time taken to evaluate KNN model on test portion: 50.58073019981384 seconds\n",
            "\n"
          ]
        }
      ]
    },
    {
      "cell_type": "code",
      "source": [
        "LSH_KNN(1,2,tr_images,tr_labels,te_images,te_labels,te_images.shape[0],60,0.9)\n",
        "LSH_KNN(2,2,tr_images,tr_labels,te_images,te_labels,te_images.shape[0],60,0.9)\n",
        "LSH_KNN(3,2,tr_images,tr_labels,te_images,te_labels,te_images.shape[0],60,0.9)\n",
        "LSH_KNN(4,2,tr_images,tr_labels,te_images,te_labels,te_images.shape[0],60,0.9)\n",
        "LSH_KNN(5,2,tr_images,tr_labels,te_images,te_labels,te_images.shape[0],60,0.9)"
      ],
      "metadata": {
        "colab": {
          "base_uri": "https://localhost:8080/"
        },
        "outputId": "972f6d8b-9e6c-4e36-a34e-3c653a975527",
        "id": "OrcYCsbSiMkD"
      },
      "execution_count": 26,
      "outputs": [
        {
          "output_type": "stream",
          "name": "stderr",
          "text": [
            "/usr/local/lib/python3.9/dist-packages/sklearn/metrics/pairwise.py:2025: DataConversionWarning: Data was converted to boolean for metric jaccard\n",
            "  warnings.warn(msg, DataConversionWarning)\n"
          ]
        },
        {
          "output_type": "stream",
          "name": "stdout",
          "text": [
            "Time taken to fit KNN model: 0.012070417404174805 seconds\n"
          ]
        },
        {
          "output_type": "stream",
          "name": "stderr",
          "text": [
            "/usr/local/lib/python3.9/dist-packages/sklearn/metrics/pairwise.py:2025: DataConversionWarning: Data was converted to boolean for metric jaccard\n",
            "  warnings.warn(msg, DataConversionWarning)\n",
            "/usr/local/lib/python3.9/dist-packages/sklearn/metrics/pairwise.py:2025: DataConversionWarning: Data was converted to boolean for metric jaccard\n",
            "  warnings.warn(msg, DataConversionWarning)\n",
            "/usr/local/lib/python3.9/dist-packages/sklearn/metrics/pairwise.py:2025: DataConversionWarning: Data was converted to boolean for metric jaccard\n",
            "  warnings.warn(msg, DataConversionWarning)\n",
            "/usr/local/lib/python3.9/dist-packages/sklearn/metrics/pairwise.py:2025: DataConversionWarning: Data was converted to boolean for metric jaccard\n",
            "  warnings.warn(msg, DataConversionWarning)\n",
            "/usr/local/lib/python3.9/dist-packages/sklearn/metrics/pairwise.py:2025: DataConversionWarning: Data was converted to boolean for metric jaccard\n",
            "  warnings.warn(msg, DataConversionWarning)\n"
          ]
        },
        {
          "output_type": "stream",
          "name": "stdout",
          "text": [
            "              precision    recall  f1-score   support\n",
            "\n",
            "           0       0.89      0.90      0.89       980\n",
            "           1       0.87      0.88      0.87      1135\n",
            "           2       0.74      0.73      0.73      1032\n",
            "           3       0.63      0.68      0.65      1010\n",
            "           4       0.70      0.71      0.71       982\n",
            "           5       0.70      0.73      0.72       892\n",
            "           6       0.87      0.87      0.87       958\n",
            "           7       0.70      0.65      0.67      1028\n",
            "           8       0.64      0.58      0.61       974\n",
            "           9       0.60      0.63      0.61      1009\n",
            "\n",
            "    accuracy                           0.74     10000\n",
            "   macro avg       0.73      0.73      0.73     10000\n",
            "weighted avg       0.74      0.74      0.74     10000\n",
            "\n",
            "Time taken to evaluate KNN model on test portion: 43.046393156051636 seconds\n",
            "\n"
          ]
        },
        {
          "output_type": "stream",
          "name": "stderr",
          "text": [
            "/usr/local/lib/python3.9/dist-packages/sklearn/metrics/pairwise.py:2025: DataConversionWarning: Data was converted to boolean for metric jaccard\n",
            "  warnings.warn(msg, DataConversionWarning)\n"
          ]
        },
        {
          "output_type": "stream",
          "name": "stdout",
          "text": [
            "Time taken to fit KNN model: 0.012096166610717773 seconds\n"
          ]
        },
        {
          "output_type": "stream",
          "name": "stderr",
          "text": [
            "/usr/local/lib/python3.9/dist-packages/sklearn/metrics/pairwise.py:2025: DataConversionWarning: Data was converted to boolean for metric jaccard\n",
            "  warnings.warn(msg, DataConversionWarning)\n",
            "/usr/local/lib/python3.9/dist-packages/sklearn/metrics/pairwise.py:2025: DataConversionWarning: Data was converted to boolean for metric jaccard\n",
            "  warnings.warn(msg, DataConversionWarning)\n",
            "/usr/local/lib/python3.9/dist-packages/sklearn/metrics/pairwise.py:2025: DataConversionWarning: Data was converted to boolean for metric jaccard\n",
            "  warnings.warn(msg, DataConversionWarning)\n",
            "/usr/local/lib/python3.9/dist-packages/sklearn/metrics/pairwise.py:2025: DataConversionWarning: Data was converted to boolean for metric jaccard\n",
            "  warnings.warn(msg, DataConversionWarning)\n",
            "/usr/local/lib/python3.9/dist-packages/sklearn/metrics/pairwise.py:2025: DataConversionWarning: Data was converted to boolean for metric jaccard\n",
            "  warnings.warn(msg, DataConversionWarning)\n"
          ]
        },
        {
          "output_type": "stream",
          "name": "stdout",
          "text": [
            "              precision    recall  f1-score   support\n",
            "\n",
            "           0       0.79      0.93      0.86       980\n",
            "           1       0.85      0.96      0.90      1135\n",
            "           2       0.70      0.79      0.74      1032\n",
            "           3       0.67      0.75      0.71      1010\n",
            "           4       0.56      0.73      0.64       982\n",
            "           5       0.71      0.66      0.68       892\n",
            "           6       0.86      0.79      0.82       958\n",
            "           7       0.77      0.77      0.77      1028\n",
            "           8       0.74      0.47      0.57       974\n",
            "           9       0.70      0.44      0.54      1009\n",
            "\n",
            "    accuracy                           0.73     10000\n",
            "   macro avg       0.74      0.73      0.72     10000\n",
            "weighted avg       0.74      0.73      0.73     10000\n",
            "\n",
            "Time taken to evaluate KNN model on test portion: 44.81636953353882 seconds\n",
            "\n"
          ]
        },
        {
          "output_type": "stream",
          "name": "stderr",
          "text": [
            "/usr/local/lib/python3.9/dist-packages/sklearn/metrics/pairwise.py:2025: DataConversionWarning: Data was converted to boolean for metric jaccard\n",
            "  warnings.warn(msg, DataConversionWarning)\n"
          ]
        },
        {
          "output_type": "stream",
          "name": "stdout",
          "text": [
            "Time taken to fit KNN model: 0.011983633041381836 seconds\n"
          ]
        },
        {
          "output_type": "stream",
          "name": "stderr",
          "text": [
            "/usr/local/lib/python3.9/dist-packages/sklearn/metrics/pairwise.py:2025: DataConversionWarning: Data was converted to boolean for metric jaccard\n",
            "  warnings.warn(msg, DataConversionWarning)\n",
            "/usr/local/lib/python3.9/dist-packages/sklearn/metrics/pairwise.py:2025: DataConversionWarning: Data was converted to boolean for metric jaccard\n",
            "  warnings.warn(msg, DataConversionWarning)\n",
            "/usr/local/lib/python3.9/dist-packages/sklearn/metrics/pairwise.py:2025: DataConversionWarning: Data was converted to boolean for metric jaccard\n",
            "  warnings.warn(msg, DataConversionWarning)\n",
            "/usr/local/lib/python3.9/dist-packages/sklearn/metrics/pairwise.py:2025: DataConversionWarning: Data was converted to boolean for metric jaccard\n",
            "  warnings.warn(msg, DataConversionWarning)\n",
            "/usr/local/lib/python3.9/dist-packages/sklearn/metrics/pairwise.py:2025: DataConversionWarning: Data was converted to boolean for metric jaccard\n",
            "  warnings.warn(msg, DataConversionWarning)\n"
          ]
        },
        {
          "output_type": "stream",
          "name": "stdout",
          "text": [
            "              precision    recall  f1-score   support\n",
            "\n",
            "           0       0.85      0.95      0.90       980\n",
            "           1       0.84      0.93      0.88      1135\n",
            "           2       0.81      0.80      0.81      1032\n",
            "           3       0.65      0.66      0.66      1010\n",
            "           4       0.78      0.75      0.76       982\n",
            "           5       0.68      0.59      0.63       892\n",
            "           6       0.82      0.85      0.83       958\n",
            "           7       0.88      0.89      0.89      1028\n",
            "           8       0.66      0.56      0.60       974\n",
            "           9       0.78      0.78      0.78      1009\n",
            "\n",
            "    accuracy                           0.78     10000\n",
            "   macro avg       0.77      0.78      0.77     10000\n",
            "weighted avg       0.78      0.78      0.78     10000\n",
            "\n",
            "Time taken to evaluate KNN model on test portion: 46.823909759521484 seconds\n",
            "\n"
          ]
        },
        {
          "output_type": "stream",
          "name": "stderr",
          "text": [
            "/usr/local/lib/python3.9/dist-packages/sklearn/metrics/pairwise.py:2025: DataConversionWarning: Data was converted to boolean for metric jaccard\n",
            "  warnings.warn(msg, DataConversionWarning)\n"
          ]
        },
        {
          "output_type": "stream",
          "name": "stdout",
          "text": [
            "Time taken to fit KNN model: 0.010621070861816406 seconds\n"
          ]
        },
        {
          "output_type": "stream",
          "name": "stderr",
          "text": [
            "/usr/local/lib/python3.9/dist-packages/sklearn/metrics/pairwise.py:2025: DataConversionWarning: Data was converted to boolean for metric jaccard\n",
            "  warnings.warn(msg, DataConversionWarning)\n",
            "/usr/local/lib/python3.9/dist-packages/sklearn/metrics/pairwise.py:2025: DataConversionWarning: Data was converted to boolean for metric jaccard\n",
            "  warnings.warn(msg, DataConversionWarning)\n",
            "/usr/local/lib/python3.9/dist-packages/sklearn/metrics/pairwise.py:2025: DataConversionWarning: Data was converted to boolean for metric jaccard\n",
            "  warnings.warn(msg, DataConversionWarning)\n",
            "/usr/local/lib/python3.9/dist-packages/sklearn/metrics/pairwise.py:2025: DataConversionWarning: Data was converted to boolean for metric jaccard\n",
            "  warnings.warn(msg, DataConversionWarning)\n",
            "/usr/local/lib/python3.9/dist-packages/sklearn/metrics/pairwise.py:2025: DataConversionWarning: Data was converted to boolean for metric jaccard\n",
            "  warnings.warn(msg, DataConversionWarning)\n"
          ]
        },
        {
          "output_type": "stream",
          "name": "stdout",
          "text": [
            "              precision    recall  f1-score   support\n",
            "\n",
            "           0       0.83      0.95      0.89       980\n",
            "           1       0.85      0.97      0.91      1135\n",
            "           2       0.79      0.78      0.79      1032\n",
            "           3       0.73      0.75      0.74      1010\n",
            "           4       0.78      0.78      0.78       982\n",
            "           5       0.84      0.77      0.80       892\n",
            "           6       0.86      0.89      0.88       958\n",
            "           7       0.74      0.79      0.76      1028\n",
            "           8       0.73      0.56      0.63       974\n",
            "           9       0.71      0.62      0.66      1009\n",
            "\n",
            "    accuracy                           0.79     10000\n",
            "   macro avg       0.79      0.79      0.78     10000\n",
            "weighted avg       0.79      0.79      0.78     10000\n",
            "\n",
            "Time taken to evaluate KNN model on test portion: 48.07419490814209 seconds\n",
            "\n"
          ]
        },
        {
          "output_type": "stream",
          "name": "stderr",
          "text": [
            "/usr/local/lib/python3.9/dist-packages/sklearn/metrics/pairwise.py:2025: DataConversionWarning: Data was converted to boolean for metric jaccard\n",
            "  warnings.warn(msg, DataConversionWarning)\n"
          ]
        },
        {
          "output_type": "stream",
          "name": "stdout",
          "text": [
            "Time taken to fit KNN model: 0.010506629943847656 seconds\n"
          ]
        },
        {
          "output_type": "stream",
          "name": "stderr",
          "text": [
            "/usr/local/lib/python3.9/dist-packages/sklearn/metrics/pairwise.py:2025: DataConversionWarning: Data was converted to boolean for metric jaccard\n",
            "  warnings.warn(msg, DataConversionWarning)\n",
            "/usr/local/lib/python3.9/dist-packages/sklearn/metrics/pairwise.py:2025: DataConversionWarning: Data was converted to boolean for metric jaccard\n",
            "  warnings.warn(msg, DataConversionWarning)\n",
            "/usr/local/lib/python3.9/dist-packages/sklearn/metrics/pairwise.py:2025: DataConversionWarning: Data was converted to boolean for metric jaccard\n",
            "  warnings.warn(msg, DataConversionWarning)\n",
            "/usr/local/lib/python3.9/dist-packages/sklearn/metrics/pairwise.py:2025: DataConversionWarning: Data was converted to boolean for metric jaccard\n",
            "  warnings.warn(msg, DataConversionWarning)\n",
            "/usr/local/lib/python3.9/dist-packages/sklearn/metrics/pairwise.py:2025: DataConversionWarning: Data was converted to boolean for metric jaccard\n",
            "  warnings.warn(msg, DataConversionWarning)\n"
          ]
        },
        {
          "output_type": "stream",
          "name": "stdout",
          "text": [
            "              precision    recall  f1-score   support\n",
            "\n",
            "           0       0.85      0.93      0.89       980\n",
            "           1       0.89      0.98      0.93      1135\n",
            "           2       0.88      0.81      0.84      1032\n",
            "           3       0.76      0.79      0.78      1010\n",
            "           4       0.84      0.82      0.83       982\n",
            "           5       0.78      0.76      0.77       892\n",
            "           6       0.89      0.90      0.89       958\n",
            "           7       0.81      0.83      0.82      1028\n",
            "           8       0.79      0.68      0.74       974\n",
            "           9       0.72      0.71      0.72      1009\n",
            "\n",
            "    accuracy                           0.82     10000\n",
            "   macro avg       0.82      0.82      0.82     10000\n",
            "weighted avg       0.82      0.82      0.82     10000\n",
            "\n",
            "Time taken to evaluate KNN model on test portion: 49.44631862640381 seconds\n",
            "\n"
          ]
        }
      ]
    },
    {
      "cell_type": "markdown",
      "metadata": {
        "id": "-g69FCyTfm2G"
      },
      "source": [
        "### Memory related information for imgs=10"
      ]
    },
    {
      "cell_type": "code",
      "execution_count": 10,
      "metadata": {
        "colab": {
          "base_uri": "https://localhost:8080/"
        },
        "outputId": "5b12b4eb-d88b-44ef-bd11-9470ededc5f3",
        "id": "nLfYBsIcfm2G"
      },
      "outputs": [
        {
          "output_type": "stream",
          "name": "stderr",
          "text": [
            "/usr/local/lib/python3.9/dist-packages/sklearn/metrics/pairwise.py:2025: DataConversionWarning: Data was converted to boolean for metric jaccard\n",
            "  warnings.warn(msg, DataConversionWarning)\n",
            "/usr/local/lib/python3.9/dist-packages/sklearn/metrics/pairwise.py:2025: DataConversionWarning: Data was converted to boolean for metric jaccard\n",
            "  warnings.warn(msg, DataConversionWarning)\n",
            "/usr/local/lib/python3.9/dist-packages/sklearn/metrics/pairwise.py:2025: DataConversionWarning: Data was converted to boolean for metric jaccard\n",
            "  warnings.warn(msg, DataConversionWarning)\n"
          ]
        },
        {
          "output_type": "stream",
          "name": "stdout",
          "text": [
            "Peak memory usage during fit function: 9439.11 MiB\n",
            "Peak memory usage during predict function: 9449.36 MiB\n",
            "L1 cache size: 32.00 KiB\n",
            "L2 cache size: 256.00 KiB\n",
            "Memory usage of KNN object and its attributes: 0.00 MiB\n",
            "Resident memory usage of Python process: 9449.37 MiB\n",
            "Virtual memory usage of Python process: 10594.41 MiB\n",
            "CPU usage of Python process: 0.00%\n",
            "Number of threads of Python process: 16\n",
            "Number of open file descriptors of Python process: 51\n",
            " \n"
          ]
        },
        {
          "output_type": "stream",
          "name": "stderr",
          "text": [
            "/usr/local/lib/python3.9/dist-packages/sklearn/metrics/pairwise.py:2025: DataConversionWarning: Data was converted to boolean for metric jaccard\n",
            "  warnings.warn(msg, DataConversionWarning)\n",
            "/usr/local/lib/python3.9/dist-packages/sklearn/metrics/pairwise.py:2025: DataConversionWarning: Data was converted to boolean for metric jaccard\n",
            "  warnings.warn(msg, DataConversionWarning)\n",
            "/usr/local/lib/python3.9/dist-packages/sklearn/metrics/pairwise.py:2025: DataConversionWarning: Data was converted to boolean for metric jaccard\n",
            "  warnings.warn(msg, DataConversionWarning)\n"
          ]
        },
        {
          "output_type": "stream",
          "name": "stdout",
          "text": [
            "Peak memory usage during fit function: 9439.29 MiB\n",
            "Peak memory usage during predict function: 9449.44 MiB\n",
            "L1 cache size: 32.00 KiB\n",
            "L2 cache size: 256.00 KiB\n",
            "Memory usage of KNN object and its attributes: 0.00 MiB\n",
            "Resident memory usage of Python process: 9449.44 MiB\n",
            "Virtual memory usage of Python process: 10594.40 MiB\n",
            "CPU usage of Python process: 0.00%\n",
            "Number of threads of Python process: 16\n",
            "Number of open file descriptors of Python process: 51\n",
            " \n"
          ]
        },
        {
          "output_type": "stream",
          "name": "stderr",
          "text": [
            "/usr/local/lib/python3.9/dist-packages/sklearn/metrics/pairwise.py:2025: DataConversionWarning: Data was converted to boolean for metric jaccard\n",
            "  warnings.warn(msg, DataConversionWarning)\n",
            "/usr/local/lib/python3.9/dist-packages/sklearn/metrics/pairwise.py:2025: DataConversionWarning: Data was converted to boolean for metric jaccard\n",
            "  warnings.warn(msg, DataConversionWarning)\n",
            "/usr/local/lib/python3.9/dist-packages/sklearn/metrics/pairwise.py:2025: DataConversionWarning: Data was converted to boolean for metric jaccard\n",
            "  warnings.warn(msg, DataConversionWarning)\n"
          ]
        },
        {
          "output_type": "stream",
          "name": "stdout",
          "text": [
            "Peak memory usage during fit function: 9451.37 MiB\n",
            "Peak memory usage during predict function: 9461.33 MiB\n",
            "L1 cache size: 32.00 KiB\n",
            "L2 cache size: 256.00 KiB\n",
            "Memory usage of KNN object and its attributes: 0.00 MiB\n",
            "Resident memory usage of Python process: 9461.35 MiB\n",
            "Virtual memory usage of Python process: 10606.27 MiB\n",
            "CPU usage of Python process: 0.00%\n",
            "Number of threads of Python process: 16\n",
            "Number of open file descriptors of Python process: 51\n",
            " \n"
          ]
        },
        {
          "output_type": "stream",
          "name": "stderr",
          "text": [
            "/usr/local/lib/python3.9/dist-packages/sklearn/metrics/pairwise.py:2025: DataConversionWarning: Data was converted to boolean for metric jaccard\n",
            "  warnings.warn(msg, DataConversionWarning)\n",
            "/usr/local/lib/python3.9/dist-packages/sklearn/metrics/pairwise.py:2025: DataConversionWarning: Data was converted to boolean for metric jaccard\n",
            "  warnings.warn(msg, DataConversionWarning)\n",
            "/usr/local/lib/python3.9/dist-packages/sklearn/metrics/pairwise.py:2025: DataConversionWarning: Data was converted to boolean for metric jaccard\n",
            "  warnings.warn(msg, DataConversionWarning)\n"
          ]
        },
        {
          "output_type": "stream",
          "name": "stdout",
          "text": [
            "Peak memory usage during fit function: 9451.40 MiB\n",
            "Peak memory usage during predict function: 9461.36 MiB\n",
            "L1 cache size: 32.00 KiB\n",
            "L2 cache size: 256.00 KiB\n",
            "Memory usage of KNN object and its attributes: 0.00 MiB\n",
            "Resident memory usage of Python process: 9461.36 MiB\n",
            "Virtual memory usage of Python process: 10606.27 MiB\n",
            "CPU usage of Python process: 0.00%\n",
            "Number of threads of Python process: 16\n",
            "Number of open file descriptors of Python process: 51\n",
            " \n"
          ]
        }
      ],
      "source": [
        "LSH_Information(1,2,tr_images,tr_labels,te_images,te_labels,10,40,0.8)\n",
        "print(\" \")\n",
        "LSH_Information(1,2,tr_images,tr_labels,te_images,te_labels,10,40,0.9)\n",
        "print(\" \")\n",
        "LSH_Information(1,2,tr_images,tr_labels,te_images,te_labels,10,60,0.8)\n",
        "print(\" \")\n",
        "LSH_Information(1,2,tr_images,tr_labels,te_images,te_labels,10,60,0.9)\n",
        "print(\" \")"
      ]
    },
    {
      "cell_type": "code",
      "execution_count": 11,
      "metadata": {
        "colab": {
          "base_uri": "https://localhost:8080/"
        },
        "outputId": "020d62ac-97b5-429d-c636-ef2ce3fc4c0c",
        "id": "-4_trdj8fm2G"
      },
      "outputs": [
        {
          "output_type": "stream",
          "name": "stderr",
          "text": [
            "/usr/local/lib/python3.9/dist-packages/sklearn/metrics/pairwise.py:2025: DataConversionWarning: Data was converted to boolean for metric jaccard\n",
            "  warnings.warn(msg, DataConversionWarning)\n",
            "/usr/local/lib/python3.9/dist-packages/sklearn/metrics/pairwise.py:2025: DataConversionWarning: Data was converted to boolean for metric jaccard\n",
            "  warnings.warn(msg, DataConversionWarning)\n",
            "/usr/local/lib/python3.9/dist-packages/sklearn/metrics/pairwise.py:2025: DataConversionWarning: Data was converted to boolean for metric jaccard\n",
            "  warnings.warn(msg, DataConversionWarning)\n"
          ]
        },
        {
          "output_type": "stream",
          "name": "stdout",
          "text": [
            "Peak memory usage during fit function: 9439.36 MiB\n",
            "Peak memory usage during predict function: 9449.54 MiB\n",
            "L1 cache size: 32.00 KiB\n",
            "L2 cache size: 256.00 KiB\n",
            "Memory usage of KNN object and its attributes: 0.00 MiB\n",
            "Resident memory usage of Python process: 9449.54 MiB\n",
            "Virtual memory usage of Python process: 10594.40 MiB\n",
            "CPU usage of Python process: 0.00%\n",
            "Number of threads of Python process: 16\n",
            "Number of open file descriptors of Python process: 51\n",
            " \n"
          ]
        },
        {
          "output_type": "stream",
          "name": "stderr",
          "text": [
            "/usr/local/lib/python3.9/dist-packages/sklearn/metrics/pairwise.py:2025: DataConversionWarning: Data was converted to boolean for metric jaccard\n",
            "  warnings.warn(msg, DataConversionWarning)\n",
            "/usr/local/lib/python3.9/dist-packages/sklearn/metrics/pairwise.py:2025: DataConversionWarning: Data was converted to boolean for metric jaccard\n",
            "  warnings.warn(msg, DataConversionWarning)\n",
            "/usr/local/lib/python3.9/dist-packages/sklearn/metrics/pairwise.py:2025: DataConversionWarning: Data was converted to boolean for metric jaccard\n",
            "  warnings.warn(msg, DataConversionWarning)\n"
          ]
        },
        {
          "output_type": "stream",
          "name": "stdout",
          "text": [
            "Peak memory usage during fit function: 9449.56 MiB\n",
            "Peak memory usage during predict function: 9449.58 MiB\n",
            "L1 cache size: 32.00 KiB\n",
            "L2 cache size: 256.00 KiB\n",
            "Memory usage of KNN object and its attributes: 0.00 MiB\n",
            "Resident memory usage of Python process: 9449.58 MiB\n",
            "Virtual memory usage of Python process: 10594.40 MiB\n",
            "CPU usage of Python process: 0.00%\n",
            "Number of threads of Python process: 16\n",
            "Number of open file descriptors of Python process: 51\n",
            " \n"
          ]
        },
        {
          "output_type": "stream",
          "name": "stderr",
          "text": [
            "/usr/local/lib/python3.9/dist-packages/sklearn/metrics/pairwise.py:2025: DataConversionWarning: Data was converted to boolean for metric jaccard\n",
            "  warnings.warn(msg, DataConversionWarning)\n",
            "/usr/local/lib/python3.9/dist-packages/sklearn/metrics/pairwise.py:2025: DataConversionWarning: Data was converted to boolean for metric jaccard\n",
            "  warnings.warn(msg, DataConversionWarning)\n",
            "/usr/local/lib/python3.9/dist-packages/sklearn/metrics/pairwise.py:2025: DataConversionWarning: Data was converted to boolean for metric jaccard\n",
            "  warnings.warn(msg, DataConversionWarning)\n"
          ]
        },
        {
          "output_type": "stream",
          "name": "stdout",
          "text": [
            "Peak memory usage during fit function: 9451.50 MiB\n",
            "Peak memory usage during predict function: 9461.46 MiB\n",
            "L1 cache size: 32.00 KiB\n",
            "L2 cache size: 256.00 KiB\n",
            "Memory usage of KNN object and its attributes: 0.00 MiB\n",
            "Resident memory usage of Python process: 9461.48 MiB\n",
            "Virtual memory usage of Python process: 10606.28 MiB\n",
            "CPU usage of Python process: 0.00%\n",
            "Number of threads of Python process: 16\n",
            "Number of open file descriptors of Python process: 51\n",
            " \n"
          ]
        },
        {
          "output_type": "stream",
          "name": "stderr",
          "text": [
            "/usr/local/lib/python3.9/dist-packages/sklearn/metrics/pairwise.py:2025: DataConversionWarning: Data was converted to boolean for metric jaccard\n",
            "  warnings.warn(msg, DataConversionWarning)\n",
            "/usr/local/lib/python3.9/dist-packages/sklearn/metrics/pairwise.py:2025: DataConversionWarning: Data was converted to boolean for metric jaccard\n",
            "  warnings.warn(msg, DataConversionWarning)\n",
            "/usr/local/lib/python3.9/dist-packages/sklearn/metrics/pairwise.py:2025: DataConversionWarning: Data was converted to boolean for metric jaccard\n",
            "  warnings.warn(msg, DataConversionWarning)\n"
          ]
        },
        {
          "output_type": "stream",
          "name": "stdout",
          "text": [
            "Peak memory usage during fit function: 9461.49 MiB\n",
            "Peak memory usage during predict function: 9461.49 MiB\n",
            "L1 cache size: 32.00 KiB\n",
            "L2 cache size: 256.00 KiB\n",
            "Memory usage of KNN object and its attributes: 0.00 MiB\n",
            "Resident memory usage of Python process: 9461.49 MiB\n",
            "Virtual memory usage of Python process: 10606.28 MiB\n",
            "CPU usage of Python process: 0.00%\n",
            "Number of threads of Python process: 16\n",
            "Number of open file descriptors of Python process: 51\n",
            " \n"
          ]
        }
      ],
      "source": [
        "LSH_Information(2,2,tr_images,tr_labels,te_images,te_labels,10,40,0.8)\n",
        "print(\" \")\n",
        "LSH_Information(2,2,tr_images,tr_labels,te_images,te_labels,10,40,0.9)\n",
        "print(\" \")\n",
        "LSH_Information(2,2,tr_images,tr_labels,te_images,te_labels,10,60,0.8)\n",
        "print(\" \")\n",
        "LSH_Information(2,2,tr_images,tr_labels,te_images,te_labels,10,60,0.9)\n",
        "print(\" \")"
      ]
    },
    {
      "cell_type": "code",
      "execution_count": 12,
      "metadata": {
        "colab": {
          "base_uri": "https://localhost:8080/"
        },
        "outputId": "66e5058f-d6bf-4160-85a9-d5f711405413",
        "id": "1s_3lkw4fm2G"
      },
      "outputs": [
        {
          "output_type": "stream",
          "name": "stderr",
          "text": [
            "/usr/local/lib/python3.9/dist-packages/sklearn/metrics/pairwise.py:2025: DataConversionWarning: Data was converted to boolean for metric jaccard\n",
            "  warnings.warn(msg, DataConversionWarning)\n",
            "/usr/local/lib/python3.9/dist-packages/sklearn/metrics/pairwise.py:2025: DataConversionWarning: Data was converted to boolean for metric jaccard\n",
            "  warnings.warn(msg, DataConversionWarning)\n",
            "/usr/local/lib/python3.9/dist-packages/sklearn/metrics/pairwise.py:2025: DataConversionWarning: Data was converted to boolean for metric jaccard\n",
            "  warnings.warn(msg, DataConversionWarning)\n"
          ]
        },
        {
          "output_type": "stream",
          "name": "stdout",
          "text": [
            "Peak memory usage during fit function: 9461.51 MiB\n",
            "Peak memory usage during predict function: 9461.51 MiB\n",
            "L1 cache size: 32.00 KiB\n",
            "L2 cache size: 256.00 KiB\n",
            "Memory usage of KNN object and its attributes: 0.00 MiB\n",
            "Resident memory usage of Python process: 9461.51 MiB\n",
            "Virtual memory usage of Python process: 10606.28 MiB\n",
            "CPU usage of Python process: 0.00%\n",
            "Number of threads of Python process: 16\n",
            "Number of open file descriptors of Python process: 51\n",
            " \n"
          ]
        },
        {
          "output_type": "stream",
          "name": "stderr",
          "text": [
            "/usr/local/lib/python3.9/dist-packages/sklearn/metrics/pairwise.py:2025: DataConversionWarning: Data was converted to boolean for metric jaccard\n",
            "  warnings.warn(msg, DataConversionWarning)\n",
            "/usr/local/lib/python3.9/dist-packages/sklearn/metrics/pairwise.py:2025: DataConversionWarning: Data was converted to boolean for metric jaccard\n",
            "  warnings.warn(msg, DataConversionWarning)\n",
            "/usr/local/lib/python3.9/dist-packages/sklearn/metrics/pairwise.py:2025: DataConversionWarning: Data was converted to boolean for metric jaccard\n",
            "  warnings.warn(msg, DataConversionWarning)\n"
          ]
        },
        {
          "output_type": "stream",
          "name": "stdout",
          "text": [
            "Peak memory usage during fit function: 9461.51 MiB\n",
            "Peak memory usage during predict function: 9461.55 MiB\n",
            "L1 cache size: 32.00 KiB\n",
            "L2 cache size: 256.00 KiB\n",
            "Memory usage of KNN object and its attributes: 0.00 MiB\n",
            "Resident memory usage of Python process: 9461.55 MiB\n",
            "Virtual memory usage of Python process: 10606.28 MiB\n",
            "CPU usage of Python process: 0.00%\n",
            "Number of threads of Python process: 16\n",
            "Number of open file descriptors of Python process: 51\n",
            " \n"
          ]
        },
        {
          "output_type": "stream",
          "name": "stderr",
          "text": [
            "/usr/local/lib/python3.9/dist-packages/sklearn/metrics/pairwise.py:2025: DataConversionWarning: Data was converted to boolean for metric jaccard\n",
            "  warnings.warn(msg, DataConversionWarning)\n",
            "/usr/local/lib/python3.9/dist-packages/sklearn/metrics/pairwise.py:2025: DataConversionWarning: Data was converted to boolean for metric jaccard\n",
            "  warnings.warn(msg, DataConversionWarning)\n",
            "/usr/local/lib/python3.9/dist-packages/sklearn/metrics/pairwise.py:2025: DataConversionWarning: Data was converted to boolean for metric jaccard\n",
            "  warnings.warn(msg, DataConversionWarning)\n"
          ]
        },
        {
          "output_type": "stream",
          "name": "stdout",
          "text": [
            "Peak memory usage during fit function: 9461.55 MiB\n",
            "Peak memory usage during predict function: 9462.05 MiB\n",
            "L1 cache size: 32.00 KiB\n",
            "L2 cache size: 256.00 KiB\n",
            "Memory usage of KNN object and its attributes: 0.00 MiB\n",
            "Resident memory usage of Python process: 9462.05 MiB\n",
            "Virtual memory usage of Python process: 10606.98 MiB\n",
            "CPU usage of Python process: 0.00%\n",
            "Number of threads of Python process: 16\n",
            "Number of open file descriptors of Python process: 51\n",
            " \n"
          ]
        },
        {
          "output_type": "stream",
          "name": "stderr",
          "text": [
            "/usr/local/lib/python3.9/dist-packages/sklearn/metrics/pairwise.py:2025: DataConversionWarning: Data was converted to boolean for metric jaccard\n",
            "  warnings.warn(msg, DataConversionWarning)\n",
            "/usr/local/lib/python3.9/dist-packages/sklearn/metrics/pairwise.py:2025: DataConversionWarning: Data was converted to boolean for metric jaccard\n",
            "  warnings.warn(msg, DataConversionWarning)\n",
            "/usr/local/lib/python3.9/dist-packages/sklearn/metrics/pairwise.py:2025: DataConversionWarning: Data was converted to boolean for metric jaccard\n",
            "  warnings.warn(msg, DataConversionWarning)\n"
          ]
        },
        {
          "output_type": "stream",
          "name": "stdout",
          "text": [
            "Peak memory usage during fit function: 9462.07 MiB\n",
            "Peak memory usage during predict function: 9462.08 MiB\n",
            "L1 cache size: 32.00 KiB\n",
            "L2 cache size: 256.00 KiB\n",
            "Memory usage of KNN object and its attributes: 0.00 MiB\n",
            "Resident memory usage of Python process: 9462.08 MiB\n",
            "Virtual memory usage of Python process: 10606.98 MiB\n",
            "CPU usage of Python process: 0.00%\n",
            "Number of threads of Python process: 16\n",
            "Number of open file descriptors of Python process: 51\n",
            " \n"
          ]
        }
      ],
      "source": [
        "LSH_Information(3,2,tr_images,tr_labels,te_images,te_labels,10,40,0.8)\n",
        "print(\" \")\n",
        "LSH_Information(3,2,tr_images,tr_labels,te_images,te_labels,10,40,0.9)\n",
        "print(\" \")\n",
        "LSH_Information(3,2,tr_images,tr_labels,te_images,te_labels,10,60,0.8)\n",
        "print(\" \")\n",
        "LSH_Information(3,2,tr_images,tr_labels,te_images,te_labels,10,60,0.9)\n",
        "print(\" \")"
      ]
    },
    {
      "cell_type": "code",
      "execution_count": 13,
      "metadata": {
        "colab": {
          "base_uri": "https://localhost:8080/"
        },
        "outputId": "dbd50071-2088-47bc-87e5-0ad064ef5287",
        "id": "wsnH13SWfm2G"
      },
      "outputs": [
        {
          "output_type": "stream",
          "name": "stderr",
          "text": [
            "/usr/local/lib/python3.9/dist-packages/sklearn/metrics/pairwise.py:2025: DataConversionWarning: Data was converted to boolean for metric jaccard\n",
            "  warnings.warn(msg, DataConversionWarning)\n",
            "/usr/local/lib/python3.9/dist-packages/sklearn/metrics/pairwise.py:2025: DataConversionWarning: Data was converted to boolean for metric jaccard\n",
            "  warnings.warn(msg, DataConversionWarning)\n",
            "/usr/local/lib/python3.9/dist-packages/sklearn/metrics/pairwise.py:2025: DataConversionWarning: Data was converted to boolean for metric jaccard\n",
            "  warnings.warn(msg, DataConversionWarning)\n"
          ]
        },
        {
          "output_type": "stream",
          "name": "stdout",
          "text": [
            "Peak memory usage during fit function: 9462.08 MiB\n",
            "Peak memory usage during predict function: 9462.11 MiB\n",
            "L1 cache size: 32.00 KiB\n",
            "L2 cache size: 256.00 KiB\n",
            "Memory usage of KNN object and its attributes: 0.00 MiB\n",
            "Resident memory usage of Python process: 9462.11 MiB\n",
            "Virtual memory usage of Python process: 10606.98 MiB\n",
            "CPU usage of Python process: 0.00%\n",
            "Number of threads of Python process: 16\n",
            "Number of open file descriptors of Python process: 51\n",
            " \n"
          ]
        },
        {
          "output_type": "stream",
          "name": "stderr",
          "text": [
            "/usr/local/lib/python3.9/dist-packages/sklearn/metrics/pairwise.py:2025: DataConversionWarning: Data was converted to boolean for metric jaccard\n",
            "  warnings.warn(msg, DataConversionWarning)\n",
            "/usr/local/lib/python3.9/dist-packages/sklearn/metrics/pairwise.py:2025: DataConversionWarning: Data was converted to boolean for metric jaccard\n",
            "  warnings.warn(msg, DataConversionWarning)\n",
            "/usr/local/lib/python3.9/dist-packages/sklearn/metrics/pairwise.py:2025: DataConversionWarning: Data was converted to boolean for metric jaccard\n",
            "  warnings.warn(msg, DataConversionWarning)\n"
          ]
        },
        {
          "output_type": "stream",
          "name": "stdout",
          "text": [
            "Peak memory usage during fit function: 9462.11 MiB\n",
            "Peak memory usage during predict function: 9462.12 MiB\n",
            "L1 cache size: 32.00 KiB\n",
            "L2 cache size: 256.00 KiB\n",
            "Memory usage of KNN object and its attributes: 0.00 MiB\n",
            "Resident memory usage of Python process: 9462.12 MiB\n",
            "Virtual memory usage of Python process: 10606.98 MiB\n",
            "CPU usage of Python process: 0.00%\n",
            "Number of threads of Python process: 16\n",
            "Number of open file descriptors of Python process: 51\n",
            " \n"
          ]
        },
        {
          "output_type": "stream",
          "name": "stderr",
          "text": [
            "/usr/local/lib/python3.9/dist-packages/sklearn/metrics/pairwise.py:2025: DataConversionWarning: Data was converted to boolean for metric jaccard\n",
            "  warnings.warn(msg, DataConversionWarning)\n",
            "/usr/local/lib/python3.9/dist-packages/sklearn/metrics/pairwise.py:2025: DataConversionWarning: Data was converted to boolean for metric jaccard\n",
            "  warnings.warn(msg, DataConversionWarning)\n",
            "/usr/local/lib/python3.9/dist-packages/sklearn/metrics/pairwise.py:2025: DataConversionWarning: Data was converted to boolean for metric jaccard\n",
            "  warnings.warn(msg, DataConversionWarning)\n"
          ]
        },
        {
          "output_type": "stream",
          "name": "stdout",
          "text": [
            "Peak memory usage during fit function: 9462.14 MiB\n",
            "Peak memory usage during predict function: 9462.15 MiB\n",
            "L1 cache size: 32.00 KiB\n",
            "L2 cache size: 256.00 KiB\n",
            "Memory usage of KNN object and its attributes: 0.00 MiB\n",
            "Resident memory usage of Python process: 9462.15 MiB\n",
            "Virtual memory usage of Python process: 10606.98 MiB\n",
            "CPU usage of Python process: 0.00%\n",
            "Number of threads of Python process: 16\n",
            "Number of open file descriptors of Python process: 51\n",
            " \n"
          ]
        },
        {
          "output_type": "stream",
          "name": "stderr",
          "text": [
            "/usr/local/lib/python3.9/dist-packages/sklearn/metrics/pairwise.py:2025: DataConversionWarning: Data was converted to boolean for metric jaccard\n",
            "  warnings.warn(msg, DataConversionWarning)\n",
            "/usr/local/lib/python3.9/dist-packages/sklearn/metrics/pairwise.py:2025: DataConversionWarning: Data was converted to boolean for metric jaccard\n",
            "  warnings.warn(msg, DataConversionWarning)\n",
            "/usr/local/lib/python3.9/dist-packages/sklearn/metrics/pairwise.py:2025: DataConversionWarning: Data was converted to boolean for metric jaccard\n",
            "  warnings.warn(msg, DataConversionWarning)\n"
          ]
        },
        {
          "output_type": "stream",
          "name": "stdout",
          "text": [
            "Peak memory usage during fit function: 9462.16 MiB\n",
            "Peak memory usage during predict function: 9462.17 MiB\n",
            "L1 cache size: 32.00 KiB\n",
            "L2 cache size: 256.00 KiB\n",
            "Memory usage of KNN object and its attributes: 0.00 MiB\n",
            "Resident memory usage of Python process: 9462.17 MiB\n",
            "Virtual memory usage of Python process: 10606.98 MiB\n",
            "CPU usage of Python process: 0.00%\n",
            "Number of threads of Python process: 16\n",
            "Number of open file descriptors of Python process: 51\n",
            " \n"
          ]
        }
      ],
      "source": [
        "LSH_Information(4,2,tr_images,tr_labels,te_images,te_labels,10,40,0.8)\n",
        "print(\" \")\n",
        "LSH_Information(4,2,tr_images,tr_labels,te_images,te_labels,10,40,0.9)\n",
        "print(\" \")\n",
        "LSH_Information(4,2,tr_images,tr_labels,te_images,te_labels,10,60,0.8)\n",
        "print(\" \")\n",
        "LSH_Information(4,2,tr_images,tr_labels,te_images,te_labels,10,60,0.9)\n",
        "print(\" \")"
      ]
    },
    {
      "cell_type": "code",
      "execution_count": 14,
      "metadata": {
        "colab": {
          "base_uri": "https://localhost:8080/"
        },
        "outputId": "4cfa7b7b-7060-490c-9243-c2f24e156a83",
        "id": "URK4tzDMfm2G"
      },
      "outputs": [
        {
          "output_type": "stream",
          "name": "stderr",
          "text": [
            "/usr/local/lib/python3.9/dist-packages/sklearn/metrics/pairwise.py:2025: DataConversionWarning: Data was converted to boolean for metric jaccard\n",
            "  warnings.warn(msg, DataConversionWarning)\n",
            "/usr/local/lib/python3.9/dist-packages/sklearn/metrics/pairwise.py:2025: DataConversionWarning: Data was converted to boolean for metric jaccard\n",
            "  warnings.warn(msg, DataConversionWarning)\n",
            "/usr/local/lib/python3.9/dist-packages/sklearn/metrics/pairwise.py:2025: DataConversionWarning: Data was converted to boolean for metric jaccard\n",
            "  warnings.warn(msg, DataConversionWarning)\n"
          ]
        },
        {
          "output_type": "stream",
          "name": "stdout",
          "text": [
            "Peak memory usage during fit function: 9462.17 MiB\n",
            "Peak memory usage during predict function: 9462.18 MiB\n",
            "L1 cache size: 32.00 KiB\n",
            "L2 cache size: 256.00 KiB\n",
            "Memory usage of KNN object and its attributes: 0.00 MiB\n",
            "Resident memory usage of Python process: 9462.18 MiB\n",
            "Virtual memory usage of Python process: 10606.98 MiB\n",
            "CPU usage of Python process: 0.00%\n",
            "Number of threads of Python process: 16\n",
            "Number of open file descriptors of Python process: 51\n",
            " \n"
          ]
        },
        {
          "output_type": "stream",
          "name": "stderr",
          "text": [
            "/usr/local/lib/python3.9/dist-packages/sklearn/metrics/pairwise.py:2025: DataConversionWarning: Data was converted to boolean for metric jaccard\n",
            "  warnings.warn(msg, DataConversionWarning)\n",
            "/usr/local/lib/python3.9/dist-packages/sklearn/metrics/pairwise.py:2025: DataConversionWarning: Data was converted to boolean for metric jaccard\n",
            "  warnings.warn(msg, DataConversionWarning)\n",
            "/usr/local/lib/python3.9/dist-packages/sklearn/metrics/pairwise.py:2025: DataConversionWarning: Data was converted to boolean for metric jaccard\n",
            "  warnings.warn(msg, DataConversionWarning)\n"
          ]
        },
        {
          "output_type": "stream",
          "name": "stdout",
          "text": [
            "Peak memory usage during fit function: 9462.21 MiB\n",
            "Peak memory usage during predict function: 9462.21 MiB\n",
            "L1 cache size: 32.00 KiB\n",
            "L2 cache size: 256.00 KiB\n",
            "Memory usage of KNN object and its attributes: 0.00 MiB\n",
            "Resident memory usage of Python process: 9462.21 MiB\n",
            "Virtual memory usage of Python process: 10606.98 MiB\n",
            "CPU usage of Python process: 0.00%\n",
            "Number of threads of Python process: 16\n",
            "Number of open file descriptors of Python process: 51\n",
            " \n"
          ]
        },
        {
          "output_type": "stream",
          "name": "stderr",
          "text": [
            "/usr/local/lib/python3.9/dist-packages/sklearn/metrics/pairwise.py:2025: DataConversionWarning: Data was converted to boolean for metric jaccard\n",
            "  warnings.warn(msg, DataConversionWarning)\n",
            "/usr/local/lib/python3.9/dist-packages/sklearn/metrics/pairwise.py:2025: DataConversionWarning: Data was converted to boolean for metric jaccard\n",
            "  warnings.warn(msg, DataConversionWarning)\n",
            "/usr/local/lib/python3.9/dist-packages/sklearn/metrics/pairwise.py:2025: DataConversionWarning: Data was converted to boolean for metric jaccard\n",
            "  warnings.warn(msg, DataConversionWarning)\n"
          ]
        },
        {
          "output_type": "stream",
          "name": "stdout",
          "text": [
            "Peak memory usage during fit function: 9462.22 MiB\n",
            "Peak memory usage during predict function: 9462.24 MiB\n",
            "L1 cache size: 32.00 KiB\n",
            "L2 cache size: 256.00 KiB\n",
            "Memory usage of KNN object and its attributes: 0.00 MiB\n",
            "Resident memory usage of Python process: 9462.24 MiB\n",
            "Virtual memory usage of Python process: 10606.98 MiB\n",
            "CPU usage of Python process: 0.00%\n",
            "Number of threads of Python process: 16\n",
            "Number of open file descriptors of Python process: 51\n",
            " \n"
          ]
        },
        {
          "output_type": "stream",
          "name": "stderr",
          "text": [
            "/usr/local/lib/python3.9/dist-packages/sklearn/metrics/pairwise.py:2025: DataConversionWarning: Data was converted to boolean for metric jaccard\n",
            "  warnings.warn(msg, DataConversionWarning)\n",
            "/usr/local/lib/python3.9/dist-packages/sklearn/metrics/pairwise.py:2025: DataConversionWarning: Data was converted to boolean for metric jaccard\n",
            "  warnings.warn(msg, DataConversionWarning)\n",
            "/usr/local/lib/python3.9/dist-packages/sklearn/metrics/pairwise.py:2025: DataConversionWarning: Data was converted to boolean for metric jaccard\n",
            "  warnings.warn(msg, DataConversionWarning)\n"
          ]
        },
        {
          "output_type": "stream",
          "name": "stdout",
          "text": [
            "Peak memory usage during fit function: 9462.38 MiB\n",
            "Peak memory usage during predict function: 9462.38 MiB\n",
            "L1 cache size: 32.00 KiB\n",
            "L2 cache size: 256.00 KiB\n",
            "Memory usage of KNN object and its attributes: 0.00 MiB\n",
            "Resident memory usage of Python process: 9462.39 MiB\n",
            "Virtual memory usage of Python process: 10606.98 MiB\n",
            "CPU usage of Python process: 0.00%\n",
            "Number of threads of Python process: 16\n",
            "Number of open file descriptors of Python process: 51\n",
            " \n"
          ]
        }
      ],
      "source": [
        "LSH_Information(5,2,tr_images,tr_labels,te_images,te_labels,10,40,0.8)\n",
        "print(\" \")\n",
        "LSH_Information(5,2,tr_images,tr_labels,te_images,te_labels,10,40,0.9)\n",
        "print(\" \")\n",
        "LSH_Information(5,2,tr_images,tr_labels,te_images,te_labels,10,60,0.8)\n",
        "print(\" \")\n",
        "LSH_Information(5,2,tr_images,tr_labels,te_images,te_labels,10,60,0.9)\n",
        "print(\" \")"
      ]
    },
    {
      "cell_type": "markdown",
      "metadata": {
        "id": "Jlagp4pjfm2G"
      },
      "source": [
        "### Memory related information for imgs=60"
      ]
    },
    {
      "cell_type": "code",
      "execution_count": 15,
      "metadata": {
        "colab": {
          "base_uri": "https://localhost:8080/"
        },
        "id": "hPI8uhE5mSEl",
        "outputId": "a8e22c0a-4f54-4c56-946b-d0da554c4347"
      },
      "outputs": [
        {
          "output_type": "stream",
          "name": "stderr",
          "text": [
            "/usr/local/lib/python3.9/dist-packages/sklearn/metrics/pairwise.py:2025: DataConversionWarning: Data was converted to boolean for metric jaccard\n",
            "  warnings.warn(msg, DataConversionWarning)\n",
            "/usr/local/lib/python3.9/dist-packages/sklearn/metrics/pairwise.py:2025: DataConversionWarning: Data was converted to boolean for metric jaccard\n",
            "  warnings.warn(msg, DataConversionWarning)\n"
          ]
        },
        {
          "output_type": "stream",
          "name": "stdout",
          "text": [
            "Peak memory usage during fit function: 9462.41 MiB\n",
            "Peak memory usage during predict function: 9492.45 MiB\n",
            "L1 cache size: 32.00 KiB\n",
            "L2 cache size: 256.00 KiB\n",
            "Memory usage of KNN object and its attributes: 0.00 MiB\n",
            "Resident memory usage of Python process: 9462.41 MiB\n",
            "Virtual memory usage of Python process: 10606.98 MiB\n",
            "CPU usage of Python process: 0.00%\n",
            "Number of threads of Python process: 16\n",
            "Number of open file descriptors of Python process: 51\n",
            " \n"
          ]
        },
        {
          "output_type": "stream",
          "name": "stderr",
          "text": [
            "/usr/local/lib/python3.9/dist-packages/sklearn/metrics/pairwise.py:2025: DataConversionWarning: Data was converted to boolean for metric jaccard\n",
            "  warnings.warn(msg, DataConversionWarning)\n",
            "/usr/local/lib/python3.9/dist-packages/sklearn/metrics/pairwise.py:2025: DataConversionWarning: Data was converted to boolean for metric jaccard\n",
            "  warnings.warn(msg, DataConversionWarning)\n",
            "/usr/local/lib/python3.9/dist-packages/sklearn/metrics/pairwise.py:2025: DataConversionWarning: Data was converted to boolean for metric jaccard\n",
            "  warnings.warn(msg, DataConversionWarning)\n"
          ]
        },
        {
          "output_type": "stream",
          "name": "stdout",
          "text": [
            "Peak memory usage during fit function: 9462.43 MiB\n",
            "Peak memory usage during predict function: 9491.85 MiB\n",
            "L1 cache size: 32.00 KiB\n",
            "L2 cache size: 256.00 KiB\n",
            "Memory usage of KNN object and its attributes: 0.00 MiB\n",
            "Resident memory usage of Python process: 9448.59 MiB\n",
            "Virtual memory usage of Python process: 10593.02 MiB\n",
            "CPU usage of Python process: 0.00%\n",
            "Number of threads of Python process: 16\n",
            "Number of open file descriptors of Python process: 51\n",
            " \n"
          ]
        },
        {
          "output_type": "stream",
          "name": "stderr",
          "text": [
            "/usr/local/lib/python3.9/dist-packages/sklearn/metrics/pairwise.py:2025: DataConversionWarning: Data was converted to boolean for metric jaccard\n",
            "  warnings.warn(msg, DataConversionWarning)\n",
            "/usr/local/lib/python3.9/dist-packages/sklearn/metrics/pairwise.py:2025: DataConversionWarning: Data was converted to boolean for metric jaccard\n",
            "  warnings.warn(msg, DataConversionWarning)\n"
          ]
        },
        {
          "output_type": "stream",
          "name": "stdout",
          "text": [
            "Peak memory usage during fit function: 9452.48 MiB\n",
            "Peak memory usage during predict function: 9477.80 MiB\n",
            "L1 cache size: 32.00 KiB\n",
            "L2 cache size: 256.00 KiB\n",
            "Memory usage of KNN object and its attributes: 0.00 MiB\n",
            "Resident memory usage of Python process: 9449.06 MiB\n",
            "Virtual memory usage of Python process: 10593.48 MiB\n",
            "CPU usage of Python process: 0.00%\n",
            "Number of threads of Python process: 16\n",
            "Number of open file descriptors of Python process: 51\n",
            " \n"
          ]
        },
        {
          "output_type": "stream",
          "name": "stderr",
          "text": [
            "/usr/local/lib/python3.9/dist-packages/sklearn/metrics/pairwise.py:2025: DataConversionWarning: Data was converted to boolean for metric jaccard\n",
            "  warnings.warn(msg, DataConversionWarning)\n",
            "/usr/local/lib/python3.9/dist-packages/sklearn/metrics/pairwise.py:2025: DataConversionWarning: Data was converted to boolean for metric jaccard\n",
            "  warnings.warn(msg, DataConversionWarning)\n"
          ]
        },
        {
          "output_type": "stream",
          "name": "stdout",
          "text": [
            "Peak memory usage during fit function: 9452.49 MiB\n",
            "Peak memory usage during predict function: 9475.87 MiB\n",
            "L1 cache size: 32.00 KiB\n",
            "L2 cache size: 256.00 KiB\n",
            "Memory usage of KNN object and its attributes: 0.00 MiB\n",
            "Resident memory usage of Python process: 9449.07 MiB\n",
            "Virtual memory usage of Python process: 10593.48 MiB\n",
            "CPU usage of Python process: 0.00%\n",
            "Number of threads of Python process: 16\n",
            "Number of open file descriptors of Python process: 51\n",
            " \n"
          ]
        }
      ],
      "source": [
        "LSH_Information(1,2,tr_images,tr_labels,te_images,te_labels,60,40,0.8)\n",
        "print(\" \")\n",
        "LSH_Information(1,2,tr_images,tr_labels,te_images,te_labels,60,40,0.9)\n",
        "print(\" \")\n",
        "LSH_Information(1,2,tr_images,tr_labels,te_images,te_labels,60,60,0.8)\n",
        "print(\" \")\n",
        "LSH_Information(1,2,tr_images,tr_labels,te_images,te_labels,60,60,0.9)\n",
        "print(\" \")"
      ]
    },
    {
      "cell_type": "code",
      "execution_count": 16,
      "metadata": {
        "colab": {
          "base_uri": "https://localhost:8080/"
        },
        "id": "PnjCG7i4mSEq",
        "outputId": "01505664-e720-46ae-c2ce-eb6f9b90d741"
      },
      "outputs": [
        {
          "output_type": "stream",
          "name": "stderr",
          "text": [
            "/usr/local/lib/python3.9/dist-packages/sklearn/metrics/pairwise.py:2025: DataConversionWarning: Data was converted to boolean for metric jaccard\n",
            "  warnings.warn(msg, DataConversionWarning)\n",
            "/usr/local/lib/python3.9/dist-packages/sklearn/metrics/pairwise.py:2025: DataConversionWarning: Data was converted to boolean for metric jaccard\n",
            "  warnings.warn(msg, DataConversionWarning)\n",
            "/usr/local/lib/python3.9/dist-packages/sklearn/metrics/pairwise.py:2025: DataConversionWarning: Data was converted to boolean for metric jaccard\n",
            "  warnings.warn(msg, DataConversionWarning)\n"
          ]
        },
        {
          "output_type": "stream",
          "name": "stdout",
          "text": [
            "Peak memory usage during fit function: 9449.08 MiB\n",
            "Peak memory usage during predict function: 9503.86 MiB\n",
            "L1 cache size: 32.00 KiB\n",
            "L2 cache size: 256.00 KiB\n",
            "Memory usage of KNN object and its attributes: 0.00 MiB\n",
            "Resident memory usage of Python process: 9448.62 MiB\n",
            "Virtual memory usage of Python process: 10593.02 MiB\n",
            "CPU usage of Python process: 0.00%\n",
            "Number of threads of Python process: 16\n",
            "Number of open file descriptors of Python process: 51\n",
            " \n"
          ]
        },
        {
          "output_type": "stream",
          "name": "stderr",
          "text": [
            "/usr/local/lib/python3.9/dist-packages/sklearn/metrics/pairwise.py:2025: DataConversionWarning: Data was converted to boolean for metric jaccard\n",
            "  warnings.warn(msg, DataConversionWarning)\n",
            "/usr/local/lib/python3.9/dist-packages/sklearn/metrics/pairwise.py:2025: DataConversionWarning: Data was converted to boolean for metric jaccard\n",
            "  warnings.warn(msg, DataConversionWarning)\n"
          ]
        },
        {
          "output_type": "stream",
          "name": "stdout",
          "text": [
            "Peak memory usage during fit function: 9448.63 MiB\n",
            "Peak memory usage during predict function: 9477.86 MiB\n",
            "L1 cache size: 32.00 KiB\n",
            "L2 cache size: 256.00 KiB\n",
            "Memory usage of KNN object and its attributes: 0.00 MiB\n",
            "Resident memory usage of Python process: 9448.63 MiB\n",
            "Virtual memory usage of Python process: 10593.02 MiB\n",
            "CPU usage of Python process: 0.00%\n",
            "Number of threads of Python process: 16\n",
            "Number of open file descriptors of Python process: 51\n",
            " \n"
          ]
        },
        {
          "output_type": "stream",
          "name": "stderr",
          "text": [
            "/usr/local/lib/python3.9/dist-packages/sklearn/metrics/pairwise.py:2025: DataConversionWarning: Data was converted to boolean for metric jaccard\n",
            "  warnings.warn(msg, DataConversionWarning)\n",
            "/usr/local/lib/python3.9/dist-packages/sklearn/metrics/pairwise.py:2025: DataConversionWarning: Data was converted to boolean for metric jaccard\n",
            "  warnings.warn(msg, DataConversionWarning)\n"
          ]
        },
        {
          "output_type": "stream",
          "name": "stdout",
          "text": [
            "Peak memory usage during fit function: 9452.51 MiB\n",
            "Peak memory usage during predict function: 9475.95 MiB\n",
            "L1 cache size: 32.00 KiB\n",
            "L2 cache size: 256.00 KiB\n",
            "Memory usage of KNN object and its attributes: 0.00 MiB\n",
            "Resident memory usage of Python process: 9449.10 MiB\n",
            "Virtual memory usage of Python process: 10593.48 MiB\n",
            "CPU usage of Python process: 0.00%\n",
            "Number of threads of Python process: 16\n",
            "Number of open file descriptors of Python process: 51\n",
            " \n"
          ]
        },
        {
          "output_type": "stream",
          "name": "stderr",
          "text": [
            "/usr/local/lib/python3.9/dist-packages/sklearn/metrics/pairwise.py:2025: DataConversionWarning: Data was converted to boolean for metric jaccard\n",
            "  warnings.warn(msg, DataConversionWarning)\n",
            "/usr/local/lib/python3.9/dist-packages/sklearn/metrics/pairwise.py:2025: DataConversionWarning: Data was converted to boolean for metric jaccard\n",
            "  warnings.warn(msg, DataConversionWarning)\n"
          ]
        },
        {
          "output_type": "stream",
          "name": "stdout",
          "text": [
            "Peak memory usage during fit function: 9452.60 MiB\n",
            "Peak memory usage during predict function: 9477.93 MiB\n",
            "L1 cache size: 32.00 KiB\n",
            "L2 cache size: 256.00 KiB\n",
            "Memory usage of KNN object and its attributes: 0.00 MiB\n",
            "Resident memory usage of Python process: 9449.19 MiB\n",
            "Virtual memory usage of Python process: 10593.48 MiB\n",
            "CPU usage of Python process: 0.00%\n",
            "Number of threads of Python process: 16\n",
            "Number of open file descriptors of Python process: 51\n",
            " \n"
          ]
        }
      ],
      "source": [
        "LSH_Information(2,2,tr_images,tr_labels,te_images,te_labels,60,40,0.8)\n",
        "print(\" \")\n",
        "LSH_Information(2,2,tr_images,tr_labels,te_images,te_labels,60,40,0.9)\n",
        "print(\" \")\n",
        "LSH_Information(2,2,tr_images,tr_labels,te_images,te_labels,60,60,0.8)\n",
        "print(\" \")\n",
        "LSH_Information(2,2,tr_images,tr_labels,te_images,te_labels,60,60,0.9)\n",
        "print(\" \")"
      ]
    },
    {
      "cell_type": "code",
      "execution_count": 17,
      "metadata": {
        "colab": {
          "base_uri": "https://localhost:8080/"
        },
        "id": "VkC8uSkmmSEq",
        "outputId": "1c40475d-47ea-4c4c-c579-72ddba3afd03"
      },
      "outputs": [
        {
          "output_type": "stream",
          "name": "stderr",
          "text": [
            "/usr/local/lib/python3.9/dist-packages/sklearn/metrics/pairwise.py:2025: DataConversionWarning: Data was converted to boolean for metric jaccard\n",
            "  warnings.warn(msg, DataConversionWarning)\n",
            "/usr/local/lib/python3.9/dist-packages/sklearn/metrics/pairwise.py:2025: DataConversionWarning: Data was converted to boolean for metric jaccard\n",
            "  warnings.warn(msg, DataConversionWarning)\n",
            "/usr/local/lib/python3.9/dist-packages/sklearn/metrics/pairwise.py:2025: DataConversionWarning: Data was converted to boolean for metric jaccard\n",
            "  warnings.warn(msg, DataConversionWarning)\n"
          ]
        },
        {
          "output_type": "stream",
          "name": "stdout",
          "text": [
            "Peak memory usage during fit function: 9449.19 MiB\n",
            "Peak memory usage during predict function: 9504.06 MiB\n",
            "L1 cache size: 32.00 KiB\n",
            "L2 cache size: 256.00 KiB\n",
            "Memory usage of KNN object and its attributes: 0.01 MiB\n",
            "Resident memory usage of Python process: 9448.74 MiB\n",
            "Virtual memory usage of Python process: 10593.02 MiB\n",
            "CPU usage of Python process: 0.00%\n",
            "Number of threads of Python process: 16\n",
            "Number of open file descriptors of Python process: 51\n",
            " \n"
          ]
        },
        {
          "output_type": "stream",
          "name": "stderr",
          "text": [
            "/usr/local/lib/python3.9/dist-packages/sklearn/metrics/pairwise.py:2025: DataConversionWarning: Data was converted to boolean for metric jaccard\n",
            "  warnings.warn(msg, DataConversionWarning)\n",
            "/usr/local/lib/python3.9/dist-packages/sklearn/metrics/pairwise.py:2025: DataConversionWarning: Data was converted to boolean for metric jaccard\n",
            "  warnings.warn(msg, DataConversionWarning)\n"
          ]
        },
        {
          "output_type": "stream",
          "name": "stdout",
          "text": [
            "Peak memory usage during fit function: 9448.76 MiB\n",
            "Peak memory usage during predict function: 9483.94 MiB\n",
            "L1 cache size: 32.00 KiB\n",
            "L2 cache size: 256.00 KiB\n",
            "Memory usage of KNN object and its attributes: 0.00 MiB\n",
            "Resident memory usage of Python process: 9448.76 MiB\n",
            "Virtual memory usage of Python process: 10593.02 MiB\n",
            "CPU usage of Python process: 0.00%\n",
            "Number of threads of Python process: 16\n",
            "Number of open file descriptors of Python process: 51\n",
            " \n"
          ]
        },
        {
          "output_type": "stream",
          "name": "stderr",
          "text": [
            "/usr/local/lib/python3.9/dist-packages/sklearn/metrics/pairwise.py:2025: DataConversionWarning: Data was converted to boolean for metric jaccard\n",
            "  warnings.warn(msg, DataConversionWarning)\n",
            "/usr/local/lib/python3.9/dist-packages/sklearn/metrics/pairwise.py:2025: DataConversionWarning: Data was converted to boolean for metric jaccard\n",
            "  warnings.warn(msg, DataConversionWarning)\n"
          ]
        },
        {
          "output_type": "stream",
          "name": "stdout",
          "text": [
            "Peak memory usage during fit function: 9452.65 MiB\n",
            "Peak memory usage during predict function: 9478.03 MiB\n",
            "L1 cache size: 32.00 KiB\n",
            "L2 cache size: 256.00 KiB\n",
            "Memory usage of KNN object and its attributes: 0.00 MiB\n",
            "Resident memory usage of Python process: 9449.23 MiB\n",
            "Virtual memory usage of Python process: 10593.48 MiB\n",
            "CPU usage of Python process: 0.00%\n",
            "Number of threads of Python process: 16\n",
            "Number of open file descriptors of Python process: 51\n",
            " \n"
          ]
        },
        {
          "output_type": "stream",
          "name": "stderr",
          "text": [
            "/usr/local/lib/python3.9/dist-packages/sklearn/metrics/pairwise.py:2025: DataConversionWarning: Data was converted to boolean for metric jaccard\n",
            "  warnings.warn(msg, DataConversionWarning)\n",
            "/usr/local/lib/python3.9/dist-packages/sklearn/metrics/pairwise.py:2025: DataConversionWarning: Data was converted to boolean for metric jaccard\n",
            "  warnings.warn(msg, DataConversionWarning)\n"
          ]
        },
        {
          "output_type": "stream",
          "name": "stdout",
          "text": [
            "Peak memory usage during fit function: 9452.67 MiB\n",
            "Peak memory usage during predict function: 9484.04 MiB\n",
            "L1 cache size: 32.00 KiB\n",
            "L2 cache size: 256.00 KiB\n",
            "Memory usage of KNN object and its attributes: 0.00 MiB\n",
            "Resident memory usage of Python process: 9449.26 MiB\n",
            "Virtual memory usage of Python process: 10593.48 MiB\n",
            "CPU usage of Python process: 0.00%\n",
            "Number of threads of Python process: 16\n",
            "Number of open file descriptors of Python process: 51\n",
            " \n"
          ]
        }
      ],
      "source": [
        "LSH_Information(3,2,tr_images,tr_labels,te_images,te_labels,60,40,0.8)\n",
        "print(\" \")\n",
        "LSH_Information(3,2,tr_images,tr_labels,te_images,te_labels,60,40,0.9)\n",
        "print(\" \")\n",
        "LSH_Information(3,2,tr_images,tr_labels,te_images,te_labels,60,60,0.8)\n",
        "print(\" \")\n",
        "LSH_Information(3,2,tr_images,tr_labels,te_images,te_labels,60,60,0.9)\n",
        "print(\" \")"
      ]
    },
    {
      "cell_type": "code",
      "execution_count": 18,
      "metadata": {
        "colab": {
          "base_uri": "https://localhost:8080/"
        },
        "id": "x0-qjlMjmSEq",
        "outputId": "a7174dba-3d03-4c15-b1d4-63af791948b2"
      },
      "outputs": [
        {
          "output_type": "stream",
          "name": "stderr",
          "text": [
            "/usr/local/lib/python3.9/dist-packages/sklearn/metrics/pairwise.py:2025: DataConversionWarning: Data was converted to boolean for metric jaccard\n",
            "  warnings.warn(msg, DataConversionWarning)\n",
            "/usr/local/lib/python3.9/dist-packages/sklearn/metrics/pairwise.py:2025: DataConversionWarning: Data was converted to boolean for metric jaccard\n",
            "  warnings.warn(msg, DataConversionWarning)\n"
          ]
        },
        {
          "output_type": "stream",
          "name": "stdout",
          "text": [
            "Peak memory usage during fit function: 9449.27 MiB\n",
            "Peak memory usage during predict function: 9500.18 MiB\n",
            "L1 cache size: 32.00 KiB\n",
            "L2 cache size: 256.00 KiB\n",
            "Memory usage of KNN object and its attributes: 0.00 MiB\n",
            "Resident memory usage of Python process: 9448.81 MiB\n",
            "Virtual memory usage of Python process: 10593.02 MiB\n",
            "CPU usage of Python process: 0.00%\n",
            "Number of threads of Python process: 16\n",
            "Number of open file descriptors of Python process: 51\n",
            " \n"
          ]
        },
        {
          "output_type": "stream",
          "name": "stderr",
          "text": [
            "/usr/local/lib/python3.9/dist-packages/sklearn/metrics/pairwise.py:2025: DataConversionWarning: Data was converted to boolean for metric jaccard\n",
            "  warnings.warn(msg, DataConversionWarning)\n",
            "/usr/local/lib/python3.9/dist-packages/sklearn/metrics/pairwise.py:2025: DataConversionWarning: Data was converted to boolean for metric jaccard\n",
            "  warnings.warn(msg, DataConversionWarning)\n"
          ]
        },
        {
          "output_type": "stream",
          "name": "stdout",
          "text": [
            "Peak memory usage during fit function: 9448.83 MiB\n",
            "Peak memory usage during predict function: 9468.18 MiB\n",
            "L1 cache size: 32.00 KiB\n",
            "L2 cache size: 256.00 KiB\n",
            "Memory usage of KNN object and its attributes: 0.00 MiB\n",
            "Resident memory usage of Python process: 9448.83 MiB\n",
            "Virtual memory usage of Python process: 10593.02 MiB\n",
            "CPU usage of Python process: 0.00%\n",
            "Number of threads of Python process: 16\n",
            "Number of open file descriptors of Python process: 51\n",
            " \n"
          ]
        },
        {
          "output_type": "stream",
          "name": "stderr",
          "text": [
            "/usr/local/lib/python3.9/dist-packages/sklearn/metrics/pairwise.py:2025: DataConversionWarning: Data was converted to boolean for metric jaccard\n",
            "  warnings.warn(msg, DataConversionWarning)\n",
            "/usr/local/lib/python3.9/dist-packages/sklearn/metrics/pairwise.py:2025: DataConversionWarning: Data was converted to boolean for metric jaccard\n",
            "  warnings.warn(msg, DataConversionWarning)\n"
          ]
        },
        {
          "output_type": "stream",
          "name": "stdout",
          "text": [
            "Peak memory usage during fit function: 9452.71 MiB\n",
            "Peak memory usage during predict function: 9477.99 MiB\n",
            "L1 cache size: 32.00 KiB\n",
            "L2 cache size: 256.00 KiB\n",
            "Memory usage of KNN object and its attributes: 0.00 MiB\n",
            "Resident memory usage of Python process: 9449.29 MiB\n",
            "Virtual memory usage of Python process: 10593.48 MiB\n",
            "CPU usage of Python process: 0.00%\n",
            "Number of threads of Python process: 16\n",
            "Number of open file descriptors of Python process: 51\n",
            " \n"
          ]
        },
        {
          "output_type": "stream",
          "name": "stderr",
          "text": [
            "/usr/local/lib/python3.9/dist-packages/sklearn/metrics/pairwise.py:2025: DataConversionWarning: Data was converted to boolean for metric jaccard\n",
            "  warnings.warn(msg, DataConversionWarning)\n",
            "/usr/local/lib/python3.9/dist-packages/sklearn/metrics/pairwise.py:2025: DataConversionWarning: Data was converted to boolean for metric jaccard\n",
            "  warnings.warn(msg, DataConversionWarning)\n"
          ]
        },
        {
          "output_type": "stream",
          "name": "stdout",
          "text": [
            "Peak memory usage during fit function: 9452.71 MiB\n",
            "Peak memory usage during predict function: 9478.21 MiB\n",
            "L1 cache size: 32.00 KiB\n",
            "L2 cache size: 256.00 KiB\n",
            "Memory usage of KNN object and its attributes: 0.00 MiB\n",
            "Resident memory usage of Python process: 9449.33 MiB\n",
            "Virtual memory usage of Python process: 10593.48 MiB\n",
            "CPU usage of Python process: 0.00%\n",
            "Number of threads of Python process: 16\n",
            "Number of open file descriptors of Python process: 51\n",
            " \n"
          ]
        }
      ],
      "source": [
        "LSH_Information(4,2,tr_images,tr_labels,te_images,te_labels,60,40,0.8)\n",
        "print(\" \")\n",
        "LSH_Information(4,2,tr_images,tr_labels,te_images,te_labels,60,40,0.9)\n",
        "print(\" \")\n",
        "LSH_Information(4,2,tr_images,tr_labels,te_images,te_labels,60,60,0.8)\n",
        "print(\" \")\n",
        "LSH_Information(4,2,tr_images,tr_labels,te_images,te_labels,60,60,0.9)\n",
        "print(\" \")"
      ]
    },
    {
      "cell_type": "code",
      "execution_count": 19,
      "metadata": {
        "colab": {
          "base_uri": "https://localhost:8080/"
        },
        "id": "LNfR87tEmSEq",
        "outputId": "b002ce86-2e46-414b-fc08-e1bd3435d048"
      },
      "outputs": [
        {
          "output_type": "stream",
          "name": "stderr",
          "text": [
            "/usr/local/lib/python3.9/dist-packages/sklearn/metrics/pairwise.py:2025: DataConversionWarning: Data was converted to boolean for metric jaccard\n",
            "  warnings.warn(msg, DataConversionWarning)\n",
            "/usr/local/lib/python3.9/dist-packages/sklearn/metrics/pairwise.py:2025: DataConversionWarning: Data was converted to boolean for metric jaccard\n",
            "  warnings.warn(msg, DataConversionWarning)\n"
          ]
        },
        {
          "output_type": "stream",
          "name": "stdout",
          "text": [
            "Peak memory usage during fit function: 9449.34 MiB\n",
            "Peak memory usage during predict function: 9504.39 MiB\n",
            "L1 cache size: 32.00 KiB\n",
            "L2 cache size: 256.00 KiB\n",
            "Memory usage of KNN object and its attributes: 0.00 MiB\n",
            "Resident memory usage of Python process: 9448.88 MiB\n",
            "Virtual memory usage of Python process: 10593.02 MiB\n",
            "CPU usage of Python process: 0.00%\n",
            "Number of threads of Python process: 16\n",
            "Number of open file descriptors of Python process: 51\n",
            " \n"
          ]
        },
        {
          "output_type": "stream",
          "name": "stderr",
          "text": [
            "/usr/local/lib/python3.9/dist-packages/sklearn/metrics/pairwise.py:2025: DataConversionWarning: Data was converted to boolean for metric jaccard\n",
            "  warnings.warn(msg, DataConversionWarning)\n",
            "/usr/local/lib/python3.9/dist-packages/sklearn/metrics/pairwise.py:2025: DataConversionWarning: Data was converted to boolean for metric jaccard\n",
            "  warnings.warn(msg, DataConversionWarning)\n"
          ]
        },
        {
          "output_type": "stream",
          "name": "stdout",
          "text": [
            "Peak memory usage during fit function: 9448.88 MiB\n",
            "Peak memory usage during predict function: 9504.42 MiB\n",
            "L1 cache size: 32.00 KiB\n",
            "L2 cache size: 256.00 KiB\n",
            "Memory usage of KNN object and its attributes: 0.00 MiB\n",
            "Resident memory usage of Python process: 9448.90 MiB\n",
            "Virtual memory usage of Python process: 10593.02 MiB\n",
            "CPU usage of Python process: 0.00%\n",
            "Number of threads of Python process: 16\n",
            "Number of open file descriptors of Python process: 51\n",
            " \n"
          ]
        },
        {
          "output_type": "stream",
          "name": "stderr",
          "text": [
            "/usr/local/lib/python3.9/dist-packages/sklearn/metrics/pairwise.py:2025: DataConversionWarning: Data was converted to boolean for metric jaccard\n",
            "  warnings.warn(msg, DataConversionWarning)\n",
            "/usr/local/lib/python3.9/dist-packages/sklearn/metrics/pairwise.py:2025: DataConversionWarning: Data was converted to boolean for metric jaccard\n",
            "  warnings.warn(msg, DataConversionWarning)\n"
          ]
        },
        {
          "output_type": "stream",
          "name": "stdout",
          "text": [
            "Peak memory usage during fit function: 9452.78 MiB\n",
            "Peak memory usage during predict function: 9478.27 MiB\n",
            "L1 cache size: 32.00 KiB\n",
            "L2 cache size: 256.00 KiB\n",
            "Memory usage of KNN object and its attributes: 0.00 MiB\n",
            "Resident memory usage of Python process: 9449.37 MiB\n",
            "Virtual memory usage of Python process: 10593.48 MiB\n",
            "CPU usage of Python process: 0.00%\n",
            "Number of threads of Python process: 16\n",
            "Number of open file descriptors of Python process: 51\n",
            " \n"
          ]
        },
        {
          "output_type": "stream",
          "name": "stderr",
          "text": [
            "/usr/local/lib/python3.9/dist-packages/sklearn/metrics/pairwise.py:2025: DataConversionWarning: Data was converted to boolean for metric jaccard\n",
            "  warnings.warn(msg, DataConversionWarning)\n",
            "/usr/local/lib/python3.9/dist-packages/sklearn/metrics/pairwise.py:2025: DataConversionWarning: Data was converted to boolean for metric jaccard\n",
            "  warnings.warn(msg, DataConversionWarning)\n"
          ]
        },
        {
          "output_type": "stream",
          "name": "stdout",
          "text": [
            "Peak memory usage during fit function: 9453.07 MiB\n",
            "Peak memory usage during predict function: 9478.38 MiB\n",
            "L1 cache size: 32.00 KiB\n",
            "L2 cache size: 256.00 KiB\n",
            "Memory usage of KNN object and its attributes: 0.00 MiB\n",
            "Resident memory usage of Python process: 9449.66 MiB\n",
            "Virtual memory usage of Python process: 10593.48 MiB\n",
            "CPU usage of Python process: 0.00%\n",
            "Number of threads of Python process: 16\n",
            "Number of open file descriptors of Python process: 51\n",
            " \n"
          ]
        }
      ],
      "source": [
        "LSH_Information(5,2,tr_images,tr_labels,te_images,te_labels,60,40,0.8)\n",
        "print(\" \")\n",
        "LSH_Information(5,2,tr_images,tr_labels,te_images,te_labels,60,40,0.9)\n",
        "print(\" \")\n",
        "LSH_Information(5,2,tr_images,tr_labels,te_images,te_labels,60,60,0.8)\n",
        "print(\" \")\n",
        "LSH_Information(5,2,tr_images,tr_labels,te_images,te_labels,60,60,0.9)\n",
        "print(\" \")"
      ]
    },
    {
      "cell_type": "markdown",
      "metadata": {
        "id": "Eqz7PJvUfm2I"
      },
      "source": [
        "### Memory related information for imgs=90"
      ]
    },
    {
      "cell_type": "code",
      "execution_count": 20,
      "metadata": {
        "colab": {
          "base_uri": "https://localhost:8080/"
        },
        "id": "6hinHS-9mdpW",
        "outputId": "352a4905-fe5e-4ea3-a06b-a29facd8bc7c"
      },
      "outputs": [
        {
          "output_type": "stream",
          "name": "stderr",
          "text": [
            "/usr/local/lib/python3.9/dist-packages/sklearn/metrics/pairwise.py:2025: DataConversionWarning: Data was converted to boolean for metric jaccard\n",
            "  warnings.warn(msg, DataConversionWarning)\n",
            "/usr/local/lib/python3.9/dist-packages/sklearn/metrics/pairwise.py:2025: DataConversionWarning: Data was converted to boolean for metric jaccard\n",
            "  warnings.warn(msg, DataConversionWarning)\n"
          ]
        },
        {
          "output_type": "stream",
          "name": "stdout",
          "text": [
            "Peak memory usage during fit function: 9449.68 MiB\n",
            "Peak memory usage during predict function: 9490.18 MiB\n",
            "L1 cache size: 32.00 KiB\n",
            "L2 cache size: 256.00 KiB\n",
            "Memory usage of KNN object and its attributes: 0.00 MiB\n",
            "Resident memory usage of Python process: 9449.70 MiB\n",
            "Virtual memory usage of Python process: 10593.48 MiB\n",
            "CPU usage of Python process: 0.00%\n",
            "Number of threads of Python process: 16\n",
            "Number of open file descriptors of Python process: 51\n",
            " \n"
          ]
        },
        {
          "output_type": "stream",
          "name": "stderr",
          "text": [
            "/usr/local/lib/python3.9/dist-packages/sklearn/metrics/pairwise.py:2025: DataConversionWarning: Data was converted to boolean for metric jaccard\n",
            "  warnings.warn(msg, DataConversionWarning)\n",
            "/usr/local/lib/python3.9/dist-packages/sklearn/metrics/pairwise.py:2025: DataConversionWarning: Data was converted to boolean for metric jaccard\n",
            "  warnings.warn(msg, DataConversionWarning)\n"
          ]
        },
        {
          "output_type": "stream",
          "name": "stdout",
          "text": [
            "Peak memory usage during fit function: 9449.70 MiB\n",
            "Peak memory usage during predict function: 9487.62 MiB\n",
            "L1 cache size: 32.00 KiB\n",
            "L2 cache size: 256.00 KiB\n",
            "Memory usage of KNN object and its attributes: 0.00 MiB\n",
            "Resident memory usage of Python process: 9449.71 MiB\n",
            "Virtual memory usage of Python process: 10593.48 MiB\n",
            "CPU usage of Python process: 0.00%\n",
            "Number of threads of Python process: 16\n",
            "Number of open file descriptors of Python process: 51\n",
            " \n"
          ]
        },
        {
          "output_type": "stream",
          "name": "stderr",
          "text": [
            "/usr/local/lib/python3.9/dist-packages/sklearn/metrics/pairwise.py:2025: DataConversionWarning: Data was converted to boolean for metric jaccard\n",
            "  warnings.warn(msg, DataConversionWarning)\n",
            "/usr/local/lib/python3.9/dist-packages/sklearn/metrics/pairwise.py:2025: DataConversionWarning: Data was converted to boolean for metric jaccard\n",
            "  warnings.warn(msg, DataConversionWarning)\n"
          ]
        },
        {
          "output_type": "stream",
          "name": "stdout",
          "text": [
            "Peak memory usage during fit function: 9453.15 MiB\n",
            "Peak memory usage during predict function: 9490.95 MiB\n",
            "L1 cache size: 32.00 KiB\n",
            "L2 cache size: 256.00 KiB\n",
            "Memory usage of KNN object and its attributes: 0.00 MiB\n",
            "Resident memory usage of Python process: 9453.15 MiB\n",
            "Virtual memory usage of Python process: 10597.28 MiB\n",
            "CPU usage of Python process: 0.00%\n",
            "Number of threads of Python process: 16\n",
            "Number of open file descriptors of Python process: 51\n",
            " \n"
          ]
        },
        {
          "output_type": "stream",
          "name": "stderr",
          "text": [
            "/usr/local/lib/python3.9/dist-packages/sklearn/metrics/pairwise.py:2025: DataConversionWarning: Data was converted to boolean for metric jaccard\n",
            "  warnings.warn(msg, DataConversionWarning)\n",
            "/usr/local/lib/python3.9/dist-packages/sklearn/metrics/pairwise.py:2025: DataConversionWarning: Data was converted to boolean for metric jaccard\n",
            "  warnings.warn(msg, DataConversionWarning)\n"
          ]
        },
        {
          "output_type": "stream",
          "name": "stdout",
          "text": [
            "Peak memory usage during fit function: 9453.15 MiB\n",
            "Peak memory usage during predict function: 9489.08 MiB\n",
            "L1 cache size: 32.00 KiB\n",
            "L2 cache size: 256.00 KiB\n",
            "Memory usage of KNN object and its attributes: 0.00 MiB\n",
            "Resident memory usage of Python process: 9453.16 MiB\n",
            "Virtual memory usage of Python process: 10597.28 MiB\n",
            "CPU usage of Python process: 0.00%\n",
            "Number of threads of Python process: 16\n",
            "Number of open file descriptors of Python process: 51\n",
            " \n"
          ]
        }
      ],
      "source": [
        "LSH_Information(1,2,tr_images,tr_labels,te_images,te_labels,90,40,0.8)\n",
        "print(\" \")\n",
        "LSH_Information(1,2,tr_images,tr_labels,te_images,te_labels,90,40,0.9)\n",
        "print(\" \")\n",
        "LSH_Information(1,2,tr_images,tr_labels,te_images,te_labels,90,60,0.8)\n",
        "print(\" \")\n",
        "LSH_Information(1,2,tr_images,tr_labels,te_images,te_labels,90,60,0.9)\n",
        "print(\" \")"
      ]
    },
    {
      "cell_type": "code",
      "execution_count": 21,
      "metadata": {
        "colab": {
          "base_uri": "https://localhost:8080/"
        },
        "id": "HTlExzz9mdpW",
        "outputId": "a19f64ff-4bab-4f32-fadc-2b4ad9238594"
      },
      "outputs": [
        {
          "output_type": "stream",
          "name": "stderr",
          "text": [
            "/usr/local/lib/python3.9/dist-packages/sklearn/metrics/pairwise.py:2025: DataConversionWarning: Data was converted to boolean for metric jaccard\n",
            "  warnings.warn(msg, DataConversionWarning)\n",
            "/usr/local/lib/python3.9/dist-packages/sklearn/metrics/pairwise.py:2025: DataConversionWarning: Data was converted to boolean for metric jaccard\n",
            "  warnings.warn(msg, DataConversionWarning)\n"
          ]
        },
        {
          "output_type": "stream",
          "name": "stdout",
          "text": [
            "Peak memory usage during fit function: 9453.18 MiB\n",
            "Peak memory usage during predict function: 9493.04 MiB\n",
            "L1 cache size: 32.00 KiB\n",
            "L2 cache size: 256.00 KiB\n",
            "Memory usage of KNN object and its attributes: 0.00 MiB\n",
            "Resident memory usage of Python process: 9453.19 MiB\n",
            "Virtual memory usage of Python process: 10597.28 MiB\n",
            "CPU usage of Python process: 0.00%\n",
            "Number of threads of Python process: 16\n",
            "Number of open file descriptors of Python process: 51\n",
            " \n"
          ]
        },
        {
          "output_type": "stream",
          "name": "stderr",
          "text": [
            "/usr/local/lib/python3.9/dist-packages/sklearn/metrics/pairwise.py:2025: DataConversionWarning: Data was converted to boolean for metric jaccard\n",
            "  warnings.warn(msg, DataConversionWarning)\n",
            "/usr/local/lib/python3.9/dist-packages/sklearn/metrics/pairwise.py:2025: DataConversionWarning: Data was converted to boolean for metric jaccard\n",
            "  warnings.warn(msg, DataConversionWarning)\n"
          ]
        },
        {
          "output_type": "stream",
          "name": "stdout",
          "text": [
            "Peak memory usage during fit function: 9453.19 MiB\n",
            "Peak memory usage during predict function: 9491.11 MiB\n",
            "L1 cache size: 32.00 KiB\n",
            "L2 cache size: 256.00 KiB\n",
            "Memory usage of KNN object and its attributes: 0.00 MiB\n",
            "Resident memory usage of Python process: 9453.20 MiB\n",
            "Virtual memory usage of Python process: 10597.28 MiB\n",
            "CPU usage of Python process: 0.00%\n",
            "Number of threads of Python process: 16\n",
            "Number of open file descriptors of Python process: 51\n",
            " \n"
          ]
        },
        {
          "output_type": "stream",
          "name": "stderr",
          "text": [
            "/usr/local/lib/python3.9/dist-packages/sklearn/metrics/pairwise.py:2025: DataConversionWarning: Data was converted to boolean for metric jaccard\n",
            "  warnings.warn(msg, DataConversionWarning)\n",
            "/usr/local/lib/python3.9/dist-packages/sklearn/metrics/pairwise.py:2025: DataConversionWarning: Data was converted to boolean for metric jaccard\n",
            "  warnings.warn(msg, DataConversionWarning)\n"
          ]
        },
        {
          "output_type": "stream",
          "name": "stdout",
          "text": [
            "Peak memory usage during fit function: 9453.22 MiB\n",
            "Peak memory usage during predict function: 9514.33 MiB\n",
            "L1 cache size: 32.00 KiB\n",
            "L2 cache size: 256.00 KiB\n",
            "Memory usage of KNN object and its attributes: 0.00 MiB\n",
            "Resident memory usage of Python process: 9453.23 MiB\n",
            "Virtual memory usage of Python process: 10597.28 MiB\n",
            "CPU usage of Python process: 0.00%\n",
            "Number of threads of Python process: 16\n",
            "Number of open file descriptors of Python process: 51\n",
            " \n"
          ]
        },
        {
          "output_type": "stream",
          "name": "stderr",
          "text": [
            "/usr/local/lib/python3.9/dist-packages/sklearn/metrics/pairwise.py:2025: DataConversionWarning: Data was converted to boolean for metric jaccard\n",
            "  warnings.warn(msg, DataConversionWarning)\n",
            "/usr/local/lib/python3.9/dist-packages/sklearn/metrics/pairwise.py:2025: DataConversionWarning: Data was converted to boolean for metric jaccard\n",
            "  warnings.warn(msg, DataConversionWarning)\n"
          ]
        },
        {
          "output_type": "stream",
          "name": "stdout",
          "text": [
            "Peak memory usage during fit function: 9453.24 MiB\n",
            "Peak memory usage during predict function: 9491.07 MiB\n",
            "L1 cache size: 32.00 KiB\n",
            "L2 cache size: 256.00 KiB\n",
            "Memory usage of KNN object and its attributes: 0.00 MiB\n",
            "Resident memory usage of Python process: 9453.24 MiB\n",
            "Virtual memory usage of Python process: 10597.28 MiB\n",
            "CPU usage of Python process: 0.00%\n",
            "Number of threads of Python process: 16\n",
            "Number of open file descriptors of Python process: 51\n",
            " \n"
          ]
        }
      ],
      "source": [
        "LSH_Information(2,2,tr_images,tr_labels,te_images,te_labels,90,40,0.8)\n",
        "print(\" \")\n",
        "LSH_Information(2,2,tr_images,tr_labels,te_images,te_labels,90,40,0.9)\n",
        "print(\" \")\n",
        "LSH_Information(2,2,tr_images,tr_labels,te_images,te_labels,90,60,0.8)\n",
        "print(\" \")\n",
        "LSH_Information(2,2,tr_images,tr_labels,te_images,te_labels,90,60,0.9)\n",
        "print(\" \")"
      ]
    },
    {
      "cell_type": "code",
      "execution_count": 22,
      "metadata": {
        "colab": {
          "base_uri": "https://localhost:8080/"
        },
        "id": "DqFF3p44mdpW",
        "outputId": "77c5cbcf-eba5-45a8-be1a-81d3711e374b"
      },
      "outputs": [
        {
          "output_type": "stream",
          "name": "stderr",
          "text": [
            "/usr/local/lib/python3.9/dist-packages/sklearn/metrics/pairwise.py:2025: DataConversionWarning: Data was converted to boolean for metric jaccard\n",
            "  warnings.warn(msg, DataConversionWarning)\n",
            "/usr/local/lib/python3.9/dist-packages/sklearn/metrics/pairwise.py:2025: DataConversionWarning: Data was converted to boolean for metric jaccard\n",
            "  warnings.warn(msg, DataConversionWarning)\n"
          ]
        },
        {
          "output_type": "stream",
          "name": "stdout",
          "text": [
            "Peak memory usage during fit function: 9453.25 MiB\n",
            "Peak memory usage during predict function: 9491.15 MiB\n",
            "L1 cache size: 32.00 KiB\n",
            "L2 cache size: 256.00 KiB\n",
            "Memory usage of KNN object and its attributes: 0.00 MiB\n",
            "Resident memory usage of Python process: 9453.28 MiB\n",
            "Virtual memory usage of Python process: 10597.28 MiB\n",
            "CPU usage of Python process: 0.00%\n",
            "Number of threads of Python process: 16\n",
            "Number of open file descriptors of Python process: 51\n",
            " \n"
          ]
        },
        {
          "output_type": "stream",
          "name": "stderr",
          "text": [
            "/usr/local/lib/python3.9/dist-packages/sklearn/metrics/pairwise.py:2025: DataConversionWarning: Data was converted to boolean for metric jaccard\n",
            "  warnings.warn(msg, DataConversionWarning)\n",
            "/usr/local/lib/python3.9/dist-packages/sklearn/metrics/pairwise.py:2025: DataConversionWarning: Data was converted to boolean for metric jaccard\n",
            "  warnings.warn(msg, DataConversionWarning)\n"
          ]
        },
        {
          "output_type": "stream",
          "name": "stdout",
          "text": [
            "Peak memory usage during fit function: 9453.29 MiB\n",
            "Peak memory usage during predict function: 9536.45 MiB\n",
            "L1 cache size: 32.00 KiB\n",
            "L2 cache size: 256.00 KiB\n",
            "Memory usage of KNN object and its attributes: 0.00 MiB\n",
            "Resident memory usage of Python process: 9453.29 MiB\n",
            "Virtual memory usage of Python process: 10597.28 MiB\n",
            "CPU usage of Python process: 0.00%\n",
            "Number of threads of Python process: 16\n",
            "Number of open file descriptors of Python process: 51\n",
            " \n"
          ]
        },
        {
          "output_type": "stream",
          "name": "stderr",
          "text": [
            "/usr/local/lib/python3.9/dist-packages/sklearn/metrics/pairwise.py:2025: DataConversionWarning: Data was converted to boolean for metric jaccard\n",
            "  warnings.warn(msg, DataConversionWarning)\n",
            "/usr/local/lib/python3.9/dist-packages/sklearn/metrics/pairwise.py:2025: DataConversionWarning: Data was converted to boolean for metric jaccard\n",
            "  warnings.warn(msg, DataConversionWarning)\n"
          ]
        },
        {
          "output_type": "stream",
          "name": "stdout",
          "text": [
            "Peak memory usage during fit function: 9453.30 MiB\n",
            "Peak memory usage during predict function: 9493.19 MiB\n",
            "L1 cache size: 32.00 KiB\n",
            "L2 cache size: 256.00 KiB\n",
            "Memory usage of KNN object and its attributes: 0.00 MiB\n",
            "Resident memory usage of Python process: 9453.30 MiB\n",
            "Virtual memory usage of Python process: 10597.28 MiB\n",
            "CPU usage of Python process: 0.00%\n",
            "Number of threads of Python process: 16\n",
            "Number of open file descriptors of Python process: 51\n",
            " \n"
          ]
        },
        {
          "output_type": "stream",
          "name": "stderr",
          "text": [
            "/usr/local/lib/python3.9/dist-packages/sklearn/metrics/pairwise.py:2025: DataConversionWarning: Data was converted to boolean for metric jaccard\n",
            "  warnings.warn(msg, DataConversionWarning)\n",
            "/usr/local/lib/python3.9/dist-packages/sklearn/metrics/pairwise.py:2025: DataConversionWarning: Data was converted to boolean for metric jaccard\n",
            "  warnings.warn(msg, DataConversionWarning)\n"
          ]
        },
        {
          "output_type": "stream",
          "name": "stdout",
          "text": [
            "Peak memory usage during fit function: 9453.32 MiB\n",
            "Peak memory usage during predict function: 9530.51 MiB\n",
            "L1 cache size: 32.00 KiB\n",
            "L2 cache size: 256.00 KiB\n",
            "Memory usage of KNN object and its attributes: 0.00 MiB\n",
            "Resident memory usage of Python process: 9453.33 MiB\n",
            "Virtual memory usage of Python process: 10597.28 MiB\n",
            "CPU usage of Python process: 0.00%\n",
            "Number of threads of Python process: 16\n",
            "Number of open file descriptors of Python process: 51\n",
            " \n"
          ]
        }
      ],
      "source": [
        "LSH_Information(3,2,tr_images,tr_labels,te_images,te_labels,90,40,0.8)\n",
        "print(\" \")\n",
        "LSH_Information(3,2,tr_images,tr_labels,te_images,te_labels,90,40,0.9)\n",
        "print(\" \")\n",
        "LSH_Information(3,2,tr_images,tr_labels,te_images,te_labels,90,60,0.8)\n",
        "print(\" \")\n",
        "LSH_Information(3,2,tr_images,tr_labels,te_images,te_labels,90,60,0.9)\n",
        "print(\" \")"
      ]
    },
    {
      "cell_type": "code",
      "execution_count": 23,
      "metadata": {
        "colab": {
          "base_uri": "https://localhost:8080/"
        },
        "id": "tTWgpjP7mdpW",
        "outputId": "bb0a6d8e-2bcd-4c75-b7e2-ee333cd9479c"
      },
      "outputs": [
        {
          "output_type": "stream",
          "name": "stderr",
          "text": [
            "/usr/local/lib/python3.9/dist-packages/sklearn/metrics/pairwise.py:2025: DataConversionWarning: Data was converted to boolean for metric jaccard\n",
            "  warnings.warn(msg, DataConversionWarning)\n",
            "/usr/local/lib/python3.9/dist-packages/sklearn/metrics/pairwise.py:2025: DataConversionWarning: Data was converted to boolean for metric jaccard\n",
            "  warnings.warn(msg, DataConversionWarning)\n"
          ]
        },
        {
          "output_type": "stream",
          "name": "stdout",
          "text": [
            "Peak memory usage during fit function: 9453.34 MiB\n",
            "Peak memory usage during predict function: 9493.26 MiB\n",
            "L1 cache size: 32.00 KiB\n",
            "L2 cache size: 256.00 KiB\n",
            "Memory usage of KNN object and its attributes: 0.00 MiB\n",
            "Resident memory usage of Python process: 9453.34 MiB\n",
            "Virtual memory usage of Python process: 10597.28 MiB\n",
            "CPU usage of Python process: 0.00%\n",
            "Number of threads of Python process: 16\n",
            "Number of open file descriptors of Python process: 51\n",
            " \n"
          ]
        },
        {
          "output_type": "stream",
          "name": "stderr",
          "text": [
            "/usr/local/lib/python3.9/dist-packages/sklearn/metrics/pairwise.py:2025: DataConversionWarning: Data was converted to boolean for metric jaccard\n",
            "  warnings.warn(msg, DataConversionWarning)\n",
            "/usr/local/lib/python3.9/dist-packages/sklearn/metrics/pairwise.py:2025: DataConversionWarning: Data was converted to boolean for metric jaccard\n",
            "  warnings.warn(msg, DataConversionWarning)\n"
          ]
        },
        {
          "output_type": "stream",
          "name": "stdout",
          "text": [
            "Peak memory usage during fit function: 9453.36 MiB\n",
            "Peak memory usage during predict function: 9495.02 MiB\n",
            "L1 cache size: 32.00 KiB\n",
            "L2 cache size: 256.00 KiB\n",
            "Memory usage of KNN object and its attributes: 0.00 MiB\n",
            "Resident memory usage of Python process: 9453.36 MiB\n",
            "Virtual memory usage of Python process: 10597.28 MiB\n",
            "CPU usage of Python process: 0.00%\n",
            "Number of threads of Python process: 16\n",
            "Number of open file descriptors of Python process: 51\n",
            " \n"
          ]
        },
        {
          "output_type": "stream",
          "name": "stderr",
          "text": [
            "/usr/local/lib/python3.9/dist-packages/sklearn/metrics/pairwise.py:2025: DataConversionWarning: Data was converted to boolean for metric jaccard\n",
            "  warnings.warn(msg, DataConversionWarning)\n",
            "/usr/local/lib/python3.9/dist-packages/sklearn/metrics/pairwise.py:2025: DataConversionWarning: Data was converted to boolean for metric jaccard\n",
            "  warnings.warn(msg, DataConversionWarning)\n"
          ]
        },
        {
          "output_type": "stream",
          "name": "stdout",
          "text": [
            "Peak memory usage during fit function: 9453.36 MiB\n",
            "Peak memory usage during predict function: 9516.43 MiB\n",
            "L1 cache size: 32.00 KiB\n",
            "L2 cache size: 256.00 KiB\n",
            "Memory usage of KNN object and its attributes: 0.01 MiB\n",
            "Resident memory usage of Python process: 9453.37 MiB\n",
            "Virtual memory usage of Python process: 10597.28 MiB\n",
            "CPU usage of Python process: 0.00%\n",
            "Number of threads of Python process: 16\n",
            "Number of open file descriptors of Python process: 51\n",
            " \n"
          ]
        },
        {
          "output_type": "stream",
          "name": "stderr",
          "text": [
            "/usr/local/lib/python3.9/dist-packages/sklearn/metrics/pairwise.py:2025: DataConversionWarning: Data was converted to boolean for metric jaccard\n",
            "  warnings.warn(msg, DataConversionWarning)\n",
            "/usr/local/lib/python3.9/dist-packages/sklearn/metrics/pairwise.py:2025: DataConversionWarning: Data was converted to boolean for metric jaccard\n",
            "  warnings.warn(msg, DataConversionWarning)\n"
          ]
        },
        {
          "output_type": "stream",
          "name": "stdout",
          "text": [
            "Peak memory usage during fit function: 9453.39 MiB\n",
            "Peak memory usage during predict function: 9520.49 MiB\n",
            "L1 cache size: 32.00 KiB\n",
            "L2 cache size: 256.00 KiB\n",
            "Memory usage of KNN object and its attributes: 0.00 MiB\n",
            "Resident memory usage of Python process: 9453.39 MiB\n",
            "Virtual memory usage of Python process: 10597.28 MiB\n",
            "CPU usage of Python process: 0.00%\n",
            "Number of threads of Python process: 16\n",
            "Number of open file descriptors of Python process: 51\n",
            " \n"
          ]
        }
      ],
      "source": [
        "LSH_Information(4,2,tr_images,tr_labels,te_images,te_labels,90,40,0.8)\n",
        "print(\" \")\n",
        "LSH_Information(4,2,tr_images,tr_labels,te_images,te_labels,90,40,0.9)\n",
        "print(\" \")\n",
        "LSH_Information(4,2,tr_images,tr_labels,te_images,te_labels,90,60,0.8)\n",
        "print(\" \")\n",
        "LSH_Information(4,2,tr_images,tr_labels,te_images,te_labels,90,60,0.9)\n",
        "print(\" \")"
      ]
    },
    {
      "cell_type": "code",
      "execution_count": 24,
      "metadata": {
        "colab": {
          "base_uri": "https://localhost:8080/"
        },
        "id": "S5q5llmlmdpW",
        "outputId": "fd5c295b-fcad-4d4d-898d-098c4e29ee34"
      },
      "outputs": [
        {
          "output_type": "stream",
          "name": "stderr",
          "text": [
            "/usr/local/lib/python3.9/dist-packages/sklearn/metrics/pairwise.py:2025: DataConversionWarning: Data was converted to boolean for metric jaccard\n",
            "  warnings.warn(msg, DataConversionWarning)\n",
            "/usr/local/lib/python3.9/dist-packages/sklearn/metrics/pairwise.py:2025: DataConversionWarning: Data was converted to boolean for metric jaccard\n",
            "  warnings.warn(msg, DataConversionWarning)\n"
          ]
        },
        {
          "output_type": "stream",
          "name": "stdout",
          "text": [
            "Peak memory usage during fit function: 9453.41 MiB\n",
            "Peak memory usage during predict function: 9493.27 MiB\n",
            "L1 cache size: 32.00 KiB\n",
            "L2 cache size: 256.00 KiB\n",
            "Memory usage of KNN object and its attributes: 0.00 MiB\n",
            "Resident memory usage of Python process: 9453.41 MiB\n",
            "Virtual memory usage of Python process: 10597.28 MiB\n",
            "CPU usage of Python process: 0.00%\n",
            "Number of threads of Python process: 16\n",
            "Number of open file descriptors of Python process: 51\n",
            " \n"
          ]
        },
        {
          "output_type": "stream",
          "name": "stderr",
          "text": [
            "/usr/local/lib/python3.9/dist-packages/sklearn/metrics/pairwise.py:2025: DataConversionWarning: Data was converted to boolean for metric jaccard\n",
            "  warnings.warn(msg, DataConversionWarning)\n",
            "/usr/local/lib/python3.9/dist-packages/sklearn/metrics/pairwise.py:2025: DataConversionWarning: Data was converted to boolean for metric jaccard\n",
            "  warnings.warn(msg, DataConversionWarning)\n"
          ]
        },
        {
          "output_type": "stream",
          "name": "stdout",
          "text": [
            "Peak memory usage during fit function: 9453.44 MiB\n",
            "Peak memory usage during predict function: 9491.26 MiB\n",
            "L1 cache size: 32.00 KiB\n",
            "L2 cache size: 256.00 KiB\n",
            "Memory usage of KNN object and its attributes: 0.00 MiB\n",
            "Resident memory usage of Python process: 9453.44 MiB\n",
            "Virtual memory usage of Python process: 10597.28 MiB\n",
            "CPU usage of Python process: 0.00%\n",
            "Number of threads of Python process: 16\n",
            "Number of open file descriptors of Python process: 51\n",
            " \n"
          ]
        },
        {
          "output_type": "stream",
          "name": "stderr",
          "text": [
            "/usr/local/lib/python3.9/dist-packages/sklearn/metrics/pairwise.py:2025: DataConversionWarning: Data was converted to boolean for metric jaccard\n",
            "  warnings.warn(msg, DataConversionWarning)\n",
            "/usr/local/lib/python3.9/dist-packages/sklearn/metrics/pairwise.py:2025: DataConversionWarning: Data was converted to boolean for metric jaccard\n",
            "  warnings.warn(msg, DataConversionWarning)\n"
          ]
        },
        {
          "output_type": "stream",
          "name": "stdout",
          "text": [
            "Peak memory usage during fit function: 9453.45 MiB\n",
            "Peak memory usage during predict function: 9502.50 MiB\n",
            "L1 cache size: 32.00 KiB\n",
            "L2 cache size: 256.00 KiB\n",
            "Memory usage of KNN object and its attributes: 0.00 MiB\n",
            "Resident memory usage of Python process: 9453.45 MiB\n",
            "Virtual memory usage of Python process: 10597.28 MiB\n",
            "CPU usage of Python process: 0.00%\n",
            "Number of threads of Python process: 16\n",
            "Number of open file descriptors of Python process: 51\n",
            " \n"
          ]
        },
        {
          "output_type": "stream",
          "name": "stderr",
          "text": [
            "/usr/local/lib/python3.9/dist-packages/sklearn/metrics/pairwise.py:2025: DataConversionWarning: Data was converted to boolean for metric jaccard\n",
            "  warnings.warn(msg, DataConversionWarning)\n",
            "/usr/local/lib/python3.9/dist-packages/sklearn/metrics/pairwise.py:2025: DataConversionWarning: Data was converted to boolean for metric jaccard\n",
            "  warnings.warn(msg, DataConversionWarning)\n"
          ]
        },
        {
          "output_type": "stream",
          "name": "stdout",
          "text": [
            "Peak memory usage during fit function: 9453.45 MiB\n",
            "Peak memory usage during predict function: 9493.25 MiB\n",
            "L1 cache size: 32.00 KiB\n",
            "L2 cache size: 256.00 KiB\n",
            "Memory usage of KNN object and its attributes: 0.00 MiB\n",
            "Resident memory usage of Python process: 9453.48 MiB\n",
            "Virtual memory usage of Python process: 10597.28 MiB\n",
            "CPU usage of Python process: 0.00%\n",
            "Number of threads of Python process: 16\n",
            "Number of open file descriptors of Python process: 52\n",
            " \n"
          ]
        }
      ],
      "source": [
        "LSH_Information(5,2,tr_images,tr_labels,te_images,te_labels,90,40,0.8)\n",
        "print(\" \")\n",
        "LSH_Information(5,2,tr_images,tr_labels,te_images,te_labels,90,40,0.9)\n",
        "print(\" \")\n",
        "LSH_Information(5,2,tr_images,tr_labels,te_images,te_labels,90,60,0.8)\n",
        "print(\" \")\n",
        "LSH_Information(5,2,tr_images,tr_labels,te_images,te_labels,90,60,0.9)\n",
        "print(\" \")"
      ]
    },
    {
      "cell_type": "markdown",
      "metadata": {
        "id": "fMWIQSKufm2J"
      },
      "source": [
        "### Memory related information for all test images"
      ]
    },
    {
      "cell_type": "code",
      "execution_count": 25,
      "metadata": {
        "colab": {
          "base_uri": "https://localhost:8080/"
        },
        "id": "EwvNzc1ompEi",
        "outputId": "68be7283-8dea-4121-9965-da1764be8531"
      },
      "outputs": [
        {
          "output_type": "stream",
          "name": "stderr",
          "text": [
            "/usr/local/lib/python3.9/dist-packages/sklearn/metrics/pairwise.py:2025: DataConversionWarning: Data was converted to boolean for metric jaccard\n",
            "  warnings.warn(msg, DataConversionWarning)\n",
            "/usr/local/lib/python3.9/dist-packages/sklearn/metrics/pairwise.py:2025: DataConversionWarning: Data was converted to boolean for metric jaccard\n",
            "  warnings.warn(msg, DataConversionWarning)\n",
            "/usr/local/lib/python3.9/dist-packages/sklearn/metrics/pairwise.py:2025: DataConversionWarning: Data was converted to boolean for metric jaccard\n",
            "  warnings.warn(msg, DataConversionWarning)\n",
            "/usr/local/lib/python3.9/dist-packages/sklearn/metrics/pairwise.py:2025: DataConversionWarning: Data was converted to boolean for metric jaccard\n",
            "  warnings.warn(msg, DataConversionWarning)\n",
            "/usr/local/lib/python3.9/dist-packages/sklearn/metrics/pairwise.py:2025: DataConversionWarning: Data was converted to boolean for metric jaccard\n",
            "  warnings.warn(msg, DataConversionWarning)\n",
            "/usr/local/lib/python3.9/dist-packages/sklearn/metrics/pairwise.py:2025: DataConversionWarning: Data was converted to boolean for metric jaccard\n",
            "  warnings.warn(msg, DataConversionWarning)\n"
          ]
        },
        {
          "output_type": "stream",
          "name": "stdout",
          "text": [
            "Peak memory usage during fit function: 9453.48 MiB\n",
            "Peak memory usage during predict function: 11470.10 MiB\n",
            "L1 cache size: 32.00 KiB\n",
            "L2 cache size: 256.00 KiB\n",
            "Memory usage of KNN object and its attributes: 0.00 MiB\n",
            "Resident memory usage of Python process: 9425.49 MiB\n",
            "Virtual memory usage of Python process: 10597.28 MiB\n",
            "CPU usage of Python process: 0.00%\n",
            "Number of threads of Python process: 16\n",
            "Number of open file descriptors of Python process: 51\n",
            " \n"
          ]
        },
        {
          "output_type": "stream",
          "name": "stderr",
          "text": [
            "/usr/local/lib/python3.9/dist-packages/sklearn/metrics/pairwise.py:2025: DataConversionWarning: Data was converted to boolean for metric jaccard\n",
            "  warnings.warn(msg, DataConversionWarning)\n",
            "/usr/local/lib/python3.9/dist-packages/sklearn/metrics/pairwise.py:2025: DataConversionWarning: Data was converted to boolean for metric jaccard\n",
            "  warnings.warn(msg, DataConversionWarning)\n",
            "/usr/local/lib/python3.9/dist-packages/sklearn/metrics/pairwise.py:2025: DataConversionWarning: Data was converted to boolean for metric jaccard\n",
            "  warnings.warn(msg, DataConversionWarning)\n",
            "/usr/local/lib/python3.9/dist-packages/sklearn/metrics/pairwise.py:2025: DataConversionWarning: Data was converted to boolean for metric jaccard\n",
            "  warnings.warn(msg, DataConversionWarning)\n",
            "/usr/local/lib/python3.9/dist-packages/sklearn/metrics/pairwise.py:2025: DataConversionWarning: Data was converted to boolean for metric jaccard\n",
            "  warnings.warn(msg, DataConversionWarning)\n",
            "/usr/local/lib/python3.9/dist-packages/sklearn/metrics/pairwise.py:2025: DataConversionWarning: Data was converted to boolean for metric jaccard\n",
            "  warnings.warn(msg, DataConversionWarning)\n"
          ]
        },
        {
          "output_type": "stream",
          "name": "stdout",
          "text": [
            "Peak memory usage during fit function: 9425.95 MiB\n",
            "Peak memory usage during predict function: 11472.91 MiB\n",
            "L1 cache size: 32.00 KiB\n",
            "L2 cache size: 256.00 KiB\n",
            "Memory usage of KNN object and its attributes: 0.00 MiB\n",
            "Resident memory usage of Python process: 9425.96 MiB\n",
            "Virtual memory usage of Python process: 10597.28 MiB\n",
            "CPU usage of Python process: 0.00%\n",
            "Number of threads of Python process: 16\n",
            "Number of open file descriptors of Python process: 51\n",
            " \n"
          ]
        },
        {
          "output_type": "stream",
          "name": "stderr",
          "text": [
            "/usr/local/lib/python3.9/dist-packages/sklearn/metrics/pairwise.py:2025: DataConversionWarning: Data was converted to boolean for metric jaccard\n",
            "  warnings.warn(msg, DataConversionWarning)\n",
            "/usr/local/lib/python3.9/dist-packages/sklearn/metrics/pairwise.py:2025: DataConversionWarning: Data was converted to boolean for metric jaccard\n",
            "  warnings.warn(msg, DataConversionWarning)\n",
            "/usr/local/lib/python3.9/dist-packages/sklearn/metrics/pairwise.py:2025: DataConversionWarning: Data was converted to boolean for metric jaccard\n",
            "  warnings.warn(msg, DataConversionWarning)\n",
            "/usr/local/lib/python3.9/dist-packages/sklearn/metrics/pairwise.py:2025: DataConversionWarning: Data was converted to boolean for metric jaccard\n",
            "  warnings.warn(msg, DataConversionWarning)\n",
            "/usr/local/lib/python3.9/dist-packages/sklearn/metrics/pairwise.py:2025: DataConversionWarning: Data was converted to boolean for metric jaccard\n",
            "  warnings.warn(msg, DataConversionWarning)\n",
            "/usr/local/lib/python3.9/dist-packages/sklearn/metrics/pairwise.py:2025: DataConversionWarning: Data was converted to boolean for metric jaccard\n",
            "  warnings.warn(msg, DataConversionWarning)\n"
          ]
        },
        {
          "output_type": "stream",
          "name": "stdout",
          "text": [
            "Peak memory usage during fit function: 9425.97 MiB\n",
            "Peak memory usage during predict function: 11460.92 MiB\n",
            "L1 cache size: 32.00 KiB\n",
            "L2 cache size: 256.00 KiB\n",
            "Memory usage of KNN object and its attributes: 0.00 MiB\n",
            "Resident memory usage of Python process: 9425.98 MiB\n",
            "Virtual memory usage of Python process: 10597.28 MiB\n",
            "CPU usage of Python process: 0.00%\n",
            "Number of threads of Python process: 16\n",
            "Number of open file descriptors of Python process: 51\n",
            " \n"
          ]
        },
        {
          "output_type": "stream",
          "name": "stderr",
          "text": [
            "/usr/local/lib/python3.9/dist-packages/sklearn/metrics/pairwise.py:2025: DataConversionWarning: Data was converted to boolean for metric jaccard\n",
            "  warnings.warn(msg, DataConversionWarning)\n",
            "/usr/local/lib/python3.9/dist-packages/sklearn/metrics/pairwise.py:2025: DataConversionWarning: Data was converted to boolean for metric jaccard\n",
            "  warnings.warn(msg, DataConversionWarning)\n",
            "/usr/local/lib/python3.9/dist-packages/sklearn/metrics/pairwise.py:2025: DataConversionWarning: Data was converted to boolean for metric jaccard\n",
            "  warnings.warn(msg, DataConversionWarning)\n",
            "/usr/local/lib/python3.9/dist-packages/sklearn/metrics/pairwise.py:2025: DataConversionWarning: Data was converted to boolean for metric jaccard\n",
            "  warnings.warn(msg, DataConversionWarning)\n",
            "/usr/local/lib/python3.9/dist-packages/sklearn/metrics/pairwise.py:2025: DataConversionWarning: Data was converted to boolean for metric jaccard\n",
            "  warnings.warn(msg, DataConversionWarning)\n",
            "/usr/local/lib/python3.9/dist-packages/sklearn/metrics/pairwise.py:2025: DataConversionWarning: Data was converted to boolean for metric jaccard\n",
            "  warnings.warn(msg, DataConversionWarning)\n"
          ]
        },
        {
          "output_type": "stream",
          "name": "stdout",
          "text": [
            "Peak memory usage during fit function: 9426.01 MiB\n",
            "Peak memory usage during predict function: 11468.96 MiB\n",
            "L1 cache size: 32.00 KiB\n",
            "L2 cache size: 256.00 KiB\n",
            "Memory usage of KNN object and its attributes: 0.00 MiB\n",
            "Resident memory usage of Python process: 9426.02 MiB\n",
            "Virtual memory usage of Python process: 10597.28 MiB\n",
            "CPU usage of Python process: 0.00%\n",
            "Number of threads of Python process: 16\n",
            "Number of open file descriptors of Python process: 51\n",
            " \n"
          ]
        }
      ],
      "source": [
        "LSH_Information(1,2,tr_images,tr_labels,te_images,te_labels, te_images.shape[0],40,0.8)\n",
        "print(\" \")\n",
        "LSH_Information(1,2,tr_images,tr_labels,te_images,te_labels, te_images.shape[0],40,0.9)\n",
        "print(\" \")\n",
        "LSH_Information(1,2,tr_images,tr_labels,te_images,te_labels, te_images.shape[0],60,0.8)\n",
        "print(\" \")\n",
        "LSH_Information(1,2,tr_images,tr_labels,te_images,te_labels, te_images.shape[0],60,0.9)\n",
        "print(\" \")"
      ]
    },
    {
      "cell_type": "code",
      "execution_count": 26,
      "metadata": {
        "colab": {
          "base_uri": "https://localhost:8080/"
        },
        "id": "T_-ElgmKmpEj",
        "outputId": "90ab3d3e-18e6-4095-ebf4-e388add91320"
      },
      "outputs": [
        {
          "output_type": "stream",
          "name": "stderr",
          "text": [
            "/usr/local/lib/python3.9/dist-packages/sklearn/metrics/pairwise.py:2025: DataConversionWarning: Data was converted to boolean for metric jaccard\n",
            "  warnings.warn(msg, DataConversionWarning)\n",
            "/usr/local/lib/python3.9/dist-packages/sklearn/metrics/pairwise.py:2025: DataConversionWarning: Data was converted to boolean for metric jaccard\n",
            "  warnings.warn(msg, DataConversionWarning)\n",
            "/usr/local/lib/python3.9/dist-packages/sklearn/metrics/pairwise.py:2025: DataConversionWarning: Data was converted to boolean for metric jaccard\n",
            "  warnings.warn(msg, DataConversionWarning)\n",
            "/usr/local/lib/python3.9/dist-packages/sklearn/metrics/pairwise.py:2025: DataConversionWarning: Data was converted to boolean for metric jaccard\n",
            "  warnings.warn(msg, DataConversionWarning)\n",
            "/usr/local/lib/python3.9/dist-packages/sklearn/metrics/pairwise.py:2025: DataConversionWarning: Data was converted to boolean for metric jaccard\n",
            "  warnings.warn(msg, DataConversionWarning)\n",
            "/usr/local/lib/python3.9/dist-packages/sklearn/metrics/pairwise.py:2025: DataConversionWarning: Data was converted to boolean for metric jaccard\n",
            "  warnings.warn(msg, DataConversionWarning)\n"
          ]
        },
        {
          "output_type": "stream",
          "name": "stdout",
          "text": [
            "Peak memory usage during fit function: 9426.05 MiB\n",
            "Peak memory usage during predict function: 11469.00 MiB\n",
            "L1 cache size: 32.00 KiB\n",
            "L2 cache size: 256.00 KiB\n",
            "Memory usage of KNN object and its attributes: 0.00 MiB\n",
            "Resident memory usage of Python process: 9426.07 MiB\n",
            "Virtual memory usage of Python process: 10597.28 MiB\n",
            "CPU usage of Python process: 0.00%\n",
            "Number of threads of Python process: 16\n",
            "Number of open file descriptors of Python process: 51\n",
            " \n"
          ]
        },
        {
          "output_type": "stream",
          "name": "stderr",
          "text": [
            "/usr/local/lib/python3.9/dist-packages/sklearn/metrics/pairwise.py:2025: DataConversionWarning: Data was converted to boolean for metric jaccard\n",
            "  warnings.warn(msg, DataConversionWarning)\n",
            "/usr/local/lib/python3.9/dist-packages/sklearn/metrics/pairwise.py:2025: DataConversionWarning: Data was converted to boolean for metric jaccard\n",
            "  warnings.warn(msg, DataConversionWarning)\n",
            "/usr/local/lib/python3.9/dist-packages/sklearn/metrics/pairwise.py:2025: DataConversionWarning: Data was converted to boolean for metric jaccard\n",
            "  warnings.warn(msg, DataConversionWarning)\n",
            "/usr/local/lib/python3.9/dist-packages/sklearn/metrics/pairwise.py:2025: DataConversionWarning: Data was converted to boolean for metric jaccard\n",
            "  warnings.warn(msg, DataConversionWarning)\n",
            "/usr/local/lib/python3.9/dist-packages/sklearn/metrics/pairwise.py:2025: DataConversionWarning: Data was converted to boolean for metric jaccard\n",
            "  warnings.warn(msg, DataConversionWarning)\n",
            "/usr/local/lib/python3.9/dist-packages/sklearn/metrics/pairwise.py:2025: DataConversionWarning: Data was converted to boolean for metric jaccard\n",
            "  warnings.warn(msg, DataConversionWarning)\n"
          ]
        },
        {
          "output_type": "stream",
          "name": "stdout",
          "text": [
            "Peak memory usage during fit function: 9426.09 MiB\n",
            "Peak memory usage during predict function: 11425.04 MiB\n",
            "L1 cache size: 32.00 KiB\n",
            "L2 cache size: 256.00 KiB\n",
            "Memory usage of KNN object and its attributes: 0.00 MiB\n",
            "Resident memory usage of Python process: 9426.10 MiB\n",
            "Virtual memory usage of Python process: 10597.28 MiB\n",
            "CPU usage of Python process: 0.00%\n",
            "Number of threads of Python process: 16\n",
            "Number of open file descriptors of Python process: 51\n",
            " \n"
          ]
        },
        {
          "output_type": "stream",
          "name": "stderr",
          "text": [
            "/usr/local/lib/python3.9/dist-packages/sklearn/metrics/pairwise.py:2025: DataConversionWarning: Data was converted to boolean for metric jaccard\n",
            "  warnings.warn(msg, DataConversionWarning)\n",
            "/usr/local/lib/python3.9/dist-packages/sklearn/metrics/pairwise.py:2025: DataConversionWarning: Data was converted to boolean for metric jaccard\n",
            "  warnings.warn(msg, DataConversionWarning)\n",
            "/usr/local/lib/python3.9/dist-packages/sklearn/metrics/pairwise.py:2025: DataConversionWarning: Data was converted to boolean for metric jaccard\n",
            "  warnings.warn(msg, DataConversionWarning)\n",
            "/usr/local/lib/python3.9/dist-packages/sklearn/metrics/pairwise.py:2025: DataConversionWarning: Data was converted to boolean for metric jaccard\n",
            "  warnings.warn(msg, DataConversionWarning)\n",
            "/usr/local/lib/python3.9/dist-packages/sklearn/metrics/pairwise.py:2025: DataConversionWarning: Data was converted to boolean for metric jaccard\n",
            "  warnings.warn(msg, DataConversionWarning)\n",
            "/usr/local/lib/python3.9/dist-packages/sklearn/metrics/pairwise.py:2025: DataConversionWarning: Data was converted to boolean for metric jaccard\n",
            "  warnings.warn(msg, DataConversionWarning)\n"
          ]
        },
        {
          "output_type": "stream",
          "name": "stdout",
          "text": [
            "Peak memory usage during fit function: 9426.10 MiB\n",
            "Peak memory usage during predict function: 11431.05 MiB\n",
            "L1 cache size: 32.00 KiB\n",
            "L2 cache size: 256.00 KiB\n",
            "Memory usage of KNN object and its attributes: 0.00 MiB\n",
            "Resident memory usage of Python process: 9426.11 MiB\n",
            "Virtual memory usage of Python process: 10597.28 MiB\n",
            "CPU usage of Python process: 0.00%\n",
            "Number of threads of Python process: 16\n",
            "Number of open file descriptors of Python process: 54\n",
            " \n"
          ]
        },
        {
          "output_type": "stream",
          "name": "stderr",
          "text": [
            "/usr/local/lib/python3.9/dist-packages/sklearn/metrics/pairwise.py:2025: DataConversionWarning: Data was converted to boolean for metric jaccard\n",
            "  warnings.warn(msg, DataConversionWarning)\n",
            "/usr/local/lib/python3.9/dist-packages/sklearn/metrics/pairwise.py:2025: DataConversionWarning: Data was converted to boolean for metric jaccard\n",
            "  warnings.warn(msg, DataConversionWarning)\n",
            "/usr/local/lib/python3.9/dist-packages/sklearn/metrics/pairwise.py:2025: DataConversionWarning: Data was converted to boolean for metric jaccard\n",
            "  warnings.warn(msg, DataConversionWarning)\n",
            "/usr/local/lib/python3.9/dist-packages/sklearn/metrics/pairwise.py:2025: DataConversionWarning: Data was converted to boolean for metric jaccard\n",
            "  warnings.warn(msg, DataConversionWarning)\n",
            "/usr/local/lib/python3.9/dist-packages/sklearn/metrics/pairwise.py:2025: DataConversionWarning: Data was converted to boolean for metric jaccard\n",
            "  warnings.warn(msg, DataConversionWarning)\n",
            "/usr/local/lib/python3.9/dist-packages/sklearn/metrics/pairwise.py:2025: DataConversionWarning: Data was converted to boolean for metric jaccard\n",
            "  warnings.warn(msg, DataConversionWarning)\n"
          ]
        },
        {
          "output_type": "stream",
          "name": "stdout",
          "text": [
            "Peak memory usage during fit function: 9426.14 MiB\n",
            "Peak memory usage during predict function: 11471.09 MiB\n",
            "L1 cache size: 32.00 KiB\n",
            "L2 cache size: 256.00 KiB\n",
            "Memory usage of KNN object and its attributes: 0.00 MiB\n",
            "Resident memory usage of Python process: 9426.15 MiB\n",
            "Virtual memory usage of Python process: 10597.53 MiB\n",
            "CPU usage of Python process: 0.00%\n",
            "Number of threads of Python process: 16\n",
            "Number of open file descriptors of Python process: 51\n",
            " \n"
          ]
        }
      ],
      "source": [
        "LSH_Information(2,2,tr_images,tr_labels,te_images,te_labels, te_images.shape[0],40,0.8)\n",
        "print(\" \")\n",
        "LSH_Information(2,2,tr_images,tr_labels,te_images,te_labels, te_images.shape[0],40,0.9)\n",
        "print(\" \")\n",
        "LSH_Information(2,2,tr_images,tr_labels,te_images,te_labels, te_images.shape[0],60,0.8)\n",
        "print(\" \")\n",
        "LSH_Information(2,2,tr_images,tr_labels,te_images,te_labels, te_images.shape[0],60,0.9)\n",
        "print(\" \")"
      ]
    },
    {
      "cell_type": "code",
      "execution_count": 27,
      "metadata": {
        "colab": {
          "base_uri": "https://localhost:8080/"
        },
        "id": "OIq3EWUYmpEj",
        "outputId": "6633f8b3-f170-4b1f-96ad-0d59fd240b9c"
      },
      "outputs": [
        {
          "output_type": "stream",
          "name": "stderr",
          "text": [
            "/usr/local/lib/python3.9/dist-packages/sklearn/metrics/pairwise.py:2025: DataConversionWarning: Data was converted to boolean for metric jaccard\n",
            "  warnings.warn(msg, DataConversionWarning)\n",
            "/usr/local/lib/python3.9/dist-packages/sklearn/metrics/pairwise.py:2025: DataConversionWarning: Data was converted to boolean for metric jaccard\n",
            "  warnings.warn(msg, DataConversionWarning)\n",
            "/usr/local/lib/python3.9/dist-packages/sklearn/metrics/pairwise.py:2025: DataConversionWarning: Data was converted to boolean for metric jaccard\n",
            "  warnings.warn(msg, DataConversionWarning)\n",
            "/usr/local/lib/python3.9/dist-packages/sklearn/metrics/pairwise.py:2025: DataConversionWarning: Data was converted to boolean for metric jaccard\n",
            "  warnings.warn(msg, DataConversionWarning)\n",
            "/usr/local/lib/python3.9/dist-packages/sklearn/metrics/pairwise.py:2025: DataConversionWarning: Data was converted to boolean for metric jaccard\n",
            "  warnings.warn(msg, DataConversionWarning)\n",
            "/usr/local/lib/python3.9/dist-packages/sklearn/metrics/pairwise.py:2025: DataConversionWarning: Data was converted to boolean for metric jaccard\n",
            "  warnings.warn(msg, DataConversionWarning)\n"
          ]
        },
        {
          "output_type": "stream",
          "name": "stdout",
          "text": [
            "Peak memory usage during fit function: 9426.15 MiB\n",
            "Peak memory usage during predict function: 11437.11 MiB\n",
            "L1 cache size: 32.00 KiB\n",
            "L2 cache size: 256.00 KiB\n",
            "Memory usage of KNN object and its attributes: 0.00 MiB\n",
            "Resident memory usage of Python process: 9426.17 MiB\n",
            "Virtual memory usage of Python process: 10597.53 MiB\n",
            "CPU usage of Python process: 0.00%\n",
            "Number of threads of Python process: 16\n",
            "Number of open file descriptors of Python process: 51\n",
            " \n"
          ]
        },
        {
          "output_type": "stream",
          "name": "stderr",
          "text": [
            "/usr/local/lib/python3.9/dist-packages/sklearn/metrics/pairwise.py:2025: DataConversionWarning: Data was converted to boolean for metric jaccard\n",
            "  warnings.warn(msg, DataConversionWarning)\n",
            "/usr/local/lib/python3.9/dist-packages/sklearn/metrics/pairwise.py:2025: DataConversionWarning: Data was converted to boolean for metric jaccard\n",
            "  warnings.warn(msg, DataConversionWarning)\n",
            "/usr/local/lib/python3.9/dist-packages/sklearn/metrics/pairwise.py:2025: DataConversionWarning: Data was converted to boolean for metric jaccard\n",
            "  warnings.warn(msg, DataConversionWarning)\n",
            "/usr/local/lib/python3.9/dist-packages/sklearn/metrics/pairwise.py:2025: DataConversionWarning: Data was converted to boolean for metric jaccard\n",
            "  warnings.warn(msg, DataConversionWarning)\n",
            "/usr/local/lib/python3.9/dist-packages/sklearn/metrics/pairwise.py:2025: DataConversionWarning: Data was converted to boolean for metric jaccard\n",
            "  warnings.warn(msg, DataConversionWarning)\n",
            "/usr/local/lib/python3.9/dist-packages/sklearn/metrics/pairwise.py:2025: DataConversionWarning: Data was converted to boolean for metric jaccard\n",
            "  warnings.warn(msg, DataConversionWarning)\n"
          ]
        },
        {
          "output_type": "stream",
          "name": "stdout",
          "text": [
            "Peak memory usage during fit function: 9426.20 MiB\n",
            "Peak memory usage during predict function: 11455.15 MiB\n",
            "L1 cache size: 32.00 KiB\n",
            "L2 cache size: 256.00 KiB\n",
            "Memory usage of KNN object and its attributes: 0.00 MiB\n",
            "Resident memory usage of Python process: 9426.20 MiB\n",
            "Virtual memory usage of Python process: 10597.53 MiB\n",
            "CPU usage of Python process: 0.00%\n",
            "Number of threads of Python process: 16\n",
            "Number of open file descriptors of Python process: 51\n",
            " \n"
          ]
        },
        {
          "output_type": "stream",
          "name": "stderr",
          "text": [
            "/usr/local/lib/python3.9/dist-packages/sklearn/metrics/pairwise.py:2025: DataConversionWarning: Data was converted to boolean for metric jaccard\n",
            "  warnings.warn(msg, DataConversionWarning)\n",
            "/usr/local/lib/python3.9/dist-packages/sklearn/metrics/pairwise.py:2025: DataConversionWarning: Data was converted to boolean for metric jaccard\n",
            "  warnings.warn(msg, DataConversionWarning)\n",
            "/usr/local/lib/python3.9/dist-packages/sklearn/metrics/pairwise.py:2025: DataConversionWarning: Data was converted to boolean for metric jaccard\n",
            "  warnings.warn(msg, DataConversionWarning)\n",
            "/usr/local/lib/python3.9/dist-packages/sklearn/metrics/pairwise.py:2025: DataConversionWarning: Data was converted to boolean for metric jaccard\n",
            "  warnings.warn(msg, DataConversionWarning)\n",
            "/usr/local/lib/python3.9/dist-packages/sklearn/metrics/pairwise.py:2025: DataConversionWarning: Data was converted to boolean for metric jaccard\n",
            "  warnings.warn(msg, DataConversionWarning)\n",
            "/usr/local/lib/python3.9/dist-packages/sklearn/metrics/pairwise.py:2025: DataConversionWarning: Data was converted to boolean for metric jaccard\n",
            "  warnings.warn(msg, DataConversionWarning)\n"
          ]
        },
        {
          "output_type": "stream",
          "name": "stdout",
          "text": [
            "Peak memory usage during fit function: 9426.21 MiB\n",
            "Peak memory usage during predict function: 11469.16 MiB\n",
            "L1 cache size: 32.00 KiB\n",
            "L2 cache size: 256.00 KiB\n",
            "Memory usage of KNN object and its attributes: 0.00 MiB\n",
            "Resident memory usage of Python process: 9426.22 MiB\n",
            "Virtual memory usage of Python process: 10597.53 MiB\n",
            "CPU usage of Python process: 0.00%\n",
            "Number of threads of Python process: 16\n",
            "Number of open file descriptors of Python process: 51\n",
            " \n"
          ]
        },
        {
          "output_type": "stream",
          "name": "stderr",
          "text": [
            "/usr/local/lib/python3.9/dist-packages/sklearn/metrics/pairwise.py:2025: DataConversionWarning: Data was converted to boolean for metric jaccard\n",
            "  warnings.warn(msg, DataConversionWarning)\n",
            "/usr/local/lib/python3.9/dist-packages/sklearn/metrics/pairwise.py:2025: DataConversionWarning: Data was converted to boolean for metric jaccard\n",
            "  warnings.warn(msg, DataConversionWarning)\n",
            "/usr/local/lib/python3.9/dist-packages/sklearn/metrics/pairwise.py:2025: DataConversionWarning: Data was converted to boolean for metric jaccard\n",
            "  warnings.warn(msg, DataConversionWarning)\n",
            "/usr/local/lib/python3.9/dist-packages/sklearn/metrics/pairwise.py:2025: DataConversionWarning: Data was converted to boolean for metric jaccard\n",
            "  warnings.warn(msg, DataConversionWarning)\n",
            "/usr/local/lib/python3.9/dist-packages/sklearn/metrics/pairwise.py:2025: DataConversionWarning: Data was converted to boolean for metric jaccard\n",
            "  warnings.warn(msg, DataConversionWarning)\n",
            "/usr/local/lib/python3.9/dist-packages/sklearn/metrics/pairwise.py:2025: DataConversionWarning: Data was converted to boolean for metric jaccard\n",
            "  warnings.warn(msg, DataConversionWarning)\n"
          ]
        },
        {
          "output_type": "stream",
          "name": "stdout",
          "text": [
            "Peak memory usage during fit function: 9426.26 MiB\n",
            "Peak memory usage during predict function: 11467.20 MiB\n",
            "L1 cache size: 32.00 KiB\n",
            "L2 cache size: 256.00 KiB\n",
            "Memory usage of KNN object and its attributes: 0.00 MiB\n",
            "Resident memory usage of Python process: 9426.27 MiB\n",
            "Virtual memory usage of Python process: 10597.53 MiB\n",
            "CPU usage of Python process: 0.00%\n",
            "Number of threads of Python process: 16\n",
            "Number of open file descriptors of Python process: 51\n",
            " \n"
          ]
        }
      ],
      "source": [
        "LSH_Information(3,2,tr_images,tr_labels,te_images,te_labels, te_images.shape[0],40,0.8)\n",
        "print(\" \")\n",
        "LSH_Information(3,2,tr_images,tr_labels,te_images,te_labels, te_images.shape[0],40,0.9)\n",
        "print(\" \")\n",
        "LSH_Information(3,2,tr_images,tr_labels,te_images,te_labels, te_images.shape[0],60,0.8)\n",
        "print(\" \")\n",
        "LSH_Information(3,2,tr_images,tr_labels,te_images,te_labels, te_images.shape[0],60,0.9)\n",
        "print(\" \")"
      ]
    },
    {
      "cell_type": "code",
      "execution_count": 28,
      "metadata": {
        "colab": {
          "base_uri": "https://localhost:8080/"
        },
        "id": "tdB44EN7mpEj",
        "outputId": "29e58697-5568-4bf1-d889-a00769f66246"
      },
      "outputs": [
        {
          "output_type": "stream",
          "name": "stderr",
          "text": [
            "/usr/local/lib/python3.9/dist-packages/sklearn/metrics/pairwise.py:2025: DataConversionWarning: Data was converted to boolean for metric jaccard\n",
            "  warnings.warn(msg, DataConversionWarning)\n",
            "/usr/local/lib/python3.9/dist-packages/sklearn/metrics/pairwise.py:2025: DataConversionWarning: Data was converted to boolean for metric jaccard\n",
            "  warnings.warn(msg, DataConversionWarning)\n",
            "/usr/local/lib/python3.9/dist-packages/sklearn/metrics/pairwise.py:2025: DataConversionWarning: Data was converted to boolean for metric jaccard\n",
            "  warnings.warn(msg, DataConversionWarning)\n",
            "/usr/local/lib/python3.9/dist-packages/sklearn/metrics/pairwise.py:2025: DataConversionWarning: Data was converted to boolean for metric jaccard\n",
            "  warnings.warn(msg, DataConversionWarning)\n",
            "/usr/local/lib/python3.9/dist-packages/sklearn/metrics/pairwise.py:2025: DataConversionWarning: Data was converted to boolean for metric jaccard\n",
            "  warnings.warn(msg, DataConversionWarning)\n",
            "/usr/local/lib/python3.9/dist-packages/sklearn/metrics/pairwise.py:2025: DataConversionWarning: Data was converted to boolean for metric jaccard\n",
            "  warnings.warn(msg, DataConversionWarning)\n"
          ]
        },
        {
          "output_type": "stream",
          "name": "stdout",
          "text": [
            "Peak memory usage during fit function: 9426.56 MiB\n",
            "Peak memory usage during predict function: 11471.53 MiB\n",
            "L1 cache size: 32.00 KiB\n",
            "L2 cache size: 256.00 KiB\n",
            "Memory usage of KNN object and its attributes: 0.00 MiB\n",
            "Resident memory usage of Python process: 9426.58 MiB\n",
            "Virtual memory usage of Python process: 10597.53 MiB\n",
            "CPU usage of Python process: 0.00%\n",
            "Number of threads of Python process: 16\n",
            "Number of open file descriptors of Python process: 51\n",
            " \n"
          ]
        },
        {
          "output_type": "stream",
          "name": "stderr",
          "text": [
            "/usr/local/lib/python3.9/dist-packages/sklearn/metrics/pairwise.py:2025: DataConversionWarning: Data was converted to boolean for metric jaccard\n",
            "  warnings.warn(msg, DataConversionWarning)\n",
            "/usr/local/lib/python3.9/dist-packages/sklearn/metrics/pairwise.py:2025: DataConversionWarning: Data was converted to boolean for metric jaccard\n",
            "  warnings.warn(msg, DataConversionWarning)\n",
            "/usr/local/lib/python3.9/dist-packages/sklearn/metrics/pairwise.py:2025: DataConversionWarning: Data was converted to boolean for metric jaccard\n",
            "  warnings.warn(msg, DataConversionWarning)\n",
            "/usr/local/lib/python3.9/dist-packages/sklearn/metrics/pairwise.py:2025: DataConversionWarning: Data was converted to boolean for metric jaccard\n",
            "  warnings.warn(msg, DataConversionWarning)\n",
            "/usr/local/lib/python3.9/dist-packages/sklearn/metrics/pairwise.py:2025: DataConversionWarning: Data was converted to boolean for metric jaccard\n",
            "  warnings.warn(msg, DataConversionWarning)\n",
            "/usr/local/lib/python3.9/dist-packages/sklearn/metrics/pairwise.py:2025: DataConversionWarning: Data was converted to boolean for metric jaccard\n",
            "  warnings.warn(msg, DataConversionWarning)\n"
          ]
        },
        {
          "output_type": "stream",
          "name": "stdout",
          "text": [
            "Peak memory usage during fit function: 9426.58 MiB\n",
            "Peak memory usage during predict function: 11471.53 MiB\n",
            "L1 cache size: 32.00 KiB\n",
            "L2 cache size: 256.00 KiB\n",
            "Memory usage of KNN object and its attributes: 0.00 MiB\n",
            "Resident memory usage of Python process: 9426.59 MiB\n",
            "Virtual memory usage of Python process: 10597.53 MiB\n",
            "CPU usage of Python process: 0.00%\n",
            "Number of threads of Python process: 16\n",
            "Number of open file descriptors of Python process: 51\n",
            " \n"
          ]
        },
        {
          "output_type": "stream",
          "name": "stderr",
          "text": [
            "/usr/local/lib/python3.9/dist-packages/sklearn/metrics/pairwise.py:2025: DataConversionWarning: Data was converted to boolean for metric jaccard\n",
            "  warnings.warn(msg, DataConversionWarning)\n",
            "/usr/local/lib/python3.9/dist-packages/sklearn/metrics/pairwise.py:2025: DataConversionWarning: Data was converted to boolean for metric jaccard\n",
            "  warnings.warn(msg, DataConversionWarning)\n",
            "/usr/local/lib/python3.9/dist-packages/sklearn/metrics/pairwise.py:2025: DataConversionWarning: Data was converted to boolean for metric jaccard\n",
            "  warnings.warn(msg, DataConversionWarning)\n",
            "/usr/local/lib/python3.9/dist-packages/sklearn/metrics/pairwise.py:2025: DataConversionWarning: Data was converted to boolean for metric jaccard\n",
            "  warnings.warn(msg, DataConversionWarning)\n",
            "/usr/local/lib/python3.9/dist-packages/sklearn/metrics/pairwise.py:2025: DataConversionWarning: Data was converted to boolean for metric jaccard\n",
            "  warnings.warn(msg, DataConversionWarning)\n",
            "/usr/local/lib/python3.9/dist-packages/sklearn/metrics/pairwise.py:2025: DataConversionWarning: Data was converted to boolean for metric jaccard\n",
            "  warnings.warn(msg, DataConversionWarning)\n"
          ]
        },
        {
          "output_type": "stream",
          "name": "stdout",
          "text": [
            "Peak memory usage during fit function: 9426.59 MiB\n",
            "Peak memory usage during predict function: 11467.58 MiB\n",
            "L1 cache size: 32.00 KiB\n",
            "L2 cache size: 256.00 KiB\n",
            "Memory usage of KNN object and its attributes: 0.00 MiB\n",
            "Resident memory usage of Python process: 9426.64 MiB\n",
            "Virtual memory usage of Python process: 10597.53 MiB\n",
            "CPU usage of Python process: 0.00%\n",
            "Number of threads of Python process: 16\n",
            "Number of open file descriptors of Python process: 51\n",
            " \n"
          ]
        },
        {
          "output_type": "stream",
          "name": "stderr",
          "text": [
            "/usr/local/lib/python3.9/dist-packages/sklearn/metrics/pairwise.py:2025: DataConversionWarning: Data was converted to boolean for metric jaccard\n",
            "  warnings.warn(msg, DataConversionWarning)\n",
            "/usr/local/lib/python3.9/dist-packages/sklearn/metrics/pairwise.py:2025: DataConversionWarning: Data was converted to boolean for metric jaccard\n",
            "  warnings.warn(msg, DataConversionWarning)\n",
            "/usr/local/lib/python3.9/dist-packages/sklearn/metrics/pairwise.py:2025: DataConversionWarning: Data was converted to boolean for metric jaccard\n",
            "  warnings.warn(msg, DataConversionWarning)\n",
            "/usr/local/lib/python3.9/dist-packages/sklearn/metrics/pairwise.py:2025: DataConversionWarning: Data was converted to boolean for metric jaccard\n",
            "  warnings.warn(msg, DataConversionWarning)\n",
            "/usr/local/lib/python3.9/dist-packages/sklearn/metrics/pairwise.py:2025: DataConversionWarning: Data was converted to boolean for metric jaccard\n",
            "  warnings.warn(msg, DataConversionWarning)\n",
            "/usr/local/lib/python3.9/dist-packages/sklearn/metrics/pairwise.py:2025: DataConversionWarning: Data was converted to boolean for metric jaccard\n",
            "  warnings.warn(msg, DataConversionWarning)\n"
          ]
        },
        {
          "output_type": "stream",
          "name": "stdout",
          "text": [
            "Peak memory usage during fit function: 9426.64 MiB\n",
            "Peak memory usage during predict function: 11457.59 MiB\n",
            "L1 cache size: 32.00 KiB\n",
            "L2 cache size: 256.00 KiB\n",
            "Memory usage of KNN object and its attributes: 0.00 MiB\n",
            "Resident memory usage of Python process: 9426.65 MiB\n",
            "Virtual memory usage of Python process: 10597.53 MiB\n",
            "CPU usage of Python process: 0.00%\n",
            "Number of threads of Python process: 16\n",
            "Number of open file descriptors of Python process: 51\n",
            " \n"
          ]
        }
      ],
      "source": [
        "LSH_Information(4,2,tr_images,tr_labels,te_images,te_labels, te_images.shape[0],40,0.8)\n",
        "print(\" \")\n",
        "LSH_Information(4,2,tr_images,tr_labels,te_images,te_labels, te_images.shape[0],40,0.9)\n",
        "print(\" \")\n",
        "LSH_Information(4,2,tr_images,tr_labels,te_images,te_labels, te_images.shape[0],60,0.8)\n",
        "print(\" \")\n",
        "LSH_Information(4,2,tr_images,tr_labels,te_images,te_labels, te_images.shape[0],60,0.9)\n",
        "print(\" \")"
      ]
    },
    {
      "cell_type": "code",
      "execution_count": 29,
      "metadata": {
        "colab": {
          "base_uri": "https://localhost:8080/"
        },
        "id": "dywDRUaKmpEj",
        "outputId": "567c6c84-dd6b-48d7-88be-46a9058d2070"
      },
      "outputs": [
        {
          "output_type": "stream",
          "name": "stderr",
          "text": [
            "/usr/local/lib/python3.9/dist-packages/sklearn/metrics/pairwise.py:2025: DataConversionWarning: Data was converted to boolean for metric jaccard\n",
            "  warnings.warn(msg, DataConversionWarning)\n",
            "/usr/local/lib/python3.9/dist-packages/sklearn/metrics/pairwise.py:2025: DataConversionWarning: Data was converted to boolean for metric jaccard\n",
            "  warnings.warn(msg, DataConversionWarning)\n",
            "/usr/local/lib/python3.9/dist-packages/sklearn/metrics/pairwise.py:2025: DataConversionWarning: Data was converted to boolean for metric jaccard\n",
            "  warnings.warn(msg, DataConversionWarning)\n",
            "/usr/local/lib/python3.9/dist-packages/sklearn/metrics/pairwise.py:2025: DataConversionWarning: Data was converted to boolean for metric jaccard\n",
            "  warnings.warn(msg, DataConversionWarning)\n",
            "/usr/local/lib/python3.9/dist-packages/sklearn/metrics/pairwise.py:2025: DataConversionWarning: Data was converted to boolean for metric jaccard\n",
            "  warnings.warn(msg, DataConversionWarning)\n",
            "/usr/local/lib/python3.9/dist-packages/sklearn/metrics/pairwise.py:2025: DataConversionWarning: Data was converted to boolean for metric jaccard\n",
            "  warnings.warn(msg, DataConversionWarning)\n"
          ]
        },
        {
          "output_type": "stream",
          "name": "stdout",
          "text": [
            "Peak memory usage during fit function: 9426.68 MiB\n",
            "Peak memory usage during predict function: 11473.70 MiB\n",
            "L1 cache size: 32.00 KiB\n",
            "L2 cache size: 256.00 KiB\n",
            "Memory usage of KNN object and its attributes: 0.00 MiB\n",
            "Resident memory usage of Python process: 9426.68 MiB\n",
            "Virtual memory usage of Python process: 10597.53 MiB\n",
            "CPU usage of Python process: 0.00%\n",
            "Number of threads of Python process: 16\n",
            "Number of open file descriptors of Python process: 51\n",
            " \n"
          ]
        },
        {
          "output_type": "stream",
          "name": "stderr",
          "text": [
            "/usr/local/lib/python3.9/dist-packages/sklearn/metrics/pairwise.py:2025: DataConversionWarning: Data was converted to boolean for metric jaccard\n",
            "  warnings.warn(msg, DataConversionWarning)\n",
            "/usr/local/lib/python3.9/dist-packages/sklearn/metrics/pairwise.py:2025: DataConversionWarning: Data was converted to boolean for metric jaccard\n",
            "  warnings.warn(msg, DataConversionWarning)\n",
            "/usr/local/lib/python3.9/dist-packages/sklearn/metrics/pairwise.py:2025: DataConversionWarning: Data was converted to boolean for metric jaccard\n",
            "  warnings.warn(msg, DataConversionWarning)\n",
            "/usr/local/lib/python3.9/dist-packages/sklearn/metrics/pairwise.py:2025: DataConversionWarning: Data was converted to boolean for metric jaccard\n",
            "  warnings.warn(msg, DataConversionWarning)\n",
            "/usr/local/lib/python3.9/dist-packages/sklearn/metrics/pairwise.py:2025: DataConversionWarning: Data was converted to boolean for metric jaccard\n",
            "  warnings.warn(msg, DataConversionWarning)\n",
            "/usr/local/lib/python3.9/dist-packages/sklearn/metrics/pairwise.py:2025: DataConversionWarning: Data was converted to boolean for metric jaccard\n",
            "  warnings.warn(msg, DataConversionWarning)\n"
          ]
        },
        {
          "output_type": "stream",
          "name": "stdout",
          "text": [
            "Peak memory usage during fit function: 9426.68 MiB\n",
            "Peak memory usage during predict function: 11473.63 MiB\n",
            "L1 cache size: 32.00 KiB\n",
            "L2 cache size: 256.00 KiB\n",
            "Memory usage of KNN object and its attributes: 0.01 MiB\n",
            "Resident memory usage of Python process: 9426.70 MiB\n",
            "Virtual memory usage of Python process: 10597.53 MiB\n",
            "CPU usage of Python process: 0.00%\n",
            "Number of threads of Python process: 16\n",
            "Number of open file descriptors of Python process: 51\n",
            " \n"
          ]
        },
        {
          "output_type": "stream",
          "name": "stderr",
          "text": [
            "/usr/local/lib/python3.9/dist-packages/sklearn/metrics/pairwise.py:2025: DataConversionWarning: Data was converted to boolean for metric jaccard\n",
            "  warnings.warn(msg, DataConversionWarning)\n",
            "/usr/local/lib/python3.9/dist-packages/sklearn/metrics/pairwise.py:2025: DataConversionWarning: Data was converted to boolean for metric jaccard\n",
            "  warnings.warn(msg, DataConversionWarning)\n",
            "/usr/local/lib/python3.9/dist-packages/sklearn/metrics/pairwise.py:2025: DataConversionWarning: Data was converted to boolean for metric jaccard\n",
            "  warnings.warn(msg, DataConversionWarning)\n",
            "/usr/local/lib/python3.9/dist-packages/sklearn/metrics/pairwise.py:2025: DataConversionWarning: Data was converted to boolean for metric jaccard\n",
            "  warnings.warn(msg, DataConversionWarning)\n",
            "/usr/local/lib/python3.9/dist-packages/sklearn/metrics/pairwise.py:2025: DataConversionWarning: Data was converted to boolean for metric jaccard\n",
            "  warnings.warn(msg, DataConversionWarning)\n",
            "/usr/local/lib/python3.9/dist-packages/sklearn/metrics/pairwise.py:2025: DataConversionWarning: Data was converted to boolean for metric jaccard\n",
            "  warnings.warn(msg, DataConversionWarning)\n"
          ]
        },
        {
          "output_type": "stream",
          "name": "stdout",
          "text": [
            "Peak memory usage during fit function: 9426.73 MiB\n",
            "Peak memory usage during predict function: 11473.69 MiB\n",
            "L1 cache size: 32.00 KiB\n",
            "L2 cache size: 256.00 KiB\n",
            "Memory usage of KNN object and its attributes: 0.00 MiB\n",
            "Resident memory usage of Python process: 9426.75 MiB\n",
            "Virtual memory usage of Python process: 10597.53 MiB\n",
            "CPU usage of Python process: 0.00%\n",
            "Number of threads of Python process: 16\n",
            "Number of open file descriptors of Python process: 51\n",
            " \n"
          ]
        },
        {
          "output_type": "stream",
          "name": "stderr",
          "text": [
            "/usr/local/lib/python3.9/dist-packages/sklearn/metrics/pairwise.py:2025: DataConversionWarning: Data was converted to boolean for metric jaccard\n",
            "  warnings.warn(msg, DataConversionWarning)\n",
            "/usr/local/lib/python3.9/dist-packages/sklearn/metrics/pairwise.py:2025: DataConversionWarning: Data was converted to boolean for metric jaccard\n",
            "  warnings.warn(msg, DataConversionWarning)\n",
            "/usr/local/lib/python3.9/dist-packages/sklearn/metrics/pairwise.py:2025: DataConversionWarning: Data was converted to boolean for metric jaccard\n",
            "  warnings.warn(msg, DataConversionWarning)\n",
            "/usr/local/lib/python3.9/dist-packages/sklearn/metrics/pairwise.py:2025: DataConversionWarning: Data was converted to boolean for metric jaccard\n",
            "  warnings.warn(msg, DataConversionWarning)\n",
            "/usr/local/lib/python3.9/dist-packages/sklearn/metrics/pairwise.py:2025: DataConversionWarning: Data was converted to boolean for metric jaccard\n",
            "  warnings.warn(msg, DataConversionWarning)\n",
            "/usr/local/lib/python3.9/dist-packages/sklearn/metrics/pairwise.py:2025: DataConversionWarning: Data was converted to boolean for metric jaccard\n",
            "  warnings.warn(msg, DataConversionWarning)\n"
          ]
        },
        {
          "output_type": "stream",
          "name": "stdout",
          "text": [
            "Peak memory usage during fit function: 9426.75 MiB\n",
            "Peak memory usage during predict function: 11473.73 MiB\n",
            "L1 cache size: 32.00 KiB\n",
            "L2 cache size: 256.00 KiB\n",
            "Memory usage of KNN object and its attributes: 0.00 MiB\n",
            "Resident memory usage of Python process: 9426.79 MiB\n",
            "Virtual memory usage of Python process: 10597.53 MiB\n",
            "CPU usage of Python process: 0.00%\n",
            "Number of threads of Python process: 16\n",
            "Number of open file descriptors of Python process: 51\n",
            " \n"
          ]
        }
      ],
      "source": [
        "LSH_Information(5,2,tr_images,tr_labels,te_images,te_labels, te_images.shape[0],40,0.8)\n",
        "print(\" \")\n",
        "LSH_Information(5,2,tr_images,tr_labels,te_images,te_labels, te_images.shape[0],40,0.9)\n",
        "print(\" \")\n",
        "LSH_Information(5,2,tr_images,tr_labels,te_images,te_labels, te_images.shape[0],60,0.8)\n",
        "print(\" \")\n",
        "LSH_Information(5,2,tr_images,tr_labels,te_images,te_labels, te_images.shape[0],60,0.9)\n",
        "print(\" \")"
      ]
    },
    {
      "cell_type": "markdown",
      "metadata": {
        "id": "A2cHYg0ytzEy"
      },
      "source": [
        "# With Scipy Jaccard-Needham Dissimilarity"
      ]
    },
    {
      "cell_type": "markdown",
      "source": [
        "## Without LSH"
      ],
      "metadata": {
        "id": "iJabeKZmilxz"
      }
    },
    {
      "cell_type": "markdown",
      "metadata": {
        "id": "oV0mnvDZ5OG8"
      },
      "source": [
        "### Time and Accuracy"
      ]
    },
    {
      "cell_type": "code",
      "execution_count": null,
      "metadata": {
        "colab": {
          "base_uri": "https://localhost:8080/"
        },
        "id": "WjNVNUpTt4o1",
        "outputId": "72e66ab2-96d2-4eb6-d581-aa4f95f11c85"
      },
      "outputs": [
        {
          "name": "stdout",
          "output_type": "stream",
          "text": [
            "Time taken to fit KNN model: 0.009647130966186523 seconds\n",
            "              precision    recall  f1-score   support\n",
            "\n",
            "           0       1.00      1.00      1.00         2\n",
            "           1       1.00      1.00      1.00         2\n",
            "           2       1.00      1.00      1.00         1\n",
            "           4       1.00      1.00      1.00         2\n",
            "           5       1.00      1.00      1.00         1\n",
            "           7       1.00      1.00      1.00         1\n",
            "           9       1.00      1.00      1.00         2\n",
            "\n",
            "    accuracy                           1.00        11\n",
            "   macro avg       1.00      1.00      1.00        11\n",
            "weighted avg       1.00      1.00      1.00        11\n",
            "\n",
            "Time taken to evaluate KNN model on test portion: 14.841084957122803 seconds\n",
            "\n",
            "Time taken to fit KNN model: 0.004952192306518555 seconds\n",
            "              precision    recall  f1-score   support\n",
            "\n",
            "           0       1.00      1.00      1.00         2\n",
            "           1       1.00      1.00      1.00         2\n",
            "           2       1.00      1.00      1.00         1\n",
            "           4       1.00      1.00      1.00         2\n",
            "           5       1.00      1.00      1.00         1\n",
            "           7       1.00      1.00      1.00         1\n",
            "           9       1.00      1.00      1.00         2\n",
            "\n",
            "    accuracy                           1.00        11\n",
            "   macro avg       1.00      1.00      1.00        11\n",
            "weighted avg       1.00      1.00      1.00        11\n",
            "\n",
            "Time taken to evaluate KNN model on test portion: 13.177583456039429 seconds\n",
            "\n",
            "Time taken to fit KNN model: 0.0066492557525634766 seconds\n",
            "              precision    recall  f1-score   support\n",
            "\n",
            "           0       1.00      1.00      1.00         2\n",
            "           1       1.00      1.00      1.00         2\n",
            "           2       1.00      1.00      1.00         1\n",
            "           4       1.00      1.00      1.00         2\n",
            "           5       1.00      1.00      1.00         1\n",
            "           7       1.00      1.00      1.00         1\n",
            "           9       1.00      1.00      1.00         2\n",
            "\n",
            "    accuracy                           1.00        11\n",
            "   macro avg       1.00      1.00      1.00        11\n",
            "weighted avg       1.00      1.00      1.00        11\n",
            "\n",
            "Time taken to evaluate KNN model on test portion: 13.689505815505981 seconds\n",
            "\n",
            "Time taken to fit KNN model: 0.0047490596771240234 seconds\n",
            "              precision    recall  f1-score   support\n",
            "\n",
            "           0       1.00      1.00      1.00         2\n",
            "           1       1.00      1.00      1.00         2\n",
            "           2       1.00      1.00      1.00         1\n",
            "           4       1.00      1.00      1.00         2\n",
            "           5       1.00      1.00      1.00         1\n",
            "           7       1.00      1.00      1.00         1\n",
            "           9       1.00      1.00      1.00         2\n",
            "\n",
            "    accuracy                           1.00        11\n",
            "   macro avg       1.00      1.00      1.00        11\n",
            "weighted avg       1.00      1.00      1.00        11\n",
            "\n",
            "Time taken to evaluate KNN model on test portion: 18.51689839363098 seconds\n",
            "\n",
            "Time taken to fit KNN model: 0.00673985481262207 seconds\n",
            "              precision    recall  f1-score   support\n",
            "\n",
            "           0       1.00      1.00      1.00         2\n",
            "           1       1.00      1.00      1.00         2\n",
            "           2       1.00      1.00      1.00         1\n",
            "           4       1.00      1.00      1.00         2\n",
            "           5       1.00      1.00      1.00         1\n",
            "           7       1.00      1.00      1.00         1\n",
            "           9       1.00      1.00      1.00         2\n",
            "\n",
            "    accuracy                           1.00        11\n",
            "   macro avg       1.00      1.00      1.00        11\n",
            "weighted avg       1.00      1.00      1.00        11\n",
            "\n",
            "Time taken to evaluate KNN model on test portion: 16.303776741027832 seconds\n",
            "\n"
          ]
        }
      ],
      "source": [
        "KNN_Classification(1,3,tr_images,tr_labels,te_images,te_labels,10)\n",
        "KNN_Classification(2,3,tr_images,tr_labels,te_images,te_labels,10)\n",
        "KNN_Classification(3,3,tr_images,tr_labels,te_images,te_labels,10)\n",
        "KNN_Classification(4,3,tr_images,tr_labels,te_images,te_labels,10)\n",
        "KNN_Classification(5,3,tr_images,tr_labels,te_images,te_labels,10)"
      ]
    },
    {
      "cell_type": "code",
      "execution_count": null,
      "metadata": {
        "colab": {
          "base_uri": "https://localhost:8080/"
        },
        "id": "IIAMqeSht65X",
        "outputId": "e3c71c67-1977-4974-d0cb-b83ac0bb185c"
      },
      "outputs": [
        {
          "name": "stdout",
          "output_type": "stream",
          "text": [
            "Time taken to fit KNN model: 0.006331443786621094 seconds\n"
          ]
        },
        {
          "name": "stderr",
          "output_type": "stream",
          "text": [
            "/usr/local/lib/python3.9/dist-packages/sklearn/metrics/_classification.py:1344: UndefinedMetricWarning: Recall and F-score are ill-defined and being set to 0.0 in labels with no true samples. Use `zero_division` parameter to control this behavior.\n",
            "  _warn_prf(average, modifier, msg_start, len(result))\n",
            "/usr/local/lib/python3.9/dist-packages/sklearn/metrics/_classification.py:1344: UndefinedMetricWarning: Recall and F-score are ill-defined and being set to 0.0 in labels with no true samples. Use `zero_division` parameter to control this behavior.\n",
            "  _warn_prf(average, modifier, msg_start, len(result))\n",
            "/usr/local/lib/python3.9/dist-packages/sklearn/metrics/_classification.py:1344: UndefinedMetricWarning: Recall and F-score are ill-defined and being set to 0.0 in labels with no true samples. Use `zero_division` parameter to control this behavior.\n",
            "  _warn_prf(average, modifier, msg_start, len(result))\n"
          ]
        },
        {
          "name": "stdout",
          "output_type": "stream",
          "text": [
            "              precision    recall  f1-score   support\n",
            "\n",
            "           0       1.00      1.00      1.00         6\n",
            "           1       1.00      1.00      1.00        10\n",
            "           2       1.00      1.00      1.00         5\n",
            "           3       1.00      0.80      0.89         5\n",
            "           4       1.00      1.00      1.00        10\n",
            "           5       1.00      1.00      1.00         7\n",
            "           6       1.00      1.00      1.00         5\n",
            "           7       1.00      1.00      1.00         7\n",
            "           8       0.00      0.00      0.00         0\n",
            "           9       1.00      1.00      1.00         6\n",
            "\n",
            "    accuracy                           0.98        61\n",
            "   macro avg       0.90      0.88      0.89        61\n",
            "weighted avg       1.00      0.98      0.99        61\n",
            "\n",
            "Time taken to evaluate KNN model on test portion: 76.35217952728271 seconds\n",
            "\n",
            "Time taken to fit KNN model: 0.012397289276123047 seconds\n",
            "              precision    recall  f1-score   support\n",
            "\n",
            "           0       1.00      1.00      1.00         6\n",
            "           1       1.00      1.00      1.00        10\n",
            "           2       1.00      1.00      1.00         5\n",
            "           3       1.00      1.00      1.00         5\n",
            "           4       1.00      1.00      1.00        10\n",
            "           5       1.00      1.00      1.00         7\n",
            "           6       1.00      1.00      1.00         5\n",
            "           7       1.00      1.00      1.00         7\n",
            "           9       1.00      1.00      1.00         6\n",
            "\n",
            "    accuracy                           1.00        61\n",
            "   macro avg       1.00      1.00      1.00        61\n",
            "weighted avg       1.00      1.00      1.00        61\n",
            "\n",
            "Time taken to evaluate KNN model on test portion: 70.52942657470703 seconds\n",
            "\n",
            "Time taken to fit KNN model: 0.005960226058959961 seconds\n",
            "              precision    recall  f1-score   support\n",
            "\n",
            "           0       0.86      1.00      0.92         6\n",
            "           1       1.00      1.00      1.00        10\n",
            "           2       1.00      1.00      1.00         5\n",
            "           3       1.00      0.80      0.89         5\n",
            "           4       1.00      1.00      1.00        10\n",
            "           5       1.00      1.00      1.00         7\n",
            "           6       1.00      1.00      1.00         5\n",
            "           7       1.00      1.00      1.00         7\n",
            "           9       1.00      1.00      1.00         6\n",
            "\n",
            "    accuracy                           0.98        61\n",
            "   macro avg       0.98      0.98      0.98        61\n",
            "weighted avg       0.99      0.98      0.98        61\n",
            "\n",
            "Time taken to evaluate KNN model on test portion: 69.46842169761658 seconds\n",
            "\n",
            "Time taken to fit KNN model: 0.005230903625488281 seconds\n",
            "              precision    recall  f1-score   support\n",
            "\n",
            "           0       1.00      1.00      1.00         6\n",
            "           1       1.00      1.00      1.00        10\n",
            "           2       1.00      1.00      1.00         5\n",
            "           3       1.00      1.00      1.00         5\n",
            "           4       1.00      1.00      1.00        10\n",
            "           5       1.00      1.00      1.00         7\n",
            "           6       1.00      1.00      1.00         5\n",
            "           7       1.00      1.00      1.00         7\n",
            "           9       1.00      1.00      1.00         6\n",
            "\n",
            "    accuracy                           1.00        61\n",
            "   macro avg       1.00      1.00      1.00        61\n",
            "weighted avg       1.00      1.00      1.00        61\n",
            "\n",
            "Time taken to evaluate KNN model on test portion: 70.95721960067749 seconds\n",
            "\n",
            "Time taken to fit KNN model: 0.005705118179321289 seconds\n",
            "              precision    recall  f1-score   support\n",
            "\n",
            "           0       1.00      1.00      1.00         6\n",
            "           1       1.00      1.00      1.00        10\n",
            "           2       1.00      1.00      1.00         5\n",
            "           3       1.00      1.00      1.00         5\n",
            "           4       1.00      1.00      1.00        10\n",
            "           5       1.00      1.00      1.00         7\n",
            "           6       1.00      1.00      1.00         5\n",
            "           7       1.00      1.00      1.00         7\n",
            "           9       1.00      1.00      1.00         6\n",
            "\n",
            "    accuracy                           1.00        61\n",
            "   macro avg       1.00      1.00      1.00        61\n",
            "weighted avg       1.00      1.00      1.00        61\n",
            "\n",
            "Time taken to evaluate KNN model on test portion: 68.63920092582703 seconds\n",
            "\n"
          ]
        }
      ],
      "source": [
        "KNN_Classification(1,3,tr_images,tr_labels,te_images,te_labels,60)\n",
        "KNN_Classification(2,3,tr_images,tr_labels,te_images,te_labels,60)\n",
        "KNN_Classification(3,3,tr_images,tr_labels,te_images,te_labels,60)\n",
        "KNN_Classification(4,3,tr_images,tr_labels,te_images,te_labels,60)\n",
        "KNN_Classification(5,3,tr_images,tr_labels,te_images,te_labels,60)"
      ]
    },
    {
      "cell_type": "code",
      "execution_count": null,
      "metadata": {
        "colab": {
          "base_uri": "https://localhost:8080/"
        },
        "id": "jlCVcQqBuJeG",
        "outputId": "d8edfff2-8070-48f4-fdb2-e96f4a25df19"
      },
      "outputs": [
        {
          "name": "stdout",
          "output_type": "stream",
          "text": [
            "Time taken to fit KNN model: 0.005529880523681641 seconds\n",
            "              precision    recall  f1-score   support\n",
            "\n",
            "           0       1.00      1.00      1.00         8\n",
            "           1       1.00      1.00      1.00        12\n",
            "           2       1.00      1.00      1.00         8\n",
            "           3       1.00      0.90      0.95        10\n",
            "           4       1.00      1.00      1.00        13\n",
            "           5       1.00      1.00      1.00         7\n",
            "           6       1.00      1.00      1.00         8\n",
            "           7       1.00      1.00      1.00        14\n",
            "           8       0.67      1.00      0.80         2\n",
            "           9       1.00      1.00      1.00         9\n",
            "\n",
            "    accuracy                           0.99        91\n",
            "   macro avg       0.97      0.99      0.97        91\n",
            "weighted avg       0.99      0.99      0.99        91\n",
            "\n",
            "Time taken to evaluate KNN model on test portion: 103.35024881362915 seconds\n",
            "\n",
            "Time taken to fit KNN model: 0.008364439010620117 seconds\n",
            "              precision    recall  f1-score   support\n",
            "\n",
            "           0       1.00      1.00      1.00         8\n",
            "           1       1.00      1.00      1.00        12\n",
            "           2       0.89      1.00      0.94         8\n",
            "           3       1.00      0.90      0.95        10\n",
            "           4       1.00      1.00      1.00        13\n",
            "           5       1.00      1.00      1.00         7\n",
            "           6       1.00      1.00      1.00         8\n",
            "           7       1.00      1.00      1.00        14\n",
            "           8       1.00      1.00      1.00         2\n",
            "           9       1.00      1.00      1.00         9\n",
            "\n",
            "    accuracy                           0.99        91\n",
            "   macro avg       0.99      0.99      0.99        91\n",
            "weighted avg       0.99      0.99      0.99        91\n",
            "\n",
            "Time taken to evaluate KNN model on test portion: 104.26292443275452 seconds\n",
            "\n",
            "Time taken to fit KNN model: 0.005677461624145508 seconds\n",
            "              precision    recall  f1-score   support\n",
            "\n",
            "           0       0.89      1.00      0.94         8\n",
            "           1       1.00      1.00      1.00        12\n",
            "           2       1.00      1.00      1.00         8\n",
            "           3       1.00      0.90      0.95        10\n",
            "           4       1.00      1.00      1.00        13\n",
            "           5       1.00      1.00      1.00         7\n",
            "           6       1.00      1.00      1.00         8\n",
            "           7       1.00      1.00      1.00        14\n",
            "           8       1.00      1.00      1.00         2\n",
            "           9       1.00      1.00      1.00         9\n",
            "\n",
            "    accuracy                           0.99        91\n",
            "   macro avg       0.99      0.99      0.99        91\n",
            "weighted avg       0.99      0.99      0.99        91\n",
            "\n",
            "Time taken to evaluate KNN model on test portion: 105.84238743782043 seconds\n",
            "\n",
            "Time taken to fit KNN model: 0.0066068172454833984 seconds\n",
            "              precision    recall  f1-score   support\n",
            "\n",
            "           0       1.00      1.00      1.00         8\n",
            "           1       1.00      1.00      1.00        12\n",
            "           2       1.00      1.00      1.00         8\n",
            "           3       1.00      1.00      1.00        10\n",
            "           4       1.00      1.00      1.00        13\n",
            "           5       1.00      1.00      1.00         7\n",
            "           6       1.00      1.00      1.00         8\n",
            "           7       1.00      1.00      1.00        14\n",
            "           8       1.00      1.00      1.00         2\n",
            "           9       1.00      1.00      1.00         9\n",
            "\n",
            "    accuracy                           1.00        91\n",
            "   macro avg       1.00      1.00      1.00        91\n",
            "weighted avg       1.00      1.00      1.00        91\n",
            "\n",
            "Time taken to evaluate KNN model on test portion: 102.30118346214294 seconds\n",
            "\n",
            "Time taken to fit KNN model: 0.0054378509521484375 seconds\n",
            "              precision    recall  f1-score   support\n",
            "\n",
            "           0       1.00      1.00      1.00         8\n",
            "           1       1.00      1.00      1.00        12\n",
            "           2       1.00      1.00      1.00         8\n",
            "           3       1.00      1.00      1.00        10\n",
            "           4       1.00      0.92      0.96        13\n",
            "           5       1.00      1.00      1.00         7\n",
            "           6       1.00      1.00      1.00         8\n",
            "           7       1.00      1.00      1.00        14\n",
            "           8       1.00      1.00      1.00         2\n",
            "           9       0.90      1.00      0.95         9\n",
            "\n",
            "    accuracy                           0.99        91\n",
            "   macro avg       0.99      0.99      0.99        91\n",
            "weighted avg       0.99      0.99      0.99        91\n",
            "\n",
            "Time taken to evaluate KNN model on test portion: 103.9441864490509 seconds\n",
            "\n"
          ]
        }
      ],
      "source": [
        "KNN_Classification(1,3,tr_images,tr_labels,te_images,te_labels,90)\n",
        "KNN_Classification(2,3,tr_images,tr_labels,te_images,te_labels,90)\n",
        "KNN_Classification(3,3,tr_images,tr_labels,te_images,te_labels,90)\n",
        "KNN_Classification(4,3,tr_images,tr_labels,te_images,te_labels,90)\n",
        "KNN_Classification(5,3,tr_images,tr_labels,te_images,te_labels,90)"
      ]
    },
    {
      "cell_type": "markdown",
      "metadata": {
        "id": "xsxw0ybu5Qed"
      },
      "source": [
        "### Memory related information for imgs=10"
      ]
    },
    {
      "cell_type": "code",
      "execution_count": null,
      "metadata": {
        "id": "Yom4woR-5Qee"
      },
      "outputs": [],
      "source": [
        "KNN_Information(1, 3, tr_images, tr_labels, te_images, te_labels, 10)"
      ]
    },
    {
      "cell_type": "code",
      "execution_count": null,
      "metadata": {
        "id": "XX0AXA9C5Qef"
      },
      "outputs": [],
      "source": [
        "KNN_Information(2, 3, tr_images, tr_labels, te_images, te_labels, 10)"
      ]
    },
    {
      "cell_type": "code",
      "execution_count": null,
      "metadata": {
        "id": "msAeQF455Qef"
      },
      "outputs": [],
      "source": [
        "KNN_Information(3, 3, tr_images, tr_labels, te_images, te_labels, 10)"
      ]
    },
    {
      "cell_type": "code",
      "execution_count": null,
      "metadata": {
        "id": "SFCnOnVl5Qeg"
      },
      "outputs": [],
      "source": [
        "KNN_Information(4, 3, tr_images, tr_labels, te_images, te_labels, 10)"
      ]
    },
    {
      "cell_type": "code",
      "execution_count": null,
      "metadata": {
        "id": "WNtoTki65Qeg"
      },
      "outputs": [],
      "source": [
        "KNN_Information(5, 3, tr_images, tr_labels, te_images, te_labels, 10)"
      ]
    },
    {
      "cell_type": "markdown",
      "metadata": {
        "id": "FM9rYzp85Qeh"
      },
      "source": [
        "### Memory related information for imgs=60"
      ]
    },
    {
      "cell_type": "code",
      "execution_count": null,
      "metadata": {
        "id": "AvHpqyR35Qeh"
      },
      "outputs": [],
      "source": [
        "KNN_Information(1, 3, tr_images, tr_labels, te_images, te_labels, 60)"
      ]
    },
    {
      "cell_type": "code",
      "execution_count": null,
      "metadata": {
        "id": "ABs0ZAl95Qei"
      },
      "outputs": [],
      "source": [
        "KNN_Information(2, 3, tr_images, tr_labels, te_images, te_labels, 60)"
      ]
    },
    {
      "cell_type": "code",
      "execution_count": null,
      "metadata": {
        "id": "qYRiniOs5Qei"
      },
      "outputs": [],
      "source": [
        "KNN_Information(3, 3, tr_images, tr_labels, te_images, te_labels, 60)"
      ]
    },
    {
      "cell_type": "code",
      "execution_count": null,
      "metadata": {
        "id": "LL7_e0I15Qej"
      },
      "outputs": [],
      "source": [
        "KNN_Information(4, 3, tr_images, tr_labels, te_images, te_labels, 60)"
      ]
    },
    {
      "cell_type": "code",
      "execution_count": null,
      "metadata": {
        "id": "oZ1QD7cJ5Qej"
      },
      "outputs": [],
      "source": [
        "KNN_Information(5, 3, tr_images, tr_labels, te_images, te_labels, 60)"
      ]
    },
    {
      "cell_type": "markdown",
      "metadata": {
        "id": "LbmX5OOv5Qej"
      },
      "source": [
        "### Memory related information for imgs=90"
      ]
    },
    {
      "cell_type": "code",
      "execution_count": null,
      "metadata": {
        "id": "VLPBK30J5Qek"
      },
      "outputs": [],
      "source": [
        "KNN_Information(1, 3, tr_images, tr_labels, te_images, te_labels, 90)"
      ]
    },
    {
      "cell_type": "code",
      "execution_count": null,
      "metadata": {
        "id": "dY7v_e9L5Qek"
      },
      "outputs": [],
      "source": [
        "KNN_Information(2, 3, tr_images, tr_labels, te_images, te_labels, 90)"
      ]
    },
    {
      "cell_type": "code",
      "execution_count": null,
      "metadata": {
        "id": "eKvPf0j45Qek"
      },
      "outputs": [],
      "source": [
        "KNN_Information(3, 3, tr_images, tr_labels, te_images, te_labels, 90)"
      ]
    },
    {
      "cell_type": "code",
      "execution_count": null,
      "metadata": {
        "id": "z1XkcET55Qel"
      },
      "outputs": [],
      "source": [
        "KNN_Information(4, 3, tr_images, tr_labels, te_images, te_labels, 90)"
      ]
    },
    {
      "cell_type": "code",
      "execution_count": null,
      "metadata": {
        "id": "Qqot7oiD5Qel"
      },
      "outputs": [],
      "source": [
        "KNN_Information(5, 3, tr_images, tr_labels, te_images, te_labels, 90)"
      ]
    },
    {
      "cell_type": "markdown",
      "source": [
        "## With LSH"
      ],
      "metadata": {
        "id": "69ULxHj5ipAX"
      }
    },
    {
      "cell_type": "markdown",
      "metadata": {
        "id": "DXhIzeNo30g9"
      },
      "source": [
        "### Time and Accuracy"
      ]
    },
    {
      "cell_type": "code",
      "execution_count": 27,
      "metadata": {
        "colab": {
          "base_uri": "https://localhost:8080/"
        },
        "outputId": "dfed5357-7545-4e8a-d7b8-b65a4452f53a",
        "id": "Ia4ZBGYi30g9"
      },
      "outputs": [
        {
          "output_type": "stream",
          "name": "stderr",
          "text": [
            "/usr/local/lib/python3.9/dist-packages/sklearn/metrics/pairwise.py:2025: DataConversionWarning: Data was converted to boolean for metric jaccard\n",
            "  warnings.warn(msg, DataConversionWarning)\n"
          ]
        },
        {
          "output_type": "stream",
          "name": "stdout",
          "text": [
            "Time taken to fit KNN model: 0.008396148681640625 seconds\n",
            "              precision    recall  f1-score   support\n",
            "\n",
            "           0       1.00      1.00      1.00         2\n",
            "           1       1.00      1.00      1.00         2\n",
            "           2       1.00      1.00      1.00         1\n",
            "           4       1.00      1.00      1.00         2\n",
            "           5       1.00      1.00      1.00         1\n",
            "           7       1.00      1.00      1.00         1\n",
            "           9       1.00      1.00      1.00         2\n",
            "\n",
            "    accuracy                           1.00        11\n",
            "   macro avg       1.00      1.00      1.00        11\n",
            "weighted avg       1.00      1.00      1.00        11\n",
            "\n",
            "Time taken to evaluate KNN model on test portion: 7.975128889083862 seconds\n",
            "\n"
          ]
        },
        {
          "output_type": "stream",
          "name": "stderr",
          "text": [
            "/usr/local/lib/python3.9/dist-packages/sklearn/metrics/pairwise.py:2025: DataConversionWarning: Data was converted to boolean for metric jaccard\n",
            "  warnings.warn(msg, DataConversionWarning)\n"
          ]
        },
        {
          "output_type": "stream",
          "name": "stdout",
          "text": [
            "Time taken to fit KNN model: 0.008267879486083984 seconds\n",
            "              precision    recall  f1-score   support\n",
            "\n",
            "           0       1.00      1.00      1.00         2\n",
            "           1       1.00      1.00      1.00         2\n",
            "           2       1.00      1.00      1.00         1\n",
            "           4       1.00      1.00      1.00         2\n",
            "           5       1.00      1.00      1.00         1\n",
            "           7       1.00      1.00      1.00         1\n",
            "           9       1.00      1.00      1.00         2\n",
            "\n",
            "    accuracy                           1.00        11\n",
            "   macro avg       1.00      1.00      1.00        11\n",
            "weighted avg       1.00      1.00      1.00        11\n",
            "\n",
            "Time taken to evaluate KNN model on test portion: 10.224925756454468 seconds\n",
            "\n"
          ]
        },
        {
          "output_type": "stream",
          "name": "stderr",
          "text": [
            "/usr/local/lib/python3.9/dist-packages/sklearn/metrics/pairwise.py:2025: DataConversionWarning: Data was converted to boolean for metric jaccard\n",
            "  warnings.warn(msg, DataConversionWarning)\n"
          ]
        },
        {
          "output_type": "stream",
          "name": "stdout",
          "text": [
            "Time taken to fit KNN model: 0.008634567260742188 seconds\n",
            "              precision    recall  f1-score   support\n",
            "\n",
            "           0       1.00      1.00      1.00         2\n",
            "           1       1.00      1.00      1.00         2\n",
            "           2       1.00      1.00      1.00         1\n",
            "           4       1.00      1.00      1.00         2\n",
            "           5       1.00      1.00      1.00         1\n",
            "           7       1.00      1.00      1.00         1\n",
            "           9       1.00      1.00      1.00         2\n",
            "\n",
            "    accuracy                           1.00        11\n",
            "   macro avg       1.00      1.00      1.00        11\n",
            "weighted avg       1.00      1.00      1.00        11\n",
            "\n",
            "Time taken to evaluate KNN model on test portion: 9.84305191040039 seconds\n",
            "\n"
          ]
        },
        {
          "output_type": "stream",
          "name": "stderr",
          "text": [
            "/usr/local/lib/python3.9/dist-packages/sklearn/metrics/pairwise.py:2025: DataConversionWarning: Data was converted to boolean for metric jaccard\n",
            "  warnings.warn(msg, DataConversionWarning)\n"
          ]
        },
        {
          "output_type": "stream",
          "name": "stdout",
          "text": [
            "Time taken to fit KNN model: 0.008340120315551758 seconds\n",
            "              precision    recall  f1-score   support\n",
            "\n",
            "           0       1.00      1.00      1.00         2\n",
            "           1       1.00      1.00      1.00         2\n",
            "           2       1.00      1.00      1.00         1\n",
            "           4       1.00      1.00      1.00         2\n",
            "           5       1.00      1.00      1.00         1\n",
            "           7       1.00      1.00      1.00         1\n",
            "           9       1.00      1.00      1.00         2\n",
            "\n",
            "    accuracy                           1.00        11\n",
            "   macro avg       1.00      1.00      1.00        11\n",
            "weighted avg       1.00      1.00      1.00        11\n",
            "\n",
            "Time taken to evaluate KNN model on test portion: 9.774850845336914 seconds\n",
            "\n"
          ]
        },
        {
          "output_type": "stream",
          "name": "stderr",
          "text": [
            "/usr/local/lib/python3.9/dist-packages/sklearn/metrics/pairwise.py:2025: DataConversionWarning: Data was converted to boolean for metric jaccard\n",
            "  warnings.warn(msg, DataConversionWarning)\n"
          ]
        },
        {
          "output_type": "stream",
          "name": "stdout",
          "text": [
            "Time taken to fit KNN model: 0.008623123168945312 seconds\n",
            "              precision    recall  f1-score   support\n",
            "\n",
            "           0       1.00      1.00      1.00         2\n",
            "           1       1.00      1.00      1.00         2\n",
            "           2       1.00      1.00      1.00         1\n",
            "           4       1.00      1.00      1.00         2\n",
            "           5       0.00      0.00      0.00         1\n",
            "           7       1.00      1.00      1.00         1\n",
            "           9       0.67      1.00      0.80         2\n",
            "\n",
            "    accuracy                           0.91        11\n",
            "   macro avg       0.81      0.86      0.83        11\n",
            "weighted avg       0.85      0.91      0.87        11\n",
            "\n",
            "Time taken to evaluate KNN model on test portion: 8.169044971466064 seconds\n",
            "\n"
          ]
        }
      ],
      "source": [
        "LSH_KNN(1,3,tr_images,tr_labels,te_images,te_labels,10,40,0.8)\n",
        "LSH_KNN(2,3,tr_images,tr_labels,te_images,te_labels,10,40,0.8)\n",
        "LSH_KNN(3,3,tr_images,tr_labels,te_images,te_labels,10,40,0.8)\n",
        "LSH_KNN(4,3,tr_images,tr_labels,te_images,te_labels,10,40,0.8)\n",
        "LSH_KNN(5,3,tr_images,tr_labels,te_images,te_labels,10,40,0.8)"
      ]
    },
    {
      "cell_type": "code",
      "source": [
        "LSH_KNN(1,3,tr_images,tr_labels,te_images,te_labels,10,40,0.9)\n",
        "LSH_KNN(2,3,tr_images,tr_labels,te_images,te_labels,10,40,0.9)\n",
        "LSH_KNN(3,3,tr_images,tr_labels,te_images,te_labels,10,40,0.9)\n",
        "LSH_KNN(4,3,tr_images,tr_labels,te_images,te_labels,10,40,0.9)\n",
        "LSH_KNN(5,3,tr_images,tr_labels,te_images,te_labels,10,40,0.9)"
      ],
      "metadata": {
        "colab": {
          "base_uri": "https://localhost:8080/"
        },
        "outputId": "a5736f78-4767-4e3f-ce50-ce38e4b17581",
        "id": "ddb7BJDq30g-"
      },
      "execution_count": 28,
      "outputs": [
        {
          "output_type": "stream",
          "name": "stderr",
          "text": [
            "/usr/local/lib/python3.9/dist-packages/sklearn/metrics/pairwise.py:2025: DataConversionWarning: Data was converted to boolean for metric jaccard\n",
            "  warnings.warn(msg, DataConversionWarning)\n"
          ]
        },
        {
          "output_type": "stream",
          "name": "stdout",
          "text": [
            "Time taken to fit KNN model: 0.008124589920043945 seconds\n",
            "              precision    recall  f1-score   support\n",
            "\n",
            "           0       1.00      0.50      0.67         2\n",
            "           1       1.00      1.00      1.00         2\n",
            "           2       0.50      1.00      0.67         1\n",
            "           3       0.00      0.00      0.00         0\n",
            "           4       1.00      0.50      0.67         2\n",
            "           5       1.00      1.00      1.00         1\n",
            "           7       1.00      1.00      1.00         1\n",
            "           9       0.50      0.50      0.50         2\n",
            "\n",
            "    accuracy                           0.73        11\n",
            "   macro avg       0.75      0.69      0.69        11\n",
            "weighted avg       0.86      0.73      0.76        11\n",
            "\n",
            "Time taken to evaluate KNN model on test portion: 9.829199314117432 seconds\n",
            "\n"
          ]
        },
        {
          "output_type": "stream",
          "name": "stderr",
          "text": [
            "/usr/local/lib/python3.9/dist-packages/sklearn/metrics/pairwise.py:2025: DataConversionWarning: Data was converted to boolean for metric jaccard\n",
            "  warnings.warn(msg, DataConversionWarning)\n"
          ]
        },
        {
          "output_type": "stream",
          "name": "stdout",
          "text": [
            "Time taken to fit KNN model: 0.00875711441040039 seconds\n",
            "              precision    recall  f1-score   support\n",
            "\n",
            "           0       1.00      1.00      1.00         2\n",
            "           1       1.00      1.00      1.00         2\n",
            "           2       1.00      1.00      1.00         1\n",
            "           4       1.00      1.00      1.00         2\n",
            "           5       1.00      1.00      1.00         1\n",
            "           7       1.00      1.00      1.00         1\n",
            "           8       0.00      0.00      0.00         0\n",
            "           9       1.00      0.50      0.67         2\n",
            "\n",
            "    accuracy                           0.91        11\n",
            "   macro avg       0.88      0.81      0.83        11\n",
            "weighted avg       1.00      0.91      0.94        11\n",
            "\n",
            "Time taken to evaluate KNN model on test portion: 7.996341943740845 seconds\n",
            "\n"
          ]
        },
        {
          "output_type": "stream",
          "name": "stderr",
          "text": [
            "/usr/local/lib/python3.9/dist-packages/sklearn/metrics/pairwise.py:2025: DataConversionWarning: Data was converted to boolean for metric jaccard\n",
            "  warnings.warn(msg, DataConversionWarning)\n"
          ]
        },
        {
          "output_type": "stream",
          "name": "stdout",
          "text": [
            "Time taken to fit KNN model: 0.008162260055541992 seconds\n",
            "              precision    recall  f1-score   support\n",
            "\n",
            "           0       1.00      1.00      1.00         2\n",
            "           1       1.00      1.00      1.00         2\n",
            "           2       1.00      1.00      1.00         1\n",
            "           4       1.00      1.00      1.00         2\n",
            "           5       1.00      1.00      1.00         1\n",
            "           7       0.50      1.00      0.67         1\n",
            "           9       1.00      0.50      0.67         2\n",
            "\n",
            "    accuracy                           0.91        11\n",
            "   macro avg       0.93      0.93      0.90        11\n",
            "weighted avg       0.95      0.91      0.91        11\n",
            "\n",
            "Time taken to evaluate KNN model on test portion: 9.698684215545654 seconds\n",
            "\n"
          ]
        },
        {
          "output_type": "stream",
          "name": "stderr",
          "text": [
            "/usr/local/lib/python3.9/dist-packages/sklearn/metrics/pairwise.py:2025: DataConversionWarning: Data was converted to boolean for metric jaccard\n",
            "  warnings.warn(msg, DataConversionWarning)\n"
          ]
        },
        {
          "output_type": "stream",
          "name": "stdout",
          "text": [
            "Time taken to fit KNN model: 0.008324623107910156 seconds\n",
            "              precision    recall  f1-score   support\n",
            "\n",
            "           0       1.00      1.00      1.00         2\n",
            "           1       1.00      1.00      1.00         2\n",
            "           2       1.00      1.00      1.00         1\n",
            "           4       1.00      1.00      1.00         2\n",
            "           5       1.00      1.00      1.00         1\n",
            "           7       1.00      1.00      1.00         1\n",
            "           9       1.00      1.00      1.00         2\n",
            "\n",
            "    accuracy                           1.00        11\n",
            "   macro avg       1.00      1.00      1.00        11\n",
            "weighted avg       1.00      1.00      1.00        11\n",
            "\n",
            "Time taken to evaluate KNN model on test portion: 8.731627941131592 seconds\n",
            "\n"
          ]
        },
        {
          "output_type": "stream",
          "name": "stderr",
          "text": [
            "/usr/local/lib/python3.9/dist-packages/sklearn/metrics/pairwise.py:2025: DataConversionWarning: Data was converted to boolean for metric jaccard\n",
            "  warnings.warn(msg, DataConversionWarning)\n"
          ]
        },
        {
          "output_type": "stream",
          "name": "stdout",
          "text": [
            "Time taken to fit KNN model: 0.010239601135253906 seconds\n",
            "              precision    recall  f1-score   support\n",
            "\n",
            "           0       1.00      1.00      1.00         2\n",
            "           1       1.00      1.00      1.00         2\n",
            "           2       1.00      1.00      1.00         1\n",
            "           4       1.00      1.00      1.00         2\n",
            "           5       1.00      1.00      1.00         1\n",
            "           7       1.00      1.00      1.00         1\n",
            "           9       1.00      1.00      1.00         2\n",
            "\n",
            "    accuracy                           1.00        11\n",
            "   macro avg       1.00      1.00      1.00        11\n",
            "weighted avg       1.00      1.00      1.00        11\n",
            "\n",
            "Time taken to evaluate KNN model on test portion: 8.563525676727295 seconds\n",
            "\n"
          ]
        }
      ]
    },
    {
      "cell_type": "code",
      "source": [
        "LSH_KNN(1,3,tr_images,tr_labels,te_images,te_labels,10,60,0.8)\n",
        "LSH_KNN(2,3,tr_images,tr_labels,te_images,te_labels,10,60,0.8)\n",
        "LSH_KNN(3,3,tr_images,tr_labels,te_images,te_labels,10,60,0.8)\n",
        "LSH_KNN(4,3,tr_images,tr_labels,te_images,te_labels,10,60,0.8)\n",
        "LSH_KNN(5,3,tr_images,tr_labels,te_images,te_labels,10,60,0.8)"
      ],
      "metadata": {
        "colab": {
          "base_uri": "https://localhost:8080/"
        },
        "outputId": "6e94d8c6-a223-4c2a-b283-5a3d1c9c79a8",
        "id": "SDO_8Y2d30g-"
      },
      "execution_count": 29,
      "outputs": [
        {
          "output_type": "stream",
          "name": "stderr",
          "text": [
            "/usr/local/lib/python3.9/dist-packages/sklearn/metrics/pairwise.py:2025: DataConversionWarning: Data was converted to boolean for metric jaccard\n",
            "  warnings.warn(msg, DataConversionWarning)\n"
          ]
        },
        {
          "output_type": "stream",
          "name": "stdout",
          "text": [
            "Time taken to fit KNN model: 0.010272502899169922 seconds\n",
            "              precision    recall  f1-score   support\n",
            "\n",
            "           0       1.00      1.00      1.00         2\n",
            "           1       1.00      1.00      1.00         2\n",
            "           2       1.00      1.00      1.00         1\n",
            "           4       1.00      1.00      1.00         2\n",
            "           5       1.00      1.00      1.00         1\n",
            "           7       1.00      1.00      1.00         1\n",
            "           9       1.00      1.00      1.00         2\n",
            "\n",
            "    accuracy                           1.00        11\n",
            "   macro avg       1.00      1.00      1.00        11\n",
            "weighted avg       1.00      1.00      1.00        11\n",
            "\n",
            "Time taken to evaluate KNN model on test portion: 9.918791055679321 seconds\n",
            "\n"
          ]
        },
        {
          "output_type": "stream",
          "name": "stderr",
          "text": [
            "/usr/local/lib/python3.9/dist-packages/sklearn/metrics/pairwise.py:2025: DataConversionWarning: Data was converted to boolean for metric jaccard\n",
            "  warnings.warn(msg, DataConversionWarning)\n"
          ]
        },
        {
          "output_type": "stream",
          "name": "stdout",
          "text": [
            "Time taken to fit KNN model: 0.01391744613647461 seconds\n",
            "              precision    recall  f1-score   support\n",
            "\n",
            "           0       1.00      1.00      1.00         2\n",
            "           1       1.00      1.00      1.00         2\n",
            "           2       1.00      1.00      1.00         1\n",
            "           4       1.00      1.00      1.00         2\n",
            "           5       1.00      1.00      1.00         1\n",
            "           7       1.00      1.00      1.00         1\n",
            "           9       1.00      1.00      1.00         2\n",
            "\n",
            "    accuracy                           1.00        11\n",
            "   macro avg       1.00      1.00      1.00        11\n",
            "weighted avg       1.00      1.00      1.00        11\n",
            "\n",
            "Time taken to evaluate KNN model on test portion: 9.805070400238037 seconds\n",
            "\n"
          ]
        },
        {
          "output_type": "stream",
          "name": "stderr",
          "text": [
            "/usr/local/lib/python3.9/dist-packages/sklearn/metrics/pairwise.py:2025: DataConversionWarning: Data was converted to boolean for metric jaccard\n",
            "  warnings.warn(msg, DataConversionWarning)\n"
          ]
        },
        {
          "output_type": "stream",
          "name": "stdout",
          "text": [
            "Time taken to fit KNN model: 0.01120901107788086 seconds\n",
            "              precision    recall  f1-score   support\n",
            "\n",
            "           0       1.00      1.00      1.00         2\n",
            "           1       1.00      1.00      1.00         2\n",
            "           2       1.00      1.00      1.00         1\n",
            "           4       1.00      1.00      1.00         2\n",
            "           5       1.00      1.00      1.00         1\n",
            "           7       1.00      1.00      1.00         1\n",
            "           9       1.00      1.00      1.00         2\n",
            "\n",
            "    accuracy                           1.00        11\n",
            "   macro avg       1.00      1.00      1.00        11\n",
            "weighted avg       1.00      1.00      1.00        11\n",
            "\n",
            "Time taken to evaluate KNN model on test portion: 8.420631408691406 seconds\n",
            "\n"
          ]
        },
        {
          "output_type": "stream",
          "name": "stderr",
          "text": [
            "/usr/local/lib/python3.9/dist-packages/sklearn/metrics/pairwise.py:2025: DataConversionWarning: Data was converted to boolean for metric jaccard\n",
            "  warnings.warn(msg, DataConversionWarning)\n"
          ]
        },
        {
          "output_type": "stream",
          "name": "stdout",
          "text": [
            "Time taken to fit KNN model: 0.008884191513061523 seconds\n",
            "              precision    recall  f1-score   support\n",
            "\n",
            "           0       1.00      1.00      1.00         2\n",
            "           1       1.00      1.00      1.00         2\n",
            "           2       1.00      1.00      1.00         1\n",
            "           4       1.00      1.00      1.00         2\n",
            "           5       1.00      1.00      1.00         1\n",
            "           7       1.00      1.00      1.00         1\n",
            "           9       1.00      1.00      1.00         2\n",
            "\n",
            "    accuracy                           1.00        11\n",
            "   macro avg       1.00      1.00      1.00        11\n",
            "weighted avg       1.00      1.00      1.00        11\n",
            "\n",
            "Time taken to evaluate KNN model on test portion: 9.859127283096313 seconds\n",
            "\n"
          ]
        },
        {
          "output_type": "stream",
          "name": "stderr",
          "text": [
            "/usr/local/lib/python3.9/dist-packages/sklearn/metrics/pairwise.py:2025: DataConversionWarning: Data was converted to boolean for metric jaccard\n",
            "  warnings.warn(msg, DataConversionWarning)\n"
          ]
        },
        {
          "output_type": "stream",
          "name": "stdout",
          "text": [
            "Time taken to fit KNN model: 0.012849092483520508 seconds\n",
            "              precision    recall  f1-score   support\n",
            "\n",
            "           0       1.00      1.00      1.00         2\n",
            "           1       1.00      1.00      1.00         2\n",
            "           2       1.00      1.00      1.00         1\n",
            "           4       1.00      1.00      1.00         2\n",
            "           5       1.00      1.00      1.00         1\n",
            "           7       1.00      1.00      1.00         1\n",
            "           9       1.00      1.00      1.00         2\n",
            "\n",
            "    accuracy                           1.00        11\n",
            "   macro avg       1.00      1.00      1.00        11\n",
            "weighted avg       1.00      1.00      1.00        11\n",
            "\n",
            "Time taken to evaluate KNN model on test portion: 8.808597803115845 seconds\n",
            "\n"
          ]
        }
      ]
    },
    {
      "cell_type": "code",
      "source": [
        "LSH_KNN(1,3,tr_images,tr_labels,te_images,te_labels,10,60,0.9)\n",
        "LSH_KNN(2,3,tr_images,tr_labels,te_images,te_labels,10,60,0.9)\n",
        "LSH_KNN(3,3,tr_images,tr_labels,te_images,te_labels,10,60,0.9)\n",
        "LSH_KNN(4,3,tr_images,tr_labels,te_images,te_labels,10,60,0.9)\n",
        "LSH_KNN(5,3,tr_images,tr_labels,te_images,te_labels,10,60,0.9)"
      ],
      "metadata": {
        "colab": {
          "base_uri": "https://localhost:8080/"
        },
        "outputId": "70b88e5d-5c62-4c61-d3f7-c526c2122684",
        "id": "2q6o4DdB30g-"
      },
      "execution_count": 30,
      "outputs": [
        {
          "output_type": "stream",
          "name": "stderr",
          "text": [
            "/usr/local/lib/python3.9/dist-packages/sklearn/metrics/pairwise.py:2025: DataConversionWarning: Data was converted to boolean for metric jaccard\n",
            "  warnings.warn(msg, DataConversionWarning)\n"
          ]
        },
        {
          "output_type": "stream",
          "name": "stdout",
          "text": [
            "Time taken to fit KNN model: 0.011915206909179688 seconds\n",
            "              precision    recall  f1-score   support\n",
            "\n",
            "           0       1.00      1.00      1.00         2\n",
            "           1       1.00      1.00      1.00         2\n",
            "           2       1.00      1.00      1.00         1\n",
            "           4       1.00      1.00      1.00         2\n",
            "           5       0.00      0.00      0.00         1\n",
            "           7       1.00      1.00      1.00         1\n",
            "           9       0.67      1.00      0.80         2\n",
            "\n",
            "    accuracy                           0.91        11\n",
            "   macro avg       0.81      0.86      0.83        11\n",
            "weighted avg       0.85      0.91      0.87        11\n",
            "\n",
            "Time taken to evaluate KNN model on test portion: 8.28615117073059 seconds\n",
            "\n"
          ]
        },
        {
          "output_type": "stream",
          "name": "stderr",
          "text": [
            "/usr/local/lib/python3.9/dist-packages/sklearn/metrics/pairwise.py:2025: DataConversionWarning: Data was converted to boolean for metric jaccard\n",
            "  warnings.warn(msg, DataConversionWarning)\n"
          ]
        },
        {
          "output_type": "stream",
          "name": "stdout",
          "text": [
            "Time taken to fit KNN model: 0.0114593505859375 seconds\n",
            "              precision    recall  f1-score   support\n",
            "\n",
            "           0       1.00      1.00      1.00         2\n",
            "           1       1.00      1.00      1.00         2\n",
            "           2       1.00      1.00      1.00         1\n",
            "           4       0.67      1.00      0.80         2\n",
            "           5       1.00      1.00      1.00         1\n",
            "           7       1.00      1.00      1.00         1\n",
            "           9       1.00      0.50      0.67         2\n",
            "\n",
            "    accuracy                           0.91        11\n",
            "   macro avg       0.95      0.93      0.92        11\n",
            "weighted avg       0.94      0.91      0.90        11\n",
            "\n",
            "Time taken to evaluate KNN model on test portion: 9.926749467849731 seconds\n",
            "\n"
          ]
        },
        {
          "output_type": "stream",
          "name": "stderr",
          "text": [
            "/usr/local/lib/python3.9/dist-packages/sklearn/metrics/pairwise.py:2025: DataConversionWarning: Data was converted to boolean for metric jaccard\n",
            "  warnings.warn(msg, DataConversionWarning)\n"
          ]
        },
        {
          "output_type": "stream",
          "name": "stdout",
          "text": [
            "Time taken to fit KNN model: 0.01199197769165039 seconds\n",
            "              precision    recall  f1-score   support\n",
            "\n",
            "           0       1.00      1.00      1.00         2\n",
            "           1       1.00      1.00      1.00         2\n",
            "           2       0.50      1.00      0.67         1\n",
            "           3       0.00      0.00      0.00         0\n",
            "           4       0.00      0.00      0.00         2\n",
            "           5       0.00      0.00      0.00         1\n",
            "           7       1.00      1.00      1.00         1\n",
            "           9       0.50      0.50      0.50         2\n",
            "\n",
            "    accuracy                           0.64        11\n",
            "   macro avg       0.50      0.56      0.52        11\n",
            "weighted avg       0.59      0.64      0.61        11\n",
            "\n",
            "Time taken to evaluate KNN model on test portion: 9.066958904266357 seconds\n",
            "\n"
          ]
        },
        {
          "output_type": "stream",
          "name": "stderr",
          "text": [
            "/usr/local/lib/python3.9/dist-packages/sklearn/metrics/pairwise.py:2025: DataConversionWarning: Data was converted to boolean for metric jaccard\n",
            "  warnings.warn(msg, DataConversionWarning)\n"
          ]
        },
        {
          "output_type": "stream",
          "name": "stdout",
          "text": [
            "Time taken to fit KNN model: 0.011379480361938477 seconds\n",
            "              precision    recall  f1-score   support\n",
            "\n",
            "           0       1.00      1.00      1.00         2\n",
            "           1       1.00      1.00      1.00         2\n",
            "           2       1.00      1.00      1.00         1\n",
            "           4       1.00      1.00      1.00         2\n",
            "           5       1.00      1.00      1.00         1\n",
            "           7       1.00      1.00      1.00         1\n",
            "           9       1.00      1.00      1.00         2\n",
            "\n",
            "    accuracy                           1.00        11\n",
            "   macro avg       1.00      1.00      1.00        11\n",
            "weighted avg       1.00      1.00      1.00        11\n",
            "\n",
            "Time taken to evaluate KNN model on test portion: 9.432212352752686 seconds\n",
            "\n"
          ]
        },
        {
          "output_type": "stream",
          "name": "stderr",
          "text": [
            "/usr/local/lib/python3.9/dist-packages/sklearn/metrics/pairwise.py:2025: DataConversionWarning: Data was converted to boolean for metric jaccard\n",
            "  warnings.warn(msg, DataConversionWarning)\n"
          ]
        },
        {
          "output_type": "stream",
          "name": "stdout",
          "text": [
            "Time taken to fit KNN model: 0.011194944381713867 seconds\n",
            "              precision    recall  f1-score   support\n",
            "\n",
            "           0       1.00      1.00      1.00         2\n",
            "           1       1.00      1.00      1.00         2\n",
            "           2       1.00      1.00      1.00         1\n",
            "           4       1.00      1.00      1.00         2\n",
            "           5       1.00      1.00      1.00         1\n",
            "           7       1.00      1.00      1.00         1\n",
            "           9       1.00      1.00      1.00         2\n",
            "\n",
            "    accuracy                           1.00        11\n",
            "   macro avg       1.00      1.00      1.00        11\n",
            "weighted avg       1.00      1.00      1.00        11\n",
            "\n",
            "Time taken to evaluate KNN model on test portion: 9.925613641738892 seconds\n",
            "\n"
          ]
        }
      ]
    },
    {
      "cell_type": "code",
      "execution_count": 12,
      "metadata": {
        "colab": {
          "base_uri": "https://localhost:8080/"
        },
        "outputId": "e0798d2e-cab6-403d-e2ff-2be217e9f380",
        "id": "NIVxnb8d30g-"
      },
      "outputs": [
        {
          "output_type": "stream",
          "name": "stderr",
          "text": [
            "/usr/local/lib/python3.9/dist-packages/sklearn/metrics/pairwise.py:2025: DataConversionWarning: Data was converted to boolean for metric jaccard\n",
            "  warnings.warn(msg, DataConversionWarning)\n"
          ]
        },
        {
          "output_type": "stream",
          "name": "stdout",
          "text": [
            "Time taken to fit KNN model: 0.008702993392944336 seconds\n",
            "              precision    recall  f1-score   support\n",
            "\n",
            "           0       1.00      1.00      1.00         6\n",
            "           1       1.00      1.00      1.00        10\n",
            "           2       1.00      0.80      0.89         5\n",
            "           3       0.80      0.80      0.80         5\n",
            "           4       0.91      1.00      0.95        10\n",
            "           5       0.83      0.71      0.77         7\n",
            "           6       1.00      1.00      1.00         5\n",
            "           7       1.00      1.00      1.00         7\n",
            "           8       0.00      0.00      0.00         0\n",
            "           9       1.00      1.00      1.00         6\n",
            "\n",
            "    accuracy                           0.93        61\n",
            "   macro avg       0.85      0.83      0.84        61\n",
            "weighted avg       0.95      0.93      0.94        61\n",
            "\n",
            "Time taken to evaluate KNN model on test portion: 52.897632122039795 seconds\n",
            "\n"
          ]
        },
        {
          "output_type": "stream",
          "name": "stderr",
          "text": [
            "/usr/local/lib/python3.9/dist-packages/sklearn/metrics/pairwise.py:2025: DataConversionWarning: Data was converted to boolean for metric jaccard\n",
            "  warnings.warn(msg, DataConversionWarning)\n"
          ]
        },
        {
          "output_type": "stream",
          "name": "stdout",
          "text": [
            "Time taken to fit KNN model: 0.009625911712646484 seconds\n",
            "              precision    recall  f1-score   support\n",
            "\n",
            "           0       1.00      1.00      1.00         6\n",
            "           1       0.91      1.00      0.95        10\n",
            "           2       1.00      0.80      0.89         5\n",
            "           3       1.00      0.80      0.89         5\n",
            "           4       1.00      0.90      0.95        10\n",
            "           5       0.86      0.86      0.86         7\n",
            "           6       1.00      1.00      1.00         5\n",
            "           7       1.00      1.00      1.00         7\n",
            "           8       0.00      0.00      0.00         0\n",
            "           9       0.86      1.00      0.92         6\n",
            "\n",
            "    accuracy                           0.93        61\n",
            "   macro avg       0.86      0.84      0.85        61\n",
            "weighted avg       0.95      0.93      0.94        61\n",
            "\n",
            "Time taken to evaluate KNN model on test portion: 50.967363119125366 seconds\n",
            "\n"
          ]
        },
        {
          "output_type": "stream",
          "name": "stderr",
          "text": [
            "/usr/local/lib/python3.9/dist-packages/sklearn/metrics/pairwise.py:2025: DataConversionWarning: Data was converted to boolean for metric jaccard\n",
            "  warnings.warn(msg, DataConversionWarning)\n"
          ]
        },
        {
          "output_type": "stream",
          "name": "stdout",
          "text": [
            "Time taken to fit KNN model: 0.007473945617675781 seconds\n",
            "              precision    recall  f1-score   support\n",
            "\n",
            "           0       1.00      1.00      1.00         6\n",
            "           1       0.91      1.00      0.95        10\n",
            "           2       1.00      0.80      0.89         5\n",
            "           3       1.00      0.80      0.89         5\n",
            "           4       0.90      0.90      0.90        10\n",
            "           5       0.86      0.86      0.86         7\n",
            "           6       1.00      1.00      1.00         5\n",
            "           7       1.00      1.00      1.00         7\n",
            "           8       0.00      0.00      0.00         0\n",
            "           9       1.00      1.00      1.00         6\n",
            "\n",
            "    accuracy                           0.93        61\n",
            "   macro avg       0.87      0.84      0.85        61\n",
            "weighted avg       0.95      0.93      0.94        61\n",
            "\n",
            "Time taken to evaluate KNN model on test portion: 52.69229316711426 seconds\n",
            "\n"
          ]
        },
        {
          "output_type": "stream",
          "name": "stderr",
          "text": [
            "/usr/local/lib/python3.9/dist-packages/sklearn/metrics/pairwise.py:2025: DataConversionWarning: Data was converted to boolean for metric jaccard\n",
            "  warnings.warn(msg, DataConversionWarning)\n"
          ]
        },
        {
          "output_type": "stream",
          "name": "stdout",
          "text": [
            "Time taken to fit KNN model: 0.009661436080932617 seconds\n",
            "              precision    recall  f1-score   support\n",
            "\n",
            "           0       0.86      1.00      0.92         6\n",
            "           1       1.00      1.00      1.00        10\n",
            "           2       1.00      0.80      0.89         5\n",
            "           3       1.00      1.00      1.00         5\n",
            "           4       1.00      0.90      0.95        10\n",
            "           5       1.00      1.00      1.00         7\n",
            "           6       0.83      1.00      0.91         5\n",
            "           7       1.00      1.00      1.00         7\n",
            "           9       1.00      1.00      1.00         6\n",
            "\n",
            "    accuracy                           0.97        61\n",
            "   macro avg       0.97      0.97      0.96        61\n",
            "weighted avg       0.97      0.97      0.97        61\n",
            "\n",
            "Time taken to evaluate KNN model on test portion: 51.13656735420227 seconds\n",
            "\n"
          ]
        },
        {
          "output_type": "stream",
          "name": "stderr",
          "text": [
            "/usr/local/lib/python3.9/dist-packages/sklearn/metrics/pairwise.py:2025: DataConversionWarning: Data was converted to boolean for metric jaccard\n",
            "  warnings.warn(msg, DataConversionWarning)\n"
          ]
        },
        {
          "output_type": "stream",
          "name": "stdout",
          "text": [
            "Time taken to fit KNN model: 0.007473945617675781 seconds\n",
            "              precision    recall  f1-score   support\n",
            "\n",
            "           0       1.00      1.00      1.00         6\n",
            "           1       1.00      1.00      1.00        10\n",
            "           2       1.00      1.00      1.00         5\n",
            "           3       1.00      0.80      0.89         5\n",
            "           4       0.83      1.00      0.91        10\n",
            "           5       1.00      0.86      0.92         7\n",
            "           6       1.00      1.00      1.00         5\n",
            "           7       1.00      1.00      1.00         7\n",
            "           8       0.00      0.00      0.00         0\n",
            "           9       1.00      0.83      0.91         6\n",
            "\n",
            "    accuracy                           0.95        61\n",
            "   macro avg       0.88      0.85      0.86        61\n",
            "weighted avg       0.97      0.95      0.96        61\n",
            "\n",
            "Time taken to evaluate KNN model on test portion: 50.42148017883301 seconds\n",
            "\n"
          ]
        }
      ],
      "source": [
        "LSH_KNN(1,3,tr_images,tr_labels,te_images,te_labels,60,40,0.8)\n",
        "LSH_KNN(2,3,tr_images,tr_labels,te_images,te_labels,60,40,0.8)\n",
        "LSH_KNN(3,3,tr_images,tr_labels,te_images,te_labels,60,40,0.8)\n",
        "LSH_KNN(4,3,tr_images,tr_labels,te_images,te_labels,60,40,0.8)\n",
        "LSH_KNN(5,3,tr_images,tr_labels,te_images,te_labels,60,40,0.8)"
      ]
    },
    {
      "cell_type": "code",
      "source": [
        "LSH_KNN(1,3,tr_images,tr_labels,te_images,te_labels,60,40,0.9)\n",
        "LSH_KNN(2,3,tr_images,tr_labels,te_images,te_labels,60,40,0.9)\n",
        "LSH_KNN(3,3,tr_images,tr_labels,te_images,te_labels,60,40,0.9)\n",
        "LSH_KNN(4,3,tr_images,tr_labels,te_images,te_labels,60,40,0.9)\n",
        "LSH_KNN(5,3,tr_images,tr_labels,te_images,te_labels,60,40,0.9)"
      ],
      "metadata": {
        "colab": {
          "base_uri": "https://localhost:8080/"
        },
        "id": "relaMnyZ30g-",
        "outputId": "49a24b9d-8307-4aa6-d780-3879fb93cff2"
      },
      "execution_count": 32,
      "outputs": [
        {
          "output_type": "stream",
          "name": "stderr",
          "text": [
            "/usr/local/lib/python3.9/dist-packages/sklearn/metrics/pairwise.py:2025: DataConversionWarning: Data was converted to boolean for metric jaccard\n",
            "  warnings.warn(msg, DataConversionWarning)\n"
          ]
        },
        {
          "output_type": "stream",
          "name": "stdout",
          "text": [
            "Time taken to fit KNN model: 0.010445117950439453 seconds\n",
            "              precision    recall  f1-score   support\n",
            "\n",
            "           0       0.86      1.00      0.92         6\n",
            "           1       1.00      1.00      1.00        10\n",
            "           2       0.83      1.00      0.91         5\n",
            "           3       1.00      1.00      1.00         5\n",
            "           4       1.00      0.70      0.82        10\n",
            "           5       1.00      0.86      0.92         7\n",
            "           6       1.00      1.00      1.00         5\n",
            "           7       1.00      1.00      1.00         7\n",
            "           9       0.75      1.00      0.86         6\n",
            "\n",
            "    accuracy                           0.93        61\n",
            "   macro avg       0.94      0.95      0.94        61\n",
            "weighted avg       0.95      0.93      0.93        61\n",
            "\n",
            "Time taken to evaluate KNN model on test portion: 50.85012769699097 seconds\n",
            "\n"
          ]
        },
        {
          "output_type": "stream",
          "name": "stderr",
          "text": [
            "/usr/local/lib/python3.9/dist-packages/sklearn/metrics/pairwise.py:2025: DataConversionWarning: Data was converted to boolean for metric jaccard\n",
            "  warnings.warn(msg, DataConversionWarning)\n"
          ]
        },
        {
          "output_type": "stream",
          "name": "stdout",
          "text": [
            "Time taken to fit KNN model: 0.008497476577758789 seconds\n",
            "              precision    recall  f1-score   support\n",
            "\n",
            "           0       1.00      1.00      1.00         6\n",
            "           1       1.00      1.00      1.00        10\n",
            "           2       0.71      1.00      0.83         5\n",
            "           3       1.00      1.00      1.00         5\n",
            "           4       1.00      1.00      1.00        10\n",
            "           5       1.00      0.86      0.92         7\n",
            "           6       1.00      1.00      1.00         5\n",
            "           7       1.00      0.86      0.92         7\n",
            "           9       1.00      1.00      1.00         6\n",
            "\n",
            "    accuracy                           0.97        61\n",
            "   macro avg       0.97      0.97      0.96        61\n",
            "weighted avg       0.98      0.97      0.97        61\n",
            "\n",
            "Time taken to evaluate KNN model on test portion: 51.537737131118774 seconds\n",
            "\n"
          ]
        },
        {
          "output_type": "stream",
          "name": "stderr",
          "text": [
            "/usr/local/lib/python3.9/dist-packages/sklearn/metrics/pairwise.py:2025: DataConversionWarning: Data was converted to boolean for metric jaccard\n",
            "  warnings.warn(msg, DataConversionWarning)\n"
          ]
        },
        {
          "output_type": "stream",
          "name": "stdout",
          "text": [
            "Time taken to fit KNN model: 0.010043144226074219 seconds\n",
            "              precision    recall  f1-score   support\n",
            "\n",
            "           0       0.86      1.00      0.92         6\n",
            "           1       1.00      1.00      1.00        10\n",
            "           2       1.00      1.00      1.00         5\n",
            "           3       1.00      0.80      0.89         5\n",
            "           4       1.00      0.90      0.95        10\n",
            "           5       1.00      1.00      1.00         7\n",
            "           6       1.00      1.00      1.00         5\n",
            "           7       1.00      1.00      1.00         7\n",
            "           9       0.86      1.00      0.92         6\n",
            "\n",
            "    accuracy                           0.97        61\n",
            "   macro avg       0.97      0.97      0.96        61\n",
            "weighted avg       0.97      0.97      0.97        61\n",
            "\n",
            "Time taken to evaluate KNN model on test portion: 50.83741331100464 seconds\n",
            "\n"
          ]
        },
        {
          "output_type": "stream",
          "name": "stderr",
          "text": [
            "/usr/local/lib/python3.9/dist-packages/sklearn/metrics/pairwise.py:2025: DataConversionWarning: Data was converted to boolean for metric jaccard\n",
            "  warnings.warn(msg, DataConversionWarning)\n"
          ]
        },
        {
          "output_type": "stream",
          "name": "stdout",
          "text": [
            "Time taken to fit KNN model: 0.008713722229003906 seconds\n",
            "              precision    recall  f1-score   support\n",
            "\n",
            "           0       0.86      1.00      0.92         6\n",
            "           1       1.00      1.00      1.00        10\n",
            "           2       1.00      1.00      1.00         5\n",
            "           3       0.80      0.80      0.80         5\n",
            "           4       0.90      0.90      0.90        10\n",
            "           5       1.00      0.86      0.92         7\n",
            "           6       1.00      1.00      1.00         5\n",
            "           7       0.88      1.00      0.93         7\n",
            "           9       0.80      0.67      0.73         6\n",
            "\n",
            "    accuracy                           0.92        61\n",
            "   macro avg       0.91      0.91      0.91        61\n",
            "weighted avg       0.92      0.92      0.92        61\n",
            "\n",
            "Time taken to evaluate KNN model on test portion: 52.6326584815979 seconds\n",
            "\n"
          ]
        },
        {
          "output_type": "stream",
          "name": "stderr",
          "text": [
            "/usr/local/lib/python3.9/dist-packages/sklearn/metrics/pairwise.py:2025: DataConversionWarning: Data was converted to boolean for metric jaccard\n",
            "  warnings.warn(msg, DataConversionWarning)\n"
          ]
        },
        {
          "output_type": "stream",
          "name": "stdout",
          "text": [
            "Time taken to fit KNN model: 0.007035255432128906 seconds\n",
            "              precision    recall  f1-score   support\n",
            "\n",
            "           0       1.00      1.00      1.00         6\n",
            "           1       1.00      1.00      1.00        10\n",
            "           2       1.00      1.00      1.00         5\n",
            "           3       1.00      1.00      1.00         5\n",
            "           4       1.00      0.90      0.95        10\n",
            "           5       1.00      0.86      0.92         7\n",
            "           6       0.83      1.00      0.91         5\n",
            "           7       1.00      1.00      1.00         7\n",
            "           9       0.86      1.00      0.92         6\n",
            "\n",
            "    accuracy                           0.97        61\n",
            "   macro avg       0.97      0.97      0.97        61\n",
            "weighted avg       0.97      0.97      0.97        61\n",
            "\n",
            "Time taken to evaluate KNN model on test portion: 52.27777075767517 seconds\n",
            "\n"
          ]
        }
      ]
    },
    {
      "cell_type": "code",
      "source": [
        "LSH_KNN(1,3,tr_images,tr_labels,te_images,te_labels,60,60,0.8)\n",
        "LSH_KNN(2,3,tr_images,tr_labels,te_images,te_labels,60,60,0.8)\n",
        "LSH_KNN(3,3,tr_images,tr_labels,te_images,te_labels,60,60,0.8)\n",
        "LSH_KNN(4,3,tr_images,tr_labels,te_images,te_labels,60,60,0.8)\n",
        "LSH_KNN(5,3,tr_images,tr_labels,te_images,te_labels,60,60,0.8)"
      ],
      "metadata": {
        "colab": {
          "base_uri": "https://localhost:8080/"
        },
        "id": "I3-9X39a30g-",
        "outputId": "0ca10415-c57a-4a56-a46f-3652ea70035d"
      },
      "execution_count": 33,
      "outputs": [
        {
          "output_type": "stream",
          "name": "stderr",
          "text": [
            "/usr/local/lib/python3.9/dist-packages/sklearn/metrics/pairwise.py:2025: DataConversionWarning: Data was converted to boolean for metric jaccard\n",
            "  warnings.warn(msg, DataConversionWarning)\n"
          ]
        },
        {
          "output_type": "stream",
          "name": "stdout",
          "text": [
            "Time taken to fit KNN model: 0.009248018264770508 seconds\n",
            "              precision    recall  f1-score   support\n",
            "\n",
            "           0       0.86      1.00      0.92         6\n",
            "           1       1.00      1.00      1.00        10\n",
            "           2       1.00      1.00      1.00         5\n",
            "           3       1.00      0.60      0.75         5\n",
            "           4       1.00      1.00      1.00        10\n",
            "           5       1.00      1.00      1.00         7\n",
            "           6       1.00      1.00      1.00         5\n",
            "           7       1.00      1.00      1.00         7\n",
            "           9       0.86      1.00      0.92         6\n",
            "\n",
            "    accuracy                           0.97        61\n",
            "   macro avg       0.97      0.96      0.96        61\n",
            "weighted avg       0.97      0.97      0.96        61\n",
            "\n",
            "Time taken to evaluate KNN model on test portion: 51.120906352996826 seconds\n",
            "\n"
          ]
        },
        {
          "output_type": "stream",
          "name": "stderr",
          "text": [
            "/usr/local/lib/python3.9/dist-packages/sklearn/metrics/pairwise.py:2025: DataConversionWarning: Data was converted to boolean for metric jaccard\n",
            "  warnings.warn(msg, DataConversionWarning)\n"
          ]
        },
        {
          "output_type": "stream",
          "name": "stdout",
          "text": [
            "Time taken to fit KNN model: 0.010677099227905273 seconds\n",
            "              precision    recall  f1-score   support\n",
            "\n",
            "           0       1.00      1.00      1.00         6\n",
            "           1       1.00      1.00      1.00        10\n",
            "           2       0.83      1.00      0.91         5\n",
            "           3       1.00      1.00      1.00         5\n",
            "           4       1.00      0.90      0.95        10\n",
            "           5       1.00      1.00      1.00         7\n",
            "           6       1.00      1.00      1.00         5\n",
            "           7       1.00      1.00      1.00         7\n",
            "           9       1.00      1.00      1.00         6\n",
            "\n",
            "    accuracy                           0.98        61\n",
            "   macro avg       0.98      0.99      0.98        61\n",
            "weighted avg       0.99      0.98      0.98        61\n",
            "\n",
            "Time taken to evaluate KNN model on test portion: 53.33933115005493 seconds\n",
            "\n"
          ]
        },
        {
          "output_type": "stream",
          "name": "stderr",
          "text": [
            "/usr/local/lib/python3.9/dist-packages/sklearn/metrics/pairwise.py:2025: DataConversionWarning: Data was converted to boolean for metric jaccard\n",
            "  warnings.warn(msg, DataConversionWarning)\n"
          ]
        },
        {
          "output_type": "stream",
          "name": "stdout",
          "text": [
            "Time taken to fit KNN model: 0.009388208389282227 seconds\n",
            "              precision    recall  f1-score   support\n",
            "\n",
            "           0       1.00      1.00      1.00         6\n",
            "           1       1.00      1.00      1.00        10\n",
            "           2       1.00      1.00      1.00         5\n",
            "           3       1.00      0.80      0.89         5\n",
            "           4       1.00      0.80      0.89        10\n",
            "           5       1.00      1.00      1.00         7\n",
            "           6       1.00      1.00      1.00         5\n",
            "           7       1.00      1.00      1.00         7\n",
            "           8       0.00      0.00      0.00         0\n",
            "           9       0.75      1.00      0.86         6\n",
            "\n",
            "    accuracy                           0.95        61\n",
            "   macro avg       0.88      0.86      0.86        61\n",
            "weighted avg       0.98      0.95      0.96        61\n",
            "\n",
            "Time taken to evaluate KNN model on test portion: 51.89636421203613 seconds\n",
            "\n"
          ]
        },
        {
          "output_type": "stream",
          "name": "stderr",
          "text": [
            "/usr/local/lib/python3.9/dist-packages/sklearn/metrics/pairwise.py:2025: DataConversionWarning: Data was converted to boolean for metric jaccard\n",
            "  warnings.warn(msg, DataConversionWarning)\n"
          ]
        },
        {
          "output_type": "stream",
          "name": "stdout",
          "text": [
            "Time taken to fit KNN model: 0.011330842971801758 seconds\n",
            "              precision    recall  f1-score   support\n",
            "\n",
            "           0       0.86      1.00      0.92         6\n",
            "           1       1.00      1.00      1.00        10\n",
            "           2       1.00      1.00      1.00         5\n",
            "           3       1.00      0.80      0.89         5\n",
            "           4       0.90      0.90      0.90        10\n",
            "           5       1.00      0.86      0.92         7\n",
            "           6       1.00      1.00      1.00         5\n",
            "           7       1.00      1.00      1.00         7\n",
            "           8       0.00      0.00      0.00         0\n",
            "           9       1.00      1.00      1.00         6\n",
            "\n",
            "    accuracy                           0.95        61\n",
            "   macro avg       0.88      0.86      0.86        61\n",
            "weighted avg       0.97      0.95      0.96        61\n",
            "\n",
            "Time taken to evaluate KNN model on test portion: 51.08978748321533 seconds\n",
            "\n"
          ]
        },
        {
          "output_type": "stream",
          "name": "stderr",
          "text": [
            "/usr/local/lib/python3.9/dist-packages/sklearn/metrics/pairwise.py:2025: DataConversionWarning: Data was converted to boolean for metric jaccard\n",
            "  warnings.warn(msg, DataConversionWarning)\n"
          ]
        },
        {
          "output_type": "stream",
          "name": "stdout",
          "text": [
            "Time taken to fit KNN model: 0.011049985885620117 seconds\n",
            "              precision    recall  f1-score   support\n",
            "\n",
            "           0       1.00      1.00      1.00         6\n",
            "           1       1.00      1.00      1.00        10\n",
            "           2       1.00      1.00      1.00         5\n",
            "           3       0.83      1.00      0.91         5\n",
            "           4       1.00      0.90      0.95        10\n",
            "           5       1.00      0.86      0.92         7\n",
            "           6       1.00      1.00      1.00         5\n",
            "           7       1.00      1.00      1.00         7\n",
            "           9       0.86      1.00      0.92         6\n",
            "\n",
            "    accuracy                           0.97        61\n",
            "   macro avg       0.97      0.97      0.97        61\n",
            "weighted avg       0.97      0.97      0.97        61\n",
            "\n",
            "Time taken to evaluate KNN model on test portion: 51.81723666191101 seconds\n",
            "\n"
          ]
        }
      ]
    },
    {
      "cell_type": "code",
      "source": [
        "LSH_KNN(1,3,tr_images,tr_labels,te_images,te_labels,60,60,0.9)\n",
        "LSH_KNN(2,3,tr_images,tr_labels,te_images,te_labels,60,60,0.9)\n",
        "LSH_KNN(3,3,tr_images,tr_labels,te_images,te_labels,60,60,0.9)\n",
        "LSH_KNN(4,3,tr_images,tr_labels,te_images,te_labels,60,60,0.9)\n",
        "LSH_KNN(5,3,tr_images,tr_labels,te_images,te_labels,60,60,0.9)"
      ],
      "metadata": {
        "colab": {
          "base_uri": "https://localhost:8080/"
        },
        "id": "ywXP_UJP30g-",
        "outputId": "36118bbd-f329-42b4-d92f-8f8181ae953e"
      },
      "execution_count": 34,
      "outputs": [
        {
          "output_type": "stream",
          "name": "stderr",
          "text": [
            "/usr/local/lib/python3.9/dist-packages/sklearn/metrics/pairwise.py:2025: DataConversionWarning: Data was converted to boolean for metric jaccard\n",
            "  warnings.warn(msg, DataConversionWarning)\n"
          ]
        },
        {
          "output_type": "stream",
          "name": "stdout",
          "text": [
            "Time taken to fit KNN model: 0.013045787811279297 seconds\n",
            "              precision    recall  f1-score   support\n",
            "\n",
            "           0       1.00      1.00      1.00         6\n",
            "           1       1.00      1.00      1.00        10\n",
            "           2       1.00      1.00      1.00         5\n",
            "           3       1.00      1.00      1.00         5\n",
            "           4       1.00      1.00      1.00        10\n",
            "           5       1.00      1.00      1.00         7\n",
            "           6       1.00      1.00      1.00         5\n",
            "           7       1.00      1.00      1.00         7\n",
            "           9       1.00      1.00      1.00         6\n",
            "\n",
            "    accuracy                           1.00        61\n",
            "   macro avg       1.00      1.00      1.00        61\n",
            "weighted avg       1.00      1.00      1.00        61\n",
            "\n",
            "Time taken to evaluate KNN model on test portion: 51.484586000442505 seconds\n",
            "\n"
          ]
        },
        {
          "output_type": "stream",
          "name": "stderr",
          "text": [
            "/usr/local/lib/python3.9/dist-packages/sklearn/metrics/pairwise.py:2025: DataConversionWarning: Data was converted to boolean for metric jaccard\n",
            "  warnings.warn(msg, DataConversionWarning)\n"
          ]
        },
        {
          "output_type": "stream",
          "name": "stdout",
          "text": [
            "Time taken to fit KNN model: 0.010499954223632812 seconds\n",
            "              precision    recall  f1-score   support\n",
            "\n",
            "           0       1.00      1.00      1.00         6\n",
            "           1       0.91      1.00      0.95        10\n",
            "           2       1.00      1.00      1.00         5\n",
            "           3       1.00      0.80      0.89         5\n",
            "           4       1.00      0.90      0.95        10\n",
            "           5       1.00      1.00      1.00         7\n",
            "           6       1.00      1.00      1.00         5\n",
            "           7       1.00      1.00      1.00         7\n",
            "           9       0.86      1.00      0.92         6\n",
            "\n",
            "    accuracy                           0.97        61\n",
            "   macro avg       0.97      0.97      0.97        61\n",
            "weighted avg       0.97      0.97      0.97        61\n",
            "\n",
            "Time taken to evaluate KNN model on test portion: 51.775354862213135 seconds\n",
            "\n"
          ]
        },
        {
          "output_type": "stream",
          "name": "stderr",
          "text": [
            "/usr/local/lib/python3.9/dist-packages/sklearn/metrics/pairwise.py:2025: DataConversionWarning: Data was converted to boolean for metric jaccard\n",
            "  warnings.warn(msg, DataConversionWarning)\n"
          ]
        },
        {
          "output_type": "stream",
          "name": "stdout",
          "text": [
            "Time taken to fit KNN model: 0.008810043334960938 seconds\n",
            "              precision    recall  f1-score   support\n",
            "\n",
            "           0       1.00      1.00      1.00         6\n",
            "           1       1.00      1.00      1.00        10\n",
            "           2       1.00      1.00      1.00         5\n",
            "           3       1.00      0.80      0.89         5\n",
            "           4       1.00      0.90      0.95        10\n",
            "           5       0.88      1.00      0.93         7\n",
            "           6       1.00      1.00      1.00         5\n",
            "           7       1.00      1.00      1.00         7\n",
            "           9       0.86      1.00      0.92         6\n",
            "\n",
            "    accuracy                           0.97        61\n",
            "   macro avg       0.97      0.97      0.97        61\n",
            "weighted avg       0.97      0.97      0.97        61\n",
            "\n",
            "Time taken to evaluate KNN model on test portion: 52.31729173660278 seconds\n",
            "\n"
          ]
        },
        {
          "output_type": "stream",
          "name": "stderr",
          "text": [
            "/usr/local/lib/python3.9/dist-packages/sklearn/metrics/pairwise.py:2025: DataConversionWarning: Data was converted to boolean for metric jaccard\n",
            "  warnings.warn(msg, DataConversionWarning)\n"
          ]
        },
        {
          "output_type": "stream",
          "name": "stdout",
          "text": [
            "Time taken to fit KNN model: 0.013176441192626953 seconds\n",
            "              precision    recall  f1-score   support\n",
            "\n",
            "           0       1.00      1.00      1.00         6\n",
            "           1       1.00      1.00      1.00        10\n",
            "           2       1.00      0.80      0.89         5\n",
            "           3       0.80      0.80      0.80         5\n",
            "           4       1.00      1.00      1.00        10\n",
            "           5       0.88      1.00      0.93         7\n",
            "           6       1.00      1.00      1.00         5\n",
            "           7       1.00      1.00      1.00         7\n",
            "           9       1.00      1.00      1.00         6\n",
            "\n",
            "    accuracy                           0.97        61\n",
            "   macro avg       0.96      0.96      0.96        61\n",
            "weighted avg       0.97      0.97      0.97        61\n",
            "\n",
            "Time taken to evaluate KNN model on test portion: 49.94005537033081 seconds\n",
            "\n"
          ]
        },
        {
          "output_type": "stream",
          "name": "stderr",
          "text": [
            "/usr/local/lib/python3.9/dist-packages/sklearn/metrics/pairwise.py:2025: DataConversionWarning: Data was converted to boolean for metric jaccard\n",
            "  warnings.warn(msg, DataConversionWarning)\n"
          ]
        },
        {
          "output_type": "stream",
          "name": "stdout",
          "text": [
            "Time taken to fit KNN model: 0.010164737701416016 seconds\n",
            "              precision    recall  f1-score   support\n",
            "\n",
            "           0       1.00      1.00      1.00         6\n",
            "           1       1.00      1.00      1.00        10\n",
            "           2       1.00      1.00      1.00         5\n",
            "           3       1.00      1.00      1.00         5\n",
            "           4       1.00      0.90      0.95        10\n",
            "           5       1.00      1.00      1.00         7\n",
            "           6       1.00      1.00      1.00         5\n",
            "           7       1.00      1.00      1.00         7\n",
            "           9       0.86      1.00      0.92         6\n",
            "\n",
            "    accuracy                           0.98        61\n",
            "   macro avg       0.98      0.99      0.99        61\n",
            "weighted avg       0.99      0.98      0.98        61\n",
            "\n",
            "Time taken to evaluate KNN model on test portion: 51.567237854003906 seconds\n",
            "\n"
          ]
        }
      ]
    },
    {
      "cell_type": "code",
      "execution_count": 35,
      "metadata": {
        "colab": {
          "base_uri": "https://localhost:8080/"
        },
        "id": "m3qdR--M30g_",
        "outputId": "974db2cf-5796-400d-b286-a93ac08112c1"
      },
      "outputs": [
        {
          "output_type": "stream",
          "name": "stderr",
          "text": [
            "/usr/local/lib/python3.9/dist-packages/sklearn/metrics/pairwise.py:2025: DataConversionWarning: Data was converted to boolean for metric jaccard\n",
            "  warnings.warn(msg, DataConversionWarning)\n"
          ]
        },
        {
          "output_type": "stream",
          "name": "stdout",
          "text": [
            "Time taken to fit KNN model: 0.008413076400756836 seconds\n",
            "              precision    recall  f1-score   support\n",
            "\n",
            "           0       1.00      1.00      1.00         8\n",
            "           1       1.00      1.00      1.00        12\n",
            "           2       1.00      1.00      1.00         8\n",
            "           3       1.00      0.90      0.95        10\n",
            "           4       1.00      0.77      0.87        13\n",
            "           5       1.00      1.00      1.00         7\n",
            "           6       1.00      1.00      1.00         8\n",
            "           7       0.88      1.00      0.93        14\n",
            "           8       0.67      1.00      0.80         2\n",
            "           9       0.80      0.89      0.84         9\n",
            "\n",
            "    accuracy                           0.95        91\n",
            "   macro avg       0.93      0.96      0.94        91\n",
            "weighted avg       0.95      0.95      0.95        91\n",
            "\n",
            "Time taken to evaluate KNN model on test portion: 75.60488104820251 seconds\n",
            "\n"
          ]
        },
        {
          "output_type": "stream",
          "name": "stderr",
          "text": [
            "/usr/local/lib/python3.9/dist-packages/sklearn/metrics/pairwise.py:2025: DataConversionWarning: Data was converted to boolean for metric jaccard\n",
            "  warnings.warn(msg, DataConversionWarning)\n"
          ]
        },
        {
          "output_type": "stream",
          "name": "stdout",
          "text": [
            "Time taken to fit KNN model: 0.01274871826171875 seconds\n",
            "              precision    recall  f1-score   support\n",
            "\n",
            "           0       0.89      1.00      0.94         8\n",
            "           1       0.92      1.00      0.96        12\n",
            "           2       0.78      0.88      0.82         8\n",
            "           3       1.00      0.90      0.95        10\n",
            "           4       1.00      0.77      0.87        13\n",
            "           5       1.00      1.00      1.00         7\n",
            "           6       1.00      1.00      1.00         8\n",
            "           7       0.93      0.93      0.93        14\n",
            "           8       1.00      0.50      0.67         2\n",
            "           9       0.82      1.00      0.90         9\n",
            "\n",
            "    accuracy                           0.92        91\n",
            "   macro avg       0.93      0.90      0.90        91\n",
            "weighted avg       0.93      0.92      0.92        91\n",
            "\n",
            "Time taken to evaluate KNN model on test portion: 76.79811453819275 seconds\n",
            "\n"
          ]
        },
        {
          "output_type": "stream",
          "name": "stderr",
          "text": [
            "/usr/local/lib/python3.9/dist-packages/sklearn/metrics/pairwise.py:2025: DataConversionWarning: Data was converted to boolean for metric jaccard\n",
            "  warnings.warn(msg, DataConversionWarning)\n"
          ]
        },
        {
          "output_type": "stream",
          "name": "stdout",
          "text": [
            "Time taken to fit KNN model: 0.008527040481567383 seconds\n",
            "              precision    recall  f1-score   support\n",
            "\n",
            "           0       1.00      1.00      1.00         8\n",
            "           1       1.00      1.00      1.00        12\n",
            "           2       0.73      1.00      0.84         8\n",
            "           3       1.00      0.90      0.95        10\n",
            "           4       1.00      0.85      0.92        13\n",
            "           5       1.00      1.00      1.00         7\n",
            "           6       1.00      1.00      1.00         8\n",
            "           7       1.00      0.86      0.92        14\n",
            "           8       1.00      0.50      0.67         2\n",
            "           9       0.75      1.00      0.86         9\n",
            "\n",
            "    accuracy                           0.93        91\n",
            "   macro avg       0.95      0.91      0.92        91\n",
            "weighted avg       0.95      0.93      0.94        91\n",
            "\n",
            "Time taken to evaluate KNN model on test portion: 76.83764553070068 seconds\n",
            "\n"
          ]
        },
        {
          "output_type": "stream",
          "name": "stderr",
          "text": [
            "/usr/local/lib/python3.9/dist-packages/sklearn/metrics/pairwise.py:2025: DataConversionWarning: Data was converted to boolean for metric jaccard\n",
            "  warnings.warn(msg, DataConversionWarning)\n"
          ]
        },
        {
          "output_type": "stream",
          "name": "stdout",
          "text": [
            "Time taken to fit KNN model: 0.008460521697998047 seconds\n",
            "              precision    recall  f1-score   support\n",
            "\n",
            "           0       1.00      1.00      1.00         8\n",
            "           1       1.00      1.00      1.00        12\n",
            "           2       0.78      0.88      0.82         8\n",
            "           3       0.90      0.90      0.90        10\n",
            "           4       1.00      0.85      0.92        13\n",
            "           5       1.00      0.71      0.83         7\n",
            "           6       1.00      1.00      1.00         8\n",
            "           7       0.93      1.00      0.97        14\n",
            "           8       0.67      1.00      0.80         2\n",
            "           9       0.80      0.89      0.84         9\n",
            "\n",
            "    accuracy                           0.92        91\n",
            "   macro avg       0.91      0.92      0.91        91\n",
            "weighted avg       0.93      0.92      0.92        91\n",
            "\n",
            "Time taken to evaluate KNN model on test portion: 75.00802397727966 seconds\n",
            "\n"
          ]
        },
        {
          "output_type": "stream",
          "name": "stderr",
          "text": [
            "/usr/local/lib/python3.9/dist-packages/sklearn/metrics/pairwise.py:2025: DataConversionWarning: Data was converted to boolean for metric jaccard\n",
            "  warnings.warn(msg, DataConversionWarning)\n"
          ]
        },
        {
          "output_type": "stream",
          "name": "stdout",
          "text": [
            "Time taken to fit KNN model: 0.008342981338500977 seconds\n",
            "              precision    recall  f1-score   support\n",
            "\n",
            "           0       1.00      1.00      1.00         8\n",
            "           1       1.00      1.00      1.00        12\n",
            "           2       1.00      1.00      1.00         8\n",
            "           3       1.00      1.00      1.00        10\n",
            "           4       1.00      1.00      1.00        13\n",
            "           5       1.00      1.00      1.00         7\n",
            "           6       1.00      1.00      1.00         8\n",
            "           7       0.93      0.93      0.93        14\n",
            "           8       1.00      1.00      1.00         2\n",
            "           9       0.89      0.89      0.89         9\n",
            "\n",
            "    accuracy                           0.98        91\n",
            "   macro avg       0.98      0.98      0.98        91\n",
            "weighted avg       0.98      0.98      0.98        91\n",
            "\n",
            "Time taken to evaluate KNN model on test portion: 77.11444306373596 seconds\n",
            "\n"
          ]
        }
      ],
      "source": [
        "LSH_KNN(1,3,tr_images,tr_labels,te_images,te_labels,90,40,0.8)\n",
        "LSH_KNN(2,3,tr_images,tr_labels,te_images,te_labels,90,40,0.8)\n",
        "LSH_KNN(3,3,tr_images,tr_labels,te_images,te_labels,90,40,0.8)\n",
        "LSH_KNN(4,3,tr_images,tr_labels,te_images,te_labels,90,40,0.8)\n",
        "LSH_KNN(5,3,tr_images,tr_labels,te_images,te_labels,90,40,0.8)"
      ]
    },
    {
      "cell_type": "code",
      "source": [
        "LSH_KNN(1,3,tr_images,tr_labels,te_images,te_labels,90,40,0.9)\n",
        "LSH_KNN(2,3,tr_images,tr_labels,te_images,te_labels,90,40,0.9)\n",
        "LSH_KNN(3,3,tr_images,tr_labels,te_images,te_labels,90,40,0.9)\n",
        "LSH_KNN(4,3,tr_images,tr_labels,te_images,te_labels,90,40,0.9)\n",
        "LSH_KNN(5,3,tr_images,tr_labels,te_images,te_labels,90,40,0.9)"
      ],
      "metadata": {
        "colab": {
          "base_uri": "https://localhost:8080/"
        },
        "id": "7vkUsM8E30g_",
        "outputId": "84eee284-fe50-4d10-c481-823e902c5732"
      },
      "execution_count": 36,
      "outputs": [
        {
          "output_type": "stream",
          "name": "stderr",
          "text": [
            "/usr/local/lib/python3.9/dist-packages/sklearn/metrics/pairwise.py:2025: DataConversionWarning: Data was converted to boolean for metric jaccard\n",
            "  warnings.warn(msg, DataConversionWarning)\n"
          ]
        },
        {
          "output_type": "stream",
          "name": "stdout",
          "text": [
            "Time taken to fit KNN model: 0.008326292037963867 seconds\n",
            "              precision    recall  f1-score   support\n",
            "\n",
            "           0       0.89      1.00      0.94         8\n",
            "           1       1.00      1.00      1.00        12\n",
            "           2       1.00      1.00      1.00         8\n",
            "           3       0.91      1.00      0.95        10\n",
            "           4       0.92      0.85      0.88        13\n",
            "           5       0.86      0.86      0.86         7\n",
            "           6       0.88      0.88      0.88         8\n",
            "           7       1.00      0.93      0.96        14\n",
            "           8       1.00      0.50      0.67         2\n",
            "           9       0.80      0.89      0.84         9\n",
            "\n",
            "    accuracy                           0.92        91\n",
            "   macro avg       0.92      0.89      0.90        91\n",
            "weighted avg       0.93      0.92      0.92        91\n",
            "\n",
            "Time taken to evaluate KNN model on test portion: 75.53918027877808 seconds\n",
            "\n"
          ]
        },
        {
          "output_type": "stream",
          "name": "stderr",
          "text": [
            "/usr/local/lib/python3.9/dist-packages/sklearn/metrics/pairwise.py:2025: DataConversionWarning: Data was converted to boolean for metric jaccard\n",
            "  warnings.warn(msg, DataConversionWarning)\n"
          ]
        },
        {
          "output_type": "stream",
          "name": "stdout",
          "text": [
            "Time taken to fit KNN model: 0.008266210556030273 seconds\n",
            "              precision    recall  f1-score   support\n",
            "\n",
            "           0       0.80      1.00      0.89         8\n",
            "           1       1.00      1.00      1.00        12\n",
            "           2       1.00      1.00      1.00         8\n",
            "           3       0.89      0.80      0.84        10\n",
            "           4       1.00      0.92      0.96        13\n",
            "           5       0.86      0.86      0.86         7\n",
            "           6       1.00      1.00      1.00         8\n",
            "           7       0.88      1.00      0.93        14\n",
            "           8       1.00      1.00      1.00         2\n",
            "           9       1.00      0.78      0.88         9\n",
            "\n",
            "    accuracy                           0.93        91\n",
            "   macro avg       0.94      0.94      0.94        91\n",
            "weighted avg       0.94      0.93      0.93        91\n",
            "\n",
            "Time taken to evaluate KNN model on test portion: 77.4188826084137 seconds\n",
            "\n"
          ]
        },
        {
          "output_type": "stream",
          "name": "stderr",
          "text": [
            "/usr/local/lib/python3.9/dist-packages/sklearn/metrics/pairwise.py:2025: DataConversionWarning: Data was converted to boolean for metric jaccard\n",
            "  warnings.warn(msg, DataConversionWarning)\n"
          ]
        },
        {
          "output_type": "stream",
          "name": "stdout",
          "text": [
            "Time taken to fit KNN model: 0.010015010833740234 seconds\n",
            "              precision    recall  f1-score   support\n",
            "\n",
            "           0       1.00      1.00      1.00         8\n",
            "           1       1.00      1.00      1.00        12\n",
            "           2       1.00      1.00      1.00         8\n",
            "           3       1.00      1.00      1.00        10\n",
            "           4       0.91      0.77      0.83        13\n",
            "           5       1.00      0.86      0.92         7\n",
            "           6       1.00      1.00      1.00         8\n",
            "           7       0.93      1.00      0.97        14\n",
            "           8       1.00      1.00      1.00         2\n",
            "           9       0.73      0.89      0.80         9\n",
            "\n",
            "    accuracy                           0.95        91\n",
            "   macro avg       0.96      0.95      0.95        91\n",
            "weighted avg       0.95      0.95      0.95        91\n",
            "\n",
            "Time taken to evaluate KNN model on test portion: 75.4321939945221 seconds\n",
            "\n"
          ]
        },
        {
          "output_type": "stream",
          "name": "stderr",
          "text": [
            "/usr/local/lib/python3.9/dist-packages/sklearn/metrics/pairwise.py:2025: DataConversionWarning: Data was converted to boolean for metric jaccard\n",
            "  warnings.warn(msg, DataConversionWarning)\n"
          ]
        },
        {
          "output_type": "stream",
          "name": "stdout",
          "text": [
            "Time taken to fit KNN model: 0.0070078372955322266 seconds\n",
            "              precision    recall  f1-score   support\n",
            "\n",
            "           0       1.00      1.00      1.00         8\n",
            "           1       1.00      1.00      1.00        12\n",
            "           2       0.89      1.00      0.94         8\n",
            "           3       1.00      1.00      1.00        10\n",
            "           4       0.90      0.69      0.78        13\n",
            "           5       1.00      0.86      0.92         7\n",
            "           6       0.89      1.00      0.94         8\n",
            "           7       0.93      1.00      0.97        14\n",
            "           8       1.00      0.50      0.67         2\n",
            "           9       0.64      0.78      0.70         9\n",
            "\n",
            "    accuracy                           0.91        91\n",
            "   macro avg       0.92      0.88      0.89        91\n",
            "weighted avg       0.92      0.91      0.91        91\n",
            "\n",
            "Time taken to evaluate KNN model on test portion: 76.58163452148438 seconds\n",
            "\n"
          ]
        },
        {
          "output_type": "stream",
          "name": "stderr",
          "text": [
            "/usr/local/lib/python3.9/dist-packages/sklearn/metrics/pairwise.py:2025: DataConversionWarning: Data was converted to boolean for metric jaccard\n",
            "  warnings.warn(msg, DataConversionWarning)\n"
          ]
        },
        {
          "output_type": "stream",
          "name": "stdout",
          "text": [
            "Time taken to fit KNN model: 0.009661436080932617 seconds\n",
            "              precision    recall  f1-score   support\n",
            "\n",
            "           0       1.00      1.00      1.00         8\n",
            "           1       1.00      1.00      1.00        12\n",
            "           2       0.80      1.00      0.89         8\n",
            "           3       1.00      0.80      0.89        10\n",
            "           4       1.00      0.85      0.92        13\n",
            "           5       1.00      1.00      1.00         7\n",
            "           6       0.89      1.00      0.94         8\n",
            "           7       0.93      0.93      0.93        14\n",
            "           8       1.00      0.50      0.67         2\n",
            "           9       0.73      0.89      0.80         9\n",
            "\n",
            "    accuracy                           0.92        91\n",
            "   macro avg       0.93      0.90      0.90        91\n",
            "weighted avg       0.93      0.92      0.92        91\n",
            "\n",
            "Time taken to evaluate KNN model on test portion: 75.72686862945557 seconds\n",
            "\n"
          ]
        }
      ]
    },
    {
      "cell_type": "code",
      "source": [
        "LSH_KNN(1,3,tr_images,tr_labels,te_images,te_labels,90,60,0.8)\n",
        "LSH_KNN(2,3,tr_images,tr_labels,te_images,te_labels,90,60,0.8)\n",
        "LSH_KNN(3,3,tr_images,tr_labels,te_images,te_labels,90,60,0.8)\n",
        "LSH_KNN(4,3,tr_images,tr_labels,te_images,te_labels,90,60,0.8)\n",
        "LSH_KNN(5,3,tr_images,tr_labels,te_images,te_labels,90,60,0.8)"
      ],
      "metadata": {
        "colab": {
          "base_uri": "https://localhost:8080/"
        },
        "id": "B34DnUVp30g_",
        "outputId": "9b586960-f4c4-4843-b6ad-1e525966f72c"
      },
      "execution_count": 37,
      "outputs": [
        {
          "output_type": "stream",
          "name": "stderr",
          "text": [
            "/usr/local/lib/python3.9/dist-packages/sklearn/metrics/pairwise.py:2025: DataConversionWarning: Data was converted to boolean for metric jaccard\n",
            "  warnings.warn(msg, DataConversionWarning)\n"
          ]
        },
        {
          "output_type": "stream",
          "name": "stdout",
          "text": [
            "Time taken to fit KNN model: 0.00864410400390625 seconds\n",
            "              precision    recall  f1-score   support\n",
            "\n",
            "           0       0.80      1.00      0.89         8\n",
            "           1       1.00      1.00      1.00        12\n",
            "           2       0.80      1.00      0.89         8\n",
            "           3       1.00      0.70      0.82        10\n",
            "           4       1.00      0.85      0.92        13\n",
            "           5       0.88      1.00      0.93         7\n",
            "           6       1.00      1.00      1.00         8\n",
            "           7       0.93      1.00      0.97        14\n",
            "           8       1.00      0.50      0.67         2\n",
            "           9       0.89      0.89      0.89         9\n",
            "\n",
            "    accuracy                           0.92        91\n",
            "   macro avg       0.93      0.89      0.90        91\n",
            "weighted avg       0.93      0.92      0.92        91\n",
            "\n",
            "Time taken to evaluate KNN model on test portion: 75.26719737052917 seconds\n",
            "\n"
          ]
        },
        {
          "output_type": "stream",
          "name": "stderr",
          "text": [
            "/usr/local/lib/python3.9/dist-packages/sklearn/metrics/pairwise.py:2025: DataConversionWarning: Data was converted to boolean for metric jaccard\n",
            "  warnings.warn(msg, DataConversionWarning)\n"
          ]
        },
        {
          "output_type": "stream",
          "name": "stdout",
          "text": [
            "Time taken to fit KNN model: 0.010889530181884766 seconds\n",
            "              precision    recall  f1-score   support\n",
            "\n",
            "           0       1.00      1.00      1.00         8\n",
            "           1       1.00      1.00      1.00        12\n",
            "           2       0.80      1.00      0.89         8\n",
            "           3       0.90      0.90      0.90        10\n",
            "           4       1.00      1.00      1.00        13\n",
            "           5       1.00      0.86      0.92         7\n",
            "           6       1.00      1.00      1.00         8\n",
            "           7       1.00      0.93      0.96        14\n",
            "           8       1.00      1.00      1.00         2\n",
            "           9       1.00      1.00      1.00         9\n",
            "\n",
            "    accuracy                           0.97        91\n",
            "   macro avg       0.97      0.97      0.97        91\n",
            "weighted avg       0.97      0.97      0.97        91\n",
            "\n",
            "Time taken to evaluate KNN model on test portion: 77.44342470169067 seconds\n",
            "\n"
          ]
        },
        {
          "output_type": "stream",
          "name": "stderr",
          "text": [
            "/usr/local/lib/python3.9/dist-packages/sklearn/metrics/pairwise.py:2025: DataConversionWarning: Data was converted to boolean for metric jaccard\n",
            "  warnings.warn(msg, DataConversionWarning)\n"
          ]
        },
        {
          "output_type": "stream",
          "name": "stdout",
          "text": [
            "Time taken to fit KNN model: 0.013187646865844727 seconds\n",
            "              precision    recall  f1-score   support\n",
            "\n",
            "           0       1.00      1.00      1.00         8\n",
            "           1       1.00      1.00      1.00        12\n",
            "           2       0.89      1.00      0.94         8\n",
            "           3       1.00      1.00      1.00        10\n",
            "           4       1.00      0.85      0.92        13\n",
            "           5       1.00      1.00      1.00         7\n",
            "           6       0.89      1.00      0.94         8\n",
            "           7       0.93      1.00      0.97        14\n",
            "           8       1.00      0.50      0.67         2\n",
            "           9       0.89      0.89      0.89         9\n",
            "\n",
            "    accuracy                           0.96        91\n",
            "   macro avg       0.96      0.92      0.93        91\n",
            "weighted avg       0.96      0.96      0.95        91\n",
            "\n",
            "Time taken to evaluate KNN model on test portion: 77.3489761352539 seconds\n",
            "\n"
          ]
        },
        {
          "output_type": "stream",
          "name": "stderr",
          "text": [
            "/usr/local/lib/python3.9/dist-packages/sklearn/metrics/pairwise.py:2025: DataConversionWarning: Data was converted to boolean for metric jaccard\n",
            "  warnings.warn(msg, DataConversionWarning)\n"
          ]
        },
        {
          "output_type": "stream",
          "name": "stdout",
          "text": [
            "Time taken to fit KNN model: 0.009006500244140625 seconds\n",
            "              precision    recall  f1-score   support\n",
            "\n",
            "           0       1.00      1.00      1.00         8\n",
            "           1       1.00      1.00      1.00        12\n",
            "           2       1.00      1.00      1.00         8\n",
            "           3       0.90      0.90      0.90        10\n",
            "           4       1.00      1.00      1.00        13\n",
            "           5       0.83      0.71      0.77         7\n",
            "           6       0.89      1.00      0.94         8\n",
            "           7       1.00      1.00      1.00        14\n",
            "           8       1.00      1.00      1.00         2\n",
            "           9       1.00      1.00      1.00         9\n",
            "\n",
            "    accuracy                           0.97        91\n",
            "   macro avg       0.96      0.96      0.96        91\n",
            "weighted avg       0.97      0.97      0.97        91\n",
            "\n",
            "Time taken to evaluate KNN model on test portion: 75.2674560546875 seconds\n",
            "\n"
          ]
        },
        {
          "output_type": "stream",
          "name": "stderr",
          "text": [
            "/usr/local/lib/python3.9/dist-packages/sklearn/metrics/pairwise.py:2025: DataConversionWarning: Data was converted to boolean for metric jaccard\n",
            "  warnings.warn(msg, DataConversionWarning)\n"
          ]
        },
        {
          "output_type": "stream",
          "name": "stdout",
          "text": [
            "Time taken to fit KNN model: 0.010405302047729492 seconds\n",
            "              precision    recall  f1-score   support\n",
            "\n",
            "           0       0.89      1.00      0.94         8\n",
            "           1       0.92      1.00      0.96        12\n",
            "           2       1.00      1.00      1.00         8\n",
            "           3       1.00      0.90      0.95        10\n",
            "           4       1.00      0.77      0.87        13\n",
            "           5       1.00      1.00      1.00         7\n",
            "           6       0.89      1.00      0.94         8\n",
            "           7       0.93      0.93      0.93        14\n",
            "           8       0.50      0.50      0.50         2\n",
            "           9       0.70      0.78      0.74         9\n",
            "\n",
            "    accuracy                           0.91        91\n",
            "   macro avg       0.88      0.89      0.88        91\n",
            "weighted avg       0.92      0.91      0.91        91\n",
            "\n",
            "Time taken to evaluate KNN model on test portion: 78.44126391410828 seconds\n",
            "\n"
          ]
        }
      ]
    },
    {
      "cell_type": "code",
      "source": [
        "LSH_KNN(1,3,tr_images,tr_labels,te_images,te_labels,90,60,0.9)\n",
        "LSH_KNN(2,3,tr_images,tr_labels,te_images,te_labels,90,60,0.9)\n",
        "LSH_KNN(3,3,tr_images,tr_labels,te_images,te_labels,90,60,0.9)\n",
        "LSH_KNN(4,3,tr_images,tr_labels,te_images,te_labels,90,60,0.9)\n",
        "LSH_KNN(5,3,tr_images,tr_labels,te_images,te_labels,90,60,0.9)"
      ],
      "metadata": {
        "colab": {
          "base_uri": "https://localhost:8080/"
        },
        "id": "7xwK-DNY30g_",
        "outputId": "b97eb47a-7b59-4e19-a515-d32f553e93cf"
      },
      "execution_count": 38,
      "outputs": [
        {
          "output_type": "stream",
          "name": "stderr",
          "text": [
            "/usr/local/lib/python3.9/dist-packages/sklearn/metrics/pairwise.py:2025: DataConversionWarning: Data was converted to boolean for metric jaccard\n",
            "  warnings.warn(msg, DataConversionWarning)\n"
          ]
        },
        {
          "output_type": "stream",
          "name": "stdout",
          "text": [
            "Time taken to fit KNN model: 0.013262033462524414 seconds\n",
            "              precision    recall  f1-score   support\n",
            "\n",
            "           0       1.00      1.00      1.00         8\n",
            "           1       1.00      1.00      1.00        12\n",
            "           2       1.00      1.00      1.00         8\n",
            "           3       1.00      0.90      0.95        10\n",
            "           4       1.00      1.00      1.00        13\n",
            "           5       1.00      1.00      1.00         7\n",
            "           6       1.00      1.00      1.00         8\n",
            "           7       1.00      1.00      1.00        14\n",
            "           8       0.67      1.00      0.80         2\n",
            "           9       1.00      1.00      1.00         9\n",
            "\n",
            "    accuracy                           0.99        91\n",
            "   macro avg       0.97      0.99      0.97        91\n",
            "weighted avg       0.99      0.99      0.99        91\n",
            "\n",
            "Time taken to evaluate KNN model on test portion: 76.35568594932556 seconds\n",
            "\n"
          ]
        },
        {
          "output_type": "stream",
          "name": "stderr",
          "text": [
            "/usr/local/lib/python3.9/dist-packages/sklearn/metrics/pairwise.py:2025: DataConversionWarning: Data was converted to boolean for metric jaccard\n",
            "  warnings.warn(msg, DataConversionWarning)\n"
          ]
        },
        {
          "output_type": "stream",
          "name": "stdout",
          "text": [
            "Time taken to fit KNN model: 0.010584354400634766 seconds\n",
            "              precision    recall  f1-score   support\n",
            "\n",
            "           0       1.00      1.00      1.00         8\n",
            "           1       1.00      1.00      1.00        12\n",
            "           2       1.00      1.00      1.00         8\n",
            "           3       0.89      0.80      0.84        10\n",
            "           4       0.86      0.92      0.89        13\n",
            "           5       0.83      0.71      0.77         7\n",
            "           6       1.00      1.00      1.00         8\n",
            "           7       0.93      1.00      0.97        14\n",
            "           8       0.50      1.00      0.67         2\n",
            "           9       0.86      0.67      0.75         9\n",
            "\n",
            "    accuracy                           0.91        91\n",
            "   macro avg       0.89      0.91      0.89        91\n",
            "weighted avg       0.92      0.91      0.91        91\n",
            "\n",
            "Time taken to evaluate KNN model on test portion: 76.40368413925171 seconds\n",
            "\n"
          ]
        },
        {
          "output_type": "stream",
          "name": "stderr",
          "text": [
            "/usr/local/lib/python3.9/dist-packages/sklearn/metrics/pairwise.py:2025: DataConversionWarning: Data was converted to boolean for metric jaccard\n",
            "  warnings.warn(msg, DataConversionWarning)\n"
          ]
        },
        {
          "output_type": "stream",
          "name": "stdout",
          "text": [
            "Time taken to fit KNN model: 0.010660886764526367 seconds\n",
            "              precision    recall  f1-score   support\n",
            "\n",
            "           0       1.00      1.00      1.00         8\n",
            "           1       1.00      1.00      1.00        12\n",
            "           2       0.89      1.00      0.94         8\n",
            "           3       1.00      0.90      0.95        10\n",
            "           4       1.00      0.85      0.92        13\n",
            "           5       1.00      1.00      1.00         7\n",
            "           6       1.00      1.00      1.00         8\n",
            "           7       1.00      1.00      1.00        14\n",
            "           8       1.00      1.00      1.00         2\n",
            "           9       0.82      1.00      0.90         9\n",
            "\n",
            "    accuracy                           0.97        91\n",
            "   macro avg       0.97      0.97      0.97        91\n",
            "weighted avg       0.97      0.97      0.97        91\n",
            "\n",
            "Time taken to evaluate KNN model on test portion: 77.39124321937561 seconds\n",
            "\n"
          ]
        },
        {
          "output_type": "stream",
          "name": "stderr",
          "text": [
            "/usr/local/lib/python3.9/dist-packages/sklearn/metrics/pairwise.py:2025: DataConversionWarning: Data was converted to boolean for metric jaccard\n",
            "  warnings.warn(msg, DataConversionWarning)\n"
          ]
        },
        {
          "output_type": "stream",
          "name": "stdout",
          "text": [
            "Time taken to fit KNN model: 0.009119510650634766 seconds\n",
            "              precision    recall  f1-score   support\n",
            "\n",
            "           0       1.00      1.00      1.00         8\n",
            "           1       1.00      1.00      1.00        12\n",
            "           2       0.89      1.00      0.94         8\n",
            "           3       1.00      0.90      0.95        10\n",
            "           4       0.92      0.92      0.92        13\n",
            "           5       1.00      0.86      0.92         7\n",
            "           6       1.00      1.00      1.00         8\n",
            "           7       1.00      0.93      0.96        14\n",
            "           8       1.00      1.00      1.00         2\n",
            "           9       0.82      1.00      0.90         9\n",
            "\n",
            "    accuracy                           0.96        91\n",
            "   macro avg       0.96      0.96      0.96        91\n",
            "weighted avg       0.96      0.96      0.96        91\n",
            "\n",
            "Time taken to evaluate KNN model on test portion: 78.17997074127197 seconds\n",
            "\n"
          ]
        },
        {
          "output_type": "stream",
          "name": "stderr",
          "text": [
            "/usr/local/lib/python3.9/dist-packages/sklearn/metrics/pairwise.py:2025: DataConversionWarning: Data was converted to boolean for metric jaccard\n",
            "  warnings.warn(msg, DataConversionWarning)\n"
          ]
        },
        {
          "output_type": "stream",
          "name": "stdout",
          "text": [
            "Time taken to fit KNN model: 0.012791872024536133 seconds\n",
            "              precision    recall  f1-score   support\n",
            "\n",
            "           0       1.00      1.00      1.00         8\n",
            "           1       1.00      1.00      1.00        12\n",
            "           2       1.00      1.00      1.00         8\n",
            "           3       1.00      1.00      1.00        10\n",
            "           4       1.00      0.92      0.96        13\n",
            "           5       1.00      1.00      1.00         7\n",
            "           6       0.89      1.00      0.94         8\n",
            "           7       1.00      0.93      0.96        14\n",
            "           8       1.00      1.00      1.00         2\n",
            "           9       0.90      1.00      0.95         9\n",
            "\n",
            "    accuracy                           0.98        91\n",
            "   macro avg       0.98      0.99      0.98        91\n",
            "weighted avg       0.98      0.98      0.98        91\n",
            "\n",
            "Time taken to evaluate KNN model on test portion: 76.60565996170044 seconds\n",
            "\n"
          ]
        }
      ]
    },
    {
      "cell_type": "markdown",
      "metadata": {
        "id": "OSHnTwxCnLuX"
      },
      "source": [
        "### Memory related information for imgs=10"
      ]
    },
    {
      "cell_type": "code",
      "execution_count": 30,
      "metadata": {
        "colab": {
          "base_uri": "https://localhost:8080/"
        },
        "id": "jKgpipfFnLuc",
        "outputId": "bec3928f-c2b9-4645-b9d5-f29f5efd2f09"
      },
      "outputs": [
        {
          "output_type": "stream",
          "name": "stderr",
          "text": [
            "/usr/local/lib/python3.9/dist-packages/sklearn/metrics/pairwise.py:2025: DataConversionWarning: Data was converted to boolean for metric jaccard\n",
            "  warnings.warn(msg, DataConversionWarning)\n"
          ]
        },
        {
          "output_type": "stream",
          "name": "stdout",
          "text": [
            "Peak memory usage during fit function: 9426.88 MiB\n",
            "Peak memory usage during predict function: 9428.73 MiB\n",
            "L1 cache size: 32.00 KiB\n",
            "L2 cache size: 256.00 KiB\n",
            "Memory usage of KNN object and its attributes: 0.00 MiB\n",
            "Resident memory usage of Python process: 9427.24 MiB\n",
            "Virtual memory usage of Python process: 10598.03 MiB\n",
            "CPU usage of Python process: 0.00%\n",
            "Number of threads of Python process: 16\n",
            "Number of open file descriptors of Python process: 51\n",
            " \n"
          ]
        },
        {
          "output_type": "stream",
          "name": "stderr",
          "text": [
            "/usr/local/lib/python3.9/dist-packages/sklearn/metrics/pairwise.py:2025: DataConversionWarning: Data was converted to boolean for metric jaccard\n",
            "  warnings.warn(msg, DataConversionWarning)\n"
          ]
        },
        {
          "output_type": "stream",
          "name": "stdout",
          "text": [
            "Peak memory usage during fit function: 9427.24 MiB\n",
            "Peak memory usage during predict function: 9428.75 MiB\n",
            "L1 cache size: 32.00 KiB\n",
            "L2 cache size: 256.00 KiB\n",
            "Memory usage of KNN object and its attributes: 0.00 MiB\n",
            "Resident memory usage of Python process: 9427.50 MiB\n",
            "Virtual memory usage of Python process: 10598.28 MiB\n",
            "CPU usage of Python process: 0.00%\n",
            "Number of threads of Python process: 16\n",
            "Number of open file descriptors of Python process: 51\n",
            " \n"
          ]
        },
        {
          "output_type": "stream",
          "name": "stderr",
          "text": [
            "/usr/local/lib/python3.9/dist-packages/sklearn/metrics/pairwise.py:2025: DataConversionWarning: Data was converted to boolean for metric jaccard\n",
            "  warnings.warn(msg, DataConversionWarning)\n"
          ]
        },
        {
          "output_type": "stream",
          "name": "stdout",
          "text": [
            "Peak memory usage during fit function: 9427.50 MiB\n",
            "Peak memory usage during predict function: 9434.73 MiB\n",
            "L1 cache size: 32.00 KiB\n",
            "L2 cache size: 256.00 KiB\n",
            "Memory usage of KNN object and its attributes: 0.00 MiB\n",
            "Resident memory usage of Python process: 9434.73 MiB\n",
            "Virtual memory usage of Python process: 10605.51 MiB\n",
            "CPU usage of Python process: 0.00%\n",
            "Number of threads of Python process: 16\n",
            "Number of open file descriptors of Python process: 51\n",
            " \n"
          ]
        },
        {
          "output_type": "stream",
          "name": "stderr",
          "text": [
            "/usr/local/lib/python3.9/dist-packages/sklearn/metrics/pairwise.py:2025: DataConversionWarning: Data was converted to boolean for metric jaccard\n",
            "  warnings.warn(msg, DataConversionWarning)\n"
          ]
        },
        {
          "output_type": "stream",
          "name": "stdout",
          "text": [
            "Peak memory usage during fit function: 9434.73 MiB\n",
            "Peak memory usage during predict function: 9435.75 MiB\n",
            "L1 cache size: 32.00 KiB\n",
            "L2 cache size: 256.00 KiB\n",
            "Memory usage of KNN object and its attributes: 0.00 MiB\n",
            "Resident memory usage of Python process: 9435.00 MiB\n",
            "Virtual memory usage of Python process: 10605.76 MiB\n",
            "CPU usage of Python process: 0.00%\n",
            "Number of threads of Python process: 16\n",
            "Number of open file descriptors of Python process: 51\n",
            " \n"
          ]
        }
      ],
      "source": [
        "LSH_Information(1,3,tr_images,tr_labels,te_images,te_labels,10,40,0.8)\n",
        "print(\" \")\n",
        "LSH_Information(1,3,tr_images,tr_labels,te_images,te_labels,10,40,0.9)\n",
        "print(\" \")\n",
        "LSH_Information(1,3,tr_images,tr_labels,te_images,te_labels,10,60,0.8)\n",
        "print(\" \")\n",
        "LSH_Information(1,3,tr_images,tr_labels,te_images,te_labels,10,60,0.9)\n",
        "print(\" \")"
      ]
    },
    {
      "cell_type": "code",
      "execution_count": 31,
      "metadata": {
        "colab": {
          "base_uri": "https://localhost:8080/"
        },
        "id": "7Yilxea_nLud",
        "outputId": "15f58eea-dd1a-49bb-e9c6-b425cd08d5ec"
      },
      "outputs": [
        {
          "output_type": "stream",
          "name": "stderr",
          "text": [
            "/usr/local/lib/python3.9/dist-packages/sklearn/metrics/pairwise.py:2025: DataConversionWarning: Data was converted to boolean for metric jaccard\n",
            "  warnings.warn(msg, DataConversionWarning)\n"
          ]
        },
        {
          "output_type": "stream",
          "name": "stdout",
          "text": [
            "Peak memory usage during fit function: 9435.00 MiB\n",
            "Peak memory usage during predict function: 9435.73 MiB\n",
            "L1 cache size: 32.00 KiB\n",
            "L2 cache size: 256.00 KiB\n",
            "Memory usage of KNN object and its attributes: 0.00 MiB\n",
            "Resident memory usage of Python process: 9434.98 MiB\n",
            "Virtual memory usage of Python process: 10605.76 MiB\n",
            "CPU usage of Python process: 0.00%\n",
            "Number of threads of Python process: 16\n",
            "Number of open file descriptors of Python process: 51\n",
            " \n"
          ]
        },
        {
          "output_type": "stream",
          "name": "stderr",
          "text": [
            "/usr/local/lib/python3.9/dist-packages/sklearn/metrics/pairwise.py:2025: DataConversionWarning: Data was converted to boolean for metric jaccard\n",
            "  warnings.warn(msg, DataConversionWarning)\n"
          ]
        },
        {
          "output_type": "stream",
          "name": "stdout",
          "text": [
            "Peak memory usage during fit function: 9435.01 MiB\n",
            "Peak memory usage during predict function: 9435.73 MiB\n",
            "L1 cache size: 32.00 KiB\n",
            "L2 cache size: 256.00 KiB\n",
            "Memory usage of KNN object and its attributes: 0.00 MiB\n",
            "Resident memory usage of Python process: 9435.23 MiB\n",
            "Virtual memory usage of Python process: 10606.01 MiB\n",
            "CPU usage of Python process: 0.00%\n",
            "Number of threads of Python process: 16\n",
            "Number of open file descriptors of Python process: 51\n",
            " \n"
          ]
        },
        {
          "output_type": "stream",
          "name": "stderr",
          "text": [
            "/usr/local/lib/python3.9/dist-packages/sklearn/metrics/pairwise.py:2025: DataConversionWarning: Data was converted to boolean for metric jaccard\n",
            "  warnings.warn(msg, DataConversionWarning)\n"
          ]
        },
        {
          "output_type": "stream",
          "name": "stdout",
          "text": [
            "Peak memory usage during fit function: 9435.27 MiB\n",
            "Peak memory usage during predict function: 9435.78 MiB\n",
            "L1 cache size: 32.00 KiB\n",
            "L2 cache size: 256.00 KiB\n",
            "Memory usage of KNN object and its attributes: 0.00 MiB\n",
            "Resident memory usage of Python process: 9435.53 MiB\n",
            "Virtual memory usage of Python process: 10606.26 MiB\n",
            "CPU usage of Python process: 0.00%\n",
            "Number of threads of Python process: 16\n",
            "Number of open file descriptors of Python process: 51\n",
            " \n"
          ]
        },
        {
          "output_type": "stream",
          "name": "stderr",
          "text": [
            "/usr/local/lib/python3.9/dist-packages/sklearn/metrics/pairwise.py:2025: DataConversionWarning: Data was converted to boolean for metric jaccard\n",
            "  warnings.warn(msg, DataConversionWarning)\n"
          ]
        },
        {
          "output_type": "stream",
          "name": "stdout",
          "text": [
            "Peak memory usage during fit function: 9435.53 MiB\n",
            "Peak memory usage during predict function: 9435.75 MiB\n",
            "L1 cache size: 32.00 KiB\n",
            "L2 cache size: 256.00 KiB\n",
            "Memory usage of KNN object and its attributes: 0.00 MiB\n",
            "Resident memory usage of Python process: 9435.80 MiB\n",
            "Virtual memory usage of Python process: 10606.51 MiB\n",
            "CPU usage of Python process: 0.00%\n",
            "Number of threads of Python process: 16\n",
            "Number of open file descriptors of Python process: 51\n",
            " \n"
          ]
        }
      ],
      "source": [
        "LSH_Information(2,3,tr_images,tr_labels,te_images,te_labels,10,40,0.8)\n",
        "print(\" \")\n",
        "LSH_Information(2,3,tr_images,tr_labels,te_images,te_labels,10,40,0.9)\n",
        "print(\" \")\n",
        "LSH_Information(2,3,tr_images,tr_labels,te_images,te_labels,10,60,0.8)\n",
        "print(\" \")\n",
        "LSH_Information(2,3,tr_images,tr_labels,te_images,te_labels,10,60,0.9)\n",
        "print(\" \")"
      ]
    },
    {
      "cell_type": "code",
      "execution_count": 32,
      "metadata": {
        "colab": {
          "base_uri": "https://localhost:8080/"
        },
        "id": "pPy7JincnLud",
        "outputId": "e0c6a979-eeff-45e5-f516-497627d2e652"
      },
      "outputs": [
        {
          "output_type": "stream",
          "name": "stderr",
          "text": [
            "/usr/local/lib/python3.9/dist-packages/sklearn/metrics/pairwise.py:2025: DataConversionWarning: Data was converted to boolean for metric jaccard\n",
            "  warnings.warn(msg, DataConversionWarning)\n"
          ]
        },
        {
          "output_type": "stream",
          "name": "stdout",
          "text": [
            "Peak memory usage during fit function: 9435.80 MiB\n",
            "Peak memory usage during predict function: 9435.80 MiB\n",
            "L1 cache size: 32.00 KiB\n",
            "L2 cache size: 256.00 KiB\n",
            "Memory usage of KNN object and its attributes: 0.00 MiB\n",
            "Resident memory usage of Python process: 9435.81 MiB\n",
            "Virtual memory usage of Python process: 10606.51 MiB\n",
            "CPU usage of Python process: 0.00%\n",
            "Number of threads of Python process: 16\n",
            "Number of open file descriptors of Python process: 51\n",
            " \n"
          ]
        },
        {
          "output_type": "stream",
          "name": "stderr",
          "text": [
            "/usr/local/lib/python3.9/dist-packages/sklearn/metrics/pairwise.py:2025: DataConversionWarning: Data was converted to boolean for metric jaccard\n",
            "  warnings.warn(msg, DataConversionWarning)\n"
          ]
        },
        {
          "output_type": "stream",
          "name": "stdout",
          "text": [
            "Peak memory usage during fit function: 9435.84 MiB\n",
            "Peak memory usage during predict function: 9435.95 MiB\n",
            "L1 cache size: 32.00 KiB\n",
            "L2 cache size: 256.00 KiB\n",
            "Memory usage of KNN object and its attributes: 0.00 MiB\n",
            "Resident memory usage of Python process: 9435.95 MiB\n",
            "Virtual memory usage of Python process: 10606.51 MiB\n",
            "CPU usage of Python process: 0.00%\n",
            "Number of threads of Python process: 16\n",
            "Number of open file descriptors of Python process: 51\n",
            " \n"
          ]
        },
        {
          "output_type": "stream",
          "name": "stderr",
          "text": [
            "/usr/local/lib/python3.9/dist-packages/sklearn/metrics/pairwise.py:2025: DataConversionWarning: Data was converted to boolean for metric jaccard\n",
            "  warnings.warn(msg, DataConversionWarning)\n"
          ]
        },
        {
          "output_type": "stream",
          "name": "stdout",
          "text": [
            "Peak memory usage during fit function: 9435.95 MiB\n",
            "Peak memory usage during predict function: 9435.95 MiB\n",
            "L1 cache size: 32.00 KiB\n",
            "L2 cache size: 256.00 KiB\n",
            "Memory usage of KNN object and its attributes: 0.00 MiB\n",
            "Resident memory usage of Python process: 9435.95 MiB\n",
            "Virtual memory usage of Python process: 10606.51 MiB\n",
            "CPU usage of Python process: 0.00%\n",
            "Number of threads of Python process: 16\n",
            "Number of open file descriptors of Python process: 51\n",
            " \n"
          ]
        },
        {
          "output_type": "stream",
          "name": "stderr",
          "text": [
            "/usr/local/lib/python3.9/dist-packages/sklearn/metrics/pairwise.py:2025: DataConversionWarning: Data was converted to boolean for metric jaccard\n",
            "  warnings.warn(msg, DataConversionWarning)\n"
          ]
        },
        {
          "output_type": "stream",
          "name": "stdout",
          "text": [
            "Peak memory usage during fit function: 9435.98 MiB\n",
            "Peak memory usage during predict function: 9435.98 MiB\n",
            "L1 cache size: 32.00 KiB\n",
            "L2 cache size: 256.00 KiB\n",
            "Memory usage of KNN object and its attributes: 0.00 MiB\n",
            "Resident memory usage of Python process: 9435.98 MiB\n",
            "Virtual memory usage of Python process: 10606.51 MiB\n",
            "CPU usage of Python process: 0.00%\n",
            "Number of threads of Python process: 16\n",
            "Number of open file descriptors of Python process: 51\n",
            " \n"
          ]
        }
      ],
      "source": [
        "LSH_Information(3,3,tr_images,tr_labels,te_images,te_labels,10,40,0.8)\n",
        "print(\" \")\n",
        "LSH_Information(3,3,tr_images,tr_labels,te_images,te_labels,10,40,0.9)\n",
        "print(\" \")\n",
        "LSH_Information(3,3,tr_images,tr_labels,te_images,te_labels,10,60,0.8)\n",
        "print(\" \")\n",
        "LSH_Information(3,3,tr_images,tr_labels,te_images,te_labels,10,60,0.9)\n",
        "print(\" \")"
      ]
    },
    {
      "cell_type": "code",
      "execution_count": 33,
      "metadata": {
        "colab": {
          "base_uri": "https://localhost:8080/"
        },
        "id": "BkjLLAGAnLud",
        "outputId": "3a8204e6-d3c2-4be8-8f04-c3717497f9f5"
      },
      "outputs": [
        {
          "output_type": "stream",
          "name": "stderr",
          "text": [
            "/usr/local/lib/python3.9/dist-packages/sklearn/metrics/pairwise.py:2025: DataConversionWarning: Data was converted to boolean for metric jaccard\n",
            "  warnings.warn(msg, DataConversionWarning)\n"
          ]
        },
        {
          "output_type": "stream",
          "name": "stdout",
          "text": [
            "Peak memory usage during fit function: 9435.98 MiB\n",
            "Peak memory usage during predict function: 9435.98 MiB\n",
            "L1 cache size: 32.00 KiB\n",
            "L2 cache size: 256.00 KiB\n",
            "Memory usage of KNN object and its attributes: 0.00 MiB\n",
            "Resident memory usage of Python process: 9435.98 MiB\n",
            "Virtual memory usage of Python process: 10606.51 MiB\n",
            "CPU usage of Python process: 0.00%\n",
            "Number of threads of Python process: 16\n",
            "Number of open file descriptors of Python process: 51\n",
            " \n"
          ]
        },
        {
          "output_type": "stream",
          "name": "stderr",
          "text": [
            "/usr/local/lib/python3.9/dist-packages/sklearn/metrics/pairwise.py:2025: DataConversionWarning: Data was converted to boolean for metric jaccard\n",
            "  warnings.warn(msg, DataConversionWarning)\n"
          ]
        },
        {
          "output_type": "stream",
          "name": "stdout",
          "text": [
            "Peak memory usage during fit function: 9435.98 MiB\n",
            "Peak memory usage during predict function: 9435.98 MiB\n",
            "L1 cache size: 32.00 KiB\n",
            "L2 cache size: 256.00 KiB\n",
            "Memory usage of KNN object and its attributes: 0.00 MiB\n",
            "Resident memory usage of Python process: 9435.98 MiB\n",
            "Virtual memory usage of Python process: 10606.51 MiB\n",
            "CPU usage of Python process: 0.00%\n",
            "Number of threads of Python process: 16\n",
            "Number of open file descriptors of Python process: 51\n",
            " \n"
          ]
        },
        {
          "output_type": "stream",
          "name": "stderr",
          "text": [
            "/usr/local/lib/python3.9/dist-packages/sklearn/metrics/pairwise.py:2025: DataConversionWarning: Data was converted to boolean for metric jaccard\n",
            "  warnings.warn(msg, DataConversionWarning)\n"
          ]
        },
        {
          "output_type": "stream",
          "name": "stdout",
          "text": [
            "Peak memory usage during fit function: 9435.98 MiB\n",
            "Peak memory usage during predict function: 9436.02 MiB\n",
            "L1 cache size: 32.00 KiB\n",
            "L2 cache size: 256.00 KiB\n",
            "Memory usage of KNN object and its attributes: 0.00 MiB\n",
            "Resident memory usage of Python process: 9436.02 MiB\n",
            "Virtual memory usage of Python process: 10606.51 MiB\n",
            "CPU usage of Python process: 0.00%\n",
            "Number of threads of Python process: 16\n",
            "Number of open file descriptors of Python process: 51\n",
            " \n"
          ]
        },
        {
          "output_type": "stream",
          "name": "stderr",
          "text": [
            "/usr/local/lib/python3.9/dist-packages/sklearn/metrics/pairwise.py:2025: DataConversionWarning: Data was converted to boolean for metric jaccard\n",
            "  warnings.warn(msg, DataConversionWarning)\n"
          ]
        },
        {
          "output_type": "stream",
          "name": "stdout",
          "text": [
            "Peak memory usage during fit function: 9436.02 MiB\n",
            "Peak memory usage during predict function: 9436.02 MiB\n",
            "L1 cache size: 32.00 KiB\n",
            "L2 cache size: 256.00 KiB\n",
            "Memory usage of KNN object and its attributes: 0.00 MiB\n",
            "Resident memory usage of Python process: 9436.02 MiB\n",
            "Virtual memory usage of Python process: 10606.51 MiB\n",
            "CPU usage of Python process: 0.00%\n",
            "Number of threads of Python process: 16\n",
            "Number of open file descriptors of Python process: 51\n",
            " \n"
          ]
        }
      ],
      "source": [
        "LSH_Information(4,3,tr_images,tr_labels,te_images,te_labels,10,40,0.8)\n",
        "print(\" \")\n",
        "LSH_Information(4,3,tr_images,tr_labels,te_images,te_labels,10,40,0.9)\n",
        "print(\" \")\n",
        "LSH_Information(4,3,tr_images,tr_labels,te_images,te_labels,10,60,0.8)\n",
        "print(\" \")\n",
        "LSH_Information(4,3,tr_images,tr_labels,te_images,te_labels,10,60,0.9)\n",
        "print(\" \")"
      ]
    },
    {
      "cell_type": "code",
      "execution_count": 10,
      "metadata": {
        "colab": {
          "base_uri": "https://localhost:8080/"
        },
        "id": "TXzeLfZGnLud",
        "outputId": "e86a5852-4713-4bdd-adbb-b9c6345a1bcc"
      },
      "outputs": [
        {
          "output_type": "stream",
          "name": "stderr",
          "text": [
            "/usr/local/lib/python3.9/dist-packages/sklearn/metrics/pairwise.py:2025: DataConversionWarning: Data was converted to boolean for metric jaccard\n",
            "  warnings.warn(msg, DataConversionWarning)\n"
          ]
        },
        {
          "output_type": "stream",
          "name": "stdout",
          "text": [
            "Peak memory usage during fit function: 9427.71 MiB\n",
            "Peak memory usage during predict function: 9435.80 MiB\n",
            "L1 cache size: 32.00 KiB\n",
            "L2 cache size: 256.00 KiB\n",
            "Memory usage of KNN object and its attributes: 0.00 MiB\n",
            "Resident memory usage of Python process: 9435.81 MiB\n",
            "Virtual memory usage of Python process: 10651.88 MiB\n",
            "CPU usage of Python process: 0.00%\n",
            "Number of threads of Python process: 17\n",
            "Number of open file descriptors of Python process: 53\n",
            " \n"
          ]
        },
        {
          "output_type": "stream",
          "name": "stderr",
          "text": [
            "/usr/local/lib/python3.9/dist-packages/sklearn/metrics/pairwise.py:2025: DataConversionWarning: Data was converted to boolean for metric jaccard\n",
            "  warnings.warn(msg, DataConversionWarning)\n"
          ]
        },
        {
          "output_type": "stream",
          "name": "stdout",
          "text": [
            "Peak memory usage during fit function: 9435.82 MiB\n",
            "Peak memory usage during predict function: 9437.61 MiB\n",
            "L1 cache size: 32.00 KiB\n",
            "L2 cache size: 256.00 KiB\n",
            "Memory usage of KNN object and its attributes: 0.00 MiB\n",
            "Resident memory usage of Python process: 9436.61 MiB\n",
            "Virtual memory usage of Python process: 10652.61 MiB\n",
            "CPU usage of Python process: 0.00%\n",
            "Number of threads of Python process: 17\n",
            "Number of open file descriptors of Python process: 53\n",
            " \n"
          ]
        },
        {
          "output_type": "stream",
          "name": "stderr",
          "text": [
            "/usr/local/lib/python3.9/dist-packages/sklearn/metrics/pairwise.py:2025: DataConversionWarning: Data was converted to boolean for metric jaccard\n",
            "  warnings.warn(msg, DataConversionWarning)\n"
          ]
        },
        {
          "output_type": "stream",
          "name": "stdout",
          "text": [
            "Peak memory usage during fit function: 9445.81 MiB\n",
            "Peak memory usage during predict function: 9447.45 MiB\n",
            "L1 cache size: 32.00 KiB\n",
            "L2 cache size: 256.00 KiB\n",
            "Memory usage of KNN object and its attributes: 0.00 MiB\n",
            "Resident memory usage of Python process: 9447.45 MiB\n",
            "Virtual memory usage of Python process: 10663.43 MiB\n",
            "CPU usage of Python process: 0.00%\n",
            "Number of threads of Python process: 17\n",
            "Number of open file descriptors of Python process: 53\n",
            " \n"
          ]
        },
        {
          "output_type": "stream",
          "name": "stderr",
          "text": [
            "/usr/local/lib/python3.9/dist-packages/sklearn/metrics/pairwise.py:2025: DataConversionWarning: Data was converted to boolean for metric jaccard\n",
            "  warnings.warn(msg, DataConversionWarning)\n"
          ]
        },
        {
          "output_type": "stream",
          "name": "stdout",
          "text": [
            "Peak memory usage during fit function: 9440.97 MiB\n",
            "Peak memory usage during predict function: 9447.50 MiB\n",
            "L1 cache size: 32.00 KiB\n",
            "L2 cache size: 256.00 KiB\n",
            "Memory usage of KNN object and its attributes: 0.00 MiB\n",
            "Resident memory usage of Python process: 9447.50 MiB\n",
            "Virtual memory usage of Python process: 10663.43 MiB\n",
            "CPU usage of Python process: 0.00%\n",
            "Number of threads of Python process: 17\n",
            "Number of open file descriptors of Python process: 53\n",
            " \n"
          ]
        }
      ],
      "source": [
        "LSH_Information(5,3,tr_images,tr_labels,te_images,te_labels,10,40,0.8)\n",
        "print(\" \")\n",
        "LSH_Information(5,3,tr_images,tr_labels,te_images,te_labels,10,40,0.9)\n",
        "print(\" \")\n",
        "LSH_Information(5,3,tr_images,tr_labels,te_images,te_labels,10,60,0.8)\n",
        "print(\" \")\n",
        "LSH_Information(5,3,tr_images,tr_labels,te_images,te_labels,10,60,0.9)\n",
        "print(\" \")"
      ]
    },
    {
      "cell_type": "markdown",
      "metadata": {
        "id": "Pdb8m1BDnLud"
      },
      "source": [
        "### Memory related information for imgs=60"
      ]
    },
    {
      "cell_type": "code",
      "execution_count": 11,
      "metadata": {
        "colab": {
          "base_uri": "https://localhost:8080/"
        },
        "id": "6lDuKYYYnLud",
        "outputId": "e64a9056-5002-43f8-e794-631b175eb2b6"
      },
      "outputs": [
        {
          "output_type": "stream",
          "name": "stderr",
          "text": [
            "/usr/local/lib/python3.9/dist-packages/sklearn/metrics/pairwise.py:2025: DataConversionWarning: Data was converted to boolean for metric jaccard\n",
            "  warnings.warn(msg, DataConversionWarning)\n"
          ]
        },
        {
          "output_type": "stream",
          "name": "stdout",
          "text": [
            "Peak memory usage during fit function: 9447.52 MiB\n",
            "Peak memory usage during predict function: 9476.28 MiB\n",
            "L1 cache size: 32.00 KiB\n",
            "L2 cache size: 256.00 KiB\n",
            "Memory usage of KNN object and its attributes: 0.00 MiB\n",
            "Resident memory usage of Python process: 9448.05 MiB\n",
            "Virtual memory usage of Python process: 10663.93 MiB\n",
            "CPU usage of Python process: 0.00%\n",
            "Number of threads of Python process: 17\n",
            "Number of open file descriptors of Python process: 53\n",
            " \n"
          ]
        },
        {
          "output_type": "stream",
          "name": "stderr",
          "text": [
            "/usr/local/lib/python3.9/dist-packages/sklearn/metrics/pairwise.py:2025: DataConversionWarning: Data was converted to boolean for metric jaccard\n",
            "  warnings.warn(msg, DataConversionWarning)\n"
          ]
        },
        {
          "output_type": "stream",
          "name": "stdout",
          "text": [
            "Peak memory usage during fit function: 9448.06 MiB\n",
            "Peak memory usage during predict function: 9466.21 MiB\n",
            "L1 cache size: 32.00 KiB\n",
            "L2 cache size: 256.00 KiB\n",
            "Memory usage of KNN object and its attributes: 0.00 MiB\n",
            "Resident memory usage of Python process: 9438.40 MiB\n",
            "Virtual memory usage of Python process: 10654.11 MiB\n",
            "CPU usage of Python process: 0.00%\n",
            "Number of threads of Python process: 17\n",
            "Number of open file descriptors of Python process: 53\n",
            " \n"
          ]
        },
        {
          "output_type": "stream",
          "name": "stderr",
          "text": [
            "/usr/local/lib/python3.9/dist-packages/sklearn/metrics/pairwise.py:2025: DataConversionWarning: Data was converted to boolean for metric jaccard\n",
            "  warnings.warn(msg, DataConversionWarning)\n"
          ]
        },
        {
          "output_type": "stream",
          "name": "stdout",
          "text": [
            "Peak memory usage during fit function: 9442.28 MiB\n",
            "Peak memory usage during predict function: 9467.83 MiB\n",
            "L1 cache size: 32.00 KiB\n",
            "L2 cache size: 256.00 KiB\n",
            "Memory usage of KNN object and its attributes: 0.00 MiB\n",
            "Resident memory usage of Python process: 9439.61 MiB\n",
            "Virtual memory usage of Python process: 10655.27 MiB\n",
            "CPU usage of Python process: 0.00%\n",
            "Number of threads of Python process: 17\n",
            "Number of open file descriptors of Python process: 53\n",
            " \n"
          ]
        },
        {
          "output_type": "stream",
          "name": "stderr",
          "text": [
            "/usr/local/lib/python3.9/dist-packages/sklearn/metrics/pairwise.py:2025: DataConversionWarning: Data was converted to boolean for metric jaccard\n",
            "  warnings.warn(msg, DataConversionWarning)\n"
          ]
        },
        {
          "output_type": "stream",
          "name": "stdout",
          "text": [
            "Peak memory usage during fit function: 9442.15 MiB\n",
            "Peak memory usage during predict function: 9466.99 MiB\n",
            "L1 cache size: 32.00 KiB\n",
            "L2 cache size: 256.00 KiB\n",
            "Memory usage of KNN object and its attributes: 0.00 MiB\n",
            "Resident memory usage of Python process: 9438.88 MiB\n",
            "Virtual memory usage of Python process: 10654.37 MiB\n",
            "CPU usage of Python process: 0.00%\n",
            "Number of threads of Python process: 17\n",
            "Number of open file descriptors of Python process: 53\n",
            " \n"
          ]
        }
      ],
      "source": [
        "LSH_Information(1,3,tr_images,tr_labels,te_images,te_labels,60,40,0.8)\n",
        "print(\" \")\n",
        "LSH_Information(1,3,tr_images,tr_labels,te_images,te_labels,60,40,0.9)\n",
        "print(\" \")\n",
        "LSH_Information(1,3,tr_images,tr_labels,te_images,te_labels,60,60,0.8)\n",
        "print(\" \")\n",
        "LSH_Information(1,3,tr_images,tr_labels,te_images,te_labels,60,60,0.9)\n",
        "print(\" \")"
      ]
    },
    {
      "cell_type": "code",
      "execution_count": 12,
      "metadata": {
        "colab": {
          "base_uri": "https://localhost:8080/"
        },
        "id": "vMk32gCPnLud",
        "outputId": "bd487727-dcd1-49d5-a8a9-b590dc040df5"
      },
      "outputs": [
        {
          "output_type": "stream",
          "name": "stderr",
          "text": [
            "/usr/local/lib/python3.9/dist-packages/sklearn/metrics/pairwise.py:2025: DataConversionWarning: Data was converted to boolean for metric jaccard\n",
            "  warnings.warn(msg, DataConversionWarning)\n"
          ]
        },
        {
          "output_type": "stream",
          "name": "stdout",
          "text": [
            "Peak memory usage during fit function: 9438.88 MiB\n",
            "Peak memory usage during predict function: 9456.06 MiB\n",
            "L1 cache size: 32.00 KiB\n",
            "L2 cache size: 256.00 KiB\n",
            "Memory usage of KNN object and its attributes: 0.00 MiB\n",
            "Resident memory usage of Python process: 9428.08 MiB\n",
            "Virtual memory usage of Python process: 10643.57 MiB\n",
            "CPU usage of Python process: 0.00%\n",
            "Number of threads of Python process: 17\n",
            "Number of open file descriptors of Python process: 53\n",
            " \n"
          ]
        },
        {
          "output_type": "stream",
          "name": "stderr",
          "text": [
            "/usr/local/lib/python3.9/dist-packages/sklearn/metrics/pairwise.py:2025: DataConversionWarning: Data was converted to boolean for metric jaccard\n",
            "  warnings.warn(msg, DataConversionWarning)\n"
          ]
        },
        {
          "output_type": "stream",
          "name": "stdout",
          "text": [
            "Peak memory usage during fit function: 9430.27 MiB\n",
            "Peak memory usage during predict function: 9469.97 MiB\n",
            "L1 cache size: 32.00 KiB\n",
            "L2 cache size: 256.00 KiB\n",
            "Memory usage of KNN object and its attributes: 0.00 MiB\n",
            "Resident memory usage of Python process: 9428.11 MiB\n",
            "Virtual memory usage of Python process: 10643.60 MiB\n",
            "CPU usage of Python process: 0.00%\n",
            "Number of threads of Python process: 17\n",
            "Number of open file descriptors of Python process: 53\n",
            " \n"
          ]
        },
        {
          "output_type": "stream",
          "name": "stderr",
          "text": [
            "/usr/local/lib/python3.9/dist-packages/sklearn/metrics/pairwise.py:2025: DataConversionWarning: Data was converted to boolean for metric jaccard\n",
            "  warnings.warn(msg, DataConversionWarning)\n"
          ]
        },
        {
          "output_type": "stream",
          "name": "stdout",
          "text": [
            "Peak memory usage during fit function: 9455.50 MiB\n",
            "Peak memory usage during predict function: 9483.31 MiB\n",
            "L1 cache size: 32.00 KiB\n",
            "L2 cache size: 256.00 KiB\n",
            "Memory usage of KNN object and its attributes: 0.00 MiB\n",
            "Resident memory usage of Python process: 9455.63 MiB\n",
            "Virtual memory usage of Python process: 10671.07 MiB\n",
            "CPU usage of Python process: 0.00%\n",
            "Number of threads of Python process: 17\n",
            "Number of open file descriptors of Python process: 53\n",
            " \n"
          ]
        },
        {
          "output_type": "stream",
          "name": "stderr",
          "text": [
            "/usr/local/lib/python3.9/dist-packages/sklearn/metrics/pairwise.py:2025: DataConversionWarning: Data was converted to boolean for metric jaccard\n",
            "  warnings.warn(msg, DataConversionWarning)\n"
          ]
        },
        {
          "output_type": "stream",
          "name": "stdout",
          "text": [
            "Peak memory usage during fit function: 9455.63 MiB\n",
            "Peak memory usage during predict function: 9483.41 MiB\n",
            "L1 cache size: 32.00 KiB\n",
            "L2 cache size: 256.00 KiB\n",
            "Memory usage of KNN object and its attributes: 0.00 MiB\n",
            "Resident memory usage of Python process: 9455.63 MiB\n",
            "Virtual memory usage of Python process: 10671.07 MiB\n",
            "CPU usage of Python process: 0.00%\n",
            "Number of threads of Python process: 17\n",
            "Number of open file descriptors of Python process: 53\n",
            " \n"
          ]
        }
      ],
      "source": [
        "LSH_Information(2,3,tr_images,tr_labels,te_images,te_labels,60,40,0.8)\n",
        "print(\" \")\n",
        "LSH_Information(2,3,tr_images,tr_labels,te_images,te_labels,60,40,0.9)\n",
        "print(\" \")\n",
        "LSH_Information(2,3,tr_images,tr_labels,te_images,te_labels,60,60,0.8)\n",
        "print(\" \")\n",
        "LSH_Information(2,3,tr_images,tr_labels,te_images,te_labels,60,60,0.9)\n",
        "print(\" \")"
      ]
    },
    {
      "cell_type": "code",
      "execution_count": 13,
      "metadata": {
        "colab": {
          "base_uri": "https://localhost:8080/"
        },
        "id": "qHOFUAZ_nLue",
        "outputId": "9eaf1c78-0b5a-46a7-ec23-4d2959c472c5"
      },
      "outputs": [
        {
          "output_type": "stream",
          "name": "stderr",
          "text": [
            "/usr/local/lib/python3.9/dist-packages/sklearn/metrics/pairwise.py:2025: DataConversionWarning: Data was converted to boolean for metric jaccard\n",
            "  warnings.warn(msg, DataConversionWarning)\n"
          ]
        },
        {
          "output_type": "stream",
          "name": "stdout",
          "text": [
            "Peak memory usage during fit function: 9455.72 MiB\n",
            "Peak memory usage during predict function: 9482.18 MiB\n",
            "L1 cache size: 32.00 KiB\n",
            "L2 cache size: 256.00 KiB\n",
            "Memory usage of KNN object and its attributes: 0.00 MiB\n",
            "Resident memory usage of Python process: 9428.25 MiB\n",
            "Virtual memory usage of Python process: 10643.60 MiB\n",
            "CPU usage of Python process: 0.00%\n",
            "Number of threads of Python process: 17\n",
            "Number of open file descriptors of Python process: 53\n",
            " \n"
          ]
        },
        {
          "output_type": "stream",
          "name": "stderr",
          "text": [
            "/usr/local/lib/python3.9/dist-packages/sklearn/metrics/pairwise.py:2025: DataConversionWarning: Data was converted to boolean for metric jaccard\n",
            "  warnings.warn(msg, DataConversionWarning)\n"
          ]
        },
        {
          "output_type": "stream",
          "name": "stdout",
          "text": [
            "Peak memory usage during fit function: 9430.48 MiB\n",
            "Peak memory usage during predict function: 9457.00 MiB\n",
            "L1 cache size: 32.00 KiB\n",
            "L2 cache size: 256.00 KiB\n",
            "Memory usage of KNN object and its attributes: 0.00 MiB\n",
            "Resident memory usage of Python process: 9428.78 MiB\n",
            "Virtual memory usage of Python process: 10644.06 MiB\n",
            "CPU usage of Python process: 0.00%\n",
            "Number of threads of Python process: 17\n",
            "Number of open file descriptors of Python process: 53\n",
            " \n"
          ]
        },
        {
          "output_type": "stream",
          "name": "stderr",
          "text": [
            "/usr/local/lib/python3.9/dist-packages/sklearn/metrics/pairwise.py:2025: DataConversionWarning: Data was converted to boolean for metric jaccard\n",
            "  warnings.warn(msg, DataConversionWarning)\n"
          ]
        },
        {
          "output_type": "stream",
          "name": "stdout",
          "text": [
            "Peak memory usage during fit function: 9455.70 MiB\n",
            "Peak memory usage during predict function: 9510.43 MiB\n",
            "L1 cache size: 32.00 KiB\n",
            "L2 cache size: 256.00 KiB\n",
            "Memory usage of KNN object and its attributes: 0.00 MiB\n",
            "Resident memory usage of Python process: 9455.83 MiB\n",
            "Virtual memory usage of Python process: 10671.32 MiB\n",
            "CPU usage of Python process: 0.00%\n",
            "Number of threads of Python process: 17\n",
            "Number of open file descriptors of Python process: 53\n",
            " \n"
          ]
        },
        {
          "output_type": "stream",
          "name": "stderr",
          "text": [
            "/usr/local/lib/python3.9/dist-packages/sklearn/metrics/pairwise.py:2025: DataConversionWarning: Data was converted to boolean for metric jaccard\n",
            "  warnings.warn(msg, DataConversionWarning)\n"
          ]
        },
        {
          "output_type": "stream",
          "name": "stdout",
          "text": [
            "Peak memory usage during fit function: 9455.83 MiB\n",
            "Peak memory usage during predict function: 9483.34 MiB\n",
            "L1 cache size: 32.00 KiB\n",
            "L2 cache size: 256.00 KiB\n",
            "Memory usage of KNN object and its attributes: 0.00 MiB\n",
            "Resident memory usage of Python process: 9455.83 MiB\n",
            "Virtual memory usage of Python process: 10671.32 MiB\n",
            "CPU usage of Python process: 0.00%\n",
            "Number of threads of Python process: 17\n",
            "Number of open file descriptors of Python process: 53\n",
            " \n"
          ]
        }
      ],
      "source": [
        "LSH_Information(3,3,tr_images,tr_labels,te_images,te_labels,60,40,0.8)\n",
        "print(\" \")\n",
        "LSH_Information(3,3,tr_images,tr_labels,te_images,te_labels,60,40,0.9)\n",
        "print(\" \")\n",
        "LSH_Information(3,3,tr_images,tr_labels,te_images,te_labels,60,60,0.8)\n",
        "print(\" \")\n",
        "LSH_Information(3,3,tr_images,tr_labels,te_images,te_labels,60,60,0.9)\n",
        "print(\" \")"
      ]
    },
    {
      "cell_type": "code",
      "execution_count": 14,
      "metadata": {
        "colab": {
          "base_uri": "https://localhost:8080/"
        },
        "id": "7Y-00aDrnLue",
        "outputId": "83e7632a-96c5-43f5-86bb-dcc165e6fa43"
      },
      "outputs": [
        {
          "output_type": "stream",
          "name": "stderr",
          "text": [
            "/usr/local/lib/python3.9/dist-packages/sklearn/metrics/pairwise.py:2025: DataConversionWarning: Data was converted to boolean for metric jaccard\n",
            "  warnings.warn(msg, DataConversionWarning)\n"
          ]
        },
        {
          "output_type": "stream",
          "name": "stdout",
          "text": [
            "Peak memory usage during fit function: 9455.85 MiB\n",
            "Peak memory usage during predict function: 9456.56 MiB\n",
            "L1 cache size: 32.00 KiB\n",
            "L2 cache size: 256.00 KiB\n",
            "Memory usage of KNN object and its attributes: 0.00 MiB\n",
            "Resident memory usage of Python process: 9428.46 MiB\n",
            "Virtual memory usage of Python process: 10643.85 MiB\n",
            "CPU usage of Python process: 0.00%\n",
            "Number of threads of Python process: 17\n",
            "Number of open file descriptors of Python process: 53\n",
            " \n"
          ]
        },
        {
          "output_type": "stream",
          "name": "stderr",
          "text": [
            "/usr/local/lib/python3.9/dist-packages/sklearn/metrics/pairwise.py:2025: DataConversionWarning: Data was converted to boolean for metric jaccard\n",
            "  warnings.warn(msg, DataConversionWarning)\n"
          ]
        },
        {
          "output_type": "stream",
          "name": "stdout",
          "text": [
            "Peak memory usage during fit function: 9430.62 MiB\n",
            "Peak memory usage during predict function: 9456.57 MiB\n",
            "L1 cache size: 32.00 KiB\n",
            "L2 cache size: 256.00 KiB\n",
            "Memory usage of KNN object and its attributes: 0.00 MiB\n",
            "Resident memory usage of Python process: 9428.91 MiB\n",
            "Virtual memory usage of Python process: 10644.30 MiB\n",
            "CPU usage of Python process: 0.00%\n",
            "Number of threads of Python process: 17\n",
            "Number of open file descriptors of Python process: 53\n",
            " \n"
          ]
        },
        {
          "output_type": "stream",
          "name": "stderr",
          "text": [
            "/usr/local/lib/python3.9/dist-packages/sklearn/metrics/pairwise.py:2025: DataConversionWarning: Data was converted to boolean for metric jaccard\n",
            "  warnings.warn(msg, DataConversionWarning)\n"
          ]
        },
        {
          "output_type": "stream",
          "name": "stdout",
          "text": [
            "Peak memory usage during fit function: 9455.81 MiB\n",
            "Peak memory usage during predict function: 9484.09 MiB\n",
            "L1 cache size: 32.00 KiB\n",
            "L2 cache size: 256.00 KiB\n",
            "Memory usage of KNN object and its attributes: 0.00 MiB\n",
            "Resident memory usage of Python process: 9455.95 MiB\n",
            "Virtual memory usage of Python process: 10671.32 MiB\n",
            "CPU usage of Python process: 0.00%\n",
            "Number of threads of Python process: 17\n",
            "Number of open file descriptors of Python process: 53\n",
            " \n"
          ]
        },
        {
          "output_type": "stream",
          "name": "stderr",
          "text": [
            "/usr/local/lib/python3.9/dist-packages/sklearn/metrics/pairwise.py:2025: DataConversionWarning: Data was converted to boolean for metric jaccard\n",
            "  warnings.warn(msg, DataConversionWarning)\n"
          ]
        },
        {
          "output_type": "stream",
          "name": "stdout",
          "text": [
            "Peak memory usage during fit function: 9455.95 MiB\n",
            "Peak memory usage during predict function: 9494.54 MiB\n",
            "L1 cache size: 32.00 KiB\n",
            "L2 cache size: 256.00 KiB\n",
            "Memory usage of KNN object and its attributes: 0.00 MiB\n",
            "Resident memory usage of Python process: 9456.18 MiB\n",
            "Virtual memory usage of Python process: 10671.32 MiB\n",
            "CPU usage of Python process: 0.00%\n",
            "Number of threads of Python process: 17\n",
            "Number of open file descriptors of Python process: 53\n",
            " \n"
          ]
        }
      ],
      "source": [
        "LSH_Information(4,3,tr_images,tr_labels,te_images,te_labels,60,40,0.8)\n",
        "print(\" \")\n",
        "LSH_Information(4,3,tr_images,tr_labels,te_images,te_labels,60,40,0.9)\n",
        "print(\" \")\n",
        "LSH_Information(4,3,tr_images,tr_labels,te_images,te_labels,60,60,0.8)\n",
        "print(\" \")\n",
        "LSH_Information(4,3,tr_images,tr_labels,te_images,te_labels,60,60,0.9)\n",
        "print(\" \")"
      ]
    },
    {
      "cell_type": "code",
      "execution_count": 15,
      "metadata": {
        "colab": {
          "base_uri": "https://localhost:8080/"
        },
        "id": "k6lPixxJnLue",
        "outputId": "68f2a5dd-2ab1-4e80-e26a-d15811bde9a0"
      },
      "outputs": [
        {
          "output_type": "stream",
          "name": "stderr",
          "text": [
            "/usr/local/lib/python3.9/dist-packages/sklearn/metrics/pairwise.py:2025: DataConversionWarning: Data was converted to boolean for metric jaccard\n",
            "  warnings.warn(msg, DataConversionWarning)\n"
          ]
        },
        {
          "output_type": "stream",
          "name": "stdout",
          "text": [
            "Peak memory usage during fit function: 9456.18 MiB\n",
            "Peak memory usage during predict function: 9483.01 MiB\n",
            "L1 cache size: 32.00 KiB\n",
            "L2 cache size: 256.00 KiB\n",
            "Memory usage of KNN object and its attributes: 0.00 MiB\n",
            "Resident memory usage of Python process: 9428.71 MiB\n",
            "Virtual memory usage of Python process: 10643.85 MiB\n",
            "CPU usage of Python process: 0.00%\n",
            "Number of threads of Python process: 17\n",
            "Number of open file descriptors of Python process: 53\n",
            " \n"
          ]
        },
        {
          "output_type": "stream",
          "name": "stderr",
          "text": [
            "/usr/local/lib/python3.9/dist-packages/sklearn/metrics/pairwise.py:2025: DataConversionWarning: Data was converted to boolean for metric jaccard\n",
            "  warnings.warn(msg, DataConversionWarning)\n"
          ]
        },
        {
          "output_type": "stream",
          "name": "stdout",
          "text": [
            "Peak memory usage during fit function: 9430.88 MiB\n",
            "Peak memory usage during predict function: 9456.77 MiB\n",
            "L1 cache size: 32.00 KiB\n",
            "L2 cache size: 256.00 KiB\n",
            "Memory usage of KNN object and its attributes: 0.00 MiB\n",
            "Resident memory usage of Python process: 9428.71 MiB\n",
            "Virtual memory usage of Python process: 10643.85 MiB\n",
            "CPU usage of Python process: 0.00%\n",
            "Number of threads of Python process: 17\n",
            "Number of open file descriptors of Python process: 53\n",
            " \n"
          ]
        },
        {
          "output_type": "stream",
          "name": "stderr",
          "text": [
            "/usr/local/lib/python3.9/dist-packages/sklearn/metrics/pairwise.py:2025: DataConversionWarning: Data was converted to boolean for metric jaccard\n",
            "  warnings.warn(msg, DataConversionWarning)\n"
          ]
        },
        {
          "output_type": "stream",
          "name": "stdout",
          "text": [
            "Peak memory usage during fit function: 9456.09 MiB\n",
            "Peak memory usage during predict function: 9483.87 MiB\n",
            "L1 cache size: 32.00 KiB\n",
            "L2 cache size: 256.00 KiB\n",
            "Memory usage of KNN object and its attributes: 0.00 MiB\n",
            "Resident memory usage of Python process: 9456.21 MiB\n",
            "Virtual memory usage of Python process: 10671.32 MiB\n",
            "CPU usage of Python process: 0.00%\n",
            "Number of threads of Python process: 17\n",
            "Number of open file descriptors of Python process: 56\n",
            " \n"
          ]
        },
        {
          "output_type": "stream",
          "name": "stderr",
          "text": [
            "/usr/local/lib/python3.9/dist-packages/sklearn/metrics/pairwise.py:2025: DataConversionWarning: Data was converted to boolean for metric jaccard\n",
            "  warnings.warn(msg, DataConversionWarning)\n"
          ]
        },
        {
          "output_type": "stream",
          "name": "stdout",
          "text": [
            "Peak memory usage during fit function: 9456.21 MiB\n",
            "Peak memory usage during predict function: 9483.89 MiB\n",
            "L1 cache size: 32.00 KiB\n",
            "L2 cache size: 256.00 KiB\n",
            "Memory usage of KNN object and its attributes: 0.14 MiB\n",
            "Resident memory usage of Python process: 9456.35 MiB\n",
            "Virtual memory usage of Python process: 10671.32 MiB\n",
            "CPU usage of Python process: 0.00%\n",
            "Number of threads of Python process: 17\n",
            "Number of open file descriptors of Python process: 53\n",
            " \n"
          ]
        }
      ],
      "source": [
        "LSH_Information(5,3,tr_images,tr_labels,te_images,te_labels,60,40,0.8)\n",
        "print(\" \")\n",
        "LSH_Information(5,3,tr_images,tr_labels,te_images,te_labels,60,40,0.9)\n",
        "print(\" \")\n",
        "LSH_Information(5,3,tr_images,tr_labels,te_images,te_labels,60,60,0.8)\n",
        "print(\" \")\n",
        "LSH_Information(5,3,tr_images,tr_labels,te_images,te_labels,60,60,0.9)\n",
        "print(\" \")"
      ]
    },
    {
      "cell_type": "markdown",
      "metadata": {
        "id": "nSvcqlZQnLue"
      },
      "source": [
        "### Memory related information for imgs=90"
      ]
    },
    {
      "cell_type": "code",
      "execution_count": 16,
      "metadata": {
        "colab": {
          "base_uri": "https://localhost:8080/"
        },
        "id": "Rh898CBlnLue",
        "outputId": "b064c69d-dd72-4b8c-fd34-bb8d1ddafdf0"
      },
      "outputs": [
        {
          "output_type": "stream",
          "name": "stderr",
          "text": [
            "/usr/local/lib/python3.9/dist-packages/sklearn/metrics/pairwise.py:2025: DataConversionWarning: Data was converted to boolean for metric jaccard\n",
            "  warnings.warn(msg, DataConversionWarning)\n"
          ]
        },
        {
          "output_type": "stream",
          "name": "stdout",
          "text": [
            "Peak memory usage during fit function: 9456.40 MiB\n",
            "Peak memory usage during predict function: 9497.91 MiB\n",
            "L1 cache size: 32.00 KiB\n",
            "L2 cache size: 256.00 KiB\n",
            "Memory usage of KNN object and its attributes: 0.00 MiB\n",
            "Resident memory usage of Python process: 9456.40 MiB\n",
            "Virtual memory usage of Python process: 10671.32 MiB\n",
            "CPU usage of Python process: 0.00%\n",
            "Number of threads of Python process: 17\n",
            "Number of open file descriptors of Python process: 53\n",
            " \n"
          ]
        },
        {
          "output_type": "stream",
          "name": "stderr",
          "text": [
            "/usr/local/lib/python3.9/dist-packages/sklearn/metrics/pairwise.py:2025: DataConversionWarning: Data was converted to boolean for metric jaccard\n",
            "  warnings.warn(msg, DataConversionWarning)\n"
          ]
        },
        {
          "output_type": "stream",
          "name": "stdout",
          "text": [
            "Peak memory usage during fit function: 9456.40 MiB\n",
            "Peak memory usage during predict function: 9497.89 MiB\n",
            "L1 cache size: 32.00 KiB\n",
            "L2 cache size: 256.00 KiB\n",
            "Memory usage of KNN object and its attributes: 0.00 MiB\n",
            "Resident memory usage of Python process: 9456.40 MiB\n",
            "Virtual memory usage of Python process: 10671.32 MiB\n",
            "CPU usage of Python process: 0.00%\n",
            "Number of threads of Python process: 17\n",
            "Number of open file descriptors of Python process: 53\n",
            " \n"
          ]
        },
        {
          "output_type": "stream",
          "name": "stderr",
          "text": [
            "/usr/local/lib/python3.9/dist-packages/sklearn/metrics/pairwise.py:2025: DataConversionWarning: Data was converted to boolean for metric jaccard\n",
            "  warnings.warn(msg, DataConversionWarning)\n"
          ]
        },
        {
          "output_type": "stream",
          "name": "stdout",
          "text": [
            "Peak memory usage during fit function: 9456.40 MiB\n",
            "Peak memory usage during predict function: 9539.59 MiB\n",
            "L1 cache size: 32.00 KiB\n",
            "L2 cache size: 256.00 KiB\n",
            "Memory usage of KNN object and its attributes: 0.00 MiB\n",
            "Resident memory usage of Python process: 9456.44 MiB\n",
            "Virtual memory usage of Python process: 10671.32 MiB\n",
            "CPU usage of Python process: 0.00%\n",
            "Number of threads of Python process: 17\n",
            "Number of open file descriptors of Python process: 53\n",
            " \n"
          ]
        },
        {
          "output_type": "stream",
          "name": "stderr",
          "text": [
            "/usr/local/lib/python3.9/dist-packages/sklearn/metrics/pairwise.py:2025: DataConversionWarning: Data was converted to boolean for metric jaccard\n",
            "  warnings.warn(msg, DataConversionWarning)\n"
          ]
        },
        {
          "output_type": "stream",
          "name": "stdout",
          "text": [
            "Peak memory usage during fit function: 9456.44 MiB\n",
            "Peak memory usage during predict function: 9536.93 MiB\n",
            "L1 cache size: 32.00 KiB\n",
            "L2 cache size: 256.00 KiB\n",
            "Memory usage of KNN object and its attributes: 0.00 MiB\n",
            "Resident memory usage of Python process: 9456.44 MiB\n",
            "Virtual memory usage of Python process: 10671.32 MiB\n",
            "CPU usage of Python process: 0.00%\n",
            "Number of threads of Python process: 17\n",
            "Number of open file descriptors of Python process: 53\n",
            " \n"
          ]
        }
      ],
      "source": [
        "LSH_Information(1,3,tr_images,tr_labels,te_images,te_labels,90,40,0.8)\n",
        "print(\" \")\n",
        "LSH_Information(1,3,tr_images,tr_labels,te_images,te_labels,90,40,0.9)\n",
        "print(\" \")\n",
        "LSH_Information(1,3,tr_images,tr_labels,te_images,te_labels,90,60,0.8)\n",
        "print(\" \")\n",
        "LSH_Information(1,3,tr_images,tr_labels,te_images,te_labels,90,60,0.9)\n",
        "print(\" \")"
      ]
    },
    {
      "cell_type": "code",
      "execution_count": 17,
      "metadata": {
        "colab": {
          "base_uri": "https://localhost:8080/"
        },
        "id": "IcpV12VPnLue",
        "outputId": "65f82bef-5616-48dc-9897-eae6c6d0af7f"
      },
      "outputs": [
        {
          "metadata": {
            "tags": null
          },
          "name": "stderr",
          "output_type": "stream",
          "text": [
            "/usr/local/lib/python3.9/dist-packages/sklearn/metrics/pairwise.py:2025: DataConversionWarning: Data was converted to boolean for metric jaccard\n",
            "  warnings.warn(msg, DataConversionWarning)\n"
          ]
        },
        {
          "output_type": "stream",
          "name": "stdout",
          "text": [
            "Peak memory usage during fit function: 9456.59 MiB\n",
            "Peak memory usage during predict function: 9530.98 MiB\n",
            "L1 cache size: 32.00 KiB\n",
            "L2 cache size: 256.00 KiB\n",
            "Memory usage of KNN object and its attributes: 0.00 MiB\n",
            "Resident memory usage of Python process: 9456.59 MiB\n",
            "Virtual memory usage of Python process: 10671.32 MiB\n",
            "CPU usage of Python process: 0.00%\n",
            "Number of threads of Python process: 17\n",
            "Number of open file descriptors of Python process: 61\n",
            " \n"
          ]
        },
        {
          "output_type": "stream",
          "name": "stderr",
          "text": [
            "/usr/local/lib/python3.9/dist-packages/sklearn/metrics/pairwise.py:2025: DataConversionWarning: Data was converted to boolean for metric jaccard\n",
            "  warnings.warn(msg, DataConversionWarning)\n"
          ]
        },
        {
          "output_type": "stream",
          "name": "stdout",
          "text": [
            "Peak memory usage during fit function: 9456.59 MiB\n",
            "Peak memory usage during predict function: 9525.07 MiB\n",
            "L1 cache size: 32.00 KiB\n",
            "L2 cache size: 256.00 KiB\n",
            "Memory usage of KNN object and its attributes: 0.00 MiB\n",
            "Resident memory usage of Python process: 9456.59 MiB\n",
            "Virtual memory usage of Python process: 10671.32 MiB\n",
            "CPU usage of Python process: 0.00%\n",
            "Number of threads of Python process: 17\n",
            "Number of open file descriptors of Python process: 61\n",
            " \n"
          ]
        },
        {
          "output_type": "stream",
          "name": "stderr",
          "text": [
            "/usr/local/lib/python3.9/dist-packages/sklearn/metrics/pairwise.py:2025: DataConversionWarning: Data was converted to boolean for metric jaccard\n",
            "  warnings.warn(msg, DataConversionWarning)\n"
          ]
        },
        {
          "output_type": "stream",
          "name": "stdout",
          "text": [
            "Peak memory usage during fit function: 9456.59 MiB\n",
            "Peak memory usage during predict function: 9498.22 MiB\n",
            "L1 cache size: 32.00 KiB\n",
            "L2 cache size: 256.00 KiB\n",
            "Memory usage of KNN object and its attributes: 0.00 MiB\n",
            "Resident memory usage of Python process: 9456.59 MiB\n",
            "Virtual memory usage of Python process: 10671.32 MiB\n",
            "CPU usage of Python process: 0.00%\n",
            "Number of threads of Python process: 17\n",
            "Number of open file descriptors of Python process: 61\n",
            " \n"
          ]
        },
        {
          "output_type": "stream",
          "name": "stderr",
          "text": [
            "/usr/local/lib/python3.9/dist-packages/sklearn/metrics/pairwise.py:2025: DataConversionWarning: Data was converted to boolean for metric jaccard\n",
            "  warnings.warn(msg, DataConversionWarning)\n"
          ]
        },
        {
          "output_type": "stream",
          "name": "stdout",
          "text": [
            "Peak memory usage during fit function: 9456.59 MiB\n",
            "Peak memory usage during predict function: 9525.14 MiB\n",
            "L1 cache size: 32.00 KiB\n",
            "L2 cache size: 256.00 KiB\n",
            "Memory usage of KNN object and its attributes: 0.00 MiB\n",
            "Resident memory usage of Python process: 9456.59 MiB\n",
            "Virtual memory usage of Python process: 10671.32 MiB\n",
            "CPU usage of Python process: 0.00%\n",
            "Number of threads of Python process: 17\n",
            "Number of open file descriptors of Python process: 61\n",
            " \n"
          ]
        }
      ],
      "source": [
        "LSH_Information(2,3,tr_images,tr_labels,te_images,te_labels,90,40,0.8)\n",
        "print(\" \")\n",
        "LSH_Information(2,3,tr_images,tr_labels,te_images,te_labels,90,40,0.9)\n",
        "print(\" \")\n",
        "LSH_Information(2,3,tr_images,tr_labels,te_images,te_labels,90,60,0.8)\n",
        "print(\" \")\n",
        "LSH_Information(2,3,tr_images,tr_labels,te_images,te_labels,90,60,0.9)\n",
        "print(\" \")"
      ]
    },
    {
      "cell_type": "code",
      "execution_count": 18,
      "metadata": {
        "colab": {
          "base_uri": "https://localhost:8080/"
        },
        "id": "Px_L5iEEnLue",
        "outputId": "9783ed3e-b0eb-48cb-eed7-3c7e026a82e1"
      },
      "outputs": [
        {
          "output_type": "stream",
          "name": "stderr",
          "text": [
            "/usr/local/lib/python3.9/dist-packages/sklearn/metrics/pairwise.py:2025: DataConversionWarning: Data was converted to boolean for metric jaccard\n",
            "  warnings.warn(msg, DataConversionWarning)\n",
            "/usr/local/lib/python3.9/dist-packages/sklearn/metrics/pairwise.py:2025: DataConversionWarning: Data was converted to boolean for metric jaccard\n",
            "  warnings.warn(msg, DataConversionWarning)\n"
          ]
        },
        {
          "output_type": "stream",
          "name": "stdout",
          "text": [
            "Peak memory usage during fit function: 9456.61 MiB\n",
            "Peak memory usage during predict function: 9498.04 MiB\n",
            "L1 cache size: 32.00 KiB\n",
            "L2 cache size: 256.00 KiB\n",
            "Memory usage of KNN object and its attributes: 0.00 MiB\n",
            "Resident memory usage of Python process: 9456.61 MiB\n",
            "Virtual memory usage of Python process: 10671.32 MiB\n",
            "CPU usage of Python process: 0.00%\n",
            "Number of threads of Python process: 17\n",
            "Number of open file descriptors of Python process: 61\n",
            " \n",
            "Peak memory usage during fit function: 9456.61 MiB\n",
            "Peak memory usage during predict function: 9498.04 MiB\n",
            "L1 cache size: 32.00 KiB\n",
            "L2 cache size: 256.00 KiB\n",
            "Memory usage of KNN object and its attributes: 0.00 MiB\n",
            "Resident memory usage of Python process: 9456.61 MiB\n",
            "Virtual memory usage of Python process: 10671.32 MiB\n",
            "CPU usage of Python process: 0.00%\n",
            "Number of threads of Python process: 17\n",
            "Number of open file descriptors of Python process: 61\n",
            " \n"
          ]
        },
        {
          "output_type": "stream",
          "name": "stderr",
          "text": [
            "/usr/local/lib/python3.9/dist-packages/sklearn/metrics/pairwise.py:2025: DataConversionWarning: Data was converted to boolean for metric jaccard\n",
            "  warnings.warn(msg, DataConversionWarning)\n",
            "/usr/local/lib/python3.9/dist-packages/sklearn/metrics/pairwise.py:2025: DataConversionWarning: Data was converted to boolean for metric jaccard\n",
            "  warnings.warn(msg, DataConversionWarning)\n"
          ]
        },
        {
          "output_type": "stream",
          "name": "stdout",
          "text": [
            "Peak memory usage during fit function: 9456.62 MiB\n",
            "Peak memory usage during predict function: 9508.98 MiB\n",
            "L1 cache size: 32.00 KiB\n",
            "L2 cache size: 256.00 KiB\n",
            "Memory usage of KNN object and its attributes: 0.00 MiB\n",
            "Resident memory usage of Python process: 9456.62 MiB\n",
            "Virtual memory usage of Python process: 10671.32 MiB\n",
            "CPU usage of Python process: 0.00%\n",
            "Number of threads of Python process: 17\n",
            "Number of open file descriptors of Python process: 61\n",
            " \n",
            "Peak memory usage during fit function: 9456.62 MiB\n",
            "Peak memory usage during predict function: 9508.98 MiB\n",
            "L1 cache size: 32.00 KiB\n",
            "L2 cache size: 256.00 KiB\n",
            "Memory usage of KNN object and its attributes: 0.00 MiB\n",
            "Resident memory usage of Python process: 9456.62 MiB\n",
            "Virtual memory usage of Python process: 10671.32 MiB\n",
            "CPU usage of Python process: 0.00%\n",
            "Number of threads of Python process: 17\n",
            "Number of open file descriptors of Python process: 61\n",
            " \n"
          ]
        },
        {
          "output_type": "stream",
          "name": "stderr",
          "text": [
            "/usr/local/lib/python3.9/dist-packages/sklearn/metrics/pairwise.py:2025: DataConversionWarning: Data was converted to boolean for metric jaccard\n",
            "  warnings.warn(msg, DataConversionWarning)\n",
            "/usr/local/lib/python3.9/dist-packages/sklearn/metrics/pairwise.py:2025: DataConversionWarning: Data was converted to boolean for metric jaccard\n",
            "  warnings.warn(msg, DataConversionWarning)\n"
          ]
        },
        {
          "output_type": "stream",
          "name": "stdout",
          "text": [
            "Peak memory usage during fit function: 9456.63 MiB\n",
            "Peak memory usage during predict function: 9498.13 MiB\n",
            "L1 cache size: 32.00 KiB\n",
            "L2 cache size: 256.00 KiB\n",
            "Memory usage of KNN object and its attributes: 0.00 MiB\n",
            "Resident memory usage of Python process: 9456.63 MiB\n",
            "Virtual memory usage of Python process: 10671.32 MiB\n",
            "CPU usage of Python process: 0.00%\n",
            "Number of threads of Python process: 17\n",
            "Number of open file descriptors of Python process: 61\n",
            " \n",
            "Peak memory usage during fit function: 9456.63 MiB\n",
            "Peak memory usage during predict function: 9498.13 MiB\n",
            "L1 cache size: 32.00 KiB\n",
            "L2 cache size: 256.00 KiB\n",
            "Memory usage of KNN object and its attributes: 0.00 MiB\n",
            "Resident memory usage of Python process: 9456.63 MiB\n",
            "Virtual memory usage of Python process: 10671.32 MiB\n",
            "CPU usage of Python process: 0.00%\n",
            "Number of threads of Python process: 17\n",
            "Number of open file descriptors of Python process: 61\n",
            " \n"
          ]
        },
        {
          "output_type": "stream",
          "name": "stderr",
          "text": [
            "/usr/local/lib/python3.9/dist-packages/sklearn/metrics/pairwise.py:2025: DataConversionWarning: Data was converted to boolean for metric jaccard\n",
            "  warnings.warn(msg, DataConversionWarning)\n",
            "/usr/local/lib/python3.9/dist-packages/sklearn/metrics/pairwise.py:2025: DataConversionWarning: Data was converted to boolean for metric jaccard\n",
            "  warnings.warn(msg, DataConversionWarning)\n"
          ]
        },
        {
          "output_type": "stream",
          "name": "stdout",
          "text": [
            "Peak memory usage during fit function: 9456.63 MiB\n",
            "Peak memory usage during predict function: 9521.13 MiB\n",
            "L1 cache size: 32.00 KiB\n",
            "L2 cache size: 256.00 KiB\n",
            "Memory usage of KNN object and its attributes: 0.00 MiB\n",
            "Resident memory usage of Python process: 9456.63 MiB\n",
            "Virtual memory usage of Python process: 10671.32 MiB\n",
            "CPU usage of Python process: 0.00%\n",
            "Number of threads of Python process: 17\n",
            "Number of open file descriptors of Python process: 61\n",
            " \n",
            "Peak memory usage during fit function: 9456.63 MiB\n",
            "Peak memory usage during predict function: 9521.13 MiB\n",
            "L1 cache size: 32.00 KiB\n",
            "L2 cache size: 256.00 KiB\n",
            "Memory usage of KNN object and its attributes: 0.00 MiB\n",
            "Resident memory usage of Python process: 9456.63 MiB\n",
            "Virtual memory usage of Python process: 10671.32 MiB\n",
            "CPU usage of Python process: 0.00%\n",
            "Number of threads of Python process: 17\n",
            "Number of open file descriptors of Python process: 61\n",
            " \n"
          ]
        }
      ],
      "source": [
        "LSH_Information(3,3,tr_images,tr_labels,te_images,te_labels,90,40,0.8)\n",
        "print(\" \")\n",
        "LSH_Information(3,3,tr_images,tr_labels,te_images,te_labels,90,40,0.9)\n",
        "print(\" \")\n",
        "LSH_Information(3,3,tr_images,tr_labels,te_images,te_labels,90,60,0.8)\n",
        "print(\" \")\n",
        "LSH_Information(3,3,tr_images,tr_labels,te_images,te_labels,90,60,0.9)\n",
        "print(\" \")"
      ]
    },
    {
      "cell_type": "code",
      "execution_count": 9,
      "metadata": {
        "colab": {
          "base_uri": "https://localhost:8080/"
        },
        "id": "UHEMLKZPnLue",
        "outputId": "a111c02f-ef75-4383-a6ea-fb1c480e81f6"
      },
      "outputs": [
        {
          "output_type": "stream",
          "name": "stderr",
          "text": [
            "/usr/local/lib/python3.9/dist-packages/sklearn/metrics/pairwise.py:2025: DataConversionWarning: Data was converted to boolean for metric jaccard\n",
            "  warnings.warn(msg, DataConversionWarning)\n"
          ]
        },
        {
          "output_type": "stream",
          "name": "stdout",
          "text": [
            "Peak memory usage during fit function: 9405.01 MiB\n",
            "Peak memory usage during predict function: 9466.15 MiB\n",
            "L1 cache size: 32.00 KiB\n",
            "L2 cache size: 256.00 KiB\n",
            "Memory usage of KNN object and its attributes: 0.00 MiB\n",
            "Resident memory usage of Python process: 9405.77 MiB\n",
            "Virtual memory usage of Python process: 10572.30 MiB\n",
            "CPU usage of Python process: 0.00%\n",
            "Number of threads of Python process: 16\n",
            "Number of open file descriptors of Python process: 55\n",
            " \n"
          ]
        },
        {
          "output_type": "stream",
          "name": "stderr",
          "text": [
            "/usr/local/lib/python3.9/dist-packages/sklearn/metrics/pairwise.py:2025: DataConversionWarning: Data was converted to boolean for metric jaccard\n",
            "  warnings.warn(msg, DataConversionWarning)\n"
          ]
        },
        {
          "output_type": "stream",
          "name": "stdout",
          "text": [
            "Peak memory usage during fit function: 9405.56 MiB\n",
            "Peak memory usage during predict function: 9455.99 MiB\n",
            "L1 cache size: 32.00 KiB\n",
            "L2 cache size: 256.00 KiB\n",
            "Memory usage of KNN object and its attributes: 0.00 MiB\n",
            "Resident memory usage of Python process: 9405.88 MiB\n",
            "Virtual memory usage of Python process: 10572.55 MiB\n",
            "CPU usage of Python process: 0.00%\n",
            "Number of threads of Python process: 16\n",
            "Number of open file descriptors of Python process: 55\n",
            " \n"
          ]
        },
        {
          "output_type": "stream",
          "name": "stderr",
          "text": [
            "/usr/local/lib/python3.9/dist-packages/sklearn/metrics/pairwise.py:2025: DataConversionWarning: Data was converted to boolean for metric jaccard\n",
            "  warnings.warn(msg, DataConversionWarning)\n"
          ]
        },
        {
          "output_type": "stream",
          "name": "stdout",
          "text": [
            "Peak memory usage during fit function: 9433.37 MiB\n",
            "Peak memory usage during predict function: 9483.54 MiB\n",
            "L1 cache size: 32.00 KiB\n",
            "L2 cache size: 256.00 KiB\n",
            "Memory usage of KNN object and its attributes: 0.00 MiB\n",
            "Resident memory usage of Python process: 9433.66 MiB\n",
            "Virtual memory usage of Python process: 10600.27 MiB\n",
            "CPU usage of Python process: 0.00%\n",
            "Number of threads of Python process: 16\n",
            "Number of open file descriptors of Python process: 55\n",
            " \n"
          ]
        },
        {
          "output_type": "stream",
          "name": "stderr",
          "text": [
            "/usr/local/lib/python3.9/dist-packages/sklearn/metrics/pairwise.py:2025: DataConversionWarning: Data was converted to boolean for metric jaccard\n",
            "  warnings.warn(msg, DataConversionWarning)\n"
          ]
        },
        {
          "output_type": "stream",
          "name": "stdout",
          "text": [
            "Peak memory usage during fit function: 9418.73 MiB\n",
            "Peak memory usage during predict function: 9490.61 MiB\n",
            "L1 cache size: 32.00 KiB\n",
            "L2 cache size: 256.00 KiB\n",
            "Memory usage of KNN object and its attributes: 0.00 MiB\n",
            "Resident memory usage of Python process: 9418.75 MiB\n",
            "Virtual memory usage of Python process: 10585.33 MiB\n",
            "CPU usage of Python process: 0.00%\n",
            "Number of threads of Python process: 16\n",
            "Number of open file descriptors of Python process: 55\n",
            " \n"
          ]
        }
      ],
      "source": [
        "LSH_Information(4,3,tr_images,tr_labels,te_images,te_labels,90,40,0.8)\n",
        "print(\" \")\n",
        "LSH_Information(4,3,tr_images,tr_labels,te_images,te_labels,90,40,0.9)\n",
        "print(\" \")\n",
        "LSH_Information(4,3,tr_images,tr_labels,te_images,te_labels,90,60,0.8)\n",
        "print(\" \")\n",
        "LSH_Information(4,3,tr_images,tr_labels,te_images,te_labels,90,60,0.9)\n",
        "print(\" \")"
      ]
    },
    {
      "cell_type": "code",
      "execution_count": 20,
      "metadata": {
        "colab": {
          "base_uri": "https://localhost:8080/"
        },
        "id": "7W_dMSaJnLue",
        "outputId": "285a7280-eafe-4664-9346-942c5b59890e"
      },
      "outputs": [
        {
          "metadata": {
            "tags": null
          },
          "name": "stderr",
          "output_type": "stream",
          "text": [
            "/usr/local/lib/python3.9/dist-packages/sklearn/metrics/pairwise.py:2025: DataConversionWarning: Data was converted to boolean for metric jaccard\n",
            "  warnings.warn(msg, DataConversionWarning)\n"
          ]
        },
        {
          "metadata": {
            "tags": null
          },
          "name": "stdout",
          "output_type": "stream",
          "text": [
            "Peak memory usage during fit function: 9452.14 MiB\n",
            "Peak memory usage during predict function: 9500.45 MiB\n",
            "L1 cache size: 32.00 KiB\n",
            "L2 cache size: 256.00 KiB\n",
            "Memory usage of KNN object and its attributes: 0.00 MiB\n",
            "Resident memory usage of Python process: 9452.14 MiB\n",
            "Virtual memory usage of Python process: 10671.32 MiB\n",
            "CPU usage of Python process: 0.00%\n",
            "Number of threads of Python process: 17\n",
            "Number of open file descriptors of Python process: 61\n",
            " \n"
          ]
        },
        {
          "metadata": {
            "tags": null
          },
          "name": "stderr",
          "output_type": "stream",
          "text": [
            "/usr/local/lib/python3.9/dist-packages/sklearn/metrics/pairwise.py:2025: DataConversionWarning: Data was converted to boolean for metric jaccard\n",
            "  warnings.warn(msg, DataConversionWarning)\n"
          ]
        },
        {
          "metadata": {
            "tags": null
          },
          "name": "stdout",
          "output_type": "stream",
          "text": [
            "Peak memory usage during fit function: 9452.14 MiB\n",
            "Peak memory usage during predict function: 9512.47 MiB\n",
            "L1 cache size: 32.00 KiB\n",
            "L2 cache size: 256.00 KiB\n",
            "Memory usage of KNN object and its attributes: 0.00 MiB\n",
            "Resident memory usage of Python process: 9452.14 MiB\n",
            "Virtual memory usage of Python process: 10671.32 MiB\n",
            "CPU usage of Python process: 0.00%\n",
            "Number of threads of Python process: 17\n",
            "Number of open file descriptors of Python process: 61\n",
            " \n"
          ]
        },
        {
          "metadata": {
            "tags": null
          },
          "name": "stderr",
          "output_type": "stream",
          "text": [
            "/usr/local/lib/python3.9/dist-packages/sklearn/metrics/pairwise.py:2025: DataConversionWarning: Data was converted to boolean for metric jaccard\n",
            "  warnings.warn(msg, DataConversionWarning)\n"
          ]
        },
        {
          "metadata": {
            "tags": null
          },
          "name": "stdout",
          "output_type": "stream",
          "text": [
            "Peak memory usage during fit function: 9452.15 MiB\n",
            "Peak memory usage during predict function: 9496.46 MiB\n",
            "L1 cache size: 32.00 KiB\n",
            "L2 cache size: 256.00 KiB\n",
            "Memory usage of KNN object and its attributes: 0.00 MiB\n",
            "Resident memory usage of Python process: 9452.15 MiB\n",
            "Virtual memory usage of Python process: 10671.32 MiB\n",
            "CPU usage of Python process: 0.00%\n",
            "Number of threads of Python process: 17\n",
            "Number of open file descriptors of Python process: 61\n",
            " \n"
          ]
        },
        {
          "metadata": {
            "tags": null
          },
          "name": "stderr",
          "output_type": "stream",
          "text": [
            "/usr/local/lib/python3.9/dist-packages/sklearn/metrics/pairwise.py:2025: DataConversionWarning: Data was converted to boolean for metric jaccard\n",
            "  warnings.warn(msg, DataConversionWarning)\n"
          ]
        },
        {
          "metadata": {
            "tags": null
          },
          "name": "stdout",
          "output_type": "stream",
          "text": [
            "Peak memory usage during fit function: 9452.15 MiB\n",
            "Peak memory usage during predict function: 9493.54 MiB\n",
            "L1 cache size: 32.00 KiB\n",
            "L2 cache size: 256.00 KiB\n",
            "Memory usage of KNN object and its attributes: 0.00 MiB\n",
            "Resident memory usage of Python process: 9452.15 MiB\n",
            "Virtual memory usage of Python process: 10671.32 MiB\n",
            "CPU usage of Python process: 0.00%\n",
            "Number of threads of Python process: 17\n",
            "Number of open file descriptors of Python process: 61\n",
            " \n"
          ]
        }
      ],
      "source": [
        "LSH_Information(5,3,tr_images,tr_labels,te_images,te_labels,90,40,0.8)\n",
        "print(\" \")\n",
        "LSH_Information(5,3,tr_images,tr_labels,te_images,te_labels,90,40,0.9)\n",
        "print(\" \")\n",
        "LSH_Information(5,3,tr_images,tr_labels,te_images,te_labels,90,60,0.8)\n",
        "print(\" \")\n",
        "LSH_Information(5,3,tr_images,tr_labels,te_images,te_labels,90,60,0.9)\n",
        "print(\" \")"
      ]
    }
  ],
  "metadata": {
    "colab": {
      "provenance": [],
      "collapsed_sections": [
        "OuF_wmJvtbdi",
        "nC7f8f0bfRNJ",
        "14axRasW4I-X",
        "78DrV2zJ4KxB",
        "_-zXAAJl4PB6",
        "A-NmNzrS4UAk",
        "_av-q20ttd7y",
        "1n1anwGKfjpy",
        "Wq7gwg894fik",
        "dnmXEdAv4iL9",
        "2yG1f9KC4iMB",
        "_GVFbOjA4iME",
        "7oZlbuZe4jwZ",
        "FnBY69GVfm2F",
        "-g69FCyTfm2G",
        "Jlagp4pjfm2G",
        "Eqz7PJvUfm2I",
        "fMWIQSKufm2J",
        "iJabeKZmilxz",
        "oV0mnvDZ5OG8",
        "xsxw0ybu5Qed",
        "FM9rYzp85Qeh",
        "LbmX5OOv5Qej",
        "DXhIzeNo30g9",
        "OSHnTwxCnLuX",
        "Pdb8m1BDnLud"
      ]
    },
    "kernelspec": {
      "display_name": "Python 3",
      "name": "python3"
    },
    "language_info": {
      "name": "python"
    }
  },
  "nbformat": 4,
  "nbformat_minor": 0
}
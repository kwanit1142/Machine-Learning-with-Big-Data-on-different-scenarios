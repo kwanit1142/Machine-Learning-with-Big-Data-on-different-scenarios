{
  "nbformat": 4,
  "nbformat_minor": 0,
  "metadata": {
    "colab": {
      "provenance": [],
      "collapsed_sections": [
        "K6TiYm3tCPDU",
        "dlG2oYTBCvOQ",
        "MkbirM2wckg8",
        "PTZgPhA7dJYt",
        "CStOEiwAdYYm",
        "LgWM459odYfs",
        "xYwDR3LmcnPn",
        "lvCSETDTfj0-",
        "u0J5Yp0yfj6U",
        "g4hdORRfcqHc",
        "7n2w0jIihkr-",
        "kafbVFDmhknG",
        "UTH82PJuhkpk"
      ]
    },
    "kernelspec": {
      "name": "python3",
      "display_name": "Python 3"
    },
    "language_info": {
      "name": "python"
    }
  },
  "cells": [
    {
      "cell_type": "code",
      "execution_count": null,
      "metadata": {
        "colab": {
          "base_uri": "https://localhost:8080/"
        },
        "id": "yTouIb9X5f7b",
        "outputId": "b1bd3849-9ea9-44cd-ed62-ccd478e47d2d"
      },
      "outputs": [
        {
          "output_type": "stream",
          "name": "stdout",
          "text": [
            "Mounted at /content/drive\n"
          ]
        }
      ],
      "source": [
        "from google.colab import drive\n",
        "drive.mount('/content/drive')"
      ]
    },
    {
      "cell_type": "code",
      "source": [
        "!pip install memory-profiler\n",
        "!pip install --upgrade psutil\n",
        "!pip install datasketch"
      ],
      "metadata": {
        "colab": {
          "base_uri": "https://localhost:8080/"
        },
        "id": "1V4ZwaMO6d63",
        "outputId": "fd857d79-b3b2-4f95-e9f9-531688abf881"
      },
      "execution_count": null,
      "outputs": [
        {
          "output_type": "stream",
          "name": "stdout",
          "text": [
            "Looking in indexes: https://pypi.org/simple, https://us-python.pkg.dev/colab-wheels/public/simple/\n",
            "Collecting memory-profiler\n",
            "  Downloading memory_profiler-0.61.0-py3-none-any.whl (31 kB)\n",
            "Requirement already satisfied: psutil in /usr/local/lib/python3.9/dist-packages (from memory-profiler) (5.9.5)\n",
            "Installing collected packages: memory-profiler\n",
            "Successfully installed memory-profiler-0.61.0\n",
            "Looking in indexes: https://pypi.org/simple, https://us-python.pkg.dev/colab-wheels/public/simple/\n",
            "Requirement already satisfied: psutil in /usr/local/lib/python3.9/dist-packages (5.9.5)\n",
            "Looking in indexes: https://pypi.org/simple, https://us-python.pkg.dev/colab-wheels/public/simple/\n",
            "Collecting datasketch\n",
            "  Downloading datasketch-1.5.9-py3-none-any.whl (76 kB)\n",
            "\u001b[2K     \u001b[90m━━━━━━━━━━━━━━━━━━━━━━━━━━━━━━━━━━━━━━━━\u001b[0m \u001b[32m76.7/76.7 kB\u001b[0m \u001b[31m4.9 MB/s\u001b[0m eta \u001b[36m0:00:00\u001b[0m\n",
            "\u001b[?25hRequirement already satisfied: scipy>=1.0.0 in /usr/local/lib/python3.9/dist-packages (from datasketch) (1.10.1)\n",
            "Requirement already satisfied: numpy>=1.11 in /usr/local/lib/python3.9/dist-packages (from datasketch) (1.22.4)\n",
            "Installing collected packages: datasketch\n",
            "Successfully installed datasketch-1.5.9\n"
          ]
        }
      ]
    },
    {
      "cell_type": "code",
      "source": [
        "import pandas as pd\n",
        "import numpy as np\n",
        "import matplotlib.pyplot as plt\n",
        "import gzip\n",
        "import struct\n",
        "import time\n",
        "from sklearn.naive_bayes import MultinomialNB\n",
        "from sklearn.metrics import classification_report\n",
        "from sklearn.decomposition import PCA\n",
        "from sklearn.manifold import TSNE\n",
        "from sklearn.discriminant_analysis import LinearDiscriminantAnalysis as LDA\n",
        "import scipy\n",
        "import warnings\n",
        "from sklearn.exceptions import UndefinedMetricWarning\n",
        "warnings.filterwarnings('ignore', category=UndefinedMetricWarning)"
      ],
      "metadata": {
        "id": "I0VNph3a5nnz"
      },
      "execution_count": null,
      "outputs": []
    },
    {
      "cell_type": "code",
      "source": [
        "def binarizer(images):\n",
        "    binary_images = np.where(images > 0, 1, 0).astype('uint8')\n",
        "    return binary_images\n",
        "\n",
        "def preprocessing(images, labels=None, n_com=50, type_decomposition='PCA'):\n",
        "  if type_decomposition=='PCA':\n",
        "    decomposition = PCA(n_components=n_com)\n",
        "    decomposition.fit(images)\n",
        "  else:\n",
        "    if type_decomposition=='TSNE':\n",
        "      decomposition = TSNE(n_components=n_com,n_jobs=-1)\n",
        "      return decomposition\n",
        "    elif type_decomposition=='LDA':\n",
        "      decomposition = LDA(n_components=n_com)\n",
        "    else:\n",
        "      print(\"Not a Valid Choice\")\n",
        "      return 0,0\n",
        "    decomposition.fit(images, labels)\n",
        "  return decomposition"
      ],
      "metadata": {
        "id": "1lrGgugh6fDE"
      },
      "execution_count": null,
      "outputs": []
    },
    {
      "cell_type": "code",
      "source": [
        "class StreamingNaiveBayes:\n",
        "  def __init__(self, batch_size=100, epsilon=1e-9, alpha=1.0):\n",
        "    self.batch_size = batch_size\n",
        "    self.epsilon = epsilon\n",
        "    self.alpha = alpha\n",
        "        \n",
        "  def fit(self, X, y):\n",
        "    self.classes = np.unique(y)\n",
        "    self.n_classes = len(self.classes)\n",
        "    self.n_features = X.shape[1]     \n",
        "    self.class_counts = np.zeros(self.n_classes, dtype=np.int32)\n",
        "    self.feature_counts = np.zeros((self.n_classes, self.n_features), dtype=np.float64)\n",
        "    for i in range(0, X.shape[0], self.batch_size):\n",
        "      X_batch = X[i:i+self.batch_size]\n",
        "      y_batch = y[i:i+self.batch_size]      \n",
        "      self.class_counts += np.bincount(y_batch, minlength=self.n_classes)\n",
        "      for j in range(self.n_classes):\n",
        "        mask = (y_batch == self.classes[j])\n",
        "        count = np.sum(mask)\n",
        "        self.feature_counts[j] += np.sum(X_batch[mask], axis=0)\n",
        "    self.feature_probs = (self.feature_counts + self.alpha) / (self.class_counts.reshape(-1, 1) + self.alpha * self.n_features + self.epsilon)\n",
        "    self.class_probs = self.class_counts / np.sum(self.class_counts)\n",
        "        \n",
        "  def predict(self, X):\n",
        "    log_likelihoods=0\n",
        "    if np.any((self.feature_probs + self.epsilon).T<=0):\n",
        "      log_likelihoods = np.dot(X, np.log(np.abs(self.feature_probs + self.epsilon).T)) + np.log(self.class_probs + self.epsilon)\n",
        "    elif np.any((self.class_probs + self.epsilon)<=0):\n",
        "      log_likelihoods = np.dot(X, np.log((self.feature_probs + self.epsilon).T)) + np.log(np.abs(self.class_probs + self.epsilon))\n",
        "    elif np.any((self.class_probs + self.epsilon)<=0) and np.any((self.feature_probs + self.epsilon).T<=0):\n",
        "      log_likelihoods = np.dot(X, np.log(np.abs(self.feature_probs + self.epsilon).T)) + np.log(np.abs(self.class_probs + self.epsilon))\n",
        "    else:\n",
        "      log_likelihoods = np.dot(X, np.log((self.feature_probs + self.epsilon).T)) + np.log(self.class_probs + self.epsilon)\n",
        "    return self.classes[np.argmax(log_likelihoods, axis=1)]"
      ],
      "metadata": {
        "id": "ccGSmSn87zpP"
      },
      "execution_count": null,
      "outputs": []
    },
    {
      "cell_type": "code",
      "source": [
        "with gzip.open('/content/drive/MyDrive/MLBD_Assignment_2/train-images-idx3-ubyte.gz', 'rb') as f:\n",
        "    _, num_images, num_rows, num_cols = struct.unpack('>IIII', f.read(16))\n",
        "    images_binary = f.read(num_images*num_rows*num_cols)\n",
        "    tr_images = np.frombuffer(images_binary, dtype=np.uint8)\n",
        "    tr_images = tr_images.reshape(num_images, num_rows, num_cols)\n",
        "\n",
        "with gzip.open('/content/drive/MyDrive/MLBD_Assignment_2/train-labels-idx1-ubyte.gz', 'rb') as f:\n",
        "    _, num_labels = struct.unpack('>II', f.read(8))\n",
        "    labels_binary = f.read(num_labels)\n",
        "    tr_labels = np.frombuffer(labels_binary, dtype=np.uint8)"
      ],
      "metadata": {
        "id": "f_U7Q1Jm6k4w"
      },
      "execution_count": null,
      "outputs": []
    },
    {
      "cell_type": "code",
      "source": [
        "with gzip.open('/content/drive/MyDrive/MLBD_Assignment_2/t10k-images-idx3-ubyte.gz', 'rb') as f:\n",
        "    _, num_images, num_rows, num_cols = struct.unpack('>IIII', f.read(16))\n",
        "    images_binary = f.read(num_images*num_rows*num_cols)\n",
        "    te_images = np.frombuffer(images_binary, dtype=np.uint8)\n",
        "    te_images = te_images.reshape(num_images, num_rows, num_cols)\n",
        "\n",
        "with gzip.open('/content/drive/MyDrive/MLBD_Assignment_2/t10k-labels-idx1-ubyte.gz', 'rb') as f:\n",
        "    _, num_labels = struct.unpack('>II', f.read(8))\n",
        "    labels_binary = f.read(num_labels)\n",
        "    te_labels = np.frombuffer(labels_binary, dtype=np.uint8)"
      ],
      "metadata": {
        "id": "FFzespVz6pBk"
      },
      "execution_count": null,
      "outputs": []
    },
    {
      "cell_type": "code",
      "source": [
        "tr_images = tr_images.reshape(tr_images.shape[0],-1)\n",
        "te_images = te_images.reshape(te_images.shape[0],-1)\n",
        "print(tr_images.shape,te_images.shape)"
      ],
      "metadata": {
        "colab": {
          "base_uri": "https://localhost:8080/"
        },
        "id": "EmKn5Dba6rex",
        "outputId": "6f21718f-3d2f-40e5-976c-0b0b057977c8"
      },
      "execution_count": null,
      "outputs": [
        {
          "output_type": "stream",
          "name": "stdout",
          "text": [
            "(60000, 784) (10000, 784)\n"
          ]
        }
      ]
    },
    {
      "cell_type": "code",
      "source": [
        "tr_images, te_images = binarizer(tr_images), binarizer(te_images)"
      ],
      "metadata": {
        "id": "GiKGPytt7YYZ"
      },
      "execution_count": null,
      "outputs": []
    },
    {
      "cell_type": "markdown",
      "source": [
        "#Without applying Dimensionality Reduction"
      ],
      "metadata": {
        "id": "K6TiYm3tCPDU"
      }
    },
    {
      "cell_type": "markdown",
      "source": [
        "## Stream_Window=10, Epsilon=1e-9, Alpha=1.0"
      ],
      "metadata": {
        "id": "dlG2oYTBCvOQ"
      }
    },
    {
      "cell_type": "code",
      "source": [
        "nb = StreamingNaiveBayes(batch_size=10, epsilon=1e-9, alpha=1.0)\n",
        "start_tr = time.time()\n",
        "nb.fit(tr_images, tr_labels)\n",
        "end_tr = time.time()\n",
        "fit_tr = end_tr - start_tr\n",
        "print(\"Time taken to fit Stream Naive Bayes model:\", fit_tr, \"seconds\")\n",
        "start_te = time.time()\n",
        "y_pred = nb.predict(te_images)\n",
        "accuracy = np.sum(y_pred == te_labels) / len(te_labels)\n",
        "print(f\"Accuracy: {accuracy*100}%\")\n",
        "end_te = time.time()\n",
        "fit_te = end_te - start_te\n",
        "print(\"Time taken to evaluate Stream Naive Bayes model on test portion:\", fit_te, \"seconds\\n\")"
      ],
      "metadata": {
        "colab": {
          "base_uri": "https://localhost:8080/"
        },
        "id": "kb8Vsyr9CzfB",
        "outputId": "e7f5247f-3cbd-4003-ba17-5280528712c4"
      },
      "execution_count": null,
      "outputs": [
        {
          "output_type": "stream",
          "name": "stdout",
          "text": [
            "Time taken to fit Stream Naive Bayes model: 1.4578919410705566 seconds\n",
            "Accuracy: 62.43%\n",
            "Time taken to evaluate Stream Naive Bayes model on test portion: 0.05203413963317871 seconds\n",
            "\n"
          ]
        }
      ]
    },
    {
      "cell_type": "markdown",
      "source": [
        "## Stream_Window=100, Epsilon=1e-9, Alpha=1.0"
      ],
      "metadata": {
        "id": "v_IbJvtkCUd2"
      }
    },
    {
      "cell_type": "code",
      "source": [
        "nb = StreamingNaiveBayes(batch_size=100, epsilon=1e-9, alpha=1.0)\n",
        "start_tr = time.time()\n",
        "nb.fit(tr_images, tr_labels)\n",
        "end_tr = time.time()\n",
        "fit_tr = end_tr - start_tr\n",
        "print(\"Time taken to fit Stream Naive Bayes model:\", fit_tr, \"seconds\")\n",
        "start_te = time.time()\n",
        "y_pred = nb.predict(te_images)\n",
        "accuracy = np.sum(y_pred == te_labels) / len(te_labels)\n",
        "print(f\"Accuracy: {accuracy*100}%\")\n",
        "end_te = time.time()\n",
        "fit_te = end_te - start_te\n",
        "print(\"Time taken to evaluate Stream Naive Bayes model on test portion:\", fit_te, \"seconds\\n\")"
      ],
      "metadata": {
        "colab": {
          "base_uri": "https://localhost:8080/"
        },
        "id": "d5UBLHYN-gEf",
        "outputId": "da61b1f8-ec4c-4b22-bb63-7b787b4b643b"
      },
      "execution_count": null,
      "outputs": [
        {
          "output_type": "stream",
          "name": "stdout",
          "text": [
            "Time taken to fit Stream Naive Bayes model: 0.260390043258667 seconds\n",
            "Accuracy: 62.43%\n",
            "Time taken to evaluate Stream Naive Bayes model on test portion: 0.04279661178588867 seconds\n",
            "\n"
          ]
        }
      ]
    },
    {
      "cell_type": "markdown",
      "source": [
        "## Stream_Window=10, Epsilon=1, Alpha=1.0"
      ],
      "metadata": {
        "id": "sKjklSzAC5W6"
      }
    },
    {
      "cell_type": "code",
      "source": [
        "nb = StreamingNaiveBayes(batch_size=10, epsilon=1, alpha=1.0)\n",
        "start_tr = time.time()\n",
        "nb.fit(tr_images, tr_labels)\n",
        "end_tr = time.time()\n",
        "fit_tr = end_tr - start_tr\n",
        "print(\"Time taken to fit Stream Naive Bayes model:\", fit_tr, \"seconds\")\n",
        "start_te = time.time()\n",
        "y_pred = nb.predict(te_images)\n",
        "accuracy = np.sum(y_pred == te_labels) / len(te_labels)\n",
        "print(f\"Accuracy: {accuracy*100}%\")\n",
        "end_te = time.time()\n",
        "fit_te = end_te - start_te\n",
        "print(\"Time taken to evaluate Stream Naive Bayes model on test portion:\", fit_te, \"seconds\\n\")"
      ],
      "metadata": {
        "colab": {
          "base_uri": "https://localhost:8080/"
        },
        "id": "p3wk_kA5C42-",
        "outputId": "ace3c6f5-6576-4acb-d0f9-6a4849b48484"
      },
      "execution_count": null,
      "outputs": [
        {
          "output_type": "stream",
          "name": "stdout",
          "text": [
            "Time taken to fit Stream Naive Bayes model: 1.5151591300964355 seconds\n",
            "Accuracy: 54.96%\n",
            "Time taken to evaluate Stream Naive Bayes model on test portion: 0.04021000862121582 seconds\n",
            "\n"
          ]
        }
      ]
    },
    {
      "cell_type": "markdown",
      "source": [
        "## Stream_Window=100, Epsilon=1, Alpha=1.0"
      ],
      "metadata": {
        "id": "x0yIQyKmFHCe"
      }
    },
    {
      "cell_type": "code",
      "source": [
        "nb = StreamingNaiveBayes(batch_size=100, epsilon=1, alpha=1.0)\n",
        "start_tr = time.time()\n",
        "nb.fit(tr_images, tr_labels)\n",
        "end_tr = time.time()\n",
        "fit_tr = end_tr - start_tr\n",
        "print(\"Time taken to fit Stream Naive Bayes model:\", fit_tr, \"seconds\")\n",
        "start_te = time.time()\n",
        "y_pred = nb.predict(te_images)\n",
        "accuracy = np.sum(y_pred == te_labels) / len(te_labels)\n",
        "print(f\"Accuracy: {accuracy*100}%\")\n",
        "end_te = time.time()\n",
        "fit_te = end_te - start_te\n",
        "print(\"Time taken to evaluate Stream Naive Bayes model on test portion:\", fit_te, \"seconds\\n\")"
      ],
      "metadata": {
        "colab": {
          "base_uri": "https://localhost:8080/"
        },
        "id": "JE9PBVndFMc7",
        "outputId": "e1abb80f-4378-4ed9-d2ee-a48b4747a598"
      },
      "execution_count": null,
      "outputs": [
        {
          "output_type": "stream",
          "name": "stdout",
          "text": [
            "Time taken to fit Stream Naive Bayes model: 0.22924590110778809 seconds\n",
            "Accuracy: 54.96%\n",
            "Time taken to evaluate Stream Naive Bayes model on test portion: 0.04111123085021973 seconds\n",
            "\n"
          ]
        }
      ]
    },
    {
      "cell_type": "markdown",
      "source": [
        "## Stream_Window=10, Epsilon=1e9, Alpha=1.0"
      ],
      "metadata": {
        "id": "XJ9XYQxWGirY"
      }
    },
    {
      "cell_type": "code",
      "source": [
        "nb = StreamingNaiveBayes(batch_size=10, epsilon=1e9, alpha=1.0)\n",
        "start_tr = time.time()\n",
        "nb.fit(tr_images, tr_labels)\n",
        "end_tr = time.time()\n",
        "fit_tr = end_tr - start_tr\n",
        "print(\"Time taken to fit Stream Naive Bayes model:\", fit_tr, \"seconds\")\n",
        "start_te = time.time()\n",
        "y_pred = nb.predict(te_images)\n",
        "accuracy = np.sum(y_pred == te_labels) / len(te_labels)\n",
        "print(f\"Accuracy: {accuracy*100}%\")\n",
        "end_te = time.time()\n",
        "fit_te = end_te - start_te\n",
        "print(\"Time taken to evaluate Stream Naive Bayes model on test portion:\", fit_te, \"seconds\\n\")"
      ],
      "metadata": {
        "colab": {
          "base_uri": "https://localhost:8080/"
        },
        "id": "veJSVoXiGh6p",
        "outputId": "fffc63f2-af60-4be0-b453-c66a829f946b"
      },
      "execution_count": null,
      "outputs": [
        {
          "output_type": "stream",
          "name": "stdout",
          "text": [
            "Time taken to fit Stream Naive Bayes model: 1.9037749767303467 seconds\n",
            "Accuracy: 11.35%\n",
            "Time taken to evaluate Stream Naive Bayes model on test portion: 0.06326532363891602 seconds\n",
            "\n"
          ]
        }
      ]
    },
    {
      "cell_type": "markdown",
      "source": [
        "## Stream_Window=100, Epsilon=1e9, Alpha=1.0"
      ],
      "metadata": {
        "id": "eVl_Dnh1GtvB"
      }
    },
    {
      "cell_type": "code",
      "source": [
        "nb = StreamingNaiveBayes(batch_size=100, epsilon=1e9, alpha=1.0)\n",
        "start_tr = time.time()\n",
        "nb.fit(tr_images, tr_labels)\n",
        "end_tr = time.time()\n",
        "fit_tr = end_tr - start_tr\n",
        "print(\"Time taken to fit Stream Naive Bayes model:\", fit_tr, \"seconds\")\n",
        "start_te = time.time()\n",
        "y_pred = nb.predict(te_images)\n",
        "accuracy = np.sum(y_pred == te_labels) / len(te_labels)\n",
        "print(f\"Accuracy: {accuracy*100}%\")\n",
        "end_te = time.time()\n",
        "fit_te = end_te - start_te\n",
        "print(\"Time taken to evaluate Stream Naive Bayes model on test portion:\", fit_te, \"seconds\\n\")"
      ],
      "metadata": {
        "colab": {
          "base_uri": "https://localhost:8080/"
        },
        "id": "UKVYNFxHGtAd",
        "outputId": "352e5fe6-084b-409b-daa3-553c14c9af70"
      },
      "execution_count": null,
      "outputs": [
        {
          "output_type": "stream",
          "name": "stdout",
          "text": [
            "Time taken to fit Stream Naive Bayes model: 0.37812066078186035 seconds\n",
            "Accuracy: 11.35%\n",
            "Time taken to evaluate Stream Naive Bayes model on test portion: 0.06345319747924805 seconds\n",
            "\n"
          ]
        }
      ]
    },
    {
      "cell_type": "markdown",
      "source": [
        "## Stream_Window=10, Epsilon=1e-9, Alpha=10.0"
      ],
      "metadata": {
        "id": "b4U8MbZwDI0q"
      }
    },
    {
      "cell_type": "code",
      "source": [
        "nb = StreamingNaiveBayes(batch_size=10, epsilon=1e-9, alpha=10.0)\n",
        "start_tr = time.time()\n",
        "nb.fit(tr_images, tr_labels)\n",
        "end_tr = time.time()\n",
        "fit_tr = end_tr - start_tr\n",
        "print(\"Time taken to fit Stream Naive Bayes model:\", fit_tr, \"seconds\")\n",
        "start_te = time.time()\n",
        "y_pred = nb.predict(te_images)\n",
        "accuracy = np.sum(y_pred == te_labels) / len(te_labels)\n",
        "print(f\"Accuracy: {accuracy*100}%\")\n",
        "end_te = time.time()\n",
        "fit_te = end_te - start_te\n",
        "print(\"Time taken to evaluate Stream Naive Bayes model on test portion:\", fit_te, \"seconds\\n\")"
      ],
      "metadata": {
        "colab": {
          "base_uri": "https://localhost:8080/"
        },
        "id": "k9XFAa8tDLJH",
        "outputId": "4cce2fe9-2bda-4b11-e4d3-9b9ed0b8b811"
      },
      "execution_count": null,
      "outputs": [
        {
          "output_type": "stream",
          "name": "stdout",
          "text": [
            "Time taken to fit Stream Naive Bayes model: 2.687964677810669 seconds\n",
            "Accuracy: 63.43%\n",
            "Time taken to evaluate Stream Naive Bayes model on test portion: 0.0432126522064209 seconds\n",
            "\n"
          ]
        }
      ]
    },
    {
      "cell_type": "markdown",
      "source": [
        "## Stream_Window=10, Epsilon=1e-9, Alpha=0.1"
      ],
      "metadata": {
        "id": "qf_507a3EM0g"
      }
    },
    {
      "cell_type": "code",
      "source": [
        "nb = StreamingNaiveBayes(batch_size=10, epsilon=1e-9, alpha=0.1)\n",
        "start_tr = time.time()\n",
        "nb.fit(tr_images, tr_labels)\n",
        "end_tr = time.time()\n",
        "fit_tr = end_tr - start_tr\n",
        "print(\"Time taken to fit Stream Naive Bayes model:\", fit_tr, \"seconds\")\n",
        "start_te = time.time()\n",
        "y_pred = nb.predict(te_images)\n",
        "accuracy = np.sum(y_pred == te_labels) / len(te_labels)\n",
        "print(f\"Accuracy: {accuracy*100}%\")\n",
        "end_te = time.time()\n",
        "fit_te = end_te - start_te\n",
        "print(\"Time taken to evaluate Stream Naive Bayes model on test portion:\", fit_te, \"seconds\\n\")"
      ],
      "metadata": {
        "colab": {
          "base_uri": "https://localhost:8080/"
        },
        "id": "ColZob0EEiux",
        "outputId": "801832ab-5056-4a1d-cdb4-34d32db3da81"
      },
      "execution_count": null,
      "outputs": [
        {
          "output_type": "stream",
          "name": "stdout",
          "text": [
            "Time taken to fit Stream Naive Bayes model: 1.3595151901245117 seconds\n",
            "Accuracy: 62.35000000000001%\n",
            "Time taken to evaluate Stream Naive Bayes model on test portion: 0.04393148422241211 seconds\n",
            "\n"
          ]
        }
      ]
    },
    {
      "cell_type": "markdown",
      "source": [
        "## Stream_Window=10, Epsilon=1e-9, Alpha=100.0"
      ],
      "metadata": {
        "id": "mIfQGazwEqes"
      }
    },
    {
      "cell_type": "code",
      "source": [
        "nb = StreamingNaiveBayes(batch_size=10, epsilon=1e-9, alpha=100.0)\n",
        "start_tr = time.time()\n",
        "nb.fit(tr_images, tr_labels)\n",
        "end_tr = time.time()\n",
        "fit_tr = end_tr - start_tr\n",
        "print(\"Time taken to fit Stream Naive Bayes model:\", fit_tr, \"seconds\")\n",
        "start_te = time.time()\n",
        "y_pred = nb.predict(te_images)\n",
        "accuracy = np.sum(y_pred == te_labels) / len(te_labels)\n",
        "print(f\"Accuracy: {accuracy*100}%\")\n",
        "end_te = time.time()\n",
        "fit_te = end_te - start_te\n",
        "print(\"Time taken to evaluate Stream Naive Bayes model on test portion:\", fit_te, \"seconds\\n\")"
      ],
      "metadata": {
        "colab": {
          "base_uri": "https://localhost:8080/"
        },
        "id": "ZCK7AskREtbt",
        "outputId": "ddf63156-1fd4-4449-c636-50fc752c967b"
      },
      "execution_count": null,
      "outputs": [
        {
          "output_type": "stream",
          "name": "stdout",
          "text": [
            "Time taken to fit Stream Naive Bayes model: 1.9494762420654297 seconds\n",
            "Accuracy: 64.25%\n",
            "Time taken to evaluate Stream Naive Bayes model on test portion: 0.06657075881958008 seconds\n",
            "\n"
          ]
        }
      ]
    },
    {
      "cell_type": "markdown",
      "source": [
        "## Stream_Window=10, Epsilon=1e-9, Alpha=0.01"
      ],
      "metadata": {
        "id": "3QMqmMWrEwcN"
      }
    },
    {
      "cell_type": "code",
      "source": [
        "nb = StreamingNaiveBayes(batch_size=10, epsilon=1e-9, alpha=0.01)\n",
        "start_tr = time.time()\n",
        "nb.fit(tr_images, tr_labels)\n",
        "end_tr = time.time()\n",
        "fit_tr = end_tr - start_tr\n",
        "print(\"Time taken to fit Stream Naive Bayes model:\", fit_tr, \"seconds\")\n",
        "start_te = time.time()\n",
        "y_pred = nb.predict(te_images)\n",
        "accuracy = np.sum(y_pred == te_labels) / len(te_labels)\n",
        "print(f\"Accuracy: {accuracy*100}%\")\n",
        "end_te = time.time()\n",
        "fit_te = end_te - start_te\n",
        "print(\"Time taken to evaluate Stream Naive Bayes model on test portion:\", fit_te, \"seconds\\n\")"
      ],
      "metadata": {
        "colab": {
          "base_uri": "https://localhost:8080/"
        },
        "id": "cwekQbXRE1yU",
        "outputId": "fd88f68e-517e-4d78-c910-70710cea5931"
      },
      "execution_count": null,
      "outputs": [
        {
          "output_type": "stream",
          "name": "stdout",
          "text": [
            "Time taken to fit Stream Naive Bayes model: 2.9556729793548584 seconds\n",
            "Accuracy: 62.36000000000001%\n",
            "Time taken to evaluate Stream Naive Bayes model on test portion: 0.07645153999328613 seconds\n",
            "\n"
          ]
        }
      ]
    },
    {
      "cell_type": "markdown",
      "source": [
        "#While using Dimensionality Reduction"
      ],
      "metadata": {
        "id": "bxrLQ95AcaEu"
      }
    },
    {
      "cell_type": "markdown",
      "source": [
        "##PCA"
      ],
      "metadata": {
        "id": "MkbirM2wckg8"
      }
    },
    {
      "cell_type": "markdown",
      "source": [
        "###n_components=50"
      ],
      "metadata": {
        "id": "PTZgPhA7dJYt"
      }
    },
    {
      "cell_type": "code",
      "source": [
        "mode = preprocessing(tr_images, tr_labels, 50, 'PCA')\n",
        "tr_image, te_image = mode.transform(tr_images), mode.transform(te_images)\n",
        "nb = StreamingNaiveBayes()\n",
        "start_tr = time.time()\n",
        "nb.fit(tr_image, tr_labels)\n",
        "end_tr = time.time()\n",
        "fit_tr = end_tr - start_tr\n",
        "print(\"Time taken to fit Stream Naive Bayes model:\", fit_tr, \"seconds\")\n",
        "start_te = time.time()\n",
        "y_pred = nb.predict(te_image)\n",
        "accuracy = np.sum(y_pred == te_labels) / len(te_labels)\n",
        "print(f\"Accuracy: {accuracy*100}%\")\n",
        "end_te = time.time()\n",
        "fit_te = end_te - start_te\n",
        "print(\"Time taken to evaluate Stream Naive Bayes model on test portion:\", fit_te, \"seconds\\n\")"
      ],
      "metadata": {
        "colab": {
          "base_uri": "https://localhost:8080/"
        },
        "id": "D4ZOl8Bjcr3p",
        "outputId": "53957cf9-bcca-42dd-947b-a5e81c9edc59"
      },
      "execution_count": null,
      "outputs": [
        {
          "output_type": "stream",
          "name": "stdout",
          "text": [
            "Time taken to fit Stream Naive Bayes model: 0.5567362308502197 seconds\n",
            "Accuracy: 11.99%\n",
            "Time taken to evaluate Stream Naive Bayes model on test portion: 0.021024703979492188 seconds\n",
            "\n"
          ]
        }
      ]
    },
    {
      "cell_type": "code",
      "source": [
        "mode = preprocessing(tr_images, tr_labels, 50, 'PCA')\n",
        "images = mode.fit_transform(np.vstack((tr_images, te_images)))\n",
        "tr_image, te_image = images[:60001,:], images[60000:,:]\n",
        "nb = StreamingNaiveBayes()\n",
        "start_tr = time.time()\n",
        "nb.fit(tr_image, tr_labels)\n",
        "end_tr = time.time()\n",
        "fit_tr = end_tr - start_tr\n",
        "print(\"Time taken to fit Stream Naive Bayes model:\", fit_tr, \"seconds\")\n",
        "start_te = time.time()\n",
        "y_pred = nb.predict(te_image)\n",
        "accuracy = np.sum(y_pred == te_labels) / len(te_labels)\n",
        "print(f\"Accuracy: {accuracy*100}%\")\n",
        "end_te = time.time()\n",
        "fit_te = end_te - start_te\n",
        "print(\"Time taken to evaluate Stream Naive Bayes model on test portion:\", fit_te, \"seconds\\n\")"
      ],
      "metadata": {
        "colab": {
          "base_uri": "https://localhost:8080/"
        },
        "id": "ruFtseilGHBa",
        "outputId": "88b183b6-b8cd-4f5d-a458-e0c1ec1e3cc9"
      },
      "execution_count": null,
      "outputs": [
        {
          "output_type": "stream",
          "name": "stdout",
          "text": [
            "Time taken to fit Stream Naive Bayes model: 0.281444787979126 seconds\n",
            "Accuracy: 11.92%\n",
            "Time taken to evaluate Stream Naive Bayes model on test portion: 0.005118370056152344 seconds\n",
            "\n"
          ]
        }
      ]
    },
    {
      "cell_type": "markdown",
      "source": [
        "###n_components=100"
      ],
      "metadata": {
        "id": "CStOEiwAdYYm"
      }
    },
    {
      "cell_type": "code",
      "source": [
        "mode = preprocessing(tr_images, tr_labels, 100, 'PCA')\n",
        "tr_image, te_image = mode.transform(tr_images), mode.transform(te_images)\n",
        "nb = StreamingNaiveBayes()\n",
        "start_tr = time.time()\n",
        "nb.fit(tr_image, tr_labels)\n",
        "end_tr = time.time()\n",
        "fit_tr = end_tr - start_tr\n",
        "print(\"Time taken to fit Stream Naive Bayes model:\", fit_tr, \"seconds\")\n",
        "start_te = time.time()\n",
        "y_pred = nb.predict(te_image)\n",
        "accuracy = np.sum(y_pred == te_labels) / len(te_labels)\n",
        "print(f\"Accuracy: {accuracy*100}%\")\n",
        "end_te = time.time()\n",
        "fit_te = end_te - start_te\n",
        "print(\"Time taken to evaluate Stream Naive Bayes model on test portion:\", fit_te, \"seconds\\n\")"
      ],
      "metadata": {
        "colab": {
          "base_uri": "https://localhost:8080/"
        },
        "id": "xMV_a_3Xddp8",
        "outputId": "7d38ba35-81a9-4dbf-d4a0-53afaba4d0cb"
      },
      "execution_count": null,
      "outputs": [
        {
          "output_type": "stream",
          "name": "stdout",
          "text": [
            "Time taken to fit Stream Naive Bayes model: 0.28940558433532715 seconds\n",
            "Accuracy: 12.25%\n",
            "Time taken to evaluate Stream Naive Bayes model on test portion: 0.006029844284057617 seconds\n",
            "\n"
          ]
        }
      ]
    },
    {
      "cell_type": "code",
      "source": [
        "mode = preprocessing(tr_images, tr_labels, 100, 'PCA')\n",
        "images = mode.fit_transform(np.vstack((tr_images, te_images)))\n",
        "tr_image, te_image = images[:60001,:], images[60000:,:]\n",
        "nb = StreamingNaiveBayes()\n",
        "start_tr = time.time()\n",
        "nb.fit(tr_image, tr_labels)\n",
        "end_tr = time.time()\n",
        "fit_tr = end_tr - start_tr\n",
        "print(\"Time taken to fit Stream Naive Bayes model:\", fit_tr, \"seconds\")\n",
        "start_te = time.time()\n",
        "y_pred = nb.predict(te_image)\n",
        "accuracy = np.sum(y_pred == te_labels) / len(te_labels)\n",
        "print(f\"Accuracy: {accuracy*100}%\")\n",
        "end_te = time.time()\n",
        "fit_te = end_te - start_te\n",
        "print(\"Time taken to evaluate Stream Naive Bayes model on test portion:\", fit_te, \"seconds\\n\")"
      ],
      "metadata": {
        "colab": {
          "base_uri": "https://localhost:8080/"
        },
        "id": "Ek7uLTfpGRaL",
        "outputId": "a6e4381f-7d55-4433-8550-a5a0d336ad3b"
      },
      "execution_count": null,
      "outputs": [
        {
          "output_type": "stream",
          "name": "stdout",
          "text": [
            "Time taken to fit Stream Naive Bayes model: 0.5494375228881836 seconds\n",
            "Accuracy: 12.379999999999999%\n",
            "Time taken to evaluate Stream Naive Bayes model on test portion: 0.022900819778442383 seconds\n",
            "\n"
          ]
        }
      ]
    },
    {
      "cell_type": "markdown",
      "source": [
        "###n_components=200"
      ],
      "metadata": {
        "id": "LgWM459odYfs"
      }
    },
    {
      "cell_type": "code",
      "source": [
        "mode = preprocessing(tr_images, tr_labels, 200, 'PCA')\n",
        "tr_image, te_image = mode.transform(tr_images), mode.transform(te_images)\n",
        "nb = StreamingNaiveBayes()\n",
        "start_tr = time.time()\n",
        "nb.fit(tr_image, tr_labels)\n",
        "end_tr = time.time()\n",
        "fit_tr = end_tr - start_tr\n",
        "print(\"Time taken to fit Stream Naive Bayes model:\", fit_tr, \"seconds\")\n",
        "start_te = time.time()\n",
        "y_pred = nb.predict(te_image)\n",
        "accuracy = np.sum(y_pred == te_labels) / len(te_labels)\n",
        "print(f\"Accuracy: {accuracy*100}%\")\n",
        "end_te = time.time()\n",
        "fit_te = end_te - start_te\n",
        "print(\"Time taken to evaluate Stream Naive Bayes model on test portion:\", fit_te, \"seconds\\n\")"
      ],
      "metadata": {
        "colab": {
          "base_uri": "https://localhost:8080/"
        },
        "id": "uNeYlRvkdfkS",
        "outputId": "5a5a9946-87e2-4255-f19a-864c456b7f47"
      },
      "execution_count": null,
      "outputs": [
        {
          "output_type": "stream",
          "name": "stdout",
          "text": [
            "Time taken to fit Stream Naive Bayes model: 0.30446887016296387 seconds\n",
            "Accuracy: 12.22%\n",
            "Time taken to evaluate Stream Naive Bayes model on test portion: 0.010184049606323242 seconds\n",
            "\n"
          ]
        }
      ]
    },
    {
      "cell_type": "code",
      "source": [
        "mode = preprocessing(tr_images, tr_labels, 200, 'PCA')\n",
        "images = mode.fit_transform(np.vstack((tr_images, te_images)))\n",
        "tr_image, te_image = images[:60001,:], images[60000:,:]\n",
        "nb = StreamingNaiveBayes()\n",
        "start_tr = time.time()\n",
        "nb.fit(tr_image, tr_labels)\n",
        "end_tr = time.time()\n",
        "fit_tr = end_tr - start_tr\n",
        "print(\"Time taken to fit Stream Naive Bayes model:\", fit_tr, \"seconds\")\n",
        "start_te = time.time()\n",
        "y_pred = nb.predict(te_image)\n",
        "accuracy = np.sum(y_pred == te_labels) / len(te_labels)\n",
        "print(f\"Accuracy: {accuracy*100}%\")\n",
        "end_te = time.time()\n",
        "fit_te = end_te - start_te\n",
        "print(\"Time taken to evaluate Stream Naive Bayes model on test portion:\", fit_te, \"seconds\\n\")"
      ],
      "metadata": {
        "colab": {
          "base_uri": "https://localhost:8080/"
        },
        "id": "E2A3wXEpGUFN",
        "outputId": "2aeece55-63d4-424a-e13c-170a4cc5699a"
      },
      "execution_count": null,
      "outputs": [
        {
          "output_type": "stream",
          "name": "stdout",
          "text": [
            "Time taken to fit Stream Naive Bayes model: 0.13631772994995117 seconds\n",
            "Accuracy: 12.41%\n",
            "Time taken to evaluate Stream Naive Bayes model on test portion: 0.013323307037353516 seconds\n",
            "\n"
          ]
        }
      ]
    },
    {
      "cell_type": "markdown",
      "source": [
        "##LDA"
      ],
      "metadata": {
        "id": "xYwDR3LmcnPn"
      }
    },
    {
      "cell_type": "markdown",
      "source": [
        "###n_components=2"
      ],
      "metadata": {
        "id": "qNpeydO7fjtd"
      }
    },
    {
      "cell_type": "code",
      "source": [
        "mode = preprocessing(tr_images, tr_labels, 2, 'LDA')\n",
        "tr_image, te_image = mode.transform(tr_images), mode.transform(te_images)\n",
        "nb = StreamingNaiveBayes()\n",
        "start_tr = time.time()\n",
        "nb.fit(tr_image, tr_labels)\n",
        "end_tr = time.time()\n",
        "fit_tr = end_tr - start_tr\n",
        "print(\"Time taken to fit Stream Naive Bayes model:\", fit_tr, \"seconds\")\n",
        "start_te = time.time()\n",
        "y_pred = nb.predict(te_image)\n",
        "accuracy = np.sum(y_pred == te_labels) / len(te_labels)\n",
        "print(f\"Accuracy: {accuracy*100}%\")\n",
        "end_te = time.time()\n",
        "fit_te = end_te - start_te\n",
        "print(\"Time taken to evaluate Stream Naive Bayes model on test portion:\", fit_te, \"seconds\\n\")"
      ],
      "metadata": {
        "colab": {
          "base_uri": "https://localhost:8080/"
        },
        "id": "rpdrzSAufs_Q",
        "outputId": "09cef606-84b8-427f-e1bf-15746e68b5a4"
      },
      "execution_count": null,
      "outputs": [
        {
          "output_type": "stream",
          "name": "stdout",
          "text": [
            "Time taken to fit Stream Naive Bayes model: 0.16003680229187012 seconds\n",
            "Accuracy: 8.61%\n",
            "Time taken to evaluate Stream Naive Bayes model on test portion: 0.0014553070068359375 seconds\n",
            "\n"
          ]
        }
      ]
    },
    {
      "cell_type": "code",
      "source": [
        "mode = preprocessing(tr_images, tr_labels, 2, 'LDA')\n",
        "img = np.vstack((tr_images, te_images))\n",
        "lab = np.vstack((np.expand_dims(tr_labels,1), np.expand_dims(te_labels,1)))\n",
        "images = mode.fit_transform(img, lab)\n",
        "tr_image, te_image = images[:60001,:], images[60000:,:]\n",
        "nb = StreamingNaiveBayes()\n",
        "start_tr = time.time()\n",
        "nb.fit(tr_image, tr_labels)\n",
        "end_tr = time.time()\n",
        "fit_tr = end_tr - start_tr\n",
        "print(\"Time taken to fit Stream Naive Bayes model:\", fit_tr, \"seconds\")\n",
        "start_te = time.time()\n",
        "y_pred = nb.predict(te_image)\n",
        "accuracy = np.sum(y_pred == te_labels) / len(te_labels)\n",
        "print(f\"Accuracy: {accuracy*100}%\")\n",
        "end_te = time.time()\n",
        "fit_te = end_te - start_te\n",
        "print(\"Time taken to evaluate Stream Naive Bayes model on test portion:\", fit_te, \"seconds\\n\")"
      ],
      "metadata": {
        "colab": {
          "base_uri": "https://localhost:8080/"
        },
        "id": "dI2j2e16GZRW",
        "outputId": "0874a0d8-7575-4c51-f211-b41a3afd1e08"
      },
      "execution_count": null,
      "outputs": [
        {
          "output_type": "stream",
          "name": "stderr",
          "text": [
            "/usr/local/lib/python3.9/dist-packages/sklearn/utils/validation.py:1143: DataConversionWarning: A column-vector y was passed when a 1d array was expected. Please change the shape of y to (n_samples, ), for example using ravel().\n",
            "  y = column_or_1d(y, warn=True)\n"
          ]
        },
        {
          "output_type": "stream",
          "name": "stdout",
          "text": [
            "Time taken to fit Stream Naive Bayes model: 0.16337156295776367 seconds\n",
            "Accuracy: 8.450000000000001%\n",
            "Time taken to evaluate Stream Naive Bayes model on test portion: 0.0020051002502441406 seconds\n",
            "\n"
          ]
        }
      ]
    },
    {
      "cell_type": "markdown",
      "source": [
        "###n_components=5"
      ],
      "metadata": {
        "id": "lvCSETDTfj0-"
      }
    },
    {
      "cell_type": "code",
      "source": [
        "mode = preprocessing(tr_images, tr_labels, 5, 'LDA')\n",
        "tr_image, te_image = mode.transform(tr_images), mode.transform(te_images)\n",
        "nb = StreamingNaiveBayes()\n",
        "start_tr = time.time()\n",
        "nb.fit(tr_image, tr_labels)\n",
        "end_tr = time.time()\n",
        "fit_tr = end_tr - start_tr\n",
        "print(\"Time taken to fit Stream Naive Bayes model:\", fit_tr, \"seconds\")\n",
        "start_te = time.time()\n",
        "y_pred = nb.predict(te_image)\n",
        "accuracy = np.sum(y_pred == te_labels) / len(te_labels)\n",
        "print(f\"Accuracy: {accuracy*100}%\")\n",
        "end_te = time.time()\n",
        "fit_te = end_te - start_te\n",
        "print(\"Time taken to evaluate Stream Naive Bayes model on test portion:\", fit_te, \"seconds\\n\")"
      ],
      "metadata": {
        "colab": {
          "base_uri": "https://localhost:8080/"
        },
        "id": "tD_CK5GkgJvT",
        "outputId": "9f678075-62af-4b09-99cf-2e6ebc9ee5a6"
      },
      "execution_count": null,
      "outputs": [
        {
          "output_type": "stream",
          "name": "stdout",
          "text": [
            "Time taken to fit Stream Naive Bayes model: 0.15996742248535156 seconds\n",
            "Accuracy: 3.74%\n",
            "Time taken to evaluate Stream Naive Bayes model on test portion: 0.003038167953491211 seconds\n",
            "\n"
          ]
        }
      ]
    },
    {
      "cell_type": "code",
      "source": [
        "mode = preprocessing(tr_images, tr_labels, 5, 'LDA')\n",
        "img = np.vstack((tr_images, te_images))\n",
        "lab = np.vstack((np.expand_dims(tr_labels,1), np.expand_dims(te_labels,1)))\n",
        "images = mode.fit_transform(img, lab)\n",
        "tr_image, te_image = images[:60001,:], images[60000:,:]\n",
        "nb = StreamingNaiveBayes()\n",
        "start_tr = time.time()\n",
        "nb.fit(tr_image, tr_labels)\n",
        "end_tr = time.time()\n",
        "fit_tr = end_tr - start_tr\n",
        "print(\"Time taken to fit Stream Naive Bayes model:\", fit_tr, \"seconds\")\n",
        "start_te = time.time()\n",
        "y_pred = nb.predict(te_image)\n",
        "accuracy = np.sum(y_pred == te_labels) / len(te_labels)\n",
        "print(f\"Accuracy: {accuracy*100}%\")\n",
        "end_te = time.time()\n",
        "fit_te = end_te - start_te\n",
        "print(\"Time taken to evaluate Stream Naive Bayes model on test portion:\", fit_te, \"seconds\\n\")"
      ],
      "metadata": {
        "colab": {
          "base_uri": "https://localhost:8080/"
        },
        "id": "QWCmFaFoGq3j",
        "outputId": "1d4aad2a-236c-46fc-b2ad-7a108c1351de"
      },
      "execution_count": null,
      "outputs": [
        {
          "output_type": "stream",
          "name": "stderr",
          "text": [
            "/usr/local/lib/python3.9/dist-packages/sklearn/utils/validation.py:1143: DataConversionWarning: A column-vector y was passed when a 1d array was expected. Please change the shape of y to (n_samples, ), for example using ravel().\n",
            "  y = column_or_1d(y, warn=True)\n"
          ]
        },
        {
          "output_type": "stream",
          "name": "stdout",
          "text": [
            "Time taken to fit Stream Naive Bayes model: 0.15761017799377441 seconds\n",
            "Accuracy: 4.6899999999999995%\n",
            "Time taken to evaluate Stream Naive Bayes model on test portion: 0.0023555755615234375 seconds\n",
            "\n"
          ]
        }
      ]
    },
    {
      "cell_type": "markdown",
      "source": [
        "###n_components=8"
      ],
      "metadata": {
        "id": "u0J5Yp0yfj6U"
      }
    },
    {
      "cell_type": "code",
      "source": [
        "mode = preprocessing(tr_images, tr_labels, 8, 'LDA')\n",
        "tr_image, te_image = mode.transform(tr_images), mode.transform(te_images)\n",
        "nb = StreamingNaiveBayes()\n",
        "start_tr = time.time()\n",
        "nb.fit(tr_image, tr_labels)\n",
        "end_tr = time.time()\n",
        "fit_tr = end_tr - start_tr\n",
        "print(\"Time taken to fit Stream Naive Bayes model:\", fit_tr, \"seconds\")\n",
        "start_te = time.time()\n",
        "y_pred = nb.predict(te_image)\n",
        "accuracy = np.sum(y_pred == te_labels) / len(te_labels)\n",
        "print(f\"Accuracy: {accuracy*100}%\")\n",
        "end_te = time.time()\n",
        "fit_te = end_te - start_te\n",
        "print(\"Time taken to evaluate Stream Naive Bayes model on test portion:\", fit_te, \"seconds\\n\")"
      ],
      "metadata": {
        "colab": {
          "base_uri": "https://localhost:8080/"
        },
        "id": "_9ZqiC_cgYJH",
        "outputId": "9e49bff4-da9a-4731-b356-cf0cf82854f6"
      },
      "execution_count": null,
      "outputs": [
        {
          "output_type": "stream",
          "name": "stdout",
          "text": [
            "Time taken to fit Stream Naive Bayes model: 0.15912151336669922 seconds\n",
            "Accuracy: 8.68%\n",
            "Time taken to evaluate Stream Naive Bayes model on test portion: 0.004147768020629883 seconds\n",
            "\n"
          ]
        }
      ]
    },
    {
      "cell_type": "code",
      "source": [
        "mode = preprocessing(tr_images, tr_labels, 8, 'LDA')\n",
        "img = np.vstack((tr_images, te_images))\n",
        "lab = np.vstack((np.expand_dims(tr_labels,1), np.expand_dims(te_labels,1)))\n",
        "images = mode.fit_transform(img, lab)\n",
        "tr_image, te_image = images[:60001,:], images[60000:,:]\n",
        "nb = StreamingNaiveBayes()\n",
        "start_tr = time.time()\n",
        "nb.fit(tr_image, tr_labels)\n",
        "end_tr = time.time()\n",
        "fit_tr = end_tr - start_tr\n",
        "print(\"Time taken to fit Stream Naive Bayes model:\", fit_tr, \"seconds\")\n",
        "start_te = time.time()\n",
        "y_pred = nb.predict(te_image)\n",
        "accuracy = np.sum(y_pred == te_labels) / len(te_labels)\n",
        "print(f\"Accuracy: {accuracy*100}%\")\n",
        "end_te = time.time()\n",
        "fit_te = end_te - start_te\n",
        "print(\"Time taken to evaluate Stream Naive Bayes model on test portion:\", fit_te, \"seconds\\n\")"
      ],
      "metadata": {
        "colab": {
          "base_uri": "https://localhost:8080/"
        },
        "id": "wrg07AgyGvTi",
        "outputId": "6b3cacee-7b6d-47d0-8575-d7c556568f49"
      },
      "execution_count": null,
      "outputs": [
        {
          "output_type": "stream",
          "name": "stderr",
          "text": [
            "/usr/local/lib/python3.9/dist-packages/sklearn/utils/validation.py:1143: DataConversionWarning: A column-vector y was passed when a 1d array was expected. Please change the shape of y to (n_samples, ), for example using ravel().\n",
            "  y = column_or_1d(y, warn=True)\n"
          ]
        },
        {
          "output_type": "stream",
          "name": "stdout",
          "text": [
            "Time taken to fit Stream Naive Bayes model: 0.15784263610839844 seconds\n",
            "Accuracy: 10.23%\n",
            "Time taken to evaluate Stream Naive Bayes model on test portion: 0.0035169124603271484 seconds\n",
            "\n"
          ]
        }
      ]
    },
    {
      "cell_type": "markdown",
      "source": [
        "##TSNE"
      ],
      "metadata": {
        "id": "g4hdORRfcqHc"
      }
    },
    {
      "cell_type": "markdown",
      "source": [
        "###n_components=1"
      ],
      "metadata": {
        "id": "7n2w0jIihkr-"
      }
    },
    {
      "cell_type": "code",
      "source": [
        "mode = preprocessing(tr_images, tr_labels, 1, 'TSNE')\n",
        "tr_image, te_image = mode.fit_transform(tr_images), mode.fit_transform(te_images)\n",
        "nb = StreamingNaiveBayes()\n",
        "start_tr = time.time()\n",
        "nb.fit(tr_image, tr_labels)\n",
        "end_tr = time.time()\n",
        "fit_tr = end_tr - start_tr\n",
        "print(\"Time taken to fit Stream Naive Bayes model:\", fit_tr, \"seconds\")\n",
        "start_te = time.time()\n",
        "y_pred = nb.predict(te_image)\n",
        "accuracy = np.sum(y_pred == te_labels) / len(te_labels)\n",
        "print(f\"Accuracy: {accuracy*100}%\")\n",
        "end_te = time.time()\n",
        "fit_te = end_te - start_te\n",
        "print(\"Time taken to evaluate Stream Naive Bayes model on test portion:\", fit_te, \"seconds\\n\")"
      ],
      "metadata": {
        "id": "-8FTa0-eh1DL",
        "colab": {
          "base_uri": "https://localhost:8080/"
        },
        "outputId": "09d4a955-1451-4bba-c3de-4cf981438dcd"
      },
      "execution_count": null,
      "outputs": [
        {
          "output_type": "stream",
          "name": "stdout",
          "text": [
            "Time taken to fit Stream Naive Bayes model: 0.11501264572143555 seconds\n",
            "Accuracy: 17.349999999999998%\n",
            "Time taken to evaluate Stream Naive Bayes model on test portion: 0.0018575191497802734 seconds\n",
            "\n"
          ]
        }
      ]
    },
    {
      "cell_type": "code",
      "source": [
        "mode = preprocessing(tr_images, tr_labels, 1, 'TSNE')\n",
        "images = mode.fit_transform(np.vstack((tr_images, te_images)))\n",
        "tr_image, te_image = images[:60001,:], images[60000:,:]\n",
        "nb = StreamingNaiveBayes()\n",
        "start_tr = time.time()\n",
        "nb.fit(tr_image, tr_labels)\n",
        "end_tr = time.time()\n",
        "fit_tr = end_tr - start_tr\n",
        "print(\"Time taken to fit Stream Naive Bayes model:\", fit_tr, \"seconds\")\n",
        "start_te = time.time()\n",
        "y_pred = nb.predict(te_image)\n",
        "accuracy = np.sum(y_pred == te_labels) / len(te_labels)\n",
        "print(f\"Accuracy: {accuracy*100}%\")\n",
        "end_te = time.time()\n",
        "fit_te = end_te - start_te\n",
        "print(\"Time taken to evaluate Stream Naive Bayes model on test portion:\", fit_te, \"seconds\\n\")"
      ],
      "metadata": {
        "colab": {
          "base_uri": "https://localhost:8080/"
        },
        "id": "0Xpm4uwsrXfj",
        "outputId": "e00c5eeb-7b09-4d44-d129-51c6e7b12ab5"
      },
      "execution_count": null,
      "outputs": [
        {
          "output_type": "stream",
          "name": "stdout",
          "text": [
            "Time taken to fit Stream Naive Bayes model: 0.19522833824157715 seconds\n",
            "Accuracy: 18.82%\n",
            "Time taken to evaluate Stream Naive Bayes model on test portion: 0.002174854278564453 seconds\n",
            "\n"
          ]
        }
      ]
    },
    {
      "cell_type": "markdown",
      "source": [
        "###n_components=2"
      ],
      "metadata": {
        "id": "kafbVFDmhknG"
      }
    },
    {
      "cell_type": "code",
      "source": [
        "mode = preprocessing(tr_images, tr_labels, 2, 'TSNE')\n",
        "tr_image, te_image = mode.fit_transform(tr_images), mode.fit_transform(te_images)\n",
        "nb = StreamingNaiveBayes()\n",
        "start_tr = time.time()\n",
        "nb.fit(tr_image, tr_labels)\n",
        "end_tr = time.time()\n",
        "fit_tr = end_tr - start_tr\n",
        "print(\"Time taken to fit Stream Naive Bayes model:\", fit_tr, \"seconds\")\n",
        "start_te = time.time()\n",
        "y_pred = nb.predict(te_image)\n",
        "accuracy = np.sum(y_pred == te_labels) / len(te_labels)\n",
        "print(f\"Accuracy: {accuracy*100}%\")\n",
        "end_te = time.time()\n",
        "fit_te = end_te - start_te\n",
        "print(\"Time taken to evaluate Stream Naive Bayes model on test portion:\", fit_te, \"seconds\\n\")"
      ],
      "metadata": {
        "colab": {
          "base_uri": "https://localhost:8080/"
        },
        "id": "XqyywDOahrqz",
        "outputId": "91194837-7cce-4853-ad73-8bb05b4be508"
      },
      "execution_count": null,
      "outputs": [
        {
          "output_type": "stream",
          "name": "stdout",
          "text": [
            "Time taken to fit Stream Naive Bayes model: 0.1160731315612793 seconds\n",
            "Accuracy: 10.09%\n",
            "Time taken to evaluate Stream Naive Bayes model on test portion: 0.002921581268310547 seconds\n",
            "\n"
          ]
        }
      ]
    },
    {
      "cell_type": "code",
      "source": [
        "mode = preprocessing(tr_images, tr_labels, 2, 'TSNE')\n",
        "images = mode.fit_transform(np.vstack((tr_images, te_images)))\n",
        "tr_image, te_image = images[:60001,:], images[60000:,:]\n",
        "nb = StreamingNaiveBayes()\n",
        "start_tr = time.time()\n",
        "nb.fit(tr_image, tr_labels)\n",
        "end_tr = time.time()\n",
        "fit_tr = end_tr - start_tr\n",
        "print(\"Time taken to fit Stream Naive Bayes model:\", fit_tr, \"seconds\")\n",
        "start_te = time.time()\n",
        "y_pred = nb.predict(te_image)\n",
        "accuracy = np.sum(y_pred == te_labels) / len(te_labels)\n",
        "print(f\"Accuracy: {accuracy*100}%\")\n",
        "end_te = time.time()\n",
        "fit_te = end_te - start_te\n",
        "print(\"Time taken to evaluate Stream Naive Bayes model on test portion:\", fit_te, \"seconds\\n\")"
      ],
      "metadata": {
        "colab": {
          "base_uri": "https://localhost:8080/"
        },
        "id": "lDVHMppUt4M-",
        "outputId": "65b825b0-4baa-459a-9490-764bfffcfc94"
      },
      "execution_count": null,
      "outputs": [
        {
          "output_type": "stream",
          "name": "stdout",
          "text": [
            "Time taken to fit Stream Naive Bayes model: 0.13177132606506348 seconds\n",
            "Accuracy: 3.2199999999999998%\n",
            "Time taken to evaluate Stream Naive Bayes model on test portion: 0.003055095672607422 seconds\n",
            "\n"
          ]
        }
      ]
    },
    {
      "cell_type": "markdown",
      "source": [
        "###n_components=3"
      ],
      "metadata": {
        "id": "UTH82PJuhkpk"
      }
    },
    {
      "cell_type": "code",
      "source": [
        "mode = preprocessing(tr_images, tr_labels, 3, 'TSNE')\n",
        "tr_image, te_image = mode.fit_transform(tr_images), mode.fit_transform(te_images)\n",
        "nb = StreamingNaiveBayes()\n",
        "start_tr = time.time()\n",
        "nb.fit(tr_image, tr_labels)\n",
        "end_tr = time.time()\n",
        "fit_tr = end_tr - start_tr\n",
        "print(\"Time taken to fit Stream Naive Bayes model:\", fit_tr, \"seconds\")\n",
        "start_te = time.time()\n",
        "y_pred = nb.predict(te_image)\n",
        "accuracy = np.sum(y_pred == te_labels) / len(te_labels)\n",
        "print(f\"Accuracy: {accuracy*100}%\")\n",
        "end_te = time.time()\n",
        "fit_te = end_te - start_te\n",
        "print(\"Time taken to evaluate Stream Naive Bayes model on test portion:\", fit_te, \"seconds\\n\")"
      ],
      "metadata": {
        "colab": {
          "base_uri": "https://localhost:8080/"
        },
        "id": "oojYUgeohzkV",
        "outputId": "a3d891de-771a-4507-ab9a-4dd03ad080d9"
      },
      "execution_count": null,
      "outputs": [
        {
          "output_type": "stream",
          "name": "stdout",
          "text": [
            "Time taken to fit Stream Naive Bayes model: 0.11559057235717773 seconds\n",
            "Accuracy: 7.71%\n",
            "Time taken to evaluate Stream Naive Bayes model on test portion: 0.004822254180908203 seconds\n",
            "\n"
          ]
        }
      ]
    },
    {
      "cell_type": "code",
      "source": [
        "mode = preprocessing(tr_images, tr_labels, 3, 'TSNE')\n",
        "images = mode.fit_transform(np.vstack((tr_images, te_images)))\n",
        "tr_image, te_image = images[:60001,:], images[60000:,:]\n",
        "nb = StreamingNaiveBayes()\n",
        "start_tr = time.time()\n",
        "nb.fit(tr_image, tr_labels)\n",
        "end_tr = time.time()\n",
        "fit_tr = end_tr - start_tr\n",
        "print(\"Time taken to fit Stream Naive Bayes model:\", fit_tr, \"seconds\")\n",
        "start_te = time.time()\n",
        "y_pred = nb.predict(te_image)\n",
        "accuracy = np.sum(y_pred == te_labels) / len(te_labels)\n",
        "print(f\"Accuracy: {accuracy*100}%\")\n",
        "end_te = time.time()\n",
        "fit_te = end_te - start_te\n",
        "print(\"Time taken to evaluate Stream Naive Bayes model on test portion:\", fit_te, \"seconds\\n\")"
      ],
      "metadata": {
        "colab": {
          "base_uri": "https://localhost:8080/"
        },
        "id": "dc2YeJ-6usAT",
        "outputId": "11671723-960c-46da-b02c-bdf2b9f36900"
      },
      "execution_count": null,
      "outputs": [
        {
          "output_type": "stream",
          "name": "stdout",
          "text": [
            "Time taken to fit Stream Naive Bayes model: 0.15100622177124023 seconds\n",
            "Accuracy: 14.92%\n",
            "Time taken to evaluate Stream Naive Bayes model on test portion: 0.003951549530029297 seconds\n",
            "\n"
          ]
        }
      ]
    }
  ]
}